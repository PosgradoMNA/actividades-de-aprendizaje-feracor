{
  "nbformat": 4,
  "nbformat_minor": 0,
  "metadata": {
    "colab": {
      "provenance": [],
      "authorship_tag": "ABX9TyNqAt5dGShngkZ+ref7hMu7",
      "include_colab_link": true
    },
    "kernelspec": {
      "name": "python3",
      "display_name": "Python 3"
    },
    "language_info": {
      "name": "python"
    }
  },
  "cells": [
    {
      "cell_type": "markdown",
      "metadata": {
        "id": "view-in-github",
        "colab_type": "text"
      },
      "source": [
        "<a href=\"https://colab.research.google.com/github/PosgradoMNA/actividades-de-aprendizaje-feracor/blob/main/A01794022_Semana_2_Actividad_1_Python_for_Data_Science.ipynb\" target=\"_parent\"><img src=\"https://colab.research.google.com/assets/colab-badge.svg\" alt=\"Open In Colab\"/></a>"
      ]
    },
    {
      "cell_type": "markdown",
      "source": [
        "![image.png](data:image/png;base64,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)"
      ],
      "metadata": {
        "id": "XgN7oq3otjn1"
      }
    },
    {
      "cell_type": "markdown",
      "source": [
        "# Fernando Acevedo Ortegate - A01794022"
      ],
      "metadata": {
        "id": "OzM07of7toJ1"
      }
    },
    {
      "cell_type": "markdown",
      "source": [
        "# Reading Files with Open-Lab"
      ],
      "metadata": {
        "id": "qXyhRbOWcEXw"
      }
    },
    {
      "cell_type": "code",
      "source": [
        "## Uncomment these if working locally, else let the following code cell run.\n",
        "\n",
        "# import urllib.request\n",
        "# url = 'https://cf-courses-data.s3.us.cloud-object-storage.appdomain.cloud/IBMDeveloperSkillsNetwork-PY0101EN-SkillsNetwork/labs/Module%204/data/example1.txt'\n",
        "# filename = 'Example1.txt'\n",
        "# urllib.request.urlretrieve(url, filename)\n",
        "\n",
        "## Download Example file\n",
        "# !wget -O /resources/data/Example1.txt https://cf-courses-data.s3.us.cloud-object-stora"
      ],
      "metadata": {
        "id": "FY8ZvASPBQ-x"
      },
      "execution_count": null,
      "outputs": []
    },
    {
      "cell_type": "code",
      "execution_count": null,
      "metadata": {
        "id": "V6LqPxjkbauu"
      },
      "outputs": [],
      "source": [
        "file1 = open('/resoursfrom pyodide.http import pyfetch\n",
        "import pandas as pd\n",
        "\n",
        "filename = \"https://cf-courses-data.s3.us.cloud-object-storage.appdomain.cloud/IBMDeveloperSkillsNetwork-PY0101EN-SkillsNetwork/labs/Module%204/data/example1.txt\"\n",
        "\n",
        "async def download(url, filename):\n",
        "    response = await pyfetch(url)\n",
        "    if response.status == 200:\n",
        "        with open(filename, \"wb\") as f:\n",
        "            f.write(await response.bytes())\n",
        "\n",
        "\n",
        "await download(filename, \"Example1.txt\")er/data/Example2.txt','w')"
      ]
    },
    {
      "cell_type": "code",
      "source": [
        "from pyodide.http import pyfetch# Read the Example1.txt\n",
        "example1 = \"Example1.txt\"\n",
        "file1 = open(example1, \"r\")\n",
        "\n",
        "import pandas as pd\n",
        "\n",
        "filename = \"https://cf-courses-data.s3.us.cloud-object-storage.appdomain.cloud/IBMDeveloperSkillsNetwork-PY0101EN-SkillsNetwork/labs/Module%204/data/example1.txt\"\n",
        "\n",
        "async def download(url, filename):\n",
        "    response = await pyfetch(url)\n",
        "    if response.status == 200:\n",
        "        with open(filename, \"wb\") as f:\n",
        "            f.write(await response.bytes())\n",
        "\n",
        "\n",
        "await download(filename, \"Example1.txt\")"
      ],
      "metadata": {
        "id": "P-7tlLIAchbk"
      },
      "execution_count": null,
      "outputs": []
    },
    {
      "cell_type": "code",
      "source": [
        "# Print the path of file\n",
        "\n",
        "file1.name"
      ],
      "metadata": {
        "id": "rfBOwemydzXy"
      },
      "execution_count": null,
      "outputs": []
    },
    {
      "cell_type": "code",
      "source": [
        "# Print the mode of file, either 'r' or 'w'\n",
        "\n",
        "file1.mode"
      ],
      "metadata": {
        "id": "IwTdIUn7lSg1"
      },
      "execution_count": null,
      "outputs": []
    },
    {
      "cell_type": "code",
      "source": [
        "# Read the file\n",
        "\n",
        "FileContent = file1.read()\n",
        "FileContent"
      ],
      "metadata": {
        "id": "7Q4MHotkBi7J"
      },
      "execution_count": null,
      "outputs": []
    },
    {
      "cell_type": "code",
      "source": [
        "# Print the file with '\\n' as a new line\n",
        "\n",
        "print(FileContent)"
      ],
      "metadata": {
        "id": "shJG7DfQBi4c"
      },
      "execution_count": null,
      "outputs": []
    },
    {
      "cell_type": "code",
      "source": [
        "# Type of file content\n",
        "\n",
        "type(FileContent)"
      ],
      "metadata": {
        "id": "p7hOcPjDBi1o"
      },
      "execution_count": null,
      "outputs": []
    },
    {
      "cell_type": "code",
      "source": [
        "# Close file after finish\n",
        "\n",
        "file1.close()"
      ],
      "metadata": {
        "id": "1pnL652dBiy8"
      },
      "execution_count": null,
      "outputs": []
    },
    {
      "cell_type": "code",
      "source": [
        "# Open file using with\n",
        "\n",
        "with open(example1, \"r\") as file1:\n",
        "    FileContent = file1.read()\n",
        "    print(FileContent)"
      ],
      "metadata": {
        "id": "EFcz2XxEBiwg"
      },
      "execution_count": null,
      "outputs": []
    },
    {
      "cell_type": "code",
      "source": [
        "# Verify if the file is closed\n",
        "\n",
        "file1.closed"
      ],
      "metadata": {
        "id": "3Ow0i5khBit5"
      },
      "execution_count": null,
      "outputs": []
    },
    {
      "cell_type": "code",
      "source": [
        "# See the content of file\n",
        "\n",
        "print(FileContent)"
      ],
      "metadata": {
        "id": "zG42uAnlBirV"
      },
      "execution_count": null,
      "outputs": []
    },
    {
      "cell_type": "code",
      "source": [
        "# Read first four characters\n",
        "\n",
        "with open(example1, \"r\") as file1:\n",
        "    print(file1.read(4))"
      ],
      "metadata": {
        "id": "2Zwtxz--Bioq"
      },
      "execution_count": null,
      "outputs": []
    },
    {
      "cell_type": "code",
      "source": [
        "# Read certain amount of characters\n",
        "\n",
        "with open(example1, \"r\") as file1:\n",
        "    print(file1.read(4))\n",
        "    print(file1.read(4))\n",
        "    print(file1.read(7))\n",
        "    print(file1.read(15))"
      ],
      "metadata": {
        "id": "CFITN9UrBimJ"
      },
      "execution_count": null,
      "outputs": []
    },
    {
      "cell_type": "code",
      "source": [
        "# Read certain amount of characters\n",
        "\n",
        "with open(example1, \"r\") as file1:\n",
        "    print(file1.read(16))\n",
        "    print(file1.read(5))\n",
        "    print(file1.read(9))"
      ],
      "metadata": {
        "id": "jADw5iQQBijj"
      },
      "execution_count": null,
      "outputs": []
    },
    {
      "cell_type": "code",
      "source": [
        "# Read one line\n",
        "\n",
        "with open(example1, \"r\") as file1:\n",
        "    print(\"first line: \" + file1.readline())"
      ],
      "metadata": {
        "id": "dAZhYnKBBiew"
      },
      "execution_count": null,
      "outputs": []
    },
    {
      "cell_type": "code",
      "source": [
        "with open(example1, \"r\") as file1:\n",
        "    print(file1.readline(20)) # does not read past the end of line\n",
        "    print(file1.read(20)) # Returns the next 20 chars\n"
      ],
      "metadata": {
        "id": "IWDH77f8BicI"
      },
      "execution_count": null,
      "outputs": []
    },
    {
      "cell_type": "code",
      "source": [
        "# Iterate through the lines\n",
        "\n",
        "with open(example1,\"r\") as file1:\n",
        "        i = 0;\n",
        "        for line in file1:\n",
        "            print(\"Iteration\", str(i), \": \", line)\n",
        "            i = i + 1"
      ],
      "metadata": {
        "id": "KmcROoOiBiZq"
      },
      "execution_count": null,
      "outputs": []
    },
    {
      "cell_type": "code",
      "source": [
        "# Read all lines and save as a list\n",
        "\n",
        "with open(example1, \"r\") as file1:\n",
        "    FileasList = file1.readlines()"
      ],
      "metadata": {
        "id": "veh64a8OBiXK"
      },
      "execution_count": null,
      "outputs": []
    },
    {
      "cell_type": "code",
      "source": [
        "# Print the first line\n",
        "\n",
        "FileasList[0]"
      ],
      "metadata": {
        "id": "ctSsxfirBiUk"
      },
      "execution_count": null,
      "outputs": []
    },
    {
      "cell_type": "code",
      "source": [
        "# Print the third line\n",
        "\n",
        "FileasList[2]"
      ],
      "metadata": {
        "id": "2wVPdoPNBiSQ"
      },
      "execution_count": null,
      "outputs": []
    },
    {
      "cell_type": "markdown",
      "source": [
        "## **Writing Files with Open**"
      ],
      "metadata": {
        "id": "pMfEFwalC4PI"
      }
    },
    {
      "cell_type": "code",
      "source": [
        "# Write line to file\n",
        "exmp2 = 'Example2.txt'\n",
        "with open(exmp2, 'w') as writefile:\n",
        "    writefile.write(\"This is line A\")"
      ],
      "metadata": {
        "id": "uLc8gHkOC4Ep"
      },
      "execution_count": null,
      "outputs": []
    },
    {
      "cell_type": "code",
      "source": [
        "# Read file\n",
        "\n",
        "with open(exmp2, 'r') as testwritefile:\n",
        "    print(testwritefile.read())"
      ],
      "metadata": {
        "id": "UQUasrS5BiP6"
      },
      "execution_count": null,
      "outputs": []
    },
    {
      "cell_type": "code",
      "source": [
        "# Write lines to file\n",
        "\n",
        "with open(exmp2, 'w') as writefile:\n",
        "    writefile.write(\"This is line A\\n\")\n",
        "    writefile.write(\"This is line B\\n\")"
      ],
      "metadata": {
        "id": "o79DzfVZBiNQ"
      },
      "execution_count": null,
      "outputs": []
    },
    {
      "cell_type": "code",
      "source": [
        "# Check whether write to file\n",
        "\n",
        "with open(exmp2, 'r') as testwritefile:\n",
        "    print(testwritefile.read())"
      ],
      "metadata": {
        "id": "ZjQ6kuCIDIog"
      },
      "execution_count": null,
      "outputs": []
    },
    {
      "cell_type": "code",
      "source": [
        "# Sample list of text\n",
        "\n",
        "Lines = [\"This is line A\\n\", \"This is line B\\n\", \"This is line C\\n\"]\n",
        "Lines"
      ],
      "metadata": {
        "id": "P9s_NmJODIl5"
      },
      "execution_count": null,
      "outputs": []
    },
    {
      "cell_type": "code",
      "source": [
        "# Write the strings in the list to text file\n",
        "\n",
        "with open('Example2.txt', 'w') as writefile:\n",
        "    for line in Lines:\n",
        "        print(line)\n",
        "        writefile.write(line)"
      ],
      "metadata": {
        "id": "YtPqct8zDIkD"
      },
      "execution_count": null,
      "outputs": []
    },
    {
      "cell_type": "code",
      "source": [
        "# Verify if writing to file is successfully executed\n",
        "\n",
        "with open('Example2.txt', 'r') as testwritefile:\n",
        "    print(testwritefile.read())"
      ],
      "metadata": {
        "id": "MeDgBhlNDIfG"
      },
      "execution_count": null,
      "outputs": []
    },
    {
      "cell_type": "code",
      "source": [
        "with open('Example2.txt', 'w') as writefile:\n",
        "    writefile.write(\"Overwrite\\n\")\n",
        "with open('Example2.txt', 'r') as testwritefile:\n",
        "    print(testwritefile.read())"
      ],
      "metadata": {
        "id": "0TspeJ-IDIdP"
      },
      "execution_count": null,
      "outputs": []
    },
    {
      "cell_type": "code",
      "source": [
        "# Write a new line to text file\n",
        "\n",
        "with open('Example2.txt', 'a') as testwritefile:\n",
        "    testwritefile.write(\"This is line C\\n\")\n",
        "    testwritefile.write(\"This is line D\\n\")\n",
        "    testwritefile.write(\"This is line E\\n\")"
      ],
      "metadata": {
        "id": "nRXmENuYDIah"
      },
      "execution_count": null,
      "outputs": []
    },
    {
      "cell_type": "code",
      "source": [
        "# Verify if the new line is in the text file\n",
        "\n",
        "with open('Example2.txt', 'r') as testwritefile:\n",
        "    print(testwritefile.read())"
      ],
      "metadata": {
        "id": "4O8I2d8RDIYS"
      },
      "execution_count": null,
      "outputs": []
    },
    {
      "cell_type": "code",
      "source": [
        "with open('Example2.txt', 'a+') as testwritefile:\n",
        "    testwritefile.write(\"This is line E\\n\")\n",
        "    print(testwritefile.read())"
      ],
      "metadata": {
        "id": "vJ5tQmIqDIVo"
      },
      "execution_count": null,
      "outputs": []
    },
    {
      "cell_type": "code",
      "source": [
        "with open('Example2.txt', 'a+') as testwritefile:\n",
        "    print(\"Initial Location: {}\".format(testwritefile.tell()))\n",
        "    \n",
        "    data = testwritefile.read()\n",
        "    if (not data):  #empty strings return false in python\n",
        "            print('Read nothing') \n",
        "    else: \n",
        "            print(testwritefile.read())\n",
        "            \n",
        "    testwritefile.seek(0,0) # move 0 bytes from beginning.\n",
        "    \n",
        "    print(\"\\nNew Location : {}\".format(testwritefile.tell()))\n",
        "    data = testwritefile.read()\n",
        "    if (not data): \n",
        "            print('Read nothing') \n",
        "    else: \n",
        "            print(data)\n",
        "    \n",
        "    print(\"Location after read: {}\".format(testwritefile.tell()) )"
      ],
      "metadata": {
        "id": "Cs-PZF14DITQ"
      },
      "execution_count": null,
      "outputs": []
    },
    {
      "cell_type": "code",
      "source": [
        "with open('Example2.txt', 'r+') as testwritefile:\n",
        "    data = testwritefile.readlines()\n",
        "    testwritefile.seek(0,0) #write at beginning of file\n",
        "   \n",
        "    testwritefile.write(\"Line 1\" + \"\\n\")\n",
        "    testwritefile.write(\"Line 2\" + \"\\n\")\n",
        "    testwritefile.write(\"Line 3\" + \"\\n\")\n",
        "    testwritefile.write(\"finished\\n\")\n",
        "    #Uncomment the line below\n",
        "    #testwritefile.truncate()\n",
        "    testwritefile.seek(0,0)\n",
        "    print(testwritefile.read())\n",
        "    "
      ],
      "metadata": {
        "id": "kUvzd3FgDIRE"
      },
      "execution_count": null,
      "outputs": []
    },
    {
      "cell_type": "code",
      "source": [
        "# Copy file to another\n",
        "\n",
        "with open('Example2.txt','r') as readfile:\n",
        "    with open('Example3.txt','w') as writefile:\n",
        "          for line in readfile:\n",
        "                writefile.write(line)"
      ],
      "metadata": {
        "id": "pxBH0hoABiK6"
      },
      "execution_count": null,
      "outputs": []
    },
    {
      "cell_type": "code",
      "source": [
        "# Verify if the copy is successfully executed\n",
        "\n",
        "with open('Example3.txt','r') as testwritefile:\n",
        "    print(testwritefile.read())"
      ],
      "metadata": {
        "id": "no0utfknBiIY"
      },
      "execution_count": null,
      "outputs": []
    },
    {
      "cell_type": "code",
      "source": [
        "#Run this prior to starting the exercise\n",
        "from random import randint as rnd\n",
        "\n",
        "memReg = 'members.txt'\n",
        "exReg = 'inactive.txt'\n",
        "fee =('yes','no')\n",
        "\n",
        "def genFiles(current,old):\n",
        "    with open(current,'w+') as writefile: \n",
        "        writefile.write('Membership No  Date Joined  Active  \\n')\n",
        "        data = \"{:^13}  {:<11}  {:<6}\\n\"\n",
        "\n",
        "        for rowno in range(20):\n",
        "            date = str(rnd(2015,2020))+ '-' + str(rnd(1,12))+'-'+str(rnd(1,25))\n",
        "            writefile.write(data.format(rnd(10000,99999),date,fee[rnd(0,1)]))\n",
        "\n",
        "\n",
        "    with open(old,'w+') as writefile: \n",
        "        writefile.write('Membership No  Date Joined  Active  \\n')\n",
        "        data = \"{:^13}  {:<11}  {:<6}\\n\"\n",
        "        for rowno in range(3):\n",
        "            date = str(rnd(2015,2020))+ '-' + str(rnd(1,12))+'-'+str(rnd(1,25))\n",
        "            writefile.write(data.format(rnd(10000,99999),date,fee[1]))\n",
        "\n",
        "\n",
        "genFiles(memReg,exReg)\n"
      ],
      "metadata": {
        "id": "chVT324aBiGA"
      },
      "execution_count": null,
      "outputs": []
    },
    {
      "cell_type": "code",
      "source": [
        "  \n",
        "'''\n",
        "The two arguments for this function are the files:\n",
        "    - currentMem: File containing list of current members\n",
        "    - exMem: File containing list of old members\n",
        "    \n",
        "    This function should remove all rows from currentMem containing 'no' \n",
        "    in the 'Active' column and appends them to exMem.\n",
        "    '''\n",
        "def cleanFiles(currentMem, exMem):\n",
        "    # TODO: Open the currentMem file as in r+ mode\n",
        "        #TODO: Open the exMem file in a+ mode\n",
        "\n",
        "        #TODO: Read each member in the currentMem (1 member per row) file into a list.\n",
        "        # Hint: Recall that the first line in the file is the header.\n",
        "\n",
        "        #TODO: iterate through the members and create a new list of the innactive members\n",
        "\n",
        "        # Go to the beginning of the currentMem file\n",
        "        # TODO: Iterate through the members list. \n",
        "        # If a member is inactive, add them to exMem, otherwise write them into currentMem\n",
        "\n",
        "        \n",
        "    \n",
        "    pass # Remove this line when done implementation\n",
        "\n",
        "\n",
        "# The code below is to help you view the files.\n",
        "# Do not modify this code for this exercise.\n",
        "memReg = 'members.txt'\n",
        "exReg = 'inactive.txt'\n",
        "cleanFiles(memReg,exReg)\n",
        "\n",
        "\n",
        "headers = \"Membership No  Date Joined  Active  \\n\"\n",
        "with open(memReg,'r') as readFile:\n",
        "    print(\"Active Members: \\n\\n\")\n",
        "    print(readFile.read())\n",
        "    \n",
        "with open(exReg,'r') as readFile:\n",
        "    print(\"Inactive Members: \\n\\n\")\n",
        "    print(readFile.read())\n",
        "                \n",
        "    "
      ],
      "metadata": {
        "id": "bYAdR2B8BiDj"
      },
      "execution_count": null,
      "outputs": []
    },
    {
      "cell_type": "code",
      "source": [
        "def testMsg(passed):\n",
        "    if passed:\n",
        "       return 'Test Passed'\n",
        "    else :\n",
        "       return 'Test Failed'\n",
        "\n",
        "testWrite = \"testWrite.txt\"\n",
        "testAppend = \"testAppend.txt\" \n",
        "passed = True\n",
        "\n",
        "genFiles(testWrite,testAppend)\n",
        "\n",
        "with open(testWrite,'r') as file:\n",
        "    ogWrite = file.readlines()\n",
        "\n",
        "with open(testAppend,'r') as file:\n",
        "    ogAppend = file.readlines()\n",
        "\n",
        "try:\n",
        "    cleanFiles(testWrite,testAppend)\n",
        "except:\n",
        "    print('Error')\n",
        "\n",
        "with open(testWrite,'r') as file:\n",
        "    clWrite = file.readlines()\n",
        "\n",
        "with open(testAppend,'r') as file:\n",
        "    clAppend = file.readlines()\n",
        "        \n",
        "# checking if total no of rows is same, including headers\n",
        "\n",
        "if (len(ogWrite) + len(ogAppend) != len(clWrite) + len(clAppend)):\n",
        "    print(\"The number of rows do not add up. Make sure your final files have the same header and format.\")\n",
        "    passed = False\n",
        "    \n",
        "for line in clWrite:\n",
        "    if  'no' in line:\n",
        "        passed = False\n",
        "        print(\"Inactive members in file\")\n",
        "        break\n",
        "    else:\n",
        "        if line not in ogWrite:\n",
        "            print(\"Data in file does not match original file\")\n",
        "            passed = False\n",
        "print (\"{}\".format(testMsg(passed)))\n",
        "    \n",
        "\n"
      ],
      "metadata": {
        "id": "8RVICbaVDZIy"
      },
      "execution_count": null,
      "outputs": []
    },
    {
      "cell_type": "markdown",
      "source": [
        "## **Loading Data with Pandas**"
      ],
      "metadata": {
        "id": "gqdryPD8DmDI"
      }
    },
    {
      "cell_type": "code",
      "source": [
        "import pandas as pd\n",
        "\n",
        "df=pd.DataFrame({'a':[11,21,31],'b':[21,22,23]})\n"
      ],
      "metadata": {
        "id": "47swkyQgDZGh"
      },
      "execution_count": 2,
      "outputs": []
    },
    {
      "cell_type": "code",
      "source": [
        "df.head(3)"
      ],
      "metadata": {
        "id": "DcM6GZHMDZEZ",
        "outputId": "0965185b-9261-4f83-f71c-ab19bc936e96",
        "colab": {
          "base_uri": "https://localhost:8080/",
          "height": 143
        }
      },
      "execution_count": 5,
      "outputs": [
        {
          "output_type": "execute_result",
          "data": {
            "text/plain": [
              "    a   b\n",
              "0  11  21\n",
              "1  21  22\n",
              "2  31  23"
            ],
            "text/html": [
              "\n",
              "  <div id=\"df-f9686ed8-aae1-42ca-ad3b-bc6f4169b200\">\n",
              "    <div class=\"colab-df-container\">\n",
              "      <div>\n",
              "<style scoped>\n",
              "    .dataframe tbody tr th:only-of-type {\n",
              "        vertical-align: middle;\n",
              "    }\n",
              "\n",
              "    .dataframe tbody tr th {\n",
              "        vertical-align: top;\n",
              "    }\n",
              "\n",
              "    .dataframe thead th {\n",
              "        text-align: right;\n",
              "    }\n",
              "</style>\n",
              "<table border=\"1\" class=\"dataframe\">\n",
              "  <thead>\n",
              "    <tr style=\"text-align: right;\">\n",
              "      <th></th>\n",
              "      <th>a</th>\n",
              "      <th>b</th>\n",
              "    </tr>\n",
              "  </thead>\n",
              "  <tbody>\n",
              "    <tr>\n",
              "      <th>0</th>\n",
              "      <td>11</td>\n",
              "      <td>21</td>\n",
              "    </tr>\n",
              "    <tr>\n",
              "      <th>1</th>\n",
              "      <td>21</td>\n",
              "      <td>22</td>\n",
              "    </tr>\n",
              "    <tr>\n",
              "      <th>2</th>\n",
              "      <td>31</td>\n",
              "      <td>23</td>\n",
              "    </tr>\n",
              "  </tbody>\n",
              "</table>\n",
              "</div>\n",
              "      <button class=\"colab-df-convert\" onclick=\"convertToInteractive('df-f9686ed8-aae1-42ca-ad3b-bc6f4169b200')\"\n",
              "              title=\"Convert this dataframe to an interactive table.\"\n",
              "              style=\"display:none;\">\n",
              "        \n",
              "  <svg xmlns=\"http://www.w3.org/2000/svg\" height=\"24px\"viewBox=\"0 0 24 24\"\n",
              "       width=\"24px\">\n",
              "    <path d=\"M0 0h24v24H0V0z\" fill=\"none\"/>\n",
              "    <path d=\"M18.56 5.44l.94 2.06.94-2.06 2.06-.94-2.06-.94-.94-2.06-.94 2.06-2.06.94zm-11 1L8.5 8.5l.94-2.06 2.06-.94-2.06-.94L8.5 2.5l-.94 2.06-2.06.94zm10 10l.94 2.06.94-2.06 2.06-.94-2.06-.94-.94-2.06-.94 2.06-2.06.94z\"/><path d=\"M17.41 7.96l-1.37-1.37c-.4-.4-.92-.59-1.43-.59-.52 0-1.04.2-1.43.59L10.3 9.45l-7.72 7.72c-.78.78-.78 2.05 0 2.83L4 21.41c.39.39.9.59 1.41.59.51 0 1.02-.2 1.41-.59l7.78-7.78 2.81-2.81c.8-.78.8-2.07 0-2.86zM5.41 20L4 18.59l7.72-7.72 1.47 1.35L5.41 20z\"/>\n",
              "  </svg>\n",
              "      </button>\n",
              "      \n",
              "  <style>\n",
              "    .colab-df-container {\n",
              "      display:flex;\n",
              "      flex-wrap:wrap;\n",
              "      gap: 12px;\n",
              "    }\n",
              "\n",
              "    .colab-df-convert {\n",
              "      background-color: #E8F0FE;\n",
              "      border: none;\n",
              "      border-radius: 50%;\n",
              "      cursor: pointer;\n",
              "      display: none;\n",
              "      fill: #1967D2;\n",
              "      height: 32px;\n",
              "      padding: 0 0 0 0;\n",
              "      width: 32px;\n",
              "    }\n",
              "\n",
              "    .colab-df-convert:hover {\n",
              "      background-color: #E2EBFA;\n",
              "      box-shadow: 0px 1px 2px rgba(60, 64, 67, 0.3), 0px 1px 3px 1px rgba(60, 64, 67, 0.15);\n",
              "      fill: #174EA6;\n",
              "    }\n",
              "\n",
              "    [theme=dark] .colab-df-convert {\n",
              "      background-color: #3B4455;\n",
              "      fill: #D2E3FC;\n",
              "    }\n",
              "\n",
              "    [theme=dark] .colab-df-convert:hover {\n",
              "      background-color: #434B5C;\n",
              "      box-shadow: 0px 1px 3px 1px rgba(0, 0, 0, 0.15);\n",
              "      filter: drop-shadow(0px 1px 2px rgba(0, 0, 0, 0.3));\n",
              "      fill: #FFFFFF;\n",
              "    }\n",
              "  </style>\n",
              "\n",
              "      <script>\n",
              "        const buttonEl =\n",
              "          document.querySelector('#df-f9686ed8-aae1-42ca-ad3b-bc6f4169b200 button.colab-df-convert');\n",
              "        buttonEl.style.display =\n",
              "          google.colab.kernel.accessAllowed ? 'block' : 'none';\n",
              "\n",
              "        async function convertToInteractive(key) {\n",
              "          const element = document.querySelector('#df-f9686ed8-aae1-42ca-ad3b-bc6f4169b200');\n",
              "          const dataTable =\n",
              "            await google.colab.kernel.invokeFunction('convertToInteractive',\n",
              "                                                     [key], {});\n",
              "          if (!dataTable) return;\n",
              "\n",
              "          const docLinkHtml = 'Like what you see? Visit the ' +\n",
              "            '<a target=\"_blank\" href=https://colab.research.google.com/notebooks/data_table.ipynb>data table notebook</a>'\n",
              "            + ' to learn more about interactive tables.';\n",
              "          element.innerHTML = '';\n",
              "          dataTable['output_type'] = 'display_data';\n",
              "          await google.colab.output.renderOutput(dataTable, element);\n",
              "          const docLink = document.createElement('div');\n",
              "          docLink.innerHTML = docLinkHtml;\n",
              "          element.appendChild(docLink);\n",
              "        }\n",
              "      </script>\n",
              "    </div>\n",
              "  </div>\n",
              "  "
            ]
          },
          "metadata": {},
          "execution_count": 5
        }
      ]
    },
    {
      "cell_type": "code",
      "source": [
        "df['a']"
      ],
      "metadata": {
        "id": "f1O3oKiCDZCB",
        "outputId": "ab9dbe0c-f2f6-4f74-8c35-bee3eae599a7",
        "colab": {
          "base_uri": "https://localhost:8080/"
        }
      },
      "execution_count": 4,
      "outputs": [
        {
          "output_type": "execute_result",
          "data": {
            "text/plain": [
              "0    11\n",
              "1    21\n",
              "2    31\n",
              "Name: a, dtype: int64"
            ]
          },
          "metadata": {},
          "execution_count": 4
        }
      ]
    },
    {
      "cell_type": "markdown",
      "source": [
        "# Working with and Saving Data with Pandas"
      ],
      "metadata": {
        "id": "lOobJGupEmgg"
      }
    },
    {
      "cell_type": "code",
      "source": [
        "df=pd.DataFrame({'a':[1,2,1],'b':[1,1,1]})"
      ],
      "metadata": {
        "id": "6Jf7JFYyDY_g"
      },
      "execution_count": 6,
      "outputs": []
    },
    {
      "cell_type": "code",
      "source": [
        "df['a']==1 "
      ],
      "metadata": {
        "id": "nvlRR4d3DY9a",
        "outputId": "879dc864-0dbb-4253-e195-b02cad6d84e6",
        "colab": {
          "base_uri": "https://localhost:8080/"
        }
      },
      "execution_count": 7,
      "outputs": [
        {
          "output_type": "execute_result",
          "data": {
            "text/plain": [
              "0     True\n",
              "1    False\n",
              "2     True\n",
              "Name: a, dtype: bool"
            ]
          },
          "metadata": {},
          "execution_count": 7
        }
      ]
    },
    {
      "cell_type": "code",
      "source": [
        "import pandas as pd\n",
        "\n",
        "df=pd.DataFrame({'a':[1,2,1],'b':[1,1,1]})"
      ],
      "metadata": {
        "id": "gyY2P-fgDY6-"
      },
      "execution_count": 8,
      "outputs": []
    },
    {
      "cell_type": "code",
      "source": [
        "df['a'].unique()"
      ],
      "metadata": {
        "id": "bNOoZVAkDY4h",
        "outputId": "1bd6c5df-4904-4c48-e70d-bf4ee6f8f58a",
        "colab": {
          "base_uri": "https://localhost:8080/"
        }
      },
      "execution_count": 9,
      "outputs": [
        {
          "output_type": "execute_result",
          "data": {
            "text/plain": [
              "array([1, 2])"
            ]
          },
          "metadata": {},
          "execution_count": 9
        }
      ]
    },
    {
      "cell_type": "code",
      "source": [
        "df[df['a']<2]"
      ],
      "metadata": {
        "id": "SbPVT40gDY2A",
        "outputId": "d1c6afe7-4c7a-4e0b-f8bf-653211b841a9",
        "colab": {
          "base_uri": "https://localhost:8080/",
          "height": 112
        }
      },
      "execution_count": 10,
      "outputs": [
        {
          "output_type": "execute_result",
          "data": {
            "text/plain": [
              "   a  b\n",
              "0  1  1\n",
              "2  1  1"
            ],
            "text/html": [
              "\n",
              "  <div id=\"df-c05351ed-6c37-4a2c-b642-927290d8e5f4\">\n",
              "    <div class=\"colab-df-container\">\n",
              "      <div>\n",
              "<style scoped>\n",
              "    .dataframe tbody tr th:only-of-type {\n",
              "        vertical-align: middle;\n",
              "    }\n",
              "\n",
              "    .dataframe tbody tr th {\n",
              "        vertical-align: top;\n",
              "    }\n",
              "\n",
              "    .dataframe thead th {\n",
              "        text-align: right;\n",
              "    }\n",
              "</style>\n",
              "<table border=\"1\" class=\"dataframe\">\n",
              "  <thead>\n",
              "    <tr style=\"text-align: right;\">\n",
              "      <th></th>\n",
              "      <th>a</th>\n",
              "      <th>b</th>\n",
              "    </tr>\n",
              "  </thead>\n",
              "  <tbody>\n",
              "    <tr>\n",
              "      <th>0</th>\n",
              "      <td>1</td>\n",
              "      <td>1</td>\n",
              "    </tr>\n",
              "    <tr>\n",
              "      <th>2</th>\n",
              "      <td>1</td>\n",
              "      <td>1</td>\n",
              "    </tr>\n",
              "  </tbody>\n",
              "</table>\n",
              "</div>\n",
              "      <button class=\"colab-df-convert\" onclick=\"convertToInteractive('df-c05351ed-6c37-4a2c-b642-927290d8e5f4')\"\n",
              "              title=\"Convert this dataframe to an interactive table.\"\n",
              "              style=\"display:none;\">\n",
              "        \n",
              "  <svg xmlns=\"http://www.w3.org/2000/svg\" height=\"24px\"viewBox=\"0 0 24 24\"\n",
              "       width=\"24px\">\n",
              "    <path d=\"M0 0h24v24H0V0z\" fill=\"none\"/>\n",
              "    <path d=\"M18.56 5.44l.94 2.06.94-2.06 2.06-.94-2.06-.94-.94-2.06-.94 2.06-2.06.94zm-11 1L8.5 8.5l.94-2.06 2.06-.94-2.06-.94L8.5 2.5l-.94 2.06-2.06.94zm10 10l.94 2.06.94-2.06 2.06-.94-2.06-.94-.94-2.06-.94 2.06-2.06.94z\"/><path d=\"M17.41 7.96l-1.37-1.37c-.4-.4-.92-.59-1.43-.59-.52 0-1.04.2-1.43.59L10.3 9.45l-7.72 7.72c-.78.78-.78 2.05 0 2.83L4 21.41c.39.39.9.59 1.41.59.51 0 1.02-.2 1.41-.59l7.78-7.78 2.81-2.81c.8-.78.8-2.07 0-2.86zM5.41 20L4 18.59l7.72-7.72 1.47 1.35L5.41 20z\"/>\n",
              "  </svg>\n",
              "      </button>\n",
              "      \n",
              "  <style>\n",
              "    .colab-df-container {\n",
              "      display:flex;\n",
              "      flex-wrap:wrap;\n",
              "      gap: 12px;\n",
              "    }\n",
              "\n",
              "    .colab-df-convert {\n",
              "      background-color: #E8F0FE;\n",
              "      border: none;\n",
              "      border-radius: 50%;\n",
              "      cursor: pointer;\n",
              "      display: none;\n",
              "      fill: #1967D2;\n",
              "      height: 32px;\n",
              "      padding: 0 0 0 0;\n",
              "      width: 32px;\n",
              "    }\n",
              "\n",
              "    .colab-df-convert:hover {\n",
              "      background-color: #E2EBFA;\n",
              "      box-shadow: 0px 1px 2px rgba(60, 64, 67, 0.3), 0px 1px 3px 1px rgba(60, 64, 67, 0.15);\n",
              "      fill: #174EA6;\n",
              "    }\n",
              "\n",
              "    [theme=dark] .colab-df-convert {\n",
              "      background-color: #3B4455;\n",
              "      fill: #D2E3FC;\n",
              "    }\n",
              "\n",
              "    [theme=dark] .colab-df-convert:hover {\n",
              "      background-color: #434B5C;\n",
              "      box-shadow: 0px 1px 3px 1px rgba(0, 0, 0, 0.15);\n",
              "      filter: drop-shadow(0px 1px 2px rgba(0, 0, 0, 0.3));\n",
              "      fill: #FFFFFF;\n",
              "    }\n",
              "  </style>\n",
              "\n",
              "      <script>\n",
              "        const buttonEl =\n",
              "          document.querySelector('#df-c05351ed-6c37-4a2c-b642-927290d8e5f4 button.colab-df-convert');\n",
              "        buttonEl.style.display =\n",
              "          google.colab.kernel.accessAllowed ? 'block' : 'none';\n",
              "\n",
              "        async function convertToInteractive(key) {\n",
              "          const element = document.querySelector('#df-c05351ed-6c37-4a2c-b642-927290d8e5f4');\n",
              "          const dataTable =\n",
              "            await google.colab.kernel.invokeFunction('convertToInteractive',\n",
              "                                                     [key], {});\n",
              "          if (!dataTable) return;\n",
              "\n",
              "          const docLinkHtml = 'Like what you see? Visit the ' +\n",
              "            '<a target=\"_blank\" href=https://colab.research.google.com/notebooks/data_table.ipynb>data table notebook</a>'\n",
              "            + ' to learn more about interactive tables.';\n",
              "          element.innerHTML = '';\n",
              "          dataTable['output_type'] = 'display_data';\n",
              "          await google.colab.output.renderOutput(dataTable, element);\n",
              "          const docLink = document.createElement('div');\n",
              "          docLink.innerHTML = docLinkHtml;\n",
              "          element.appendChild(docLink);\n",
              "        }\n",
              "      </script>\n",
              "    </div>\n",
              "  </div>\n",
              "  "
            ]
          },
          "metadata": {},
          "execution_count": 10
        }
      ]
    },
    {
      "cell_type": "code",
      "source": [
        "# Dependency needed to install file \n",
        "\n",
        "# If running the notebook on your machine, else leave it commented\n",
        "# !pip install xlrd\n",
        "\n",
        "import piplite\n",
        "await piplite.install(['xlrd','openpyxl'])"
      ],
      "metadata": {
        "id": "Wytbiy8SDYzg"
      },
      "execution_count": null,
      "outputs": []
    },
    {
      "cell_type": "code",
      "source": [
        "# Import required library\n",
        "\n",
        "import pandas as pd"
      ],
      "metadata": {
        "id": "rPKi5yR4F_A3"
      },
      "execution_count": null,
      "outputs": []
    },
    {
      "cell_type": "code",
      "source": [
        "# Read data from CSV file\n",
        "\n",
        "# csv_path = 'https://cf-courses-data.s3.us.cloud-object-storage.appdomain.cloud/IBMDeveloperSkillsNetwork-PY0101EN-SkillsNetwork/labs/Module%204/data/TopSellingAlbums.csv'\n",
        "# df = pd.read_csv(csv_path)\n",
        "\n",
        "from pyodide.http import pyfetch\n",
        "import pandas as pd\n",
        "\n",
        "filename = \"https://cf-courses-data.s3.us.cloud-object-storage.appdomain.cloud/IBMDeveloperSkillsNetwork-PY0101EN-SkillsNetwork/labs/Module%204/data/TopSellingAlbums.csv\"\n",
        "\n",
        "async def download(url, filename):\n",
        "    response = await pyfetch(url)\n",
        "    if response.status == 200:\n",
        "        with open(filename, \"wb\") as f:\n",
        "            f.write(await response.bytes())\n",
        "\n",
        "\n",
        "await download(filename, \"TopSellingAlbums.csv\")\n",
        "df = pd.read_csv(\"TopSellingAlbums.csv\")"
      ],
      "metadata": {
        "id": "huMo9Q22F--Z"
      },
      "execution_count": null,
      "outputs": []
    },
    {
      "cell_type": "code",
      "source": [
        "# Print first five rows of the dataframe\n",
        "\n",
        "df.head()"
      ],
      "metadata": {
        "id": "WBxsMAv0F-7w"
      },
      "execution_count": null,
      "outputs": []
    },
    {
      "cell_type": "code",
      "source": [
        "# Read data from Excel File and print the first five rows\n",
        "\n",
        "xlsx_path = 'https://s3-api.us-geo.objectstorage.softlayer.net/cf-courses-data/CognitiveClass/PY0101EN/Chapter%204/Datasets/TopSellingAlbums.xlsx'\n",
        "\n",
        "await download(xlsx_path, \"TopSellingAlbums.xlsx\")\n",
        "df = pd.read_excel(\"TopSellingAlbums.xlsx\")\n",
        "df.head()"
      ],
      "metadata": {
        "id": "b-b71CraGcaJ"
      },
      "execution_count": null,
      "outputs": []
    },
    {
      "cell_type": "code",
      "source": [
        "# Access to the column Length\n",
        "\n",
        "x = df[['Length']]\n",
        "x"
      ],
      "metadata": {
        "id": "Y8eHLVfAGcXs"
      },
      "execution_count": null,
      "outputs": []
    },
    {
      "cell_type": "code",
      "source": [
        "# Get the column as a series\n",
        "\n",
        "x = df['Length']\n",
        "x"
      ],
      "metadata": {
        "id": "_6CYUSSRGcVT"
      },
      "execution_count": null,
      "outputs": []
    },
    {
      "cell_type": "code",
      "source": [
        "# Get the column as a dataframe\n",
        "\n",
        "x = df[['Artist']]\n",
        "type(x)"
      ],
      "metadata": {
        "id": "vyWqU2kWGcSx"
      },
      "execution_count": null,
      "outputs": []
    },
    {
      "cell_type": "code",
      "source": [
        "# Access to multiple columns\n",
        "\n",
        "y = df[['Artist','Length','Genre']]\n",
        "y"
      ],
      "metadata": {
        "id": "C7IPUpE2GcQZ"
      },
      "execution_count": null,
      "outputs": []
    },
    {
      "cell_type": "code",
      "source": [
        "# Access the value on the first row and the first column\n",
        "\n",
        "df.iloc[0, 0]"
      ],
      "metadata": {
        "id": "2Xe3dXwAGcOD"
      },
      "execution_count": null,
      "outputs": []
    },
    {
      "cell_type": "code",
      "source": [
        "# Access the value on the second row and the first column\n",
        "\n",
        "df.iloc[1,0]"
      ],
      "metadata": {
        "id": "0Fyv5bdTGcLb"
      },
      "execution_count": null,
      "outputs": []
    },
    {
      "cell_type": "code",
      "source": [
        "# Access the value on the first row and the third column\n",
        "\n",
        "df.iloc[0,2]"
      ],
      "metadata": {
        "id": "1qNuOOyIGcIz"
      },
      "execution_count": null,
      "outputs": []
    },
    {
      "cell_type": "code",
      "source": [
        "# Access the value on the second row and the third column\n",
        "df.iloc[1,2]"
      ],
      "metadata": {
        "id": "tHztpeRuGcD3"
      },
      "execution_count": null,
      "outputs": []
    },
    {
      "cell_type": "code",
      "source": [
        "# Access the column using the name\n",
        "\n",
        "df.loc[1, 'Artist']"
      ],
      "metadata": {
        "id": "krpBSJVtF-5H"
      },
      "execution_count": null,
      "outputs": []
    },
    {
      "cell_type": "code",
      "source": [
        "# Access the column using the name\n",
        "\n",
        "df.loc[1, 'Artist']"
      ],
      "metadata": {
        "id": "FgmkKcE-GpQI"
      },
      "execution_count": null,
      "outputs": []
    },
    {
      "cell_type": "code",
      "source": [
        "# Access the column using the name\n",
        "\n",
        "df.loc[0, 'Released']"
      ],
      "metadata": {
        "id": "nfbqdxNGGpNk"
      },
      "execution_count": null,
      "outputs": []
    },
    {
      "cell_type": "code",
      "source": [
        "# Access the column using the name\n",
        "\n",
        "df.loc[1, 'Released']"
      ],
      "metadata": {
        "id": "LSqvI2QvGpI_"
      },
      "execution_count": null,
      "outputs": []
    },
    {
      "cell_type": "code",
      "source": [
        "# Slicing the dataframe\n",
        "\n",
        "df.iloc[0:2, 0:3]"
      ],
      "metadata": {
        "id": "_5Qd_uaLGpGa"
      },
      "execution_count": null,
      "outputs": []
    },
    {
      "cell_type": "code",
      "source": [
        "# Slicing the dataframe using name\n",
        "\n",
        "df.loc[0:2, 'Artist':'Released']"
      ],
      "metadata": {
        "id": "CopzCDLmGpEq"
      },
      "execution_count": null,
      "outputs": []
    },
    {
      "cell_type": "markdown",
      "source": [
        "![image.png](data:image/png;base64,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)"
      ],
      "metadata": {
        "id": "_U42QmNfHYsu"
      }
    },
    {
      "cell_type": "code",
      "source": [],
      "metadata": {
        "id": "k6ihhGnhHZd-"
      },
      "execution_count": null,
      "outputs": []
    }
  ]
}