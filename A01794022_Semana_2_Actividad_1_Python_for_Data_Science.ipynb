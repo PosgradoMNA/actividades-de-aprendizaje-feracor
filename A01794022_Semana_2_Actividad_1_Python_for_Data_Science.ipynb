{
  "nbformat": 4,
  "nbformat_minor": 0,
  "metadata": {
    "colab": {
      "provenance": [],
      "authorship_tag": "ABX9TyPMwnbTsBMECaJpm8V1SGjp",
      "include_colab_link": true
    },
    "kernelspec": {
      "name": "python3",
      "display_name": "Python 3"
    },
    "language_info": {
      "name": "python"
    }
  },
  "cells": [
    {
      "cell_type": "markdown",
      "metadata": {
        "id": "view-in-github",
        "colab_type": "text"
      },
      "source": [
        "<a href=\"https://colab.research.google.com/github/PosgradoMNA/actividades-de-aprendizaje-feracor/blob/main/A01794022_Semana_2_Actividad_1_Python_for_Data_Science.ipynb\" target=\"_parent\"><img src=\"https://colab.research.google.com/assets/colab-badge.svg\" alt=\"Open In Colab\"/></a>"
      ]
    },
    {
      "cell_type": "markdown",
      "source": [
        "![image.png](data:image/png;base64,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)"
      ],
      "metadata": {
        "id": "XgN7oq3otjn1"
      }
    },
    {
      "cell_type": "markdown",
      "source": [
        "# Fernando Acevedo Ortegate - A01794022"
      ],
      "metadata": {
        "id": "OzM07of7toJ1"
      }
    },
    {
      "cell_type": "markdown",
      "source": [
        "# Reading Files with Open-Lab"
      ],
      "metadata": {
        "id": "qXyhRbOWcEXw"
      }
    },
    {
      "cell_type": "code",
      "source": [
        "## Uncomment these if working locally, else let the following code cell run.\n",
        "\n",
        "# import urllib.request\n",
        "# url = 'https://cf-courses-data.s3.us.cloud-object-storage.appdomain.cloud/IBMDeveloperSkillsNetwork-PY0101EN-SkillsNetwork/labs/Module%204/data/example1.txt'\n",
        "# filename = 'Example1.txt'\n",
        "# urllib.request.urlretrieve(url, filename)\n",
        "\n",
        "## Download Example file\n",
        "# !wget -O /resources/data/Example1.txt https://cf-courses-data.s3.us.cloud-object-stora"
      ],
      "metadata": {
        "id": "FY8ZvASPBQ-x"
      },
      "execution_count": null,
      "outputs": []
    },
    {
      "cell_type": "code",
      "execution_count": null,
      "metadata": {
        "id": "V6LqPxjkbauu"
      },
      "outputs": [],
      "source": [
        "file1 = open('/resoursfrom pyodide.http import pyfetch\n",
        "import pandas as pd\n",
        "\n",
        "filename = \"https://cf-courses-data.s3.us.cloud-object-storage.appdomain.cloud/IBMDeveloperSkillsNetwork-PY0101EN-SkillsNetwork/labs/Module%204/data/example1.txt\"\n",
        "\n",
        "async def download(url, filename):\n",
        "    response = await pyfetch(url)\n",
        "    if response.status == 200:\n",
        "        with open(filename, \"wb\") as f:\n",
        "            f.write(await response.bytes())\n",
        "\n",
        "\n",
        "await download(filename, \"Example1.txt\")er/data/Example2.txt','w')"
      ]
    },
    {
      "cell_type": "code",
      "source": [
        "from pyodide.http import pyfetch# Read the Example1.txt\n",
        "example1 = \"Example1.txt\"\n",
        "file1 = open(example1, \"r\")\n",
        "\n",
        "import pandas as pd\n",
        "\n",
        "filename = \"https://cf-courses-data.s3.us.cloud-object-storage.appdomain.cloud/IBMDeveloperSkillsNetwork-PY0101EN-SkillsNetwork/labs/Module%204/data/example1.txt\"\n",
        "\n",
        "async def download(url, filename):\n",
        "    response = await pyfetch(url)\n",
        "    if response.status == 200:\n",
        "        with open(filename, \"wb\") as f:\n",
        "            f.write(await response.bytes())\n",
        "\n",
        "\n",
        "await download(filename, \"Example1.txt\")"
      ],
      "metadata": {
        "id": "P-7tlLIAchbk"
      },
      "execution_count": null,
      "outputs": []
    },
    {
      "cell_type": "code",
      "source": [
        "# Print the path of file\n",
        "\n",
        "file1.name"
      ],
      "metadata": {
        "id": "rfBOwemydzXy"
      },
      "execution_count": null,
      "outputs": []
    },
    {
      "cell_type": "code",
      "source": [
        "# Print the mode of file, either 'r' or 'w'\n",
        "\n",
        "file1.mode"
      ],
      "metadata": {
        "id": "IwTdIUn7lSg1"
      },
      "execution_count": null,
      "outputs": []
    },
    {
      "cell_type": "code",
      "source": [
        "# Read the file\n",
        "\n",
        "FileContent = file1.read()\n",
        "FileContent"
      ],
      "metadata": {
        "id": "7Q4MHotkBi7J"
      },
      "execution_count": null,
      "outputs": []
    },
    {
      "cell_type": "code",
      "source": [
        "# Print the file with '\\n' as a new line\n",
        "\n",
        "print(FileContent)"
      ],
      "metadata": {
        "id": "shJG7DfQBi4c"
      },
      "execution_count": null,
      "outputs": []
    },
    {
      "cell_type": "code",
      "source": [
        "# Type of file content\n",
        "\n",
        "type(FileContent)"
      ],
      "metadata": {
        "id": "p7hOcPjDBi1o"
      },
      "execution_count": null,
      "outputs": []
    },
    {
      "cell_type": "code",
      "source": [
        "# Close file after finish\n",
        "\n",
        "file1.close()"
      ],
      "metadata": {
        "id": "1pnL652dBiy8"
      },
      "execution_count": null,
      "outputs": []
    },
    {
      "cell_type": "code",
      "source": [
        "# Open file using with\n",
        "\n",
        "with open(example1, \"r\") as file1:\n",
        "    FileContent = file1.read()\n",
        "    print(FileContent)"
      ],
      "metadata": {
        "id": "EFcz2XxEBiwg"
      },
      "execution_count": null,
      "outputs": []
    },
    {
      "cell_type": "code",
      "source": [
        "# Verify if the file is closed\n",
        "\n",
        "file1.closed"
      ],
      "metadata": {
        "id": "3Ow0i5khBit5"
      },
      "execution_count": null,
      "outputs": []
    },
    {
      "cell_type": "code",
      "source": [
        "# See the content of file\n",
        "\n",
        "print(FileContent)"
      ],
      "metadata": {
        "id": "zG42uAnlBirV"
      },
      "execution_count": null,
      "outputs": []
    },
    {
      "cell_type": "code",
      "source": [
        "# Read first four characters\n",
        "\n",
        "with open(example1, \"r\") as file1:\n",
        "    print(file1.read(4))"
      ],
      "metadata": {
        "id": "2Zwtxz--Bioq"
      },
      "execution_count": null,
      "outputs": []
    },
    {
      "cell_type": "code",
      "source": [
        "# Read certain amount of characters\n",
        "\n",
        "with open(example1, \"r\") as file1:\n",
        "    print(file1.read(4))\n",
        "    print(file1.read(4))\n",
        "    print(file1.read(7))\n",
        "    print(file1.read(15))"
      ],
      "metadata": {
        "id": "CFITN9UrBimJ"
      },
      "execution_count": null,
      "outputs": []
    },
    {
      "cell_type": "code",
      "source": [
        "# Read certain amount of characters\n",
        "\n",
        "with open(example1, \"r\") as file1:\n",
        "    print(file1.read(16))\n",
        "    print(file1.read(5))\n",
        "    print(file1.read(9))"
      ],
      "metadata": {
        "id": "jADw5iQQBijj"
      },
      "execution_count": null,
      "outputs": []
    },
    {
      "cell_type": "code",
      "source": [
        "# Read one line\n",
        "\n",
        "with open(example1, \"r\") as file1:\n",
        "    print(\"first line: \" + file1.readline())"
      ],
      "metadata": {
        "id": "dAZhYnKBBiew"
      },
      "execution_count": null,
      "outputs": []
    },
    {
      "cell_type": "code",
      "source": [
        "with open(example1, \"r\") as file1:\n",
        "    print(file1.readline(20)) # does not read past the end of line\n",
        "    print(file1.read(20)) # Returns the next 20 chars\n"
      ],
      "metadata": {
        "id": "IWDH77f8BicI"
      },
      "execution_count": null,
      "outputs": []
    },
    {
      "cell_type": "code",
      "source": [
        "# Iterate through the lines\n",
        "\n",
        "with open(example1,\"r\") as file1:\n",
        "        i = 0;\n",
        "        for line in file1:\n",
        "            print(\"Iteration\", str(i), \": \", line)\n",
        "            i = i + 1"
      ],
      "metadata": {
        "id": "KmcROoOiBiZq"
      },
      "execution_count": null,
      "outputs": []
    },
    {
      "cell_type": "code",
      "source": [
        "# Read all lines and save as a list\n",
        "\n",
        "with open(example1, \"r\") as file1:\n",
        "    FileasList = file1.readlines()"
      ],
      "metadata": {
        "id": "veh64a8OBiXK"
      },
      "execution_count": null,
      "outputs": []
    },
    {
      "cell_type": "code",
      "source": [
        "# Print the first line\n",
        "\n",
        "FileasList[0]"
      ],
      "metadata": {
        "id": "ctSsxfirBiUk"
      },
      "execution_count": null,
      "outputs": []
    },
    {
      "cell_type": "code",
      "source": [
        "# Print the third line\n",
        "\n",
        "FileasList[2]"
      ],
      "metadata": {
        "id": "2wVPdoPNBiSQ"
      },
      "execution_count": null,
      "outputs": []
    },
    {
      "cell_type": "code",
      "source": [],
      "metadata": {
        "id": "UQUasrS5BiP6"
      },
      "execution_count": null,
      "outputs": []
    },
    {
      "cell_type": "code",
      "source": [],
      "metadata": {
        "id": "o79DzfVZBiNQ"
      },
      "execution_count": null,
      "outputs": []
    },
    {
      "cell_type": "code",
      "source": [],
      "metadata": {
        "id": "pxBH0hoABiK6"
      },
      "execution_count": null,
      "outputs": []
    },
    {
      "cell_type": "code",
      "source": [],
      "metadata": {
        "id": "no0utfknBiIY"
      },
      "execution_count": null,
      "outputs": []
    },
    {
      "cell_type": "code",
      "source": [],
      "metadata": {
        "id": "chVT324aBiGA"
      },
      "execution_count": null,
      "outputs": []
    },
    {
      "cell_type": "code",
      "source": [],
      "metadata": {
        "id": "bYAdR2B8BiDj"
      },
      "execution_count": null,
      "outputs": []
    },
    {
      "cell_type": "code",
      "source": [],
      "metadata": {
        "id": "u6YRBfWqBiA5"
      },
      "execution_count": null,
      "outputs": []
    }
  ]
}