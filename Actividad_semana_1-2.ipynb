{
  "nbformat": 4,
  "nbformat_minor": 0,
  "metadata": {
    "colab": {
      "provenance": [],
      "authorship_tag": "ABX9TyORi1+E8uaRb/XP95wG67qC",
      "include_colab_link": true
    },
    "kernelspec": {
      "name": "python3",
      "display_name": "Python 3"
    },
    "language_info": {
      "name": "python"
    }
  },
  "cells": [
    {
      "cell_type": "markdown",
      "metadata": {
        "id": "view-in-github",
        "colab_type": "text"
      },
      "source": [
        "<a href=\"https://colab.research.google.com/github/PosgradoMNA/actividades-de-aprendizaje-feracor/blob/main/Actividad_semana_1-2.ipynb\" target=\"_parent\"><img src=\"https://colab.research.google.com/assets/colab-badge.svg\" alt=\"Open In Colab\"/></a>"
      ]
    },
    {
      "cell_type": "markdown",
      "source": [
        "**Fernando Acevedo Ortegate - Tecnologico de Monterrey - A01794022**"
      ],
      "metadata": {
        "id": "YoWedGi68p3_"
      }
    },
    {
      "cell_type": "markdown",
      "source": [
        "Your First Program"
      ],
      "metadata": {
        "id": "HiFncSho-OVz"
      }
    },
    {
      "cell_type": "code",
      "execution_count": 1,
      "metadata": {
        "id": "ZvaWqoH068wQ",
        "colab": {
          "base_uri": "https://localhost:8080/"
        },
        "outputId": "243ad4d9-d3b9-4473-faad-52aea0b7a32b"
      },
      "outputs": [
        {
          "output_type": "stream",
          "name": "stdout",
          "text": [
            "Hello \n",
            "world!\n"
          ]
        }
      ],
      "source": [
        "print ('Hello \\nworld!')"
      ]
    },
    {
      "cell_type": "code",
      "source": [
        "# print('Hello World!')"
      ],
      "metadata": {
        "id": "pDit0VQS8pJ0"
      },
      "execution_count": 2,
      "outputs": []
    },
    {
      "cell_type": "markdown",
      "source": [
        "Types"
      ],
      "metadata": {
        "id": "YLnwl0t2-hRq"
      }
    },
    {
      "cell_type": "code",
      "source": [
        " type(int(1.0))"
      ],
      "metadata": {
        "colab": {
          "base_uri": "https://localhost:8080/"
        },
        "id": "TcP3WQj6-pe1",
        "outputId": "9173a1a0-feeb-4cc6-cf37-1be3cbe7f812"
      },
      "execution_count": 3,
      "outputs": [
        {
          "output_type": "execute_result",
          "data": {
            "text/plain": [
              "int"
            ]
          },
          "metadata": {},
          "execution_count": 3
        }
      ]
    },
    {
      "cell_type": "code",
      "source": [
        "bool(1)"
      ],
      "metadata": {
        "colab": {
          "base_uri": "https://localhost:8080/"
        },
        "id": "mU0zLaiH-p7C",
        "outputId": "8f87d487-de14-4707-ecff-890245f3a267"
      },
      "execution_count": 4,
      "outputs": [
        {
          "output_type": "execute_result",
          "data": {
            "text/plain": [
              "True"
            ]
          },
          "metadata": {},
          "execution_count": 4
        }
      ]
    },
    {
      "cell_type": "markdown",
      "source": [
        "**Expressions and Variables**"
      ],
      "metadata": {
        "id": "7_kFTXlsBgQw"
      }
    },
    {
      "cell_type": "code",
      "source": [
        "43+60+16+41"
      ],
      "metadata": {
        "colab": {
          "base_uri": "https://localhost:8080/"
        },
        "id": "mUGbrHvXBfdg",
        "outputId": "ca76d0ff-1587-4166-a783-0562cfa89a35"
      },
      "execution_count": 5,
      "outputs": [
        {
          "output_type": "execute_result",
          "data": {
            "text/plain": [
              "160"
            ]
          },
          "metadata": {},
          "execution_count": 5
        }
      ]
    },
    {
      "cell_type": "code",
      "source": [
        "25/5"
      ],
      "metadata": {
        "colab": {
          "base_uri": "https://localhost:8080/"
        },
        "id": "NCxgY3RABvdj",
        "outputId": "67ed13d8-9d9a-45ba-e336-0116a363b58d"
      },
      "execution_count": 6,
      "outputs": [
        {
          "output_type": "execute_result",
          "data": {
            "text/plain": [
              "5.0"
            ]
          },
          "metadata": {},
          "execution_count": 6
        }
      ]
    },
    {
      "cell_type": "code",
      "source": [
        "2*60+30"
      ],
      "metadata": {
        "colab": {
          "base_uri": "https://localhost:8080/"
        },
        "id": "c0nfB9QdB3yS",
        "outputId": "8ba32ad9-5966-4f3b-c1ef-a3e92ddf36d2"
      },
      "execution_count": 7,
      "outputs": [
        {
          "output_type": "execute_result",
          "data": {
            "text/plain": [
              "150"
            ]
          },
          "metadata": {},
          "execution_count": 7
        }
      ]
    },
    {
      "cell_type": "code",
      "source": [
        "(30+2)*60"
      ],
      "metadata": {
        "colab": {
          "base_uri": "https://localhost:8080/"
        },
        "id": "tsIOx81PB8OW",
        "outputId": "e1d9eab3-12a2-468f-9609-e7b56b7edd3c"
      },
      "execution_count": 8,
      "outputs": [
        {
          "output_type": "execute_result",
          "data": {
            "text/plain": [
              "1920"
            ]
          },
          "metadata": {},
          "execution_count": 8
        }
      ]
    },
    {
      "cell_type": "code",
      "source": [
        "my_var = 5\n",
        "print (my_var)"
      ],
      "metadata": {
        "colab": {
          "base_uri": "https://localhost:8080/"
        },
        "id": "1LbA6dkbCEjO",
        "outputId": "97d0a840-f844-4c6e-efe1-fcfca26fb83c"
      },
      "execution_count": 9,
      "outputs": [
        {
          "output_type": "stream",
          "name": "stdout",
          "text": [
            "5\n"
          ]
        }
      ]
    },
    {
      "cell_type": "code",
      "source": [
        "x = 43+60+16+41\n",
        "print (x)"
      ],
      "metadata": {
        "colab": {
          "base_uri": "https://localhost:8080/"
        },
        "id": "QhVf4hGaC-bM",
        "outputId": "1ea090c1-2e2a-4d4d-a0a1-6ca143bcb4bf"
      },
      "execution_count": 10,
      "outputs": [
        {
          "output_type": "stream",
          "name": "stdout",
          "text": [
            "160\n"
          ]
        }
      ]
    },
    {
      "cell_type": "code",
      "source": [
        "  y = x/60\n",
        "  print (y)"
      ],
      "metadata": {
        "colab": {
          "base_uri": "https://localhost:8080/"
        },
        "id": "gRvJzjI-C-0R",
        "outputId": "e59cc59f-2afc-4393-f0d5-defbb3ed4e7b"
      },
      "execution_count": 11,
      "outputs": [
        {
          "output_type": "stream",
          "name": "stdout",
          "text": [
            "2.6666666666666665\n"
          ]
        }
      ]
    },
    {
      "cell_type": "code",
      "source": [
        "total_min = 43+42\n",
        "total_hr = total_min/60\n",
        "print (total_hr)"
      ],
      "metadata": {
        "colab": {
          "base_uri": "https://localhost:8080/"
        },
        "id": "p_a5C2ChC-7p",
        "outputId": "12ee6ecb-9f1f-4407-ba47-9b876585dbc6"
      },
      "execution_count": 12,
      "outputs": [
        {
          "output_type": "stream",
          "name": "stdout",
          "text": [
            "1.4166666666666667\n"
          ]
        }
      ]
    },
    {
      "cell_type": "markdown",
      "source": [
        "Lab - Write Your First Python Code!"
      ],
      "metadata": {
        "id": "OdGBEm8WC_KE"
      }
    },
    {
      "cell_type": "code",
      "source": [
        "import sys\n",
        "print(sys.version)"
      ],
      "metadata": {
        "colab": {
          "base_uri": "https://localhost:8080/"
        },
        "id": "8SZFsPwdC_Ac",
        "outputId": "6695def6-eaac-4de5-8094-869aec8cf193"
      },
      "execution_count": 13,
      "outputs": [
        {
          "output_type": "stream",
          "name": "stdout",
          "text": [
            "3.7.14 (default, Sep  8 2022, 00:06:44) \n",
            "[GCC 7.5.0]\n"
          ]
        }
      ]
    },
    {
      "cell_type": "code",
      "source": [
        "# Practice on writing comments\n",
        "\n",
        "print('Hi Fernando!') # This line prints a string\n",
        "# print('Hi')"
      ],
      "metadata": {
        "colab": {
          "base_uri": "https://localhost:8080/"
        },
        "id": "FaXyickoC_EH",
        "outputId": "c1bdbaaa-1eab-43ea-feae-b064e6a35ec3"
      },
      "execution_count": 14,
      "outputs": [
        {
          "output_type": "stream",
          "name": "stdout",
          "text": [
            "Hi Fernando!\n"
          ]
        }
      ]
    },
    {
      "cell_type": "code",
      "source": [
        "# Practice on writing comments\n",
        "\n",
        "print('Hi!') # This line prints a string\n",
        "# print('Hi')"
      ],
      "metadata": {
        "colab": {
          "base_uri": "https://localhost:8080/"
        },
        "id": "0LflkznvC_HC",
        "outputId": "43789dba-5b6e-4a03-e321-dba33555e9cd"
      },
      "execution_count": 15,
      "outputs": [
        {
          "output_type": "stream",
          "name": "stdout",
          "text": [
            "Hi!\n"
          ]
        }
      ]
    },
    {
      "cell_type": "code",
      "source": [
        "type(12.0)"
      ],
      "metadata": {
        "colab": {
          "base_uri": "https://localhost:8080/"
        },
        "id": "4GsmicU9DEBM",
        "outputId": "d7609925-8307-4a6c-81dd-4825ff1a02ef"
      },
      "execution_count": 16,
      "outputs": [
        {
          "output_type": "execute_result",
          "data": {
            "text/plain": [
              "float"
            ]
          },
          "metadata": {},
          "execution_count": 16
        }
      ]
    },
    {
      "cell_type": "code",
      "source": [
        "sys.float_info"
      ],
      "metadata": {
        "colab": {
          "base_uri": "https://localhost:8080/"
        },
        "id": "XFz8IpJfDEs0",
        "outputId": "40fdb200-afc1-4365-b6cf-dbbd9a55e624"
      },
      "execution_count": 17,
      "outputs": [
        {
          "output_type": "execute_result",
          "data": {
            "text/plain": [
              "sys.float_info(max=1.7976931348623157e+308, max_exp=1024, max_10_exp=308, min=2.2250738585072014e-308, min_exp=-1021, min_10_exp=-307, dig=15, mant_dig=53, epsilon=2.220446049250313e-16, radix=2, rounds=1)"
            ]
          },
          "metadata": {},
          "execution_count": 17
        }
      ]
    },
    {
      "cell_type": "code",
      "source": [
        "float(True)"
      ],
      "metadata": {
        "colab": {
          "base_uri": "https://localhost:8080/"
        },
        "id": "qZFoPhk5DE7B",
        "outputId": "0b36c244-2890-4f32-ba85-f08985911f4f"
      },
      "execution_count": 18,
      "outputs": [
        {
          "output_type": "execute_result",
          "data": {
            "text/plain": [
              "1.0"
            ]
          },
          "metadata": {},
          "execution_count": 18
        }
      ]
    },
    {
      "cell_type": "code",
      "source": [
        "bool(2)"
      ],
      "metadata": {
        "colab": {
          "base_uri": "https://localhost:8080/"
        },
        "id": "xc-BhhAxDFgO",
        "outputId": "b7e4bc35-05aa-458c-f92b-ac236e34062c"
      },
      "execution_count": 19,
      "outputs": [
        {
          "output_type": "execute_result",
          "data": {
            "text/plain": [
              "True"
            ]
          },
          "metadata": {},
          "execution_count": 19
        }
      ]
    },
    {
      "cell_type": "code",
      "source": [
        "type(6/2)"
      ],
      "metadata": {
        "colab": {
          "base_uri": "https://localhost:8080/"
        },
        "id": "jSHC1UHlDGT6",
        "outputId": "91e62c97-5882-4c0e-f1c7-da2e295d83cd"
      },
      "execution_count": 20,
      "outputs": [
        {
          "output_type": "execute_result",
          "data": {
            "text/plain": [
              "float"
            ]
          },
          "metadata": {},
          "execution_count": 20
        }
      ]
    },
    {
      "cell_type": "markdown",
      "source": [],
      "metadata": {
        "id": "Cy22da0qC_25"
      }
    },
    {
      "cell_type": "code",
      "source": [
        "type(6//2)"
      ],
      "metadata": {
        "id": "odFyg95bPtXL",
        "outputId": "c5fc1912-e0e6-4efd-f5fb-b0fc97eeb6c3",
        "colab": {
          "base_uri": "https://localhost:8080/"
        }
      },
      "execution_count": 21,
      "outputs": [
        {
          "output_type": "execute_result",
          "data": {
            "text/plain": [
              "int"
            ]
          },
          "metadata": {},
          "execution_count": 21
        }
      ]
    },
    {
      "cell_type": "markdown",
      "source": [
        "**String Operations**"
      ],
      "metadata": {
        "id": "3t3g8VPAPtsq"
      }
    },
    {
      "cell_type": "code",
      "source": [
        "name = \"Michael Jackson\"\n",
        "name"
      ],
      "metadata": {
        "colab": {
          "base_uri": "https://localhost:8080/",
          "height": 36
        },
        "id": "88xubZcJpp4v",
        "outputId": "fbc66256-67c6-4823-d4dd-4d747b9d5851"
      },
      "execution_count": 22,
      "outputs": [
        {
          "output_type": "execute_result",
          "data": {
            "text/plain": [
              "'Michael Jackson'"
            ],
            "application/vnd.google.colaboratory.intrinsic+json": {
              "type": "string"
            }
          },
          "metadata": {},
          "execution_count": 22
        }
      ]
    },
    {
      "cell_type": "code",
      "source": [
        "name[-1]"
      ],
      "metadata": {
        "colab": {
          "base_uri": "https://localhost:8080/",
          "height": 36
        },
        "id": "WOanEG7RpqEF",
        "outputId": "f0e47665-921b-4f44-a739-c00b486b096f"
      },
      "execution_count": 23,
      "outputs": [
        {
          "output_type": "execute_result",
          "data": {
            "text/plain": [
              "'n'"
            ],
            "application/vnd.google.colaboratory.intrinsic+json": {
              "type": "string"
            }
          },
          "metadata": {},
          "execution_count": 23
        }
      ]
    },
    {
      "cell_type": "code",
      "source": [
        "name[0]"
      ],
      "metadata": {
        "colab": {
          "base_uri": "https://localhost:8080/",
          "height": 36
        },
        "id": "K3wYIZ6tpqKk",
        "outputId": "1d7f4e12-880e-420c-d808-b6f54c4327a4"
      },
      "execution_count": 24,
      "outputs": [
        {
          "output_type": "execute_result",
          "data": {
            "text/plain": [
              "'M'"
            ],
            "application/vnd.google.colaboratory.intrinsic+json": {
              "type": "string"
            }
          },
          "metadata": {},
          "execution_count": 24
        }
      ]
    },
    {
      "cell_type": "code",
      "source": [
        "name[0:4]"
      ],
      "metadata": {
        "colab": {
          "base_uri": "https://localhost:8080/",
          "height": 36
        },
        "id": "Ioa9MH9_pqQc",
        "outputId": "1117f955-b570-4db7-a2b5-573ffa2172c7"
      },
      "execution_count": 25,
      "outputs": [
        {
          "output_type": "execute_result",
          "data": {
            "text/plain": [
              "'Mich'"
            ],
            "application/vnd.google.colaboratory.intrinsic+json": {
              "type": "string"
            }
          },
          "metadata": {},
          "execution_count": 25
        }
      ]
    },
    {
      "cell_type": "code",
      "source": [
        "name[8:12]"
      ],
      "metadata": {
        "colab": {
          "base_uri": "https://localhost:8080/",
          "height": 36
        },
        "id": "g8_S-A1-pqVe",
        "outputId": "b6805f6e-d11d-4623-ab22-6b53a8edece3"
      },
      "execution_count": 26,
      "outputs": [
        {
          "output_type": "execute_result",
          "data": {
            "text/plain": [
              "'Jack'"
            ],
            "application/vnd.google.colaboratory.intrinsic+json": {
              "type": "string"
            }
          },
          "metadata": {},
          "execution_count": 26
        }
      ]
    },
    {
      "cell_type": "code",
      "source": [
        "name[::2]"
      ],
      "metadata": {
        "colab": {
          "base_uri": "https://localhost:8080/",
          "height": 36
        },
        "id": "orNyM7HhpqaL",
        "outputId": "0a4ba2c5-b85a-49f8-cad8-d27c3cd7efb7"
      },
      "execution_count": 27,
      "outputs": [
        {
          "output_type": "execute_result",
          "data": {
            "text/plain": [
              "'McalJcsn'"
            ],
            "application/vnd.google.colaboratory.intrinsic+json": {
              "type": "string"
            }
          },
          "metadata": {},
          "execution_count": 27
        }
      ]
    },
    {
      "cell_type": "code",
      "source": [
        "name[::3]"
      ],
      "metadata": {
        "colab": {
          "base_uri": "https://localhost:8080/",
          "height": 36
        },
        "id": "IAZWIqNApqfX",
        "outputId": "d473a29c-4c5a-48a4-d684-3dab741abea3"
      },
      "execution_count": 28,
      "outputs": [
        {
          "output_type": "execute_result",
          "data": {
            "text/plain": [
              "'Mhlas'"
            ],
            "application/vnd.google.colaboratory.intrinsic+json": {
              "type": "string"
            }
          },
          "metadata": {},
          "execution_count": 28
        }
      ]
    },
    {
      "cell_type": "code",
      "source": [
        "name[0:5:2]"
      ],
      "metadata": {
        "id": "alOG8ZiiPtx0",
        "colab": {
          "base_uri": "https://localhost:8080/",
          "height": 36
        },
        "outputId": "fa682af1-1140-4745-8a22-cbb496f039e5"
      },
      "execution_count": 29,
      "outputs": [
        {
          "output_type": "execute_result",
          "data": {
            "text/plain": [
              "'Mca'"
            ],
            "application/vnd.google.colaboratory.intrinsic+json": {
              "type": "string"
            }
          },
          "metadata": {},
          "execution_count": 29
        }
      ]
    },
    {
      "cell_type": "code",
      "source": [
        "len(name)"
      ],
      "metadata": {
        "id": "6gfVp43hPt3h",
        "colab": {
          "base_uri": "https://localhost:8080/"
        },
        "outputId": "0b611878-4ffd-468f-8edb-4faa4d55e697"
      },
      "execution_count": 30,
      "outputs": [
        {
          "output_type": "execute_result",
          "data": {
            "text/plain": [
              "15"
            ]
          },
          "metadata": {},
          "execution_count": 30
        }
      ]
    },
    {
      "cell_type": "code",
      "source": [
        "statet = name + \" is the best\"\n",
        "statet"
      ],
      "metadata": {
        "colab": {
          "base_uri": "https://localhost:8080/",
          "height": 36
        },
        "id": "46FTTNcbrUpr",
        "outputId": "3ec3ab74-d07c-42c7-cdf2-7b100de5a713"
      },
      "execution_count": 31,
      "outputs": [
        {
          "output_type": "execute_result",
          "data": {
            "text/plain": [
              "'Michael Jackson is the best'"
            ],
            "application/vnd.google.colaboratory.intrinsic+json": {
              "type": "string"
            }
          },
          "metadata": {},
          "execution_count": 31
        }
      ]
    },
    {
      "cell_type": "code",
      "source": [
        "3* \"Michael Jackson \""
      ],
      "metadata": {
        "colab": {
          "base_uri": "https://localhost:8080/",
          "height": 36
        },
        "id": "FktfclBkrU4f",
        "outputId": "c5146018-8dd2-4db4-b284-c7b7d5fad788"
      },
      "execution_count": 32,
      "outputs": [
        {
          "output_type": "execute_result",
          "data": {
            "text/plain": [
              "'Michael Jackson Michael Jackson Michael Jackson '"
            ],
            "application/vnd.google.colaboratory.intrinsic+json": {
              "type": "string"
            }
          },
          "metadata": {},
          "execution_count": 32
        }
      ]
    },
    {
      "cell_type": "code",
      "source": [
        "name =  name + \" is the best\"\n",
        "name"
      ],
      "metadata": {
        "colab": {
          "base_uri": "https://localhost:8080/",
          "height": 36
        },
        "id": "Bv1Nxxx9rVAN",
        "outputId": "c6dea46c-db70-46a2-8583-e96b576cf4a2"
      },
      "execution_count": 33,
      "outputs": [
        {
          "output_type": "execute_result",
          "data": {
            "text/plain": [
              "'Michael Jackson is the best'"
            ],
            "application/vnd.google.colaboratory.intrinsic+json": {
              "type": "string"
            }
          },
          "metadata": {},
          "execution_count": 33
        }
      ]
    },
    {
      "cell_type": "code",
      "source": [
        "print(\"Michael Jackson \\n is the best\")"
      ],
      "metadata": {
        "colab": {
          "base_uri": "https://localhost:8080/"
        },
        "id": "5fS-29IjrVGM",
        "outputId": "39fe849c-680a-4ec2-f651-cd33c6d26c26"
      },
      "execution_count": 34,
      "outputs": [
        {
          "output_type": "stream",
          "name": "stdout",
          "text": [
            "Michael Jackson \n",
            " is the best\n"
          ]
        }
      ]
    },
    {
      "cell_type": "code",
      "source": [
        "print(\"Michael Jackson \\t is the best\")"
      ],
      "metadata": {
        "colab": {
          "base_uri": "https://localhost:8080/"
        },
        "id": "0cbUp-KgrVLw",
        "outputId": "559060aa-15d6-4666-d1da-f0b6768bac5d"
      },
      "execution_count": 35,
      "outputs": [
        {
          "output_type": "stream",
          "name": "stdout",
          "text": [
            "Michael Jackson \t is the best\n"
          ]
        }
      ]
    },
    {
      "cell_type": "code",
      "source": [
        "print(\"Michael Jackson \\\\ is the best\")"
      ],
      "metadata": {
        "colab": {
          "base_uri": "https://localhost:8080/"
        },
        "id": "uXdYo4c5rVQy",
        "outputId": "4c930473-6b4e-40a5-9a2b-827464dd4e48"
      },
      "execution_count": 36,
      "outputs": [
        {
          "output_type": "stream",
          "name": "stdout",
          "text": [
            "Michael Jackson \\ is the best\n"
          ]
        }
      ]
    },
    {
      "cell_type": "code",
      "source": [
        "print(r\"Michael Jackson \\ is the best\")"
      ],
      "metadata": {
        "colab": {
          "base_uri": "https://localhost:8080/"
        },
        "id": "pRIWTtPTrVV5",
        "outputId": "746c3afc-b7e3-440c-df25-b0eebf7caf9e"
      },
      "execution_count": 37,
      "outputs": [
        {
          "output_type": "stream",
          "name": "stdout",
          "text": [
            "Michael Jackson \\ is the best\n"
          ]
        }
      ]
    },
    {
      "cell_type": "code",
      "source": [
        "print(\"Michael Jackson \\ is the best\")"
      ],
      "metadata": {
        "colab": {
          "base_uri": "https://localhost:8080/"
        },
        "id": "6YxW6b9yrVaO",
        "outputId": "368280c7-49ee-41f5-95b4-a1e5eef002e0"
      },
      "execution_count": 38,
      "outputs": [
        {
          "output_type": "stream",
          "name": "stdout",
          "text": [
            "Michael Jackson \\ is the best\n"
          ]
        }
      ]
    },
    {
      "cell_type": "code",
      "source": [
        "#Methods\n",
        "A = \"Thriller is the sixth studio album\"\n",
        "B = A.upper()\n",
        "B"
      ],
      "metadata": {
        "colab": {
          "base_uri": "https://localhost:8080/",
          "height": 36
        },
        "id": "DO6JCe6OrVeh",
        "outputId": "61660cc9-364c-42f1-e2c9-e9a2be153abd"
      },
      "execution_count": 39,
      "outputs": [
        {
          "output_type": "execute_result",
          "data": {
            "text/plain": [
              "'THRILLER IS THE SIXTH STUDIO ALBUM'"
            ],
            "application/vnd.google.colaboratory.intrinsic+json": {
              "type": "string"
            }
          },
          "metadata": {},
          "execution_count": 39
        }
      ]
    },
    {
      "cell_type": "code",
      "source": [
        "B = name.replace(\"Michael\",\"Janet\")\n",
        "B"
      ],
      "metadata": {
        "colab": {
          "base_uri": "https://localhost:8080/",
          "height": 36
        },
        "id": "rNbmBt8qrViO",
        "outputId": "e8058bb0-bc13-4e91-9038-c7a4313b4577"
      },
      "execution_count": 40,
      "outputs": [
        {
          "output_type": "execute_result",
          "data": {
            "text/plain": [
              "'Janet Jackson is the best'"
            ],
            "application/vnd.google.colaboratory.intrinsic+json": {
              "type": "string"
            }
          },
          "metadata": {},
          "execution_count": 40
        }
      ]
    },
    {
      "cell_type": "code",
      "source": [
        "name"
      ],
      "metadata": {
        "colab": {
          "base_uri": "https://localhost:8080/",
          "height": 36
        },
        "id": "gLyMukj0rVmD",
        "outputId": "162a636e-d88a-4a7e-b915-515afd2e712a"
      },
      "execution_count": 41,
      "outputs": [
        {
          "output_type": "execute_result",
          "data": {
            "text/plain": [
              "'Michael Jackson is the best'"
            ],
            "application/vnd.google.colaboratory.intrinsic+json": {
              "type": "string"
            }
          },
          "metadata": {},
          "execution_count": 41
        }
      ]
    },
    {
      "cell_type": "code",
      "source": [
        "name.find(\"el\")"
      ],
      "metadata": {
        "colab": {
          "base_uri": "https://localhost:8080/"
        },
        "id": "WWt0kOiRrVpd",
        "outputId": "0033076d-2865-4fc8-9283-26cd0124a3f2"
      },
      "execution_count": 42,
      "outputs": [
        {
          "output_type": "execute_result",
          "data": {
            "text/plain": [
              "5"
            ]
          },
          "metadata": {},
          "execution_count": 42
        }
      ]
    },
    {
      "cell_type": "code",
      "source": [
        " name.find(\"Jack\")"
      ],
      "metadata": {
        "colab": {
          "base_uri": "https://localhost:8080/"
        },
        "id": "TfB88thxrVs0",
        "outputId": "7dcd74e5-a792-4948-fb94-7556341059a3"
      },
      "execution_count": 43,
      "outputs": [
        {
          "output_type": "execute_result",
          "data": {
            "text/plain": [
              "8"
            ]
          },
          "metadata": {},
          "execution_count": 43
        }
      ]
    },
    {
      "cell_type": "code",
      "source": [
        "name.find(\"%3\")"
      ],
      "metadata": {
        "colab": {
          "base_uri": "https://localhost:8080/"
        },
        "id": "CXKixPderVwg",
        "outputId": "b07658fe-44ea-44e5-a015-e5b484374dd8"
      },
      "execution_count": 44,
      "outputs": [
        {
          "output_type": "execute_result",
          "data": {
            "text/plain": [
              "-1"
            ]
          },
          "metadata": {},
          "execution_count": 44
        }
      ]
    },
    {
      "cell_type": "code",
      "source": [
        "Numbers = \"0123456\"\n",
        "Numbers[::2]"
      ],
      "metadata": {
        "colab": {
          "base_uri": "https://localhost:8080/",
          "height": 36
        },
        "id": "u87bHWIbrV0U",
        "outputId": "37694527-90cd-494d-8f0b-7b303d84aeeb"
      },
      "execution_count": 45,
      "outputs": [
        {
          "output_type": "execute_result",
          "data": {
            "text/plain": [
              "'0246'"
            ],
            "application/vnd.google.colaboratory.intrinsic+json": {
              "type": "string"
            }
          },
          "metadata": {},
          "execution_count": 45
        }
      ]
    },
    {
      "cell_type": "code",
      "source": [
        "\"0123456\".find('1')"
      ],
      "metadata": {
        "colab": {
          "base_uri": "https://localhost:8080/"
        },
        "id": "8rZa4F73rV4X",
        "outputId": "37db8b61-232d-488a-d090-5aa1b55c4090"
      },
      "execution_count": 46,
      "outputs": [
        {
          "output_type": "execute_result",
          "data": {
            "text/plain": [
              "1"
            ]
          },
          "metadata": {},
          "execution_count": 46
        }
      ]
    },
    {
      "cell_type": "code",
      "source": [
        "name = 'abcdef'\n",
        "print(name[0:2])"
      ],
      "metadata": {
        "colab": {
          "base_uri": "https://localhost:8080/"
        },
        "id": "66JQRvO3rV9y",
        "outputId": "e25916d8-11ff-4ee0-eeff-f4f741faca4c"
      },
      "execution_count": 47,
      "outputs": [
        {
          "output_type": "stream",
          "name": "stdout",
          "text": [
            "ab\n"
          ]
        }
      ]
    },
    {
      "cell_type": "code",
      "source": [
        "var = '01234567'\n",
        "print(var[::2])"
      ],
      "metadata": {
        "colab": {
          "base_uri": "https://localhost:8080/"
        },
        "id": "ei7X5LDVrWD9",
        "outputId": "ee054828-ae4c-46c5-dc94-997a8d33a2ed"
      },
      "execution_count": 48,
      "outputs": [
        {
          "output_type": "stream",
          "name": "stdout",
          "text": [
            "0246\n"
          ]
        }
      ]
    },
    {
      "cell_type": "code",
      "source": [
        "d = \"ABCDEFG\"\n",
        "d[0:3]"
      ],
      "metadata": {
        "colab": {
          "base_uri": "https://localhost:8080/",
          "height": 36
        },
        "id": "GORNfjOmrWIp",
        "outputId": "ec71aad4-40d7-4a51-821b-225269e1294d"
      },
      "execution_count": 49,
      "outputs": [
        {
          "output_type": "execute_result",
          "data": {
            "text/plain": [
              "'ABC'"
            ],
            "application/vnd.google.colaboratory.intrinsic+json": {
              "type": "string"
            }
          },
          "metadata": {},
          "execution_count": 49
        }
      ]
    },
    {
      "cell_type": "code",
      "source": [
        "e = 'clocrkr1e1c1t'\n",
        "e[::2]"
      ],
      "metadata": {
        "colab": {
          "base_uri": "https://localhost:8080/",
          "height": 36
        },
        "id": "p0odE1eD7lAs",
        "outputId": "f0db6355-97ae-4b78-8804-aee47260fe43"
      },
      "execution_count": 50,
      "outputs": [
        {
          "output_type": "execute_result",
          "data": {
            "text/plain": [
              "'correct'"
            ],
            "application/vnd.google.colaboratory.intrinsic+json": {
              "type": "string"
            }
          },
          "metadata": {},
          "execution_count": 50
        }
      ]
    },
    {
      "cell_type": "code",
      "source": [
        "g = \"Mary had a little lamb Little lamb, little lamb Mary had a little lamb \\\n",
        "Its fleece was white as snow And everywhere that Mary went Mary went, Mary went \\\n",
        "Everywhere that Mary went The lamb was sure to go\"\n",
        "g.find('snow')"
      ],
      "metadata": {
        "colab": {
          "base_uri": "https://localhost:8080/"
        },
        "id": "QjG7NQ417nWZ",
        "outputId": "84d6557c-99b5-464a-a3c8-03ce088320a9"
      },
      "execution_count": 51,
      "outputs": [
        {
          "output_type": "execute_result",
          "data": {
            "text/plain": [
              "95"
            ]
          },
          "metadata": {},
          "execution_count": 51
        }
      ]
    },
    {
      "cell_type": "code",
      "source": [
        "g.replace(\"Mary\", \"Bob\")"
      ],
      "metadata": {
        "colab": {
          "base_uri": "https://localhost:8080/",
          "height": 53
        },
        "id": "-b0w4jiR-ac1",
        "outputId": "cfdeaf05-d4fa-46a8-9860-61add973b7fd"
      },
      "execution_count": 52,
      "outputs": [
        {
          "output_type": "execute_result",
          "data": {
            "text/plain": [
              "'Bob had a little lamb Little lamb, little lamb Bob had a little lamb Its fleece was white as snow And everywhere that Bob went Bob went, Bob went Everywhere that Bob went The lamb was sure to go'"
            ],
            "application/vnd.google.colaboratory.intrinsic+json": {
              "type": "string"
            }
          },
          "metadata": {},
          "execution_count": 52
        }
      ]
    },
    {
      "cell_type": "markdown",
      "source": [
        "**Lists and Tuples**"
      ],
      "metadata": {
        "id": "pQ1Cu5Kx-fL0"
      }
    },
    {
      "cell_type": "code",
      "source": [
        "A=(0,1,2,3)\n",
        "A[-1]"
      ],
      "metadata": {
        "id": "oUVr0OjMd5d2",
        "outputId": "93bad055-ee2c-4abd-a796-7357381e9744",
        "colab": {
          "base_uri": "https://localhost:8080/"
        }
      },
      "execution_count": 53,
      "outputs": [
        {
          "output_type": "execute_result",
          "data": {
            "text/plain": [
              "3"
            ]
          },
          "metadata": {},
          "execution_count": 53
        }
      ]
    },
    {
      "cell_type": "code",
      "source": [
        "B=[\"a\",\"b\",\"c\"]\n",
        "B[1:]\n"
      ],
      "metadata": {
        "id": "4j4FKig7d8EI",
        "outputId": "87390457-a375-48ec-8ff5-4ced24ae82f7",
        "colab": {
          "base_uri": "https://localhost:8080/"
        }
      },
      "execution_count": 54,
      "outputs": [
        {
          "output_type": "execute_result",
          "data": {
            "text/plain": [
              "['b', 'c']"
            ]
          },
          "metadata": {},
          "execution_count": 54
        }
      ]
    },
    {
      "cell_type": "code",
      "source": [
        "A = (0,1,2,3) #crear tupla\n",
        "A"
      ],
      "metadata": {
        "id": "RdKpm6Bjd8Ja",
        "outputId": "e906dc5d-7eaa-44fa-c16e-5dd806a02e41",
        "colab": {
          "base_uri": "https://localhost:8080/"
        }
      },
      "execution_count": 55,
      "outputs": [
        {
          "output_type": "execute_result",
          "data": {
            "text/plain": [
              "(0, 1, 2, 3)"
            ]
          },
          "metadata": {},
          "execution_count": 55
        }
      ]
    },
    {
      "cell_type": "code",
      "source": [
        "A[0:2] #ver primeros dos elementos de tupla"
      ],
      "metadata": {
        "id": "nak2ekggd8NO",
        "outputId": "8414a2ca-88e4-4a77-b927-eb300f42875c",
        "colab": {
          "base_uri": "https://localhost:8080/"
        }
      },
      "execution_count": 56,
      "outputs": [
        {
          "output_type": "execute_result",
          "data": {
            "text/plain": [
              "(0, 1)"
            ]
          },
          "metadata": {},
          "execution_count": 56
        }
      ]
    },
    {
      "cell_type": "code",
      "source": [
        "B=[\"a\",\"b\",\"c\"] #Crear LISTA"
      ],
      "metadata": {
        "id": "ob4rIlhad8Qc"
      },
      "execution_count": 57,
      "outputs": []
    },
    {
      "cell_type": "code",
      "source": [
        "B[0:2] #Ver primeros dos elementos de la LISTA"
      ],
      "metadata": {
        "id": "WwCLZQ9Od8Tz",
        "outputId": "6cb2c083-38f7-4058-90ac-435890bc9745",
        "colab": {
          "base_uri": "https://localhost:8080/"
        }
      },
      "execution_count": 58,
      "outputs": [
        {
          "output_type": "execute_result",
          "data": {
            "text/plain": [
              "['a', 'b']"
            ]
          },
          "metadata": {},
          "execution_count": 58
        }
      ]
    },
    {
      "cell_type": "code",
      "source": [
        "B[0]= 'A' #Cambiar primer elemnto de la lista por una 'A'\n",
        "B"
      ],
      "metadata": {
        "id": "d8rXAdH4d8Ws",
        "outputId": "ea4bc097-2692-43da-e7af-fe615889a0fd",
        "colab": {
          "base_uri": "https://localhost:8080/"
        }
      },
      "execution_count": 59,
      "outputs": [
        {
          "output_type": "execute_result",
          "data": {
            "text/plain": [
              "['A', 'b', 'c']"
            ]
          },
          "metadata": {},
          "execution_count": 59
        }
      ]
    },
    {
      "cell_type": "markdown",
      "source": [
        "**Lab - Lists and Tuples**"
      ],
      "metadata": {
        "id": "huMhXJ-Rj4yd"
      }
    },
    {
      "cell_type": "code",
      "source": [
        "tuple1 = (\"disco\",10,1.2 ) # crear tupla\n",
        "tuple1"
      ],
      "metadata": {
        "cellView": "code",
        "id": "8KCKztBjd8aT",
        "colab": {
          "base_uri": "https://localhost:8080/"
        },
        "outputId": "c938d6cb-751a-4aed-ed36-eb89da262c4e"
      },
      "execution_count": 60,
      "outputs": [
        {
          "output_type": "execute_result",
          "data": {
            "text/plain": [
              "('disco', 10, 1.2)"
            ]
          },
          "metadata": {},
          "execution_count": 60
        }
      ]
    },
    {
      "cell_type": "code",
      "source": [
        "print(tuple1[0]) #imprimir elemetod de la tupla de acuerdo al indexado en memoria\n",
        "print(tuple1[1])\n",
        "print(tuple1[2])"
      ],
      "metadata": {
        "id": "3eMuAtSPd8df",
        "colab": {
          "base_uri": "https://localhost:8080/"
        },
        "outputId": "6d2a5039-fbf3-45d6-c673-6ba98bbf179d"
      },
      "execution_count": 61,
      "outputs": [
        {
          "output_type": "stream",
          "name": "stdout",
          "text": [
            "disco\n",
            "10\n",
            "1.2\n"
          ]
        }
      ]
    },
    {
      "cell_type": "code",
      "source": [
        "print(type(tuple1[0])) #Imprimir el tipo de dato del elemento listado en la tupla\n",
        "print(type(tuple1[1]))\n",
        "print(type(tuple1[2]))"
      ],
      "metadata": {
        "id": "SgrJNUvJd8gi",
        "colab": {
          "base_uri": "https://localhost:8080/"
        },
        "outputId": "2f99c0d4-1bb9-44a6-d1f9-066ad4f64f40"
      },
      "execution_count": 62,
      "outputs": [
        {
          "output_type": "stream",
          "name": "stdout",
          "text": [
            "<class 'str'>\n",
            "<class 'int'>\n",
            "<class 'float'>\n"
          ]
        }
      ]
    },
    {
      "cell_type": "code",
      "source": [
        "tuple1[-1] #imprimir elemento de tupla en negativo toma desde el ultimo elemento al primero, empieza desde -1 y depende de la longitud de la tupla\n"
      ],
      "metadata": {
        "id": "_43lDF27d8lp",
        "colab": {
          "base_uri": "https://localhost:8080/"
        },
        "outputId": "5ca229f9-e48d-4fd4-e070-9b298cf213f2"
      },
      "execution_count": 63,
      "outputs": [
        {
          "output_type": "execute_result",
          "data": {
            "text/plain": [
              "1.2"
            ]
          },
          "metadata": {},
          "execution_count": 63
        }
      ]
    },
    {
      "cell_type": "code",
      "source": [
        "tuple1[-2] #imprimir elemento de tupla en negativo toma desde el ultimo elemento al primero, empieza desde -1 y depende de la longitud de la tupla\n"
      ],
      "metadata": {
        "id": "BIx8BzuZd8sj",
        "colab": {
          "base_uri": "https://localhost:8080/"
        },
        "outputId": "f0446c64-a43d-4325-82b7-d2c427df56a5"
      },
      "execution_count": 64,
      "outputs": [
        {
          "output_type": "execute_result",
          "data": {
            "text/plain": [
              "10"
            ]
          },
          "metadata": {},
          "execution_count": 64
        }
      ]
    },
    {
      "cell_type": "code",
      "source": [
        "tuple1[-3] #imprimir elemento de tupla en negativo toma desde el ultimo elemento al primero, empieza desde -1 y depende de la longitud de la tupla\n"
      ],
      "metadata": {
        "id": "wEQhtAzyd8zU",
        "colab": {
          "base_uri": "https://localhost:8080/",
          "height": 36
        },
        "outputId": "0cc3cf2b-545a-4270-e510-9b39c16cb1da"
      },
      "execution_count": 65,
      "outputs": [
        {
          "output_type": "execute_result",
          "data": {
            "text/plain": [
              "'disco'"
            ],
            "application/vnd.google.colaboratory.intrinsic+json": {
              "type": "string"
            }
          },
          "metadata": {},
          "execution_count": 65
        }
      ]
    },
    {
      "cell_type": "code",
      "source": [
        "tuple2 = tuple1 + (\"hard rock\", 10) #concatenar tuplas hace que los elemtos de la tupla anterior se anadan a nuevos elementos de una nueva tupla\n",
        "tuple2"
      ],
      "metadata": {
        "id": "S8jrSI66d86n",
        "colab": {
          "base_uri": "https://localhost:8080/"
        },
        "outputId": "fd1d7dc3-7e44-48db-9b37-dbaad43ec5ca"
      },
      "execution_count": 66,
      "outputs": [
        {
          "output_type": "execute_result",
          "data": {
            "text/plain": [
              "('disco', 10, 1.2, 'hard rock', 10)"
            ]
          },
          "metadata": {},
          "execution_count": 66
        }
      ]
    },
    {
      "cell_type": "code",
      "source": [
        "tuple2[0:4] # 'Slice' recorta la tupla y tra los elemtos mencionados segun el indexado. La limite maximo toma encuenta el ultimo digito menos uno\n",
        "            # si es 3, entonces el limite maximo es 4-1= 3"
      ],
      "metadata": {
        "id": "ldYSvW_Wd8_J",
        "colab": {
          "base_uri": "https://localhost:8080/"
        },
        "outputId": "0bf1f5b1-43db-4822-c897-5941839647d1"
      },
      "execution_count": 67,
      "outputs": [
        {
          "output_type": "execute_result",
          "data": {
            "text/plain": [
              "('disco', 10, 1.2, 'hard rock')"
            ]
          },
          "metadata": {},
          "execution_count": 67
        }
      ]
    },
    {
      "cell_type": "code",
      "source": [
        "tuple2[3:5] #se hace slide desde el tercer elemento indexado hasta el cuarto"
      ],
      "metadata": {
        "id": "DNsoYn5dd9EI",
        "colab": {
          "base_uri": "https://localhost:8080/"
        },
        "outputId": "cb1625c7-b2e1-48e0-d80f-6fc115cea867"
      },
      "execution_count": 68,
      "outputs": [
        {
          "output_type": "execute_result",
          "data": {
            "text/plain": [
              "('hard rock', 10)"
            ]
          },
          "metadata": {},
          "execution_count": 68
        }
      ]
    },
    {
      "cell_type": "code",
      "source": [
        "len(tuple2) #verifica el tama;o de la tupla contando los elementos indexados que contiene"
      ],
      "metadata": {
        "id": "IWEs4YA6d9Ib",
        "colab": {
          "base_uri": "https://localhost:8080/"
        },
        "outputId": "16b585c8-3808-4ee8-d652-b6a0f0eb48fd"
      },
      "execution_count": 69,
      "outputs": [
        {
          "output_type": "execute_result",
          "data": {
            "text/plain": [
              "5"
            ]
          },
          "metadata": {},
          "execution_count": 69
        }
      ]
    },
    {
      "cell_type": "code",
      "source": [
        "Ratings = (0, 9, 6, 5, 10, 8, 9, 6, 2.2) # sorting, se crea una tupla nueva"
      ],
      "metadata": {
        "id": "GtDlvzVyd9Mv"
      },
      "execution_count": 70,
      "outputs": []
    },
    {
      "cell_type": "code",
      "source": [
        "RatingsSorted = sorted(Ratings) #organiza los elemtos de menor a mayor cuando todos los elementos son de tipo numerico y los guarda en una nueva tupla.\n",
        "RatingsSorted"
      ],
      "metadata": {
        "id": "KEHN6lf-d9SC",
        "colab": {
          "base_uri": "https://localhost:8080/"
        },
        "outputId": "f953baf3-6a5c-4c50-90af-488733c2a93f"
      },
      "execution_count": 71,
      "outputs": [
        {
          "output_type": "execute_result",
          "data": {
            "text/plain": [
              "[0, 2.2, 5, 6, 6, 8, 9, 9, 10]"
            ]
          },
          "metadata": {},
          "execution_count": 71
        }
      ]
    },
    {
      "cell_type": "code",
      "source": [
        "NestedT =(1, 2, (\"pop\", \"rock\") ,(3,4),(\"disco\",(1,2))) # Nested tuple: una tupla puede contener otra tupla contenida"
      ],
      "metadata": {
        "id": "P6Huy32Od9Wq"
      },
      "execution_count": 72,
      "outputs": []
    },
    {
      "cell_type": "code",
      "source": [
        "print(\"Element 0 of Tuple: \", NestedT[0]) #Imprmir elemtos de la tupla\n",
        "print(\"Element 1 of Tuple: \", NestedT[1])\n",
        "print(\"Element 2 of Tuple: \", NestedT[2])\n",
        "print(\"Element 3 of Tuple: \", NestedT[3])\n",
        "print(\"Element 4 of Tuple: \", NestedT[4])"
      ],
      "metadata": {
        "id": "h9Jsmep0d9bd",
        "colab": {
          "base_uri": "https://localhost:8080/"
        },
        "outputId": "f7e4e80f-8630-4546-c0e7-0cd556ff01c1"
      },
      "execution_count": 73,
      "outputs": [
        {
          "output_type": "stream",
          "name": "stdout",
          "text": [
            "Element 0 of Tuple:  1\n",
            "Element 1 of Tuple:  2\n",
            "Element 2 of Tuple:  ('pop', 'rock')\n",
            "Element 3 of Tuple:  (3, 4)\n",
            "Element 4 of Tuple:  ('disco', (1, 2))\n"
          ]
        }
      ]
    },
    {
      "cell_type": "code",
      "source": [
        "print(\"Element 2, 0 of Tuple: \",   NestedT[2][0]) # Se puede acceder a los elementos de una tupla anidada en otra, se debe referenciar el index de la primer tupla\n",
        "print(\"Element 2, 1 of Tuple: \",   NestedT[2][1]) # Posteriormente se referencia el indexado internod e la tupla\n",
        "print(\"Element 3, 0 of Tuple: \",   NestedT[3][0])\n",
        "print(\"Element 3, 1 of Tuple: \",   NestedT[3][1])\n",
        "print(\"Element 4, 0 of Tuple: \",   NestedT[4][0])\n",
        "print(\"Element 4, 1 of Tuple: \",   NestedT[4][1])"
      ],
      "metadata": {
        "id": "Ni1Yssh4d9gK",
        "colab": {
          "base_uri": "https://localhost:8080/"
        },
        "outputId": "586849f0-8398-4173-c25f-2304c591e833"
      },
      "execution_count": 74,
      "outputs": [
        {
          "output_type": "stream",
          "name": "stdout",
          "text": [
            "Element 2, 0 of Tuple:  pop\n",
            "Element 2, 1 of Tuple:  rock\n",
            "Element 3, 0 of Tuple:  3\n",
            "Element 3, 1 of Tuple:  4\n",
            "Element 4, 0 of Tuple:  disco\n",
            "Element 4, 1 of Tuple:  (1, 2)\n"
          ]
        }
      ]
    },
    {
      "cell_type": "code",
      "source": [
        "NestedT[2][1][0] # se ririge al tercer elemento indexado (\"pop\", \"rock\"), \n",
        "                 # luego se dirige el segundo elemento indexado dentro de la tupla anidada (rock), imprime el primer caracter 'r'"
      ],
      "metadata": {
        "id": "T-acaQbZyzfK",
        "colab": {
          "base_uri": "https://localhost:8080/",
          "height": 36
        },
        "outputId": "3abe0b95-e4fe-423e-abb2-d1abce9bfd7a"
      },
      "execution_count": 75,
      "outputs": [
        {
          "output_type": "execute_result",
          "data": {
            "text/plain": [
              "'r'"
            ],
            "application/vnd.google.colaboratory.intrinsic+json": {
              "type": "string"
            }
          },
          "metadata": {},
          "execution_count": 75
        }
      ]
    },
    {
      "cell_type": "code",
      "source": [
        "NestedT[2][1][1] # tercer elemento, segundo elemento, segundo caracter: \"o\""
      ],
      "metadata": {
        "id": "D2kWkMD0y0cK",
        "colab": {
          "base_uri": "https://localhost:8080/",
          "height": 36
        },
        "outputId": "a0daafa8-81cf-4048-f4c5-1454f596adcf"
      },
      "execution_count": 76,
      "outputs": [
        {
          "output_type": "execute_result",
          "data": {
            "text/plain": [
              "'o'"
            ],
            "application/vnd.google.colaboratory.intrinsic+json": {
              "type": "string"
            }
          },
          "metadata": {},
          "execution_count": 76
        }
      ]
    },
    {
      "cell_type": "code",
      "source": [
        "NestedT[4][1][0] #quinto elemento indexado, segundo elemento indexado, primer caracter : 1"
      ],
      "metadata": {
        "id": "7H3_k8m5y0s8",
        "colab": {
          "base_uri": "https://localhost:8080/"
        },
        "outputId": "136d42f4-3835-45f5-f538-5a01b27ecbd2"
      },
      "execution_count": 77,
      "outputs": [
        {
          "output_type": "execute_result",
          "data": {
            "text/plain": [
              "1"
            ]
          },
          "metadata": {},
          "execution_count": 77
        }
      ]
    },
    {
      "cell_type": "code",
      "source": [
        "NestedT[4][1][1] #quinto elemento indexado, segundo elemento indexado, segundo caracter : 2"
      ],
      "metadata": {
        "id": "3ZZjU8RDy1GC",
        "colab": {
          "base_uri": "https://localhost:8080/"
        },
        "outputId": "927d14c0-f2d4-4b00-d16e-c5cb88362e82"
      },
      "execution_count": 78,
      "outputs": [
        {
          "output_type": "execute_result",
          "data": {
            "text/plain": [
              "2"
            ]
          },
          "metadata": {},
          "execution_count": 78
        }
      ]
    },
    {
      "cell_type": "code",
      "source": [
        "# sample tuple\n",
        "\n",
        "genres_tuple = (\"pop\", \"rock\", \"soul\", \"hard rock\", \"soft rock\", \\\n",
        "                \"R&B\", \"progressive rock\", \"disco\") \n",
        "genres_tuple"
      ],
      "metadata": {
        "id": "ZGRGhIPvy1cv",
        "colab": {
          "base_uri": "https://localhost:8080/"
        },
        "outputId": "d9940e4e-51b0-484b-c19d-209e98d8f35b"
      },
      "execution_count": 79,
      "outputs": [
        {
          "output_type": "execute_result",
          "data": {
            "text/plain": [
              "('pop',\n",
              " 'rock',\n",
              " 'soul',\n",
              " 'hard rock',\n",
              " 'soft rock',\n",
              " 'R&B',\n",
              " 'progressive rock',\n",
              " 'disco')"
            ]
          },
          "metadata": {},
          "execution_count": 79
        }
      ]
    },
    {
      "cell_type": "code",
      "source": [
        "# Write your code below and press Shift+Enter to execute\n",
        "len(genres_tuple)"
      ],
      "metadata": {
        "id": "ZpO-F2qAy1yC",
        "colab": {
          "base_uri": "https://localhost:8080/"
        },
        "outputId": "a9246552-dea9-4de2-b812-15c2456e921a"
      },
      "execution_count": 80,
      "outputs": [
        {
          "output_type": "execute_result",
          "data": {
            "text/plain": [
              "8"
            ]
          },
          "metadata": {},
          "execution_count": 80
        }
      ]
    },
    {
      "cell_type": "code",
      "source": [
        "# Write your code below and press Shift+Enter to execute\n",
        "genres_tuple[3]"
      ],
      "metadata": {
        "id": "Xh8-GLm5y16q",
        "colab": {
          "base_uri": "https://localhost:8080/",
          "height": 36
        },
        "outputId": "75bc62d2-662c-4151-bc53-f908d6ea3351"
      },
      "execution_count": 81,
      "outputs": [
        {
          "output_type": "execute_result",
          "data": {
            "text/plain": [
              "'hard rock'"
            ],
            "application/vnd.google.colaboratory.intrinsic+json": {
              "type": "string"
            }
          },
          "metadata": {},
          "execution_count": 81
        }
      ]
    },
    {
      "cell_type": "code",
      "source": [
        "# Write your code below and press Shift+Enter to execute\n",
        "genres_tuple[3:6]"
      ],
      "metadata": {
        "id": "MCK5P4zNy2A_",
        "colab": {
          "base_uri": "https://localhost:8080/"
        },
        "outputId": "b3745d83-7c0f-49be-a467-666c205edcbd"
      },
      "execution_count": 82,
      "outputs": [
        {
          "output_type": "execute_result",
          "data": {
            "text/plain": [
              "('hard rock', 'soft rock', 'R&B')"
            ]
          },
          "metadata": {},
          "execution_count": 82
        }
      ]
    },
    {
      "cell_type": "code",
      "source": [
        "# Write your code below and press Shift+Enter to execute\n",
        "genres_tuple[:2]"
      ],
      "metadata": {
        "id": "mGWrJPa0y2GQ",
        "colab": {
          "base_uri": "https://localhost:8080/"
        },
        "outputId": "3bbe8937-e3e7-4cbd-aac9-90e61d8919bf"
      },
      "execution_count": 83,
      "outputs": [
        {
          "output_type": "execute_result",
          "data": {
            "text/plain": [
              "('pop', 'rock')"
            ]
          },
          "metadata": {},
          "execution_count": 83
        }
      ]
    },
    {
      "cell_type": "code",
      "source": [
        " #Find the first index of \"disco\"\n",
        "genres_tuple.index(\"disco\")"
      ],
      "metadata": {
        "id": "AbSrUiCi1Lyx",
        "colab": {
          "base_uri": "https://localhost:8080/"
        },
        "outputId": "0df936a1-983d-4430-8902-8434754964e6"
      },
      "execution_count": 84,
      "outputs": [
        {
          "output_type": "execute_result",
          "data": {
            "text/plain": [
              "7"
            ]
          },
          "metadata": {},
          "execution_count": 84
        }
      ]
    },
    {
      "cell_type": "code",
      "source": [
        "#Generate a sorted List from the Tuple C_tuple=(-5, 1, -3):\n",
        "C_tuple=(-5, 1, -3)\n",
        "C_tuple_sorted = sorted(C_tuple)\n",
        "C_tuple_sorted"
      ],
      "metadata": {
        "id": "Km8a0d_N1L4P",
        "colab": {
          "base_uri": "https://localhost:8080/"
        },
        "outputId": "c8cd568d-d425-496b-875a-7967eabf2a73"
      },
      "execution_count": 85,
      "outputs": [
        {
          "output_type": "execute_result",
          "data": {
            "text/plain": [
              "[-5, -3, 1]"
            ]
          },
          "metadata": {},
          "execution_count": 85
        }
      ]
    },
    {
      "cell_type": "markdown",
      "source": [
        "LABORATORIO DE LISTAS"
      ],
      "metadata": {
        "id": "ogiKRC-28asg"
      }
    },
    {
      "cell_type": "code",
      "source": [
        "# Create a list\n",
        "\n",
        "L = [\"Michael Jackson\", 10.1, 1982]\n",
        "L"
      ],
      "metadata": {
        "id": "MC3SgxJY8abf",
        "colab": {
          "base_uri": "https://localhost:8080/"
        },
        "outputId": "240e7953-c787-4644-f86f-f9d3e5adb172"
      },
      "execution_count": 86,
      "outputs": [
        {
          "output_type": "execute_result",
          "data": {
            "text/plain": [
              "['Michael Jackson', 10.1, 1982]"
            ]
          },
          "metadata": {},
          "execution_count": 86
        }
      ]
    },
    {
      "cell_type": "code",
      "source": [
        "# Imprime los elementos usando dos firmatos de indexado, el positivo y el negativo. \n",
        "print('the same element using negative and positive indexing:\\n Postive:',L[0],\n",
        "'\\n Negative:' , L[-3]  )\n",
        "print('the same element using negative and positive indexing:\\n Postive:',L[1],\n",
        "'\\n Negative:' , L[-2]  )\n",
        "print('the same element using negative and positive indexing:\\n Postive:',L[2],\n",
        "'\\n Negative:' , L[-1]  )"
      ],
      "metadata": {
        "id": "b1kMX-dr8Z1I",
        "colab": {
          "base_uri": "https://localhost:8080/"
        },
        "outputId": "899bd290-13a6-4a9f-eedb-6944ed1402ea"
      },
      "execution_count": 87,
      "outputs": [
        {
          "output_type": "stream",
          "name": "stdout",
          "text": [
            "the same element using negative and positive indexing:\n",
            " Postive: Michael Jackson \n",
            " Negative: Michael Jackson\n",
            "the same element using negative and positive indexing:\n",
            " Postive: 10.1 \n",
            " Negative: 10.1\n",
            "the same element using negative and positive indexing:\n",
            " Postive: 1982 \n",
            " Negative: 1982\n"
          ]
        }
      ]
    },
    {
      "cell_type": "code",
      "source": [
        "# Las listas pueden contener otras listan indexadas, tuplasy tipos de datos basicos\n",
        "[\"Michael Jackson\", 10.1, 1982, [1, 2], (\"A\", 1)]"
      ],
      "metadata": {
        "id": "hjGCGoG61L-q",
        "colab": {
          "base_uri": "https://localhost:8080/"
        },
        "outputId": "1f5fab5e-30e0-4f90-d390-b6d00b074ed5"
      },
      "execution_count": 88,
      "outputs": [
        {
          "output_type": "execute_result",
          "data": {
            "text/plain": [
              "['Michael Jackson', 10.1, 1982, [1, 2], ('A', 1)]"
            ]
          },
          "metadata": {},
          "execution_count": 88
        }
      ]
    },
    {
      "cell_type": "code",
      "source": [
        "#crear lista y guardarla\n",
        "L = [\"Michael Jackson\", 10.1,1982,\"MJ\",1]\n",
        "L"
      ],
      "metadata": {
        "id": "X054GGAL1MCu",
        "colab": {
          "base_uri": "https://localhost:8080/"
        },
        "outputId": "0bd085fb-d70a-4dd5-b361-0de37f660579"
      },
      "execution_count": 89,
      "outputs": [
        {
          "output_type": "execute_result",
          "data": {
            "text/plain": [
              "['Michael Jackson', 10.1, 1982, 'MJ', 1]"
            ]
          },
          "metadata": {},
          "execution_count": 89
        }
      ]
    },
    {
      "cell_type": "code",
      "source": [
        "# Hacer slice/recortar la lista desde el elemento 3 al  4\n",
        "L[3:5]"
      ],
      "metadata": {
        "id": "42Bx6Hfz1MGM",
        "colab": {
          "base_uri": "https://localhost:8080/"
        },
        "outputId": "f6cc074a-23df-4a0d-9ea5-5eada330255a"
      },
      "execution_count": 90,
      "outputs": [
        {
          "output_type": "execute_result",
          "data": {
            "text/plain": [
              "['MJ', 1]"
            ]
          },
          "metadata": {},
          "execution_count": 90
        }
      ]
    },
    {
      "cell_type": "code",
      "source": [
        "L"
      ],
      "metadata": {
        "id": "aLPUnqmM_-ku",
        "colab": {
          "base_uri": "https://localhost:8080/"
        },
        "outputId": "2a2fade4-7779-47d2-f77c-98dc10edb077"
      },
      "execution_count": 91,
      "outputs": [
        {
          "output_type": "execute_result",
          "data": {
            "text/plain": [
              "['Michael Jackson', 10.1, 1982, 'MJ', 1]"
            ]
          },
          "metadata": {},
          "execution_count": 91
        }
      ]
    },
    {
      "cell_type": "code",
      "source": [
        "# Se usa el metodo 'extend' para agregar mas elemntos a la lista dentro den un espacio indexado a cada elemento nuevo\n",
        "L = [ \"Michael Jackson\",10.2] # Crear lista\n",
        "L.extend(['pop', 10]) #añadir nuevos elemento al final de la lista\n",
        "L"
      ],
      "metadata": {
        "id": "pdgL12L71MJi",
        "colab": {
          "base_uri": "https://localhost:8080/"
        },
        "outputId": "d96d1b7a-51e2-46e3-a25f-3a97a748acba"
      },
      "execution_count": 92,
      "outputs": [
        {
          "output_type": "execute_result",
          "data": {
            "text/plain": [
              "['Michael Jackson', 10.2, 'pop', 10]"
            ]
          },
          "metadata": {},
          "execution_count": 92
        }
      ]
    },
    {
      "cell_type": "code",
      "source": [
        "len(L)"
      ],
      "metadata": {
        "id": "71_R_Uqb1MMe",
        "colab": {
          "base_uri": "https://localhost:8080/"
        },
        "outputId": "89ada4e2-c329-4c10-d262-4e519a922976"
      },
      "execution_count": 93,
      "outputs": [
        {
          "output_type": "execute_result",
          "data": {
            "text/plain": [
              "4"
            ]
          },
          "metadata": {},
          "execution_count": 93
        }
      ]
    },
    {
      "cell_type": "code",
      "source": [
        "# El metodo 'append' agrega elementos a las lista en un solo espacio indexado\n",
        "L = [ \"Michael Jackson\", 10.2] # Crea lista\n",
        "L.append(['pop', 10]) # Agrega una lista en el ultimo espacio indexado\n",
        "L"
      ],
      "metadata": {
        "id": "bjHPvASfy2Kw",
        "colab": {
          "base_uri": "https://localhost:8080/"
        },
        "outputId": "14a0beda-5813-4196-9fd0-25e18a8c6ca1"
      },
      "execution_count": 94,
      "outputs": [
        {
          "output_type": "execute_result",
          "data": {
            "text/plain": [
              "['Michael Jackson', 10.2, ['pop', 10]]"
            ]
          },
          "metadata": {},
          "execution_count": 94
        }
      ]
    },
    {
      "cell_type": "code",
      "source": [
        "len(L)"
      ],
      "metadata": {
        "id": "hgBXVoUbA9aG",
        "colab": {
          "base_uri": "https://localhost:8080/"
        },
        "outputId": "393a0aba-b3e7-4356-95d9-dc366f18eeb5"
      },
      "execution_count": 95,
      "outputs": [
        {
          "output_type": "execute_result",
          "data": {
            "text/plain": [
              "3"
            ]
          },
          "metadata": {},
          "execution_count": 95
        }
      ]
    },
    {
      "cell_type": "code",
      "source": [
        "L = [ \"Michael Jackson\", 10.2]\n",
        "L.extend(['pop', 10])\n",
        "L.append(['a','b'])\n",
        "L"
      ],
      "metadata": {
        "id": "u4ol3MSpA_Yf",
        "colab": {
          "base_uri": "https://localhost:8080/"
        },
        "outputId": "a0756e1e-bd29-4cfe-8847-e941b69084d5"
      },
      "execution_count": 96,
      "outputs": [
        {
          "output_type": "execute_result",
          "data": {
            "text/plain": [
              "['Michael Jackson', 10.2, 'pop', 10, ['a', 'b']]"
            ]
          },
          "metadata": {},
          "execution_count": 96
        }
      ]
    },
    {
      "cell_type": "code",
      "source": [
        "# Las lista permiten hacer cambios en ellas\n",
        "A = [\"disco\", 10, 1.2] # Crear lista\n",
        "print('Before change:', A)\n",
        "A[0] = 'hard rock'    # Se cambia el primer elemento de la lista\n",
        "print('After change:', A)"
      ],
      "metadata": {
        "id": "NF5s_xCLBIV4",
        "colab": {
          "base_uri": "https://localhost:8080/"
        },
        "outputId": "788bd812-415f-43f7-e3f5-e0a3513fbfb7"
      },
      "execution_count": 97,
      "outputs": [
        {
          "output_type": "stream",
          "name": "stdout",
          "text": [
            "Before change: ['disco', 10, 1.2]\n",
            "After change: ['hard rock', 10, 1.2]\n"
          ]
        }
      ]
    },
    {
      "cell_type": "code",
      "source": [
        "# se pueden eliminar elemtnsode la lista con el metodo 'del'\n",
        "print('Before change:', A)\n",
        "del(A[0])   # Elimina el primer elemento de la lista A\n",
        "print('After change:', A)"
      ],
      "metadata": {
        "id": "BJ0QlC-OBUkt",
        "colab": {
          "base_uri": "https://localhost:8080/"
        },
        "outputId": "b4193d9e-ab13-4dfe-c394-aafe276ac8ac"
      },
      "execution_count": 98,
      "outputs": [
        {
          "output_type": "stream",
          "name": "stdout",
          "text": [
            "Before change: ['hard rock', 10, 1.2]\n",
            "After change: [10, 1.2]\n"
          ]
        }
      ]
    },
    {
      "cell_type": "code",
      "source": [
        "# El metodo 'split' permite dividir una cadena de caracteres dentro de los elementos de una lista y crear nuevos elementos de acuerdo a las palabras contenidas\n",
        "'hard rock'.split()"
      ],
      "metadata": {
        "id": "3gyLNpigBlUp",
        "colab": {
          "base_uri": "https://localhost:8080/"
        },
        "outputId": "e3066d98-fefa-4b8f-e68a-0ed96c21fdef"
      },
      "execution_count": 99,
      "outputs": [
        {
          "output_type": "execute_result",
          "data": {
            "text/plain": [
              "['hard', 'rock']"
            ]
          },
          "metadata": {},
          "execution_count": 99
        }
      ]
    },
    {
      "cell_type": "code",
      "source": [
        "# se puede usar el metodo 'split' y agregar una condicion para que ese argumento divida los elemntos y creee una lista\n",
        "'A,B,C,D'.split(',')"
      ],
      "metadata": {
        "id": "00oysk_wBlhA",
        "colab": {
          "base_uri": "https://localhost:8080/"
        },
        "outputId": "e920c244-e1c2-4ba4-c78c-f1556174f5c4"
      },
      "execution_count": 100,
      "outputs": [
        {
          "output_type": "execute_result",
          "data": {
            "text/plain": [
              "['A', 'B', 'C', 'D']"
            ]
          },
          "metadata": {},
          "execution_count": 100
        }
      ]
    },
    {
      "cell_type": "code",
      "source": [
        "# COPIAR - En este caso se copia una lista, pero las dos apuntan a la misma direccion en memoria\n",
        "A = [\"hard rock\", 10, 1.2]\n",
        "B = A\n",
        "print('A:', A)\n",
        "print('B:', B)"
      ],
      "metadata": {
        "id": "_L96LqK2Bllc",
        "colab": {
          "base_uri": "https://localhost:8080/"
        },
        "outputId": "ebb2d4ec-ad9b-444f-8707-625d6050ca26"
      },
      "execution_count": 101,
      "outputs": [
        {
          "output_type": "stream",
          "name": "stdout",
          "text": [
            "A: ['hard rock', 10, 1.2]\n",
            "B: ['hard rock', 10, 1.2]\n"
          ]
        }
      ]
    },
    {
      "cell_type": "code",
      "source": [
        "# Al cambiar un elemento en una de las dos lista, ambas listas vana tener una direccion propia en memoria y se vuelven independientes\n",
        "print('B[0]:', B[0])\n",
        "A[0] = \"banana\"\n",
        "print('B[0]:', B[0]) "
      ],
      "metadata": {
        "id": "0KByLzj4Blpc",
        "colab": {
          "base_uri": "https://localhost:8080/"
        },
        "outputId": "8c978499-0f23-4e53-8f5b-0d9f8ff78200"
      },
      "execution_count": 102,
      "outputs": [
        {
          "output_type": "stream",
          "name": "stdout",
          "text": [
            "B[0]: hard rock\n",
            "B[0]: banana\n"
          ]
        }
      ]
    },
    {
      "cell_type": "code",
      "source": [
        "# Se pueden clonar los elementos de una lista y agregarlos a una nueva\n",
        "B = A[:]\n",
        "B"
      ],
      "metadata": {
        "id": "TZv304joBlti",
        "colab": {
          "base_uri": "https://localhost:8080/"
        },
        "outputId": "7a4040c9-fece-40bb-fb8f-2adf8da72b8f"
      },
      "execution_count": 103,
      "outputs": [
        {
          "output_type": "execute_result",
          "data": {
            "text/plain": [
              "['banana', 10, 1.2]"
            ]
          },
          "metadata": {},
          "execution_count": 103
        }
      ]
    },
    {
      "cell_type": "code",
      "source": [
        "# al clonar una lista, si se cambia un elemento de una lista, no se afecta la otra\n",
        "print('B[0]:', B[0])\n",
        "A[0] = \"hard rock\" # Se cambia elemto en lista A\n",
        "print('B[0]:', B[0])\n"
      ],
      "metadata": {
        "id": "eOtR4nwyBlyY",
        "colab": {
          "base_uri": "https://localhost:8080/"
        },
        "outputId": "b4302dc6-a531-4379-beff-954a7e211122"
      },
      "execution_count": 104,
      "outputs": [
        {
          "output_type": "stream",
          "name": "stdout",
          "text": [
            "B[0]: banana\n",
            "B[0]: banana\n"
          ]
        }
      ]
    },
    {
      "cell_type": "code",
      "source": [
        "#Create a list a_list, with the following elements 1, hello, [1,2,3] and True.\n",
        "\n",
        "A = [1, 'hello', [1,2,3], True]\n",
        "A"
      ],
      "metadata": {
        "id": "W_lPzRvRBl2t",
        "colab": {
          "base_uri": "https://localhost:8080/"
        },
        "outputId": "db5cde45-bedf-411a-8f01-d323d9e3c84e"
      },
      "execution_count": 105,
      "outputs": [
        {
          "output_type": "execute_result",
          "data": {
            "text/plain": [
              "[1, 'hello', [1, 2, 3], True]"
            ]
          },
          "metadata": {},
          "execution_count": 105
        }
      ]
    },
    {
      "cell_type": "code",
      "source": [
        "# Find the value stored at index 1 of a_list. \n",
        "A[1]"
      ],
      "metadata": {
        "id": "Cc0GvqzpBl6n",
        "colab": {
          "base_uri": "https://localhost:8080/",
          "height": 36
        },
        "outputId": "71373a51-ce32-476e-c540-b455d4c619f9"
      },
      "execution_count": 106,
      "outputs": [
        {
          "output_type": "execute_result",
          "data": {
            "text/plain": [
              "'hello'"
            ],
            "application/vnd.google.colaboratory.intrinsic+json": {
              "type": "string"
            }
          },
          "metadata": {},
          "execution_count": 106
        }
      ]
    },
    {
      "cell_type": "code",
      "source": [
        "# Retrieve the elements stored at index 1, 2 and 3 of a_list.\n",
        "A[1:4]"
      ],
      "metadata": {
        "id": "oWjLYTLHBl9i",
        "colab": {
          "base_uri": "https://localhost:8080/"
        },
        "outputId": "c991203b-31b4-47e0-81c1-ff2bc7251abf"
      },
      "execution_count": 107,
      "outputs": [
        {
          "output_type": "execute_result",
          "data": {
            "text/plain": [
              "['hello', [1, 2, 3], True]"
            ]
          },
          "metadata": {},
          "execution_count": 107
        }
      ]
    },
    {
      "cell_type": "code",
      "source": [
        "# Concatenate the following lists A = [1, 'a'] and B = [2, 1, 'd']:\n",
        "\n",
        "A = [1, 'a']\n",
        "B = [2, 1, 'd']\n",
        "C = A + B\n",
        "C"
      ],
      "metadata": {
        "id": "A5Q7A_j0BmBG",
        "colab": {
          "base_uri": "https://localhost:8080/"
        },
        "outputId": "30c36843-cc87-451e-f45b-9d2375e5fc9e"
      },
      "execution_count": 108,
      "outputs": [
        {
          "output_type": "execute_result",
          "data": {
            "text/plain": [
              "[1, 'a', 2, 1, 'd']"
            ]
          },
          "metadata": {},
          "execution_count": 108
        }
      ]
    },
    {
      "cell_type": "markdown",
      "source": [
        "## **SET**"
      ],
      "metadata": {
        "id": "QNsjC1XjPfsg"
      }
    },
    {
      "cell_type": "code",
      "source": [
        "# CAST Convertir la lista en un set.\n",
        "a = ['A','B','C','A','B','C'] \n",
        "set(a)"
      ],
      "metadata": {
        "id": "dRtj1x2rBmIf",
        "colab": {
          "base_uri": "https://localhost:8080/"
        },
        "outputId": "545522ca-acd5-45e2-f9f0-12bde9d5118f"
      },
      "execution_count": 109,
      "outputs": [
        {
          "output_type": "execute_result",
          "data": {
            "text/plain": [
              "{'A', 'B', 'C'}"
            ]
          },
          "metadata": {},
          "execution_count": 109
        }
      ]
    },
    {
      "cell_type": "code",
      "source": [
        "# Agredar un elemento nuevo al set con el metodo 'add'\n",
        "S={'A','B','C'}\n",
        "S.add('D')\n",
        "S"
      ],
      "metadata": {
        "id": "Eit7rywWBmN5",
        "colab": {
          "base_uri": "https://localhost:8080/"
        },
        "outputId": "d873dd07-6f43-4ab3-e1af-0530da4f49f3"
      },
      "execution_count": 110,
      "outputs": [
        {
          "output_type": "execute_result",
          "data": {
            "text/plain": [
              "{'A', 'B', 'C', 'D'}"
            ]
          },
          "metadata": {},
          "execution_count": 110
        }
      ]
    },
    {
      "cell_type": "code",
      "source": [
        "# INTERSECCION DE set: \n",
        "A={1,2,3,4,5}\n",
        "B={1,3,9, 12}\n",
        "A&B"
      ],
      "metadata": {
        "id": "eEJPSek4BmRA",
        "colab": {
          "base_uri": "https://localhost:8080/"
        },
        "outputId": "507e8e48-281d-4057-8487-ef52f78cb60e"
      },
      "execution_count": 111,
      "outputs": [
        {
          "output_type": "execute_result",
          "data": {
            "text/plain": [
              "{1, 3}"
            ]
          },
          "metadata": {},
          "execution_count": 111
        }
      ]
    },
    {
      "cell_type": "code",
      "source": [
        "# INTERSECCION DE set: \n",
        "A={1,2,3,4,5}\n",
        "B={1,3,9, 12}\n",
        "A.intersection(B)"
      ],
      "metadata": {
        "id": "x1lbWSEHQghw",
        "colab": {
          "base_uri": "https://localhost:8080/"
        },
        "outputId": "4d34762b-ac30-44af-9882-e92adb4ab123"
      },
      "execution_count": 112,
      "outputs": [
        {
          "output_type": "execute_result",
          "data": {
            "text/plain": [
              "{1, 3}"
            ]
          },
          "metadata": {},
          "execution_count": 112
        }
      ]
    },
    {
      "cell_type": "markdown",
      "source": [
        "# Dictionaries in Python"
      ],
      "metadata": {
        "id": "hsvd_lWETQUX"
      }
    },
    {
      "cell_type": "code",
      "source": [
        "\n",
        "# Create the dictionary\n",
        "\n",
        "Dict = {\"key1\": 1, \"key2\": \"2\", \"key3\": [3, 3, 3], \"key4\": (4, 4, 4), ('key5'): 5, (0, 1): 6}\n",
        "Dict"
      ],
      "metadata": {
        "colab": {
          "base_uri": "https://localhost:8080/"
        },
        "id": "DZuplvfQTTy3",
        "outputId": "d74ba3b9-5148-4c84-fbac-17b09394e09c"
      },
      "execution_count": 113,
      "outputs": [
        {
          "output_type": "execute_result",
          "data": {
            "text/plain": [
              "{'key1': 1,\n",
              " 'key2': '2',\n",
              " 'key3': [3, 3, 3],\n",
              " 'key4': (4, 4, 4),\n",
              " 'key5': 5,\n",
              " (0, 1): 6}"
            ]
          },
          "metadata": {},
          "execution_count": 113
        }
      ]
    },
    {
      "cell_type": "code",
      "source": [
        "# Access to the value by the key\n",
        "\n",
        "Dict[\"key1\"]"
      ],
      "metadata": {
        "colab": {
          "base_uri": "https://localhost:8080/"
        },
        "id": "FX9D9V3WTTwb",
        "outputId": "80e651f8-c91d-492b-f2d2-42816cd8b15f"
      },
      "execution_count": 114,
      "outputs": [
        {
          "output_type": "execute_result",
          "data": {
            "text/plain": [
              "1"
            ]
          },
          "metadata": {},
          "execution_count": 114
        }
      ]
    },
    {
      "cell_type": "code",
      "source": [
        "# Access to the value by the key\n",
        "\n",
        "Dict[(0, 1)]"
      ],
      "metadata": {
        "colab": {
          "base_uri": "https://localhost:8080/"
        },
        "id": "97r0FJQQTTt3",
        "outputId": "68529b40-5d3c-4c91-b736-835d467c4b73"
      },
      "execution_count": 115,
      "outputs": [
        {
          "output_type": "execute_result",
          "data": {
            "text/plain": [
              "6"
            ]
          },
          "metadata": {},
          "execution_count": 115
        }
      ]
    },
    {
      "cell_type": "code",
      "source": [
        "# Create a sample dictionary\n",
        "\n",
        "release_year_dict = {\"Thriller\": \"1982\", \"Back in Black\": \"1980\", \\\n",
        "                    \"The Dark Side of the Moon\": \"1973\", \"The Bodyguard\": \"1992\", \\\n",
        "                    \"Bat Out of Hell\": \"1977\", \"Their Greatest Hits (1971-1975)\": \"1976\", \\\n",
        "                    \"Saturday Night Fever\": \"1977\", \"Rumours\": \"1977\"}\n",
        "release_year_dict"
      ],
      "metadata": {
        "colab": {
          "base_uri": "https://localhost:8080/"
        },
        "id": "94dg5FIITTra",
        "outputId": "8972ec10-ccd9-44de-8025-053cd1be978f"
      },
      "execution_count": 116,
      "outputs": [
        {
          "output_type": "execute_result",
          "data": {
            "text/plain": [
              "{'Thriller': '1982',\n",
              " 'Back in Black': '1980',\n",
              " 'The Dark Side of the Moon': '1973',\n",
              " 'The Bodyguard': '1992',\n",
              " 'Bat Out of Hell': '1977',\n",
              " 'Their Greatest Hits (1971-1975)': '1976',\n",
              " 'Saturday Night Fever': '1977',\n",
              " 'Rumours': '1977'}"
            ]
          },
          "metadata": {},
          "execution_count": 116
        }
      ]
    },
    {
      "cell_type": "code",
      "source": [
        "# Get value by keys\n",
        "\n",
        "release_year_dict['Thriller'] "
      ],
      "metadata": {
        "colab": {
          "base_uri": "https://localhost:8080/",
          "height": 0
        },
        "id": "5nTqkSrKTTo2",
        "outputId": "933dfeb3-9b60-4fb0-f1a0-46e552afa593"
      },
      "execution_count": 117,
      "outputs": [
        {
          "output_type": "execute_result",
          "data": {
            "text/plain": [
              "'1982'"
            ],
            "application/vnd.google.colaboratory.intrinsic+json": {
              "type": "string"
            }
          },
          "metadata": {},
          "execution_count": 117
        }
      ]
    },
    {
      "cell_type": "code",
      "source": [
        "# Get value by key\n",
        "\n",
        "release_year_dict['The Bodyguard'] "
      ],
      "metadata": {
        "colab": {
          "base_uri": "https://localhost:8080/",
          "height": 0
        },
        "id": "SEMVoo2fTTmT",
        "outputId": "cb8b87ce-7042-4aa3-96d1-c4b642dadda8"
      },
      "execution_count": 118,
      "outputs": [
        {
          "output_type": "execute_result",
          "data": {
            "text/plain": [
              "'1992'"
            ],
            "application/vnd.google.colaboratory.intrinsic+json": {
              "type": "string"
            }
          },
          "metadata": {},
          "execution_count": 118
        }
      ]
    },
    {
      "cell_type": "code",
      "source": [
        "# Get all the keys in dictionary\n",
        "\n",
        "release_year_dict.keys() "
      ],
      "metadata": {
        "colab": {
          "base_uri": "https://localhost:8080/"
        },
        "id": "Qz37hEfrTTkP",
        "outputId": "6f1f14c6-e385-4097-b5db-9af4e7fe5d84"
      },
      "execution_count": 119,
      "outputs": [
        {
          "output_type": "execute_result",
          "data": {
            "text/plain": [
              "dict_keys(['Thriller', 'Back in Black', 'The Dark Side of the Moon', 'The Bodyguard', 'Bat Out of Hell', 'Their Greatest Hits (1971-1975)', 'Saturday Night Fever', 'Rumours'])"
            ]
          },
          "metadata": {},
          "execution_count": 119
        }
      ]
    },
    {
      "cell_type": "code",
      "source": [
        "# Get all the values in dictionary\n",
        "\n",
        "release_year_dict.values() "
      ],
      "metadata": {
        "colab": {
          "base_uri": "https://localhost:8080/"
        },
        "id": "Y4pQ8Mu5TThz",
        "outputId": "fdd24771-e351-4000-8862-b3864f030356"
      },
      "execution_count": 120,
      "outputs": [
        {
          "output_type": "execute_result",
          "data": {
            "text/plain": [
              "dict_values(['1982', '1980', '1973', '1992', '1977', '1976', '1977', '1977'])"
            ]
          },
          "metadata": {},
          "execution_count": 120
        }
      ]
    },
    {
      "cell_type": "code",
      "source": [
        "# Question sample dictionary\n",
        "\n",
        "soundtrack_dic = {\"The Bodyguard\":\"1992\", \"Saturday Night Fever\":\"1977\"}\n",
        "soundtrack_dic "
      ],
      "metadata": {
        "colab": {
          "base_uri": "https://localhost:8080/"
        },
        "id": "YWXmgiKTTTfg",
        "outputId": "9135ab42-9530-4810-f804-9820f75cc46a"
      },
      "execution_count": 121,
      "outputs": [
        {
          "output_type": "execute_result",
          "data": {
            "text/plain": [
              "{'The Bodyguard': '1992', 'Saturday Night Fever': '1977'}"
            ]
          },
          "metadata": {},
          "execution_count": 121
        }
      ]
    },
    {
      "cell_type": "code",
      "source": [
        "soundtrack_dic.keys() "
      ],
      "metadata": {
        "colab": {
          "base_uri": "https://localhost:8080/"
        },
        "id": "bTT_EyGQTTc_",
        "outputId": "a3b1a1bc-c458-4303-a10b-f4e44ca56337"
      },
      "execution_count": 122,
      "outputs": [
        {
          "output_type": "execute_result",
          "data": {
            "text/plain": [
              "dict_keys(['The Bodyguard', 'Saturday Night Fever'])"
            ]
          },
          "metadata": {},
          "execution_count": 122
        }
      ]
    },
    {
      "cell_type": "code",
      "source": [
        "soundtrack_dic.values() "
      ],
      "metadata": {
        "colab": {
          "base_uri": "https://localhost:8080/"
        },
        "id": "Fe6jE7h8TTYa",
        "outputId": "4e3b852c-e4cb-424b-eeaf-59ea9ab516f3"
      },
      "execution_count": 123,
      "outputs": [
        {
          "output_type": "execute_result",
          "data": {
            "text/plain": [
              "dict_values(['1992', '1977'])"
            ]
          },
          "metadata": {},
          "execution_count": 123
        }
      ]
    },
    {
      "cell_type": "code",
      "source": [
        "album_sales_dict = {\"The Bodyguard\":50, \"Back in Black\":50, \"Thriller\":65}"
      ],
      "metadata": {
        "id": "Ny7Jp65_TTS3"
      },
      "execution_count": 124,
      "outputs": []
    },
    {
      "cell_type": "code",
      "source": [
        "album_sales_dict[\"Thriller\"]"
      ],
      "metadata": {
        "colab": {
          "base_uri": "https://localhost:8080/"
        },
        "id": "IZmHHMr-TTKV",
        "outputId": "fbdcaff0-8c8e-4bc5-bbf3-12d8faec4740"
      },
      "execution_count": 125,
      "outputs": [
        {
          "output_type": "execute_result",
          "data": {
            "text/plain": [
              "65"
            ]
          },
          "metadata": {},
          "execution_count": 125
        }
      ]
    },
    {
      "cell_type": "code",
      "source": [
        "album_sales_dict.keys()"
      ],
      "metadata": {
        "id": "8UiDnv-UQqSl",
        "colab": {
          "base_uri": "https://localhost:8080/"
        },
        "outputId": "e24e28e1-94e5-47d3-d56f-8aca49d9d0ff"
      },
      "execution_count": 126,
      "outputs": [
        {
          "output_type": "execute_result",
          "data": {
            "text/plain": [
              "dict_keys(['The Bodyguard', 'Back in Black', 'Thriller'])"
            ]
          },
          "metadata": {},
          "execution_count": 126
        }
      ]
    },
    {
      "cell_type": "code",
      "source": [
        "album_sales_dict.values()"
      ],
      "metadata": {
        "colab": {
          "base_uri": "https://localhost:8080/"
        },
        "id": "J_OwX27PXjou",
        "outputId": "8671252f-4356-4865-8674-545459dbd96e"
      },
      "execution_count": 127,
      "outputs": [
        {
          "output_type": "execute_result",
          "data": {
            "text/plain": [
              "dict_values([50, 50, 65])"
            ]
          },
          "metadata": {},
          "execution_count": 127
        }
      ]
    },
    {
      "cell_type": "code",
      "source": [
        "album_sales_dict.values()"
      ],
      "metadata": {
        "colab": {
          "base_uri": "https://localhost:8080/"
        },
        "id": "4G0Wfo4sXlz3",
        "outputId": "46fe3214-686c-436c-e7dd-a97c04d5243f"
      },
      "execution_count": 128,
      "outputs": [
        {
          "output_type": "execute_result",
          "data": {
            "text/plain": [
              "dict_values([50, 50, 65])"
            ]
          },
          "metadata": {},
          "execution_count": 128
        }
      ]
    },
    {
      "cell_type": "markdown",
      "source": [
        "## **Conditions and Branching**"
      ],
      "metadata": {
        "id": "tcHJmdeeVIlb"
      }
    },
    {
      "cell_type": "code",
      "source": [
        "# True\n",
        "i = 2\n",
        "i!=0\n"
      ],
      "metadata": {
        "id": "lJZD6keVXnWc",
        "outputId": "4a217286-84be-41f6-d074-57151c591539",
        "colab": {
          "base_uri": "https://localhost:8080/"
        }
      },
      "execution_count": 129,
      "outputs": [
        {
          "output_type": "execute_result",
          "data": {
            "text/plain": [
              "True"
            ]
          },
          "metadata": {},
          "execution_count": 129
        }
      ]
    },
    {
      "cell_type": "code",
      "source": [
        "# False\n",
        "i = 0\n",
        "i!=0"
      ],
      "metadata": {
        "id": "Gd0LHLvtXRTx",
        "outputId": "3602ba4f-271c-4206-dd6f-11c672786bae",
        "colab": {
          "base_uri": "https://localhost:8080/"
        }
      },
      "execution_count": 130,
      "outputs": [
        {
          "output_type": "execute_result",
          "data": {
            "text/plain": [
              "False"
            ]
          },
          "metadata": {},
          "execution_count": 130
        }
      ]
    },
    {
      "cell_type": "code",
      "source": [
        "# True\n",
        "i = 0\n",
        "i == 0"
      ],
      "metadata": {
        "id": "uxr96S8iXVlx",
        "outputId": "53cd7927-4816-4a6d-d27d-d08f6c6bfc4a",
        "colab": {
          "base_uri": "https://localhost:8080/"
        }
      },
      "execution_count": 131,
      "outputs": [
        {
          "output_type": "execute_result",
          "data": {
            "text/plain": [
              "True"
            ]
          },
          "metadata": {},
          "execution_count": 131
        }
      ]
    },
    {
      "cell_type": "code",
      "source": [
        "# False\n",
        "i = 2\n",
        "i == 0"
      ],
      "metadata": {
        "id": "ZcYVU3c1XeGA",
        "outputId": "599a6367-7754-4b27-8c94-c0e0b5a986ba",
        "colab": {
          "base_uri": "https://localhost:8080/"
        }
      },
      "execution_count": 132,
      "outputs": [
        {
          "output_type": "execute_result",
          "data": {
            "text/plain": [
              "False"
            ]
          },
          "metadata": {},
          "execution_count": 132
        }
      ]
    },
    {
      "cell_type": "code",
      "source": [
        "x='a'\n",
        "\n",
        "if(x!='a'):\n",
        "\n",
        "  print(\"This is not a.\")\n",
        "\n",
        "else:\n",
        "\n",
        "  print(\"This is a.\") # se imprime esta opcion"
      ],
      "metadata": {
        "id": "ZFJ2rHYUXg9l",
        "outputId": "c6edb0f5-6b72-4f56-8505-4026f71d2a69",
        "colab": {
          "base_uri": "https://localhost:8080/"
        }
      },
      "execution_count": 133,
      "outputs": [
        {
          "output_type": "stream",
          "name": "stdout",
          "text": [
            "This is a.\n"
          ]
        }
      ]
    },
    {
      "cell_type": "code",
      "source": [
        "# Condicional igual\n",
        "a = 5\n",
        "a == 6"
      ],
      "metadata": {
        "id": "8IHkHbuEXoJh",
        "outputId": "90c63a84-baff-4126-aeb0-d3d590625229",
        "colab": {
          "base_uri": "https://localhost:8080/"
        }
      },
      "execution_count": 134,
      "outputs": [
        {
          "output_type": "execute_result",
          "data": {
            "text/plain": [
              "False"
            ]
          },
          "metadata": {},
          "execution_count": 134
        }
      ]
    },
    {
      "cell_type": "code",
      "source": [
        "# Comparacion\n",
        "i = 6\n",
        "i > 5 #pregunta si el valor de i es mayor a 5, es True"
      ],
      "metadata": {
        "id": "RSm4KRkUYJXv",
        "outputId": "6699819d-fa76-4027-f828-f7d67d1e685c",
        "colab": {
          "base_uri": "https://localhost:8080/"
        }
      },
      "execution_count": 135,
      "outputs": [
        {
          "output_type": "execute_result",
          "data": {
            "text/plain": [
              "True"
            ]
          },
          "metadata": {},
          "execution_count": 135
        }
      ]
    },
    {
      "cell_type": "code",
      "source": [
        "# Comparacion\n",
        "i = 2\n",
        "i > 5 #pregunta si el valor de i es mayor a 5, es false"
      ],
      "metadata": {
        "id": "FOb0_dOTYOoS",
        "outputId": "a18eb918-016e-4b3a-f318-ac9165a00619",
        "colab": {
          "base_uri": "https://localhost:8080/"
        }
      },
      "execution_count": 136,
      "outputs": [
        {
          "output_type": "execute_result",
          "data": {
            "text/plain": [
              "False"
            ]
          },
          "metadata": {},
          "execution_count": 136
        }
      ]
    },
    {
      "cell_type": "code",
      "source": [
        "# Diferente\n",
        "i = 2\n",
        "i != 6 #pregunta si el valor de i es diferente a 6, es True"
      ],
      "metadata": {
        "id": "wlblu6hLYZEE",
        "outputId": "2f51915e-0fef-4dad-e4d6-d2697c9689c2",
        "colab": {
          "base_uri": "https://localhost:8080/"
        }
      },
      "execution_count": 137,
      "outputs": [
        {
          "output_type": "execute_result",
          "data": {
            "text/plain": [
              "True"
            ]
          },
          "metadata": {},
          "execution_count": 137
        }
      ]
    },
    {
      "cell_type": "code",
      "source": [
        "# Diferente\n",
        "i = 6\n",
        "i != 6  #pregunta si el valor de i es diferente a 6, es False"
      ],
      "metadata": {
        "id": "IGBilG7TYwRi",
        "outputId": "e1e4b30e-a79e-4a3a-fbcb-b20efa4ac112",
        "colab": {
          "base_uri": "https://localhost:8080/"
        }
      },
      "execution_count": 138,
      "outputs": [
        {
          "output_type": "execute_result",
          "data": {
            "text/plain": [
              "False"
            ]
          },
          "metadata": {},
          "execution_count": 138
        }
      ]
    },
    {
      "cell_type": "code",
      "source": [
        "# Igualdad\n",
        "\"ACDC\" == \"Michael Jackson\" #False"
      ],
      "metadata": {
        "id": "BT2Pw-DqY4wG",
        "outputId": "276dee89-b7e8-4a12-b054-7ae06765016a",
        "colab": {
          "base_uri": "https://localhost:8080/"
        }
      },
      "execution_count": 139,
      "outputs": [
        {
          "output_type": "execute_result",
          "data": {
            "text/plain": [
              "False"
            ]
          },
          "metadata": {},
          "execution_count": 139
        }
      ]
    },
    {
      "cell_type": "code",
      "source": [
        "# Diferencia\n",
        "\"ACDC\" != \"Michael Jackson\" #True"
      ],
      "metadata": {
        "id": "GaLP3gfqY_36",
        "outputId": "da97dbfc-f142-4829-aa17-2d359500c929",
        "colab": {
          "base_uri": "https://localhost:8080/"
        }
      },
      "execution_count": 140,
      "outputs": [
        {
          "output_type": "execute_result",
          "data": {
            "text/plain": [
              "True"
            ]
          },
          "metadata": {},
          "execution_count": 140
        }
      ]
    },
    {
      "cell_type": "code",
      "source": [
        "#condicional if\n",
        "\n",
        "age = 19\n",
        "#age = 18\n",
        "\n",
        "#expression that can be true or false\n",
        "if age > 18:\n",
        "    \n",
        "    #within an indent, we have the expression that is run if the condition is true\n",
        "    print(\"you can enter\" )\n",
        "\n",
        "#The statements after the if statement will run regardless if the condition is true or false \n",
        "print(\"move on\")"
      ],
      "metadata": {
        "id": "N_wg5ndUZKoV",
        "outputId": "1b495405-9b42-4571-d37b-76d5e1c3e88d",
        "colab": {
          "base_uri": "https://localhost:8080/"
        }
      },
      "execution_count": 141,
      "outputs": [
        {
          "output_type": "stream",
          "name": "stdout",
          "text": [
            "you can enter\n",
            "move on\n"
          ]
        }
      ]
    },
    {
      "cell_type": "code",
      "source": [
        "# Condicional con else\n",
        "\n",
        "age = 18\n",
        "# age = 19\n",
        "\n",
        "if age > 18:\n",
        "    print(\"you can enter\" )\n",
        "else:\n",
        "    print(\"go see Meat Loaf\" )\n",
        "    \n",
        "print(\"move on\")"
      ],
      "metadata": {
        "id": "btP9cKNKZuFz",
        "outputId": "7706c4e7-9f77-4185-b0be-784b922a02c3",
        "colab": {
          "base_uri": "https://localhost:8080/"
        }
      },
      "execution_count": 142,
      "outputs": [
        {
          "output_type": "stream",
          "name": "stdout",
          "text": [
            "go see Meat Loaf\n",
            "move on\n"
          ]
        }
      ]
    },
    {
      "cell_type": "code",
      "source": [
        "# Condicional elif (else + if)\n",
        "\n",
        "age = 18\n",
        "\n",
        "if age > 18:\n",
        "    print(\"you can enter\" )\n",
        "elif age == 18:\n",
        "    print(\"go see Pink Floyd\")\n",
        "else:\n",
        "    print(\"go see Meat Loaf\" )\n",
        "    \n",
        "print(\"move on\")"
      ],
      "metadata": {
        "id": "DhVvYmwqZ2Gt",
        "outputId": "de2272ff-149e-4a83-dbaf-a455d802a8e6",
        "colab": {
          "base_uri": "https://localhost:8080/"
        }
      },
      "execution_count": 143,
      "outputs": [
        {
          "output_type": "stream",
          "name": "stdout",
          "text": [
            "go see Pink Floyd\n",
            "move on\n"
          ]
        }
      ]
    },
    {
      "cell_type": "code",
      "source": [
        "# Condicional AND\n",
        "\n",
        "album_year = 1980\n",
        "\n",
        "if(album_year > 1979) and (album_year < 1990):\n",
        "    print (\"Album year was in between 1980 and 1989\")\n",
        "    \n",
        "print(\"\")\n",
        "print(\"Do Stuff..\")"
      ],
      "metadata": {
        "id": "mWBRAsTtZ9PT",
        "outputId": "341da006-4fa9-46c5-c751-3cbe23cacb2b",
        "colab": {
          "base_uri": "https://localhost:8080/"
        }
      },
      "execution_count": 144,
      "outputs": [
        {
          "output_type": "stream",
          "name": "stdout",
          "text": [
            "Album year was in between 1980 and 1989\n",
            "\n",
            "Do Stuff..\n"
          ]
        }
      ]
    },
    {
      "cell_type": "code",
      "source": [
        "# Condicional OR\n",
        "\n",
        "album_year = 1990\n",
        "\n",
        "if(album_year < 1980) or (album_year > 1989):\n",
        "    print (\"Album was not made in the 1980's\")\n",
        "else:\n",
        "    print(\"The Album was made in the 1980's \")"
      ],
      "metadata": {
        "id": "o4tEz4lDaI-r",
        "outputId": "eefbac26-131b-4a30-ff70-82f53ab49f77",
        "colab": {
          "base_uri": "https://localhost:8080/"
        }
      },
      "execution_count": 145,
      "outputs": [
        {
          "output_type": "stream",
          "name": "stdout",
          "text": [
            "Album was not made in the 1980's\n"
          ]
        }
      ]
    },
    {
      "cell_type": "code",
      "source": [
        "# Condicional NOT\n",
        "\n",
        "album_year = 1983\n",
        "\n",
        "if not (album_year == 1984):\n",
        "    print (\"Album year is not 1984\")"
      ],
      "metadata": {
        "id": "9CkHx2K8aOye",
        "outputId": "3443277b-76b1-4809-8889-35d8fe4dfcdb",
        "colab": {
          "base_uri": "https://localhost:8080/"
        }
      },
      "execution_count": 146,
      "outputs": [
        {
          "output_type": "stream",
          "name": "stdout",
          "text": [
            "Album year is not 1984\n"
          ]
        }
      ]
    },
    {
      "cell_type": "markdown",
      "source": [
        "QUIZ ON CONDITIONS"
      ],
      "metadata": {
        "id": "souxbnVVbQlz"
      }
    },
    {
      "cell_type": "code",
      "source": [
        "Back_in_Black = 8.5\n",
        "\n",
        "if Back_in_Black >= 8.5:\n",
        "    print (\"This album is Amazing!\")\n",
        "else:\n",
        "    print(\"The Album isn't Amazing\")"
      ],
      "metadata": {
        "id": "9qEG4436aTNS",
        "outputId": "c800776b-a4fe-4b73-f040-ea4b199b0b54",
        "colab": {
          "base_uri": "https://localhost:8080/"
        }
      },
      "execution_count": 147,
      "outputs": [
        {
          "output_type": "stream",
          "name": "stdout",
          "text": [
            "This album is Amazing!\n"
          ]
        }
      ]
    },
    {
      "cell_type": "code",
      "source": [
        "Back_in_Black = 8\n",
        "\n",
        "if Back_in_Black > 8:\n",
        "    print (\"This album is Amazing!\")\n",
        "else:\n",
        "    print(\"this album is ok\")"
      ],
      "metadata": {
        "id": "tYukBrXabV5I",
        "outputId": "b54529db-6729-4d5d-f6d0-47999781d83c",
        "colab": {
          "base_uri": "https://localhost:8080/"
        }
      },
      "execution_count": 148,
      "outputs": [
        {
          "output_type": "stream",
          "name": "stdout",
          "text": [
            "this album is ok\n"
          ]
        }
      ]
    },
    {
      "cell_type": "code",
      "source": [
        "if(album_year < 1980):\n",
        "    print (\"Album was made before 1980\")\n",
        "elif(album_year == 1991):\n",
        "    print(\"The Album was made in 1991\")\n",
        "elif(album_year == 1993):\n",
        "    print(\"The Album was made in 1993\") \n",
        "else:\n",
        "    print(\"The Album wasn't made neither before 1980, nor 1991, nor 1993 \")  "
      ],
      "metadata": {
        "id": "o6H_ZXMGbXbn",
        "outputId": "76c74e11-e110-4acf-ad2a-021cdb63e767",
        "colab": {
          "base_uri": "https://localhost:8080/"
        }
      },
      "execution_count": 149,
      "outputs": [
        {
          "output_type": "stream",
          "name": "stdout",
          "text": [
            "The Album wasn't made neither before 1980, nor 1991, nor 1993 \n"
          ]
        }
      ]
    },
    {
      "cell_type": "markdown",
      "source": [
        "# Loops "
      ],
      "metadata": {
        "id": "qOoNIcZVf3j1"
      }
    },
    {
      "cell_type": "code",
      "source": [
        "# Imprimir los valores de la lista A uno por uno\n",
        "A=[3,4,5]\n",
        "i = 0\n",
        "for i in A:\n",
        "    print(i)"
      ],
      "metadata": {
        "id": "0m6q2Zijf3XX",
        "outputId": "50c70a04-bd2b-4633-801c-d8cf4353eb1b",
        "colab": {
          "base_uri": "https://localhost:8080/"
        }
      },
      "execution_count": 150,
      "outputs": [
        {
          "output_type": "stream",
          "name": "stdout",
          "text": [
            "3\n",
            "4\n",
            "5\n"
          ]
        }
      ]
    },
    {
      "cell_type": "code",
      "source": [
        "# Valor para x \n",
        "x=11\n",
        "y=1\n",
        "while(y != x):\n",
        "    print(y)\n",
        "    y=y+1"
      ],
      "metadata": {
        "id": "8Om0B0gtczwT",
        "outputId": "aaebda43-7ae4-4a3e-e1dd-85f25d2e3980",
        "colab": {
          "base_uri": "https://localhost:8080/"
        }
      },
      "execution_count": 151,
      "outputs": [
        {
          "output_type": "stream",
          "name": "stdout",
          "text": [
            "1\n",
            "2\n",
            "3\n",
            "4\n",
            "5\n",
            "6\n",
            "7\n",
            "8\n",
            "9\n",
            "10\n"
          ]
        }
      ]
    },
    {
      "cell_type": "code",
      "source": [
        "# Imprimir fechas\n",
        "dates = [1982,1980,1973]\n",
        "N = len(dates)      # N se le asigna el valor del tama;o de la lista dates, N vale 3\n",
        "\n",
        "for i in range(N):  # i vale cero en un rango que vale N\n",
        "    print(dates[i])   # se imprime el contenido del indice que valga i"
      ],
      "metadata": {
        "id": "YQrX1I6Lgo-r",
        "colab": {
          "base_uri": "https://localhost:8080/"
        },
        "outputId": "8f97b3af-86ea-4378-c5f6-f1b98638a660"
      },
      "execution_count": 153,
      "outputs": [
        {
          "output_type": "stream",
          "name": "stdout",
          "text": [
            "1982\n",
            "1980\n",
            "1973\n"
          ]
        }
      ]
    },
    {
      "cell_type": "code",
      "source": [
        "# Se imprimen numeros del cero al 7\n",
        "\n",
        "for i in range(0, 8): # i se evalua entre 0 y 8 elementos desde el indice cero, es decir del 0 al 7 \n",
        "    print(i)          # se imprime el valor de i"
      ],
      "metadata": {
        "colab": {
          "base_uri": "https://localhost:8080/"
        },
        "id": "Cto-W361CRb8",
        "outputId": "6a96a0ba-48bf-4c02-8017-7619d19c4782"
      },
      "execution_count": 154,
      "outputs": [
        {
          "output_type": "stream",
          "name": "stdout",
          "text": [
            "0\n",
            "1\n",
            "2\n",
            "3\n",
            "4\n",
            "5\n",
            "6\n",
            "7\n"
          ]
        }
      ]
    },
    {
      "cell_type": "code",
      "source": [
        "# Impresion de a;os\n",
        "\n",
        "for year in dates:  # Similar al ejemplo anterior, pero la variable i se sustiye por 'years' y se ubica la lista 'dates' como rango\n",
        "    print(year)     # se imprime el a;o\n",
        "  "
      ],
      "metadata": {
        "colab": {
          "base_uri": "https://localhost:8080/"
        },
        "id": "OX9gFqwyCpVl",
        "outputId": "9daa8233-9610-406b-ad9f-b72bfb6662d1"
      },
      "execution_count": 155,
      "outputs": [
        {
          "output_type": "stream",
          "name": "stdout",
          "text": [
            "1982\n",
            "1980\n",
            "1973\n"
          ]
        }
      ]
    },
    {
      "cell_type": "code",
      "source": [
        "# Cambio de listas\n",
        "\n",
        "squares = ['red', 'yellow', 'green', 'purple', 'blue']  # Lista de 5 elemntos, index desde 0 hasta 4\n",
        "\n",
        "for i in range(0, 5):     # variable i, rango: 0,1,2,3,4\n",
        "    print(\"Before square \", i, 'is',  squares[i]) # Imprime el valor que tiene el indice i y el valor de la lista en el indice i\n",
        "    squares[i] = 'white'                          # En la lista cmbia el valor que hay en el indice i por 'white'\n",
        "    print(\"After square \", i, 'is',  squares[i])  # Imprime el valor de i y el valor que ahora tiene el indice en la lista i"
      ],
      "metadata": {
        "colab": {
          "base_uri": "https://localhost:8080/"
        },
        "id": "_Wks-hsqDFBX",
        "outputId": "8f3a98c0-eea3-442b-ed10-d6a690616987"
      },
      "execution_count": 156,
      "outputs": [
        {
          "output_type": "stream",
          "name": "stdout",
          "text": [
            "Before square  0 is red\n",
            "After square  0 is white\n",
            "Before square  1 is yellow\n",
            "After square  1 is white\n",
            "Before square  2 is green\n",
            "After square  2 is white\n",
            "Before square  3 is purple\n",
            "After square  3 is white\n",
            "Before square  4 is blue\n",
            "After square  4 is white\n"
          ]
        }
      ]
    },
    {
      "cell_type": "code",
      "source": [
        "# Imprimir index y contenido de la lista\n",
        "\n",
        "squares=['red', 'yellow', 'green', 'purple', 'blue']   # Lista de 5 elemntos, index desde 0 hasta 4\n",
        "\n",
        "for i, square in enumerate(squares):  # se inicializa la variable i y la variable 'square', se usa el metodo enumerare\n",
        "    print(i, square)    #imprime indice y contenido de la lista"
      ],
      "metadata": {
        "colab": {
          "base_uri": "https://localhost:8080/"
        },
        "id": "kP72mWY6DdpL",
        "outputId": "88ee4b0d-0177-41a3-81b2-6193bbdd6f02"
      },
      "execution_count": 174,
      "outputs": [
        {
          "output_type": "stream",
          "name": "stdout",
          "text": [
            "0 red\n",
            "1 yellow\n",
            "2 green\n",
            "3 purple\n",
            "4 blue\n"
          ]
        }
      ]
    },
    {
      "cell_type": "code",
      "source": [
        "# While Loop Example\n",
        "\n",
        "dates = [1982, 1980, 1973, 2000]\n",
        "\n",
        "i = 0\n",
        "year = dates[0]\n",
        "\n",
        "while(year != 1973):    \n",
        "    print(year)\n",
        "    i = i + 1\n",
        "    year = dates[i]\n",
        "    \n",
        "\n",
        "print(\"It took \", i ,\"repetitions to get out of loop.\")"
      ],
      "metadata": {
        "colab": {
          "base_uri": "https://localhost:8080/"
        },
        "id": "3JnqH9r-Ejwv",
        "outputId": "ca113c89-2b4b-4e0b-f7cd-4e0473891a0f"
      },
      "execution_count": 179,
      "outputs": [
        {
          "output_type": "stream",
          "name": "stdout",
          "text": [
            "1982\n",
            "1980\n",
            "It took  2 repetitions to get out of loop.\n"
          ]
        }
      ]
    },
    {
      "cell_type": "code",
      "source": [
        "# Write a for loop the prints out all the element between -5 and 5 using the range function\n",
        "for i in range(-5, 6): \n",
        "    print(i) "
      ],
      "metadata": {
        "colab": {
          "base_uri": "https://localhost:8080/"
        },
        "id": "b5x-WSD0G-Ra",
        "outputId": "8065cc43-fcc6-48f5-bfdd-9fa599240d80"
      },
      "execution_count": 176,
      "outputs": [
        {
          "output_type": "stream",
          "name": "stdout",
          "text": [
            "-5\n",
            "-4\n",
            "-3\n",
            "-2\n",
            "-1\n",
            "0\n",
            "1\n",
            "2\n",
            "3\n",
            "4\n",
            "5\n"
          ]
        }
      ]
    },
    {
      "cell_type": "code",
      "source": [
        "# Print the elements of the following list: Genres=[ 'rock', 'R&B', 'Soundtrack', 'R&B', 'soul', 'pop'] Make sure you follow Python conventions.\n",
        "Genres=[ 'rock', 'R&B', 'Soundtrack', 'R&B', 'soul', 'pop']\n",
        "\n",
        "for i in Genres: \n",
        "    print(i) "
      ],
      "metadata": {
        "colab": {
          "base_uri": "https://localhost:8080/"
        },
        "id": "ih_NWOK8HgQi",
        "outputId": "965cd3f8-0502-49db-e8f2-6b9892a3473e"
      },
      "execution_count": 177,
      "outputs": [
        {
          "output_type": "stream",
          "name": "stdout",
          "text": [
            "rock\n",
            "R&B\n",
            "Soundtrack\n",
            "R&B\n",
            "soul\n",
            "pop\n"
          ]
        }
      ]
    },
    {
      "cell_type": "code",
      "source": [
        "# Write a for loop that prints out the following list: squares=['red', 'yellow', 'green', 'purple', 'blue']\n",
        "squares=['red', 'yellow', 'green', 'purple', 'blue']\n",
        "\n",
        "for i in squares: \n",
        "    print(i)"
      ],
      "metadata": {
        "colab": {
          "base_uri": "https://localhost:8080/"
        },
        "id": "C4U7QTZcHxCn",
        "outputId": "ba239bcd-e731-4adb-8132-95658e758bf9"
      },
      "execution_count": 178,
      "outputs": [
        {
          "output_type": "stream",
          "name": "stdout",
          "text": [
            "red\n",
            "yellow\n",
            "green\n",
            "purple\n",
            "blue\n"
          ]
        }
      ]
    },
    {
      "cell_type": "code",
      "source": [
        "# Write a while loop to display the values of the Rating of an album playlist stored in the list PlayListRatings. If the score is less than 6, exit the loop. The list PlayListRatings is given by:\n",
        "PlayListRatings = [10, 9.5, 10, 8, 7.5, 5, 10, 10]\n",
        "i = 0\n",
        "Rating = PlayListRatings[0]\n",
        "while(i < len(PlayListRatings) and Rating >= 6):\n",
        "    print(Rating)\n",
        "    i = i + 1 # This prints the value 10 only once \n",
        "    Rating = PlayListRatings[i]\n",
        "    i = i + 1 #Try uncommenting the line and comment the previous i = i + 1, and see the difference, 10 value will get printed twice because when the loop starts it will print Rating and then with PlayListRatings[0], it will again assign the value 10 to Ratings.\n"
      ],
      "metadata": {
        "colab": {
          "base_uri": "https://localhost:8080/"
        },
        "id": "BJG6ObbzINDd",
        "outputId": "ff61bead-11bd-4438-d1c6-855451b0b2ae"
      },
      "execution_count": 180,
      "outputs": [
        {
          "output_type": "stream",
          "name": "stdout",
          "text": [
            "10\n",
            "9.5\n",
            "8\n"
          ]
        }
      ]
    },
    {
      "cell_type": "code",
      "source": [
        "# Write a while loop to copy the strings 'orange' of the list squares to the list new_squares. Stop and exit the loop if the value on the list is not 'orange'\n",
        "squares = ['orange', 'orange', 'purple', 'blue ', 'orange']\n",
        "new_squares = []\n",
        "i = 0\n",
        "while(i < len(squares) and squares[i] == 'orange'):\n",
        "    new_squares.append(squares[i])\n",
        "    i = i + 1\n",
        "print (new_squares)"
      ],
      "metadata": {
        "colab": {
          "base_uri": "https://localhost:8080/"
        },
        "id": "I5Bt0XEsLrly",
        "outputId": "405eacad-5ea8-42e8-d740-a284dadbc8a2"
      },
      "execution_count": 181,
      "outputs": [
        {
          "output_type": "stream",
          "name": "stdout",
          "text": [
            "['orange', 'orange']\n"
          ]
        }
      ]
    },
    {
      "cell_type": "code",
      "source": [],
      "metadata": {
        "id": "2RlmjZWkLyYY"
      },
      "execution_count": null,
      "outputs": []
    }
  ]
}