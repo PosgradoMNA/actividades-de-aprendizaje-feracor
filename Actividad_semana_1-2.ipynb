{
  "nbformat": 4,
  "nbformat_minor": 0,
  "metadata": {
    "colab": {
      "provenance": [],
      "authorship_tag": "ABX9TyNEaWeGyS4aO/mr9qCVZLrs",
      "include_colab_link": true
    },
    "kernelspec": {
      "name": "python3",
      "display_name": "Python 3"
    },
    "language_info": {
      "name": "python"
    }
  },
  "cells": [
    {
      "cell_type": "markdown",
      "metadata": {
        "id": "view-in-github",
        "colab_type": "text"
      },
      "source": [
        "<a href=\"https://colab.research.google.com/github/PosgradoMNA/actividades-de-aprendizaje-feracor/blob/main/Actividad_semana_1-2.ipynb\" target=\"_parent\"><img src=\"https://colab.research.google.com/assets/colab-badge.svg\" alt=\"Open In Colab\"/></a>"
      ]
    },
    {
      "cell_type": "markdown",
      "source": [
        "**Fernando Acevedo Ortegate - Tecnologico de Monterrey - A01794022**"
      ],
      "metadata": {
        "id": "YoWedGi68p3_"
      }
    },
    {
      "cell_type": "markdown",
      "source": [
        "Your First Program"
      ],
      "metadata": {
        "id": "HiFncSho-OVz"
      }
    },
    {
      "cell_type": "code",
      "execution_count": 42,
      "metadata": {
        "id": "ZvaWqoH068wQ",
        "colab": {
          "base_uri": "https://localhost:8080/"
        },
        "outputId": "dda71be8-1353-4d38-daba-6baf2844b821"
      },
      "outputs": [
        {
          "output_type": "stream",
          "name": "stdout",
          "text": [
            "Hello \n",
            "world!\n"
          ]
        }
      ],
      "source": [
        "print ('Hello \\nworld!')"
      ]
    },
    {
      "cell_type": "code",
      "source": [
        "# print('Hello World!')"
      ],
      "metadata": {
        "id": "pDit0VQS8pJ0"
      },
      "execution_count": 43,
      "outputs": []
    },
    {
      "cell_type": "markdown",
      "source": [
        "Types"
      ],
      "metadata": {
        "id": "YLnwl0t2-hRq"
      }
    },
    {
      "cell_type": "code",
      "source": [
        " type(int(1.0))"
      ],
      "metadata": {
        "colab": {
          "base_uri": "https://localhost:8080/"
        },
        "id": "TcP3WQj6-pe1",
        "outputId": "56170345-f632-4757-c66c-83b99fe959a2"
      },
      "execution_count": 44,
      "outputs": [
        {
          "output_type": "execute_result",
          "data": {
            "text/plain": [
              "int"
            ]
          },
          "metadata": {},
          "execution_count": 44
        }
      ]
    },
    {
      "cell_type": "code",
      "source": [
        "bool(1)"
      ],
      "metadata": {
        "colab": {
          "base_uri": "https://localhost:8080/"
        },
        "id": "mU0zLaiH-p7C",
        "outputId": "a4653d23-4118-4d2e-f6f1-72200b030533"
      },
      "execution_count": 45,
      "outputs": [
        {
          "output_type": "execute_result",
          "data": {
            "text/plain": [
              "True"
            ]
          },
          "metadata": {},
          "execution_count": 45
        }
      ]
    },
    {
      "cell_type": "markdown",
      "source": [
        "**Expressions and Variables**"
      ],
      "metadata": {
        "id": "7_kFTXlsBgQw"
      }
    },
    {
      "cell_type": "code",
      "source": [
        "43+60+16+41"
      ],
      "metadata": {
        "colab": {
          "base_uri": "https://localhost:8080/"
        },
        "id": "mUGbrHvXBfdg",
        "outputId": "0cb35853-5ef1-4867-b519-b5d93ad69f7e"
      },
      "execution_count": 46,
      "outputs": [
        {
          "output_type": "execute_result",
          "data": {
            "text/plain": [
              "160"
            ]
          },
          "metadata": {},
          "execution_count": 46
        }
      ]
    },
    {
      "cell_type": "code",
      "source": [
        "25/5"
      ],
      "metadata": {
        "colab": {
          "base_uri": "https://localhost:8080/"
        },
        "id": "NCxgY3RABvdj",
        "outputId": "7049aea7-b05f-468e-fdb2-542f70740a89"
      },
      "execution_count": 47,
      "outputs": [
        {
          "output_type": "execute_result",
          "data": {
            "text/plain": [
              "5.0"
            ]
          },
          "metadata": {},
          "execution_count": 47
        }
      ]
    },
    {
      "cell_type": "code",
      "source": [
        "2*60+30"
      ],
      "metadata": {
        "colab": {
          "base_uri": "https://localhost:8080/"
        },
        "id": "c0nfB9QdB3yS",
        "outputId": "96b6f501-9a57-4ec6-cbe2-dcc25f911421"
      },
      "execution_count": 48,
      "outputs": [
        {
          "output_type": "execute_result",
          "data": {
            "text/plain": [
              "150"
            ]
          },
          "metadata": {},
          "execution_count": 48
        }
      ]
    },
    {
      "cell_type": "code",
      "source": [
        "(30+2)*60"
      ],
      "metadata": {
        "colab": {
          "base_uri": "https://localhost:8080/"
        },
        "id": "tsIOx81PB8OW",
        "outputId": "3b1f7e2b-76d1-4f70-a099-5f04463b8042"
      },
      "execution_count": 49,
      "outputs": [
        {
          "output_type": "execute_result",
          "data": {
            "text/plain": [
              "1920"
            ]
          },
          "metadata": {},
          "execution_count": 49
        }
      ]
    },
    {
      "cell_type": "code",
      "source": [
        "my_var = 5\n",
        "print (my_var)"
      ],
      "metadata": {
        "colab": {
          "base_uri": "https://localhost:8080/"
        },
        "id": "1LbA6dkbCEjO",
        "outputId": "8b614dff-725a-420e-df1e-e020e270c732"
      },
      "execution_count": 50,
      "outputs": [
        {
          "output_type": "stream",
          "name": "stdout",
          "text": [
            "5\n"
          ]
        }
      ]
    },
    {
      "cell_type": "code",
      "source": [
        "x = 43+60+16+41\n",
        "print (x)"
      ],
      "metadata": {
        "colab": {
          "base_uri": "https://localhost:8080/"
        },
        "id": "QhVf4hGaC-bM",
        "outputId": "0b6febaa-1dec-4e48-94de-d818d59a50f7"
      },
      "execution_count": 51,
      "outputs": [
        {
          "output_type": "stream",
          "name": "stdout",
          "text": [
            "160\n"
          ]
        }
      ]
    },
    {
      "cell_type": "code",
      "source": [
        "  y = x/60\n",
        "  print (y)"
      ],
      "metadata": {
        "colab": {
          "base_uri": "https://localhost:8080/"
        },
        "id": "gRvJzjI-C-0R",
        "outputId": "a7190194-f7c0-43c3-a8bd-b16fb572d743"
      },
      "execution_count": 52,
      "outputs": [
        {
          "output_type": "stream",
          "name": "stdout",
          "text": [
            "2.6666666666666665\n"
          ]
        }
      ]
    },
    {
      "cell_type": "code",
      "source": [
        "total_min = 43+42\n",
        "total_hr = total_min/60\n",
        "print (total_hr)"
      ],
      "metadata": {
        "colab": {
          "base_uri": "https://localhost:8080/"
        },
        "id": "p_a5C2ChC-7p",
        "outputId": "a2ec9d59-d6f7-4352-d034-78ae6c4c055d"
      },
      "execution_count": 53,
      "outputs": [
        {
          "output_type": "stream",
          "name": "stdout",
          "text": [
            "1.4166666666666667\n"
          ]
        }
      ]
    },
    {
      "cell_type": "markdown",
      "source": [
        "Lab - Write Your First Python Code!"
      ],
      "metadata": {
        "id": "OdGBEm8WC_KE"
      }
    },
    {
      "cell_type": "code",
      "source": [
        "import sys\n",
        "print(sys.version)"
      ],
      "metadata": {
        "colab": {
          "base_uri": "https://localhost:8080/"
        },
        "id": "8SZFsPwdC_Ac",
        "outputId": "6ab2765e-f0bd-440f-de28-4f4f507d88a4"
      },
      "execution_count": 54,
      "outputs": [
        {
          "output_type": "stream",
          "name": "stdout",
          "text": [
            "3.7.14 (default, Sep  8 2022, 00:06:44) \n",
            "[GCC 7.5.0]\n"
          ]
        }
      ]
    },
    {
      "cell_type": "code",
      "source": [
        "# Practice on writing comments\n",
        "\n",
        "print('Hi Fernando!') # This line prints a string\n",
        "# print('Hi')"
      ],
      "metadata": {
        "colab": {
          "base_uri": "https://localhost:8080/"
        },
        "id": "FaXyickoC_EH",
        "outputId": "5eee97c1-0b2c-4a10-f1c5-7dda08446f72"
      },
      "execution_count": 55,
      "outputs": [
        {
          "output_type": "stream",
          "name": "stdout",
          "text": [
            "Hi Fernando!\n"
          ]
        }
      ]
    },
    {
      "cell_type": "code",
      "source": [
        "# Practice on writing comments\n",
        "\n",
        "print('Hi!') # This line prints a string\n",
        "# print('Hi')"
      ],
      "metadata": {
        "colab": {
          "base_uri": "https://localhost:8080/"
        },
        "id": "0LflkznvC_HC",
        "outputId": "773abf99-c413-4b86-ef53-6f2563adae11"
      },
      "execution_count": 56,
      "outputs": [
        {
          "output_type": "stream",
          "name": "stdout",
          "text": [
            "Hi!\n"
          ]
        }
      ]
    },
    {
      "cell_type": "code",
      "source": [
        "type(12.0)"
      ],
      "metadata": {
        "colab": {
          "base_uri": "https://localhost:8080/"
        },
        "id": "4GsmicU9DEBM",
        "outputId": "eba9b606-5a54-4c0e-cb09-b7bb2198ab0a"
      },
      "execution_count": 57,
      "outputs": [
        {
          "output_type": "execute_result",
          "data": {
            "text/plain": [
              "float"
            ]
          },
          "metadata": {},
          "execution_count": 57
        }
      ]
    },
    {
      "cell_type": "code",
      "source": [
        "sys.float_info"
      ],
      "metadata": {
        "colab": {
          "base_uri": "https://localhost:8080/"
        },
        "id": "XFz8IpJfDEs0",
        "outputId": "67ab30b8-2a20-4f60-da98-3738be4c4156"
      },
      "execution_count": 58,
      "outputs": [
        {
          "output_type": "execute_result",
          "data": {
            "text/plain": [
              "sys.float_info(max=1.7976931348623157e+308, max_exp=1024, max_10_exp=308, min=2.2250738585072014e-308, min_exp=-1021, min_10_exp=-307, dig=15, mant_dig=53, epsilon=2.220446049250313e-16, radix=2, rounds=1)"
            ]
          },
          "metadata": {},
          "execution_count": 58
        }
      ]
    },
    {
      "cell_type": "code",
      "source": [
        "float(True)"
      ],
      "metadata": {
        "colab": {
          "base_uri": "https://localhost:8080/"
        },
        "id": "qZFoPhk5DE7B",
        "outputId": "97ca510c-a4c8-4934-93d7-093865240c2d"
      },
      "execution_count": 59,
      "outputs": [
        {
          "output_type": "execute_result",
          "data": {
            "text/plain": [
              "1.0"
            ]
          },
          "metadata": {},
          "execution_count": 59
        }
      ]
    },
    {
      "cell_type": "code",
      "source": [
        "bool(2)"
      ],
      "metadata": {
        "colab": {
          "base_uri": "https://localhost:8080/"
        },
        "id": "xc-BhhAxDFgO",
        "outputId": "e2d8dc67-9a3f-474d-afc0-753b6bcd4609"
      },
      "execution_count": 60,
      "outputs": [
        {
          "output_type": "execute_result",
          "data": {
            "text/plain": [
              "True"
            ]
          },
          "metadata": {},
          "execution_count": 60
        }
      ]
    },
    {
      "cell_type": "code",
      "source": [
        "type(6/2)"
      ],
      "metadata": {
        "colab": {
          "base_uri": "https://localhost:8080/"
        },
        "id": "jSHC1UHlDGT6",
        "outputId": "26ff2537-07d8-46e6-e0fe-d294b5095d47"
      },
      "execution_count": 61,
      "outputs": [
        {
          "output_type": "execute_result",
          "data": {
            "text/plain": [
              "float"
            ]
          },
          "metadata": {},
          "execution_count": 61
        }
      ]
    },
    {
      "cell_type": "markdown",
      "source": [],
      "metadata": {
        "id": "Cy22da0qC_25"
      }
    },
    {
      "cell_type": "code",
      "source": [
        "type(6//2)"
      ],
      "metadata": {
        "id": "odFyg95bPtXL",
        "outputId": "57934115-0a7b-4e9f-f0ee-aa4ada8195d0",
        "colab": {
          "base_uri": "https://localhost:8080/"
        }
      },
      "execution_count": 62,
      "outputs": [
        {
          "output_type": "execute_result",
          "data": {
            "text/plain": [
              "int"
            ]
          },
          "metadata": {},
          "execution_count": 62
        }
      ]
    },
    {
      "cell_type": "markdown",
      "source": [
        "**String Operations**"
      ],
      "metadata": {
        "id": "3t3g8VPAPtsq"
      }
    },
    {
      "cell_type": "code",
      "source": [
        "name = \"Michael Jackson\"\n",
        "name"
      ],
      "metadata": {
        "colab": {
          "base_uri": "https://localhost:8080/",
          "height": 36
        },
        "id": "88xubZcJpp4v",
        "outputId": "55d03959-0f6c-4db6-9911-b5c0fe0bce0a"
      },
      "execution_count": 63,
      "outputs": [
        {
          "output_type": "execute_result",
          "data": {
            "text/plain": [
              "'Michael Jackson'"
            ],
            "application/vnd.google.colaboratory.intrinsic+json": {
              "type": "string"
            }
          },
          "metadata": {},
          "execution_count": 63
        }
      ]
    },
    {
      "cell_type": "code",
      "source": [
        "name[-1]"
      ],
      "metadata": {
        "colab": {
          "base_uri": "https://localhost:8080/",
          "height": 36
        },
        "id": "WOanEG7RpqEF",
        "outputId": "d0e6f188-2e7b-4844-b45c-edceeb99a5b8"
      },
      "execution_count": 64,
      "outputs": [
        {
          "output_type": "execute_result",
          "data": {
            "text/plain": [
              "'n'"
            ],
            "application/vnd.google.colaboratory.intrinsic+json": {
              "type": "string"
            }
          },
          "metadata": {},
          "execution_count": 64
        }
      ]
    },
    {
      "cell_type": "code",
      "source": [
        "name[0]"
      ],
      "metadata": {
        "colab": {
          "base_uri": "https://localhost:8080/",
          "height": 36
        },
        "id": "K3wYIZ6tpqKk",
        "outputId": "88e9fc63-549d-456a-fbb9-cfc48c1431b6"
      },
      "execution_count": 65,
      "outputs": [
        {
          "output_type": "execute_result",
          "data": {
            "text/plain": [
              "'M'"
            ],
            "application/vnd.google.colaboratory.intrinsic+json": {
              "type": "string"
            }
          },
          "metadata": {},
          "execution_count": 65
        }
      ]
    },
    {
      "cell_type": "code",
      "source": [
        "name[0:4]"
      ],
      "metadata": {
        "colab": {
          "base_uri": "https://localhost:8080/",
          "height": 36
        },
        "id": "Ioa9MH9_pqQc",
        "outputId": "ed81956b-7e08-4050-ac9a-fe806ce0534d"
      },
      "execution_count": 66,
      "outputs": [
        {
          "output_type": "execute_result",
          "data": {
            "text/plain": [
              "'Mich'"
            ],
            "application/vnd.google.colaboratory.intrinsic+json": {
              "type": "string"
            }
          },
          "metadata": {},
          "execution_count": 66
        }
      ]
    },
    {
      "cell_type": "code",
      "source": [
        "name[8:12]"
      ],
      "metadata": {
        "colab": {
          "base_uri": "https://localhost:8080/",
          "height": 36
        },
        "id": "g8_S-A1-pqVe",
        "outputId": "429d43e5-56f3-429d-e5b1-5d84e3d22776"
      },
      "execution_count": 67,
      "outputs": [
        {
          "output_type": "execute_result",
          "data": {
            "text/plain": [
              "'Jack'"
            ],
            "application/vnd.google.colaboratory.intrinsic+json": {
              "type": "string"
            }
          },
          "metadata": {},
          "execution_count": 67
        }
      ]
    },
    {
      "cell_type": "code",
      "source": [
        "name[::2]"
      ],
      "metadata": {
        "colab": {
          "base_uri": "https://localhost:8080/",
          "height": 36
        },
        "id": "orNyM7HhpqaL",
        "outputId": "cd3a4dfb-b067-411b-f36e-c5b2bc1fa4a7"
      },
      "execution_count": 68,
      "outputs": [
        {
          "output_type": "execute_result",
          "data": {
            "text/plain": [
              "'McalJcsn'"
            ],
            "application/vnd.google.colaboratory.intrinsic+json": {
              "type": "string"
            }
          },
          "metadata": {},
          "execution_count": 68
        }
      ]
    },
    {
      "cell_type": "code",
      "source": [
        "name[::3]"
      ],
      "metadata": {
        "colab": {
          "base_uri": "https://localhost:8080/",
          "height": 36
        },
        "id": "IAZWIqNApqfX",
        "outputId": "b2d47216-4249-49b4-a6bc-bc989a1e0c5e"
      },
      "execution_count": 69,
      "outputs": [
        {
          "output_type": "execute_result",
          "data": {
            "text/plain": [
              "'Mhlas'"
            ],
            "application/vnd.google.colaboratory.intrinsic+json": {
              "type": "string"
            }
          },
          "metadata": {},
          "execution_count": 69
        }
      ]
    },
    {
      "cell_type": "code",
      "source": [
        "name[0:5:2]"
      ],
      "metadata": {
        "id": "alOG8ZiiPtx0",
        "colab": {
          "base_uri": "https://localhost:8080/",
          "height": 36
        },
        "outputId": "204929e3-758c-4a13-9e88-d074a756b805"
      },
      "execution_count": 70,
      "outputs": [
        {
          "output_type": "execute_result",
          "data": {
            "text/plain": [
              "'Mca'"
            ],
            "application/vnd.google.colaboratory.intrinsic+json": {
              "type": "string"
            }
          },
          "metadata": {},
          "execution_count": 70
        }
      ]
    },
    {
      "cell_type": "code",
      "source": [
        "len(name)"
      ],
      "metadata": {
        "id": "6gfVp43hPt3h",
        "colab": {
          "base_uri": "https://localhost:8080/"
        },
        "outputId": "ffa633c9-2f38-492d-f4fd-91c59d26e2bc"
      },
      "execution_count": 71,
      "outputs": [
        {
          "output_type": "execute_result",
          "data": {
            "text/plain": [
              "15"
            ]
          },
          "metadata": {},
          "execution_count": 71
        }
      ]
    },
    {
      "cell_type": "code",
      "source": [
        "statet = name + \" is the best\"\n",
        "statet"
      ],
      "metadata": {
        "colab": {
          "base_uri": "https://localhost:8080/",
          "height": 36
        },
        "id": "46FTTNcbrUpr",
        "outputId": "c689c861-3804-47ef-efa0-3c38deb6565a"
      },
      "execution_count": 72,
      "outputs": [
        {
          "output_type": "execute_result",
          "data": {
            "text/plain": [
              "'Michael Jackson is the best'"
            ],
            "application/vnd.google.colaboratory.intrinsic+json": {
              "type": "string"
            }
          },
          "metadata": {},
          "execution_count": 72
        }
      ]
    },
    {
      "cell_type": "code",
      "source": [
        "3* \"Michael Jackson \""
      ],
      "metadata": {
        "colab": {
          "base_uri": "https://localhost:8080/",
          "height": 36
        },
        "id": "FktfclBkrU4f",
        "outputId": "bffaa4fa-bc6a-4d64-a672-8b06195baf47"
      },
      "execution_count": 73,
      "outputs": [
        {
          "output_type": "execute_result",
          "data": {
            "text/plain": [
              "'Michael Jackson Michael Jackson Michael Jackson '"
            ],
            "application/vnd.google.colaboratory.intrinsic+json": {
              "type": "string"
            }
          },
          "metadata": {},
          "execution_count": 73
        }
      ]
    },
    {
      "cell_type": "code",
      "source": [
        "name =  name + \" is the best\"\n",
        "name"
      ],
      "metadata": {
        "colab": {
          "base_uri": "https://localhost:8080/",
          "height": 36
        },
        "id": "Bv1Nxxx9rVAN",
        "outputId": "826afa70-d402-43a7-d991-df59912ab85f"
      },
      "execution_count": 74,
      "outputs": [
        {
          "output_type": "execute_result",
          "data": {
            "text/plain": [
              "'Michael Jackson is the best'"
            ],
            "application/vnd.google.colaboratory.intrinsic+json": {
              "type": "string"
            }
          },
          "metadata": {},
          "execution_count": 74
        }
      ]
    },
    {
      "cell_type": "code",
      "source": [
        "print(\"Michael Jackson \\n is the best\")"
      ],
      "metadata": {
        "colab": {
          "base_uri": "https://localhost:8080/"
        },
        "id": "5fS-29IjrVGM",
        "outputId": "60aa6900-ded7-4d5f-a4e7-a1bcc9e5cf29"
      },
      "execution_count": 75,
      "outputs": [
        {
          "output_type": "stream",
          "name": "stdout",
          "text": [
            "Michael Jackson \n",
            " is the best\n"
          ]
        }
      ]
    },
    {
      "cell_type": "code",
      "source": [
        "print(\"Michael Jackson \\t is the best\")"
      ],
      "metadata": {
        "colab": {
          "base_uri": "https://localhost:8080/"
        },
        "id": "0cbUp-KgrVLw",
        "outputId": "c7e1af99-44e8-44eb-da07-d5abd1a415b3"
      },
      "execution_count": 76,
      "outputs": [
        {
          "output_type": "stream",
          "name": "stdout",
          "text": [
            "Michael Jackson \t is the best\n"
          ]
        }
      ]
    },
    {
      "cell_type": "code",
      "source": [
        "print(\"Michael Jackson \\\\ is the best\")"
      ],
      "metadata": {
        "colab": {
          "base_uri": "https://localhost:8080/"
        },
        "id": "uXdYo4c5rVQy",
        "outputId": "3981af0d-f240-4736-f590-fb46df88d7de"
      },
      "execution_count": 77,
      "outputs": [
        {
          "output_type": "stream",
          "name": "stdout",
          "text": [
            "Michael Jackson \\ is the best\n"
          ]
        }
      ]
    },
    {
      "cell_type": "code",
      "source": [
        "print(r\"Michael Jackson \\ is the best\")"
      ],
      "metadata": {
        "colab": {
          "base_uri": "https://localhost:8080/"
        },
        "id": "pRIWTtPTrVV5",
        "outputId": "19a26118-6aa2-4490-c8fe-a0c7c10f1950"
      },
      "execution_count": 78,
      "outputs": [
        {
          "output_type": "stream",
          "name": "stdout",
          "text": [
            "Michael Jackson \\ is the best\n"
          ]
        }
      ]
    },
    {
      "cell_type": "code",
      "source": [
        "print(\"Michael Jackson \\ is the best\")"
      ],
      "metadata": {
        "colab": {
          "base_uri": "https://localhost:8080/"
        },
        "id": "6YxW6b9yrVaO",
        "outputId": "79b10709-0225-4752-912c-14587141c30e"
      },
      "execution_count": 79,
      "outputs": [
        {
          "output_type": "stream",
          "name": "stdout",
          "text": [
            "Michael Jackson \\ is the best\n"
          ]
        }
      ]
    },
    {
      "cell_type": "code",
      "source": [
        "#Methods\n",
        "A = \"Thriller is the sixth studio album\"\n",
        "B = A.upper()\n",
        "B"
      ],
      "metadata": {
        "colab": {
          "base_uri": "https://localhost:8080/",
          "height": 36
        },
        "id": "DO6JCe6OrVeh",
        "outputId": "8f0385d2-be3e-48cd-91f1-efa7e2dc2709"
      },
      "execution_count": 80,
      "outputs": [
        {
          "output_type": "execute_result",
          "data": {
            "text/plain": [
              "'THRILLER IS THE SIXTH STUDIO ALBUM'"
            ],
            "application/vnd.google.colaboratory.intrinsic+json": {
              "type": "string"
            }
          },
          "metadata": {},
          "execution_count": 80
        }
      ]
    },
    {
      "cell_type": "code",
      "source": [
        "B = name.replace(\"Michael\",\"Janet\")\n",
        "B"
      ],
      "metadata": {
        "colab": {
          "base_uri": "https://localhost:8080/",
          "height": 36
        },
        "id": "rNbmBt8qrViO",
        "outputId": "75902738-2835-4f0e-93a5-2fe21a663879"
      },
      "execution_count": 81,
      "outputs": [
        {
          "output_type": "execute_result",
          "data": {
            "text/plain": [
              "'Janet Jackson is the best'"
            ],
            "application/vnd.google.colaboratory.intrinsic+json": {
              "type": "string"
            }
          },
          "metadata": {},
          "execution_count": 81
        }
      ]
    },
    {
      "cell_type": "code",
      "source": [
        "name"
      ],
      "metadata": {
        "colab": {
          "base_uri": "https://localhost:8080/",
          "height": 36
        },
        "id": "gLyMukj0rVmD",
        "outputId": "412b81c6-eac1-4bd1-d2f0-026017652153"
      },
      "execution_count": 82,
      "outputs": [
        {
          "output_type": "execute_result",
          "data": {
            "text/plain": [
              "'Michael Jackson is the best'"
            ],
            "application/vnd.google.colaboratory.intrinsic+json": {
              "type": "string"
            }
          },
          "metadata": {},
          "execution_count": 82
        }
      ]
    },
    {
      "cell_type": "code",
      "source": [
        "name.find(\"el\")"
      ],
      "metadata": {
        "colab": {
          "base_uri": "https://localhost:8080/"
        },
        "id": "WWt0kOiRrVpd",
        "outputId": "889e9d32-df5f-41e6-b9a2-a9b46dbc0d7b"
      },
      "execution_count": 83,
      "outputs": [
        {
          "output_type": "execute_result",
          "data": {
            "text/plain": [
              "5"
            ]
          },
          "metadata": {},
          "execution_count": 83
        }
      ]
    },
    {
      "cell_type": "code",
      "source": [
        " name.find(\"Jack\")"
      ],
      "metadata": {
        "colab": {
          "base_uri": "https://localhost:8080/"
        },
        "id": "TfB88thxrVs0",
        "outputId": "614ce974-54c0-49df-df99-0c8c36d1ef3f"
      },
      "execution_count": 84,
      "outputs": [
        {
          "output_type": "execute_result",
          "data": {
            "text/plain": [
              "8"
            ]
          },
          "metadata": {},
          "execution_count": 84
        }
      ]
    },
    {
      "cell_type": "code",
      "source": [
        "name.find(\"%3\")"
      ],
      "metadata": {
        "colab": {
          "base_uri": "https://localhost:8080/"
        },
        "id": "CXKixPderVwg",
        "outputId": "66929bb9-f266-494b-d9d3-2ca2f5a1df4b"
      },
      "execution_count": 85,
      "outputs": [
        {
          "output_type": "execute_result",
          "data": {
            "text/plain": [
              "-1"
            ]
          },
          "metadata": {},
          "execution_count": 85
        }
      ]
    },
    {
      "cell_type": "code",
      "source": [
        "Numbers = \"0123456\"\n",
        "Numbers[::2]"
      ],
      "metadata": {
        "colab": {
          "base_uri": "https://localhost:8080/",
          "height": 36
        },
        "id": "u87bHWIbrV0U",
        "outputId": "f7877490-0cbb-4b65-c6a4-6ab099ed7f4b"
      },
      "execution_count": 86,
      "outputs": [
        {
          "output_type": "execute_result",
          "data": {
            "text/plain": [
              "'0246'"
            ],
            "application/vnd.google.colaboratory.intrinsic+json": {
              "type": "string"
            }
          },
          "metadata": {},
          "execution_count": 86
        }
      ]
    },
    {
      "cell_type": "code",
      "source": [
        "\"0123456\".find('1')"
      ],
      "metadata": {
        "colab": {
          "base_uri": "https://localhost:8080/"
        },
        "id": "8rZa4F73rV4X",
        "outputId": "a5492529-3e13-4c25-938f-520c13ad8922"
      },
      "execution_count": 87,
      "outputs": [
        {
          "output_type": "execute_result",
          "data": {
            "text/plain": [
              "1"
            ]
          },
          "metadata": {},
          "execution_count": 87
        }
      ]
    },
    {
      "cell_type": "code",
      "source": [
        "name = 'abcdef'\n",
        "print(name[0:2])"
      ],
      "metadata": {
        "colab": {
          "base_uri": "https://localhost:8080/"
        },
        "id": "66JQRvO3rV9y",
        "outputId": "b1630ccb-2146-457c-f613-cdc795160e54"
      },
      "execution_count": 88,
      "outputs": [
        {
          "output_type": "stream",
          "name": "stdout",
          "text": [
            "ab\n"
          ]
        }
      ]
    },
    {
      "cell_type": "code",
      "source": [
        "var = '01234567'\n",
        "print(var[::2])"
      ],
      "metadata": {
        "colab": {
          "base_uri": "https://localhost:8080/"
        },
        "id": "ei7X5LDVrWD9",
        "outputId": "fa0d31b4-53ff-4873-905b-349e2438e1ef"
      },
      "execution_count": 89,
      "outputs": [
        {
          "output_type": "stream",
          "name": "stdout",
          "text": [
            "0246\n"
          ]
        }
      ]
    },
    {
      "cell_type": "code",
      "source": [
        "d = \"ABCDEFG\"\n",
        "d[0:3]"
      ],
      "metadata": {
        "colab": {
          "base_uri": "https://localhost:8080/",
          "height": 36
        },
        "id": "GORNfjOmrWIp",
        "outputId": "dc8a3bf4-48ea-44ed-deb5-e3c320299880"
      },
      "execution_count": 90,
      "outputs": [
        {
          "output_type": "execute_result",
          "data": {
            "text/plain": [
              "'ABC'"
            ],
            "application/vnd.google.colaboratory.intrinsic+json": {
              "type": "string"
            }
          },
          "metadata": {},
          "execution_count": 90
        }
      ]
    },
    {
      "cell_type": "code",
      "source": [
        "e = 'clocrkr1e1c1t'\n",
        "e[::2]"
      ],
      "metadata": {
        "colab": {
          "base_uri": "https://localhost:8080/",
          "height": 36
        },
        "id": "p0odE1eD7lAs",
        "outputId": "5d2fdd56-b58a-4cf8-9ceb-2c783c97060d"
      },
      "execution_count": 91,
      "outputs": [
        {
          "output_type": "execute_result",
          "data": {
            "text/plain": [
              "'correct'"
            ],
            "application/vnd.google.colaboratory.intrinsic+json": {
              "type": "string"
            }
          },
          "metadata": {},
          "execution_count": 91
        }
      ]
    },
    {
      "cell_type": "code",
      "source": [
        "g = \"Mary had a little lamb Little lamb, little lamb Mary had a little lamb \\\n",
        "Its fleece was white as snow And everywhere that Mary went Mary went, Mary went \\\n",
        "Everywhere that Mary went The lamb was sure to go\"\n",
        "g.find('snow')"
      ],
      "metadata": {
        "colab": {
          "base_uri": "https://localhost:8080/"
        },
        "id": "QjG7NQ417nWZ",
        "outputId": "d3d54d2f-db86-44d7-aae1-bfbaf4dbba62"
      },
      "execution_count": 92,
      "outputs": [
        {
          "output_type": "execute_result",
          "data": {
            "text/plain": [
              "95"
            ]
          },
          "metadata": {},
          "execution_count": 92
        }
      ]
    },
    {
      "cell_type": "code",
      "source": [
        "g.replace(\"Mary\", \"Bob\")"
      ],
      "metadata": {
        "colab": {
          "base_uri": "https://localhost:8080/",
          "height": 53
        },
        "id": "-b0w4jiR-ac1",
        "outputId": "9d883ce1-43a2-43d9-d72b-3be471051ace"
      },
      "execution_count": 93,
      "outputs": [
        {
          "output_type": "execute_result",
          "data": {
            "text/plain": [
              "'Bob had a little lamb Little lamb, little lamb Bob had a little lamb Its fleece was white as snow And everywhere that Bob went Bob went, Bob went Everywhere that Bob went The lamb was sure to go'"
            ],
            "application/vnd.google.colaboratory.intrinsic+json": {
              "type": "string"
            }
          },
          "metadata": {},
          "execution_count": 93
        }
      ]
    },
    {
      "cell_type": "markdown",
      "source": [
        "**Lists and Tuples**"
      ],
      "metadata": {
        "id": "pQ1Cu5Kx-fL0"
      }
    },
    {
      "cell_type": "code",
      "source": [
        "A=(0,1,2,3)\n",
        "A[-1]"
      ],
      "metadata": {
        "id": "oUVr0OjMd5d2",
        "outputId": "02a98172-8d99-4b9b-cc29-fe953c7b39b0",
        "colab": {
          "base_uri": "https://localhost:8080/"
        }
      },
      "execution_count": 94,
      "outputs": [
        {
          "output_type": "execute_result",
          "data": {
            "text/plain": [
              "3"
            ]
          },
          "metadata": {},
          "execution_count": 94
        }
      ]
    },
    {
      "cell_type": "code",
      "source": [
        "B=[\"a\",\"b\",\"c\"]\n",
        "B[1:]\n"
      ],
      "metadata": {
        "id": "4j4FKig7d8EI",
        "outputId": "f003210f-cac4-40c6-98bc-d6b9207cf23b",
        "colab": {
          "base_uri": "https://localhost:8080/"
        }
      },
      "execution_count": 95,
      "outputs": [
        {
          "output_type": "execute_result",
          "data": {
            "text/plain": [
              "['b', 'c']"
            ]
          },
          "metadata": {},
          "execution_count": 95
        }
      ]
    },
    {
      "cell_type": "code",
      "source": [
        "A = (0,1,2,3) #crear tupla\n",
        "A"
      ],
      "metadata": {
        "id": "RdKpm6Bjd8Ja",
        "outputId": "57859e76-d771-4315-b319-90386697a1a0",
        "colab": {
          "base_uri": "https://localhost:8080/"
        }
      },
      "execution_count": 96,
      "outputs": [
        {
          "output_type": "execute_result",
          "data": {
            "text/plain": [
              "(0, 1, 2, 3)"
            ]
          },
          "metadata": {},
          "execution_count": 96
        }
      ]
    },
    {
      "cell_type": "code",
      "source": [
        "A[0:2] #ver primeros dos elementos de tupla"
      ],
      "metadata": {
        "id": "nak2ekggd8NO",
        "outputId": "2adba77e-16a1-48f9-845c-c428393bf45a",
        "colab": {
          "base_uri": "https://localhost:8080/"
        }
      },
      "execution_count": 97,
      "outputs": [
        {
          "output_type": "execute_result",
          "data": {
            "text/plain": [
              "(0, 1)"
            ]
          },
          "metadata": {},
          "execution_count": 97
        }
      ]
    },
    {
      "cell_type": "code",
      "source": [
        "B=[\"a\",\"b\",\"c\"] #Crear LISTA"
      ],
      "metadata": {
        "id": "ob4rIlhad8Qc"
      },
      "execution_count": 98,
      "outputs": []
    },
    {
      "cell_type": "code",
      "source": [
        "B[0:2] #Ver primeros dos elementos de la LISTA"
      ],
      "metadata": {
        "id": "WwCLZQ9Od8Tz",
        "outputId": "5afb0bff-505f-4872-8445-d6dd02498356",
        "colab": {
          "base_uri": "https://localhost:8080/"
        }
      },
      "execution_count": 99,
      "outputs": [
        {
          "output_type": "execute_result",
          "data": {
            "text/plain": [
              "['a', 'b']"
            ]
          },
          "metadata": {},
          "execution_count": 99
        }
      ]
    },
    {
      "cell_type": "code",
      "source": [
        "B[0]= 'A' #Cambiar primer elemnto de la lista por una 'A'\n",
        "B"
      ],
      "metadata": {
        "id": "d8rXAdH4d8Ws",
        "outputId": "f7cc4110-9920-4b18-bce0-513524a716e2",
        "colab": {
          "base_uri": "https://localhost:8080/"
        }
      },
      "execution_count": 100,
      "outputs": [
        {
          "output_type": "execute_result",
          "data": {
            "text/plain": [
              "['A', 'b', 'c']"
            ]
          },
          "metadata": {},
          "execution_count": 100
        }
      ]
    },
    {
      "cell_type": "markdown",
      "source": [
        "**Lab - Lists and Tuples**"
      ],
      "metadata": {
        "id": "huMhXJ-Rj4yd"
      }
    },
    {
      "cell_type": "code",
      "source": [
        "tuple1 = (\"disco\",10,1.2 ) # crear tupla\n",
        "tuple1"
      ],
      "metadata": {
        "cellView": "code",
        "id": "8KCKztBjd8aT",
        "colab": {
          "base_uri": "https://localhost:8080/"
        },
        "outputId": "3bad1cef-589d-4425-cb8e-d62cb5f119ce"
      },
      "execution_count": 101,
      "outputs": [
        {
          "output_type": "execute_result",
          "data": {
            "text/plain": [
              "('disco', 10, 1.2)"
            ]
          },
          "metadata": {},
          "execution_count": 101
        }
      ]
    },
    {
      "cell_type": "code",
      "source": [
        "print(tuple1[0]) #imprimir elemetod de la tupla de acuerdo al indexado en memoria\n",
        "print(tuple1[1])\n",
        "print(tuple1[2])"
      ],
      "metadata": {
        "id": "3eMuAtSPd8df",
        "colab": {
          "base_uri": "https://localhost:8080/"
        },
        "outputId": "4d78fa35-eb25-4aa9-9ce4-23f4dd77678a"
      },
      "execution_count": 102,
      "outputs": [
        {
          "output_type": "stream",
          "name": "stdout",
          "text": [
            "disco\n",
            "10\n",
            "1.2\n"
          ]
        }
      ]
    },
    {
      "cell_type": "code",
      "source": [
        "print(type(tuple1[0])) #Imprimir el tipo de dato del elemento listado en la tupla\n",
        "print(type(tuple1[1]))\n",
        "print(type(tuple1[2]))"
      ],
      "metadata": {
        "id": "SgrJNUvJd8gi",
        "colab": {
          "base_uri": "https://localhost:8080/"
        },
        "outputId": "7cb707fd-b19d-434d-9230-f17a56a94488"
      },
      "execution_count": 103,
      "outputs": [
        {
          "output_type": "stream",
          "name": "stdout",
          "text": [
            "<class 'str'>\n",
            "<class 'int'>\n",
            "<class 'float'>\n"
          ]
        }
      ]
    },
    {
      "cell_type": "code",
      "source": [
        "tuple1[-1] #imprimir elemento de tupla en negativo toma desde el ultimo elemento al primero, empieza desde -1 y depende de la longitud de la tupla\n"
      ],
      "metadata": {
        "id": "_43lDF27d8lp",
        "colab": {
          "base_uri": "https://localhost:8080/"
        },
        "outputId": "ed16d344-1d4f-4ef9-c5b4-f3ad0a49e31e"
      },
      "execution_count": 104,
      "outputs": [
        {
          "output_type": "execute_result",
          "data": {
            "text/plain": [
              "1.2"
            ]
          },
          "metadata": {},
          "execution_count": 104
        }
      ]
    },
    {
      "cell_type": "code",
      "source": [
        "tuple1[-2] #imprimir elemento de tupla en negativo toma desde el ultimo elemento al primero, empieza desde -1 y depende de la longitud de la tupla\n"
      ],
      "metadata": {
        "id": "BIx8BzuZd8sj",
        "colab": {
          "base_uri": "https://localhost:8080/"
        },
        "outputId": "dbb52e27-4be5-4b0e-e5de-1f683e7590a2"
      },
      "execution_count": 105,
      "outputs": [
        {
          "output_type": "execute_result",
          "data": {
            "text/plain": [
              "10"
            ]
          },
          "metadata": {},
          "execution_count": 105
        }
      ]
    },
    {
      "cell_type": "code",
      "source": [
        "tuple1[-3] #imprimir elemento de tupla en negativo toma desde el ultimo elemento al primero, empieza desde -1 y depende de la longitud de la tupla\n"
      ],
      "metadata": {
        "id": "wEQhtAzyd8zU",
        "colab": {
          "base_uri": "https://localhost:8080/",
          "height": 36
        },
        "outputId": "69a87084-c2e7-49e6-8645-7868827e1080"
      },
      "execution_count": 106,
      "outputs": [
        {
          "output_type": "execute_result",
          "data": {
            "text/plain": [
              "'disco'"
            ],
            "application/vnd.google.colaboratory.intrinsic+json": {
              "type": "string"
            }
          },
          "metadata": {},
          "execution_count": 106
        }
      ]
    },
    {
      "cell_type": "code",
      "source": [
        "tuple2 = tuple1 + (\"hard rock\", 10) #concatenar tuplas hace que los elemtos de la tupla anterior se anadan a nuevos elementos de una nueva tupla\n",
        "tuple2"
      ],
      "metadata": {
        "id": "S8jrSI66d86n",
        "colab": {
          "base_uri": "https://localhost:8080/"
        },
        "outputId": "3587b8c8-2db6-4ce7-b3c4-a07dfffb1d3b"
      },
      "execution_count": 107,
      "outputs": [
        {
          "output_type": "execute_result",
          "data": {
            "text/plain": [
              "('disco', 10, 1.2, 'hard rock', 10)"
            ]
          },
          "metadata": {},
          "execution_count": 107
        }
      ]
    },
    {
      "cell_type": "code",
      "source": [
        "tuple2[0:4] # 'Slice' recorta la tupla y tra los elemtos mencionados segun el indexado. La limite maximo toma encuenta el ultimo digito menos uno\n",
        "            # si es 3, entonces el limite maximo es 4-1= 3"
      ],
      "metadata": {
        "id": "ldYSvW_Wd8_J",
        "colab": {
          "base_uri": "https://localhost:8080/"
        },
        "outputId": "03cb83ab-f7e1-4445-8cdb-91266fc263f4"
      },
      "execution_count": 108,
      "outputs": [
        {
          "output_type": "execute_result",
          "data": {
            "text/plain": [
              "('disco', 10, 1.2, 'hard rock')"
            ]
          },
          "metadata": {},
          "execution_count": 108
        }
      ]
    },
    {
      "cell_type": "code",
      "source": [
        "tuple2[3:5] #se hace slide desde el tercer elemento indexado hasta el cuarto"
      ],
      "metadata": {
        "id": "DNsoYn5dd9EI",
        "colab": {
          "base_uri": "https://localhost:8080/"
        },
        "outputId": "9715e27f-5b60-4fa8-8fb2-434d65337878"
      },
      "execution_count": 109,
      "outputs": [
        {
          "output_type": "execute_result",
          "data": {
            "text/plain": [
              "('hard rock', 10)"
            ]
          },
          "metadata": {},
          "execution_count": 109
        }
      ]
    },
    {
      "cell_type": "code",
      "source": [
        "len(tuple2) #verifica el tama;o de la tupla contando los elementos indexados que contiene"
      ],
      "metadata": {
        "id": "IWEs4YA6d9Ib",
        "colab": {
          "base_uri": "https://localhost:8080/"
        },
        "outputId": "1804283f-a7cb-46e8-89ad-b31c4b3e3a79"
      },
      "execution_count": 110,
      "outputs": [
        {
          "output_type": "execute_result",
          "data": {
            "text/plain": [
              "5"
            ]
          },
          "metadata": {},
          "execution_count": 110
        }
      ]
    },
    {
      "cell_type": "code",
      "source": [
        "Ratings = (0, 9, 6, 5, 10, 8, 9, 6, 2.2) # sorting, se crea una tupla nueva"
      ],
      "metadata": {
        "id": "GtDlvzVyd9Mv"
      },
      "execution_count": 111,
      "outputs": []
    },
    {
      "cell_type": "code",
      "source": [
        "RatingsSorted = sorted(Ratings) #organiza los elemtos de menor a mayor cuando todos los elementos son de tipo numerico y los guarda en una nueva tupla.\n",
        "RatingsSorted"
      ],
      "metadata": {
        "id": "KEHN6lf-d9SC",
        "colab": {
          "base_uri": "https://localhost:8080/"
        },
        "outputId": "b5ec1c04-e241-445b-cf8c-d7f1f8b25a71"
      },
      "execution_count": 112,
      "outputs": [
        {
          "output_type": "execute_result",
          "data": {
            "text/plain": [
              "[0, 2.2, 5, 6, 6, 8, 9, 9, 10]"
            ]
          },
          "metadata": {},
          "execution_count": 112
        }
      ]
    },
    {
      "cell_type": "code",
      "source": [
        "NestedT =(1, 2, (\"pop\", \"rock\") ,(3,4),(\"disco\",(1,2))) # Nested tuple: una tupla puede contener otra tupla contenida"
      ],
      "metadata": {
        "id": "P6Huy32Od9Wq"
      },
      "execution_count": 113,
      "outputs": []
    },
    {
      "cell_type": "code",
      "source": [
        "print(\"Element 0 of Tuple: \", NestedT[0]) #Imprmir elemtos de la tupla\n",
        "print(\"Element 1 of Tuple: \", NestedT[1])\n",
        "print(\"Element 2 of Tuple: \", NestedT[2])\n",
        "print(\"Element 3 of Tuple: \", NestedT[3])\n",
        "print(\"Element 4 of Tuple: \", NestedT[4])"
      ],
      "metadata": {
        "id": "h9Jsmep0d9bd",
        "colab": {
          "base_uri": "https://localhost:8080/"
        },
        "outputId": "acafc45b-4601-4dd3-8901-08fba9566f92"
      },
      "execution_count": 114,
      "outputs": [
        {
          "output_type": "stream",
          "name": "stdout",
          "text": [
            "Element 0 of Tuple:  1\n",
            "Element 1 of Tuple:  2\n",
            "Element 2 of Tuple:  ('pop', 'rock')\n",
            "Element 3 of Tuple:  (3, 4)\n",
            "Element 4 of Tuple:  ('disco', (1, 2))\n"
          ]
        }
      ]
    },
    {
      "cell_type": "code",
      "source": [
        "print(\"Element 2, 0 of Tuple: \",   NestedT[2][0]) # Se puede acceder a los elementos de una tupla anidada en otra, se debe referenciar el index de la primer tupla\n",
        "print(\"Element 2, 1 of Tuple: \",   NestedT[2][1]) # Posteriormente se referencia el indexado internod e la tupla\n",
        "print(\"Element 3, 0 of Tuple: \",   NestedT[3][0])\n",
        "print(\"Element 3, 1 of Tuple: \",   NestedT[3][1])\n",
        "print(\"Element 4, 0 of Tuple: \",   NestedT[4][0])\n",
        "print(\"Element 4, 1 of Tuple: \",   NestedT[4][1])"
      ],
      "metadata": {
        "id": "Ni1Yssh4d9gK",
        "colab": {
          "base_uri": "https://localhost:8080/"
        },
        "outputId": "bc8eda8c-691b-42ce-a4e6-48c092dd6f38"
      },
      "execution_count": 115,
      "outputs": [
        {
          "output_type": "stream",
          "name": "stdout",
          "text": [
            "Element 2, 0 of Tuple:  pop\n",
            "Element 2, 1 of Tuple:  rock\n",
            "Element 3, 0 of Tuple:  3\n",
            "Element 3, 1 of Tuple:  4\n",
            "Element 4, 0 of Tuple:  disco\n",
            "Element 4, 1 of Tuple:  (1, 2)\n"
          ]
        }
      ]
    },
    {
      "cell_type": "code",
      "source": [
        "NestedT[2][1][0] # se ririge al tercer elemento indexado (\"pop\", \"rock\"), \n",
        "                 # luego se dirige el segundo elemento indexado dentro de la tupla anidada (rock), imprime el primer caracter 'r'"
      ],
      "metadata": {
        "id": "T-acaQbZyzfK",
        "colab": {
          "base_uri": "https://localhost:8080/",
          "height": 36
        },
        "outputId": "c9368376-d4fe-4cb8-ec39-eafb8f05315e"
      },
      "execution_count": 116,
      "outputs": [
        {
          "output_type": "execute_result",
          "data": {
            "text/plain": [
              "'r'"
            ],
            "application/vnd.google.colaboratory.intrinsic+json": {
              "type": "string"
            }
          },
          "metadata": {},
          "execution_count": 116
        }
      ]
    },
    {
      "cell_type": "code",
      "source": [
        "NestedT[2][1][1] # tercer elemento, segundo elemento, segundo caracter: \"o\""
      ],
      "metadata": {
        "id": "D2kWkMD0y0cK",
        "colab": {
          "base_uri": "https://localhost:8080/",
          "height": 36
        },
        "outputId": "df582ca6-cd3f-4bec-92d6-7fcb163846e6"
      },
      "execution_count": 117,
      "outputs": [
        {
          "output_type": "execute_result",
          "data": {
            "text/plain": [
              "'o'"
            ],
            "application/vnd.google.colaboratory.intrinsic+json": {
              "type": "string"
            }
          },
          "metadata": {},
          "execution_count": 117
        }
      ]
    },
    {
      "cell_type": "code",
      "source": [
        "NestedT[4][1][0] #quinto elemento indexado, segundo elemento indexado, primer caracter : 1"
      ],
      "metadata": {
        "id": "7H3_k8m5y0s8",
        "colab": {
          "base_uri": "https://localhost:8080/"
        },
        "outputId": "15463570-f67a-4e2d-f32f-4a7d4893d084"
      },
      "execution_count": 118,
      "outputs": [
        {
          "output_type": "execute_result",
          "data": {
            "text/plain": [
              "1"
            ]
          },
          "metadata": {},
          "execution_count": 118
        }
      ]
    },
    {
      "cell_type": "code",
      "source": [
        "NestedT[4][1][1] #quinto elemento indexado, segundo elemento indexado, segundo caracter : 2"
      ],
      "metadata": {
        "id": "3ZZjU8RDy1GC",
        "colab": {
          "base_uri": "https://localhost:8080/"
        },
        "outputId": "7c26688b-6ba3-42e6-d1eb-f111a86b7dc3"
      },
      "execution_count": 119,
      "outputs": [
        {
          "output_type": "execute_result",
          "data": {
            "text/plain": [
              "2"
            ]
          },
          "metadata": {},
          "execution_count": 119
        }
      ]
    },
    {
      "cell_type": "code",
      "source": [
        "# sample tuple\n",
        "\n",
        "genres_tuple = (\"pop\", \"rock\", \"soul\", \"hard rock\", \"soft rock\", \\\n",
        "                \"R&B\", \"progressive rock\", \"disco\") \n",
        "genres_tuple"
      ],
      "metadata": {
        "id": "ZGRGhIPvy1cv",
        "colab": {
          "base_uri": "https://localhost:8080/"
        },
        "outputId": "88dba1a1-a70b-44ad-d127-e65b5603036e"
      },
      "execution_count": 120,
      "outputs": [
        {
          "output_type": "execute_result",
          "data": {
            "text/plain": [
              "('pop',\n",
              " 'rock',\n",
              " 'soul',\n",
              " 'hard rock',\n",
              " 'soft rock',\n",
              " 'R&B',\n",
              " 'progressive rock',\n",
              " 'disco')"
            ]
          },
          "metadata": {},
          "execution_count": 120
        }
      ]
    },
    {
      "cell_type": "code",
      "source": [
        "# Write your code below and press Shift+Enter to execute\n",
        "len(genres_tuple)"
      ],
      "metadata": {
        "id": "ZpO-F2qAy1yC",
        "colab": {
          "base_uri": "https://localhost:8080/"
        },
        "outputId": "3d29db87-a026-4b06-ab91-f10d968f0463"
      },
      "execution_count": 121,
      "outputs": [
        {
          "output_type": "execute_result",
          "data": {
            "text/plain": [
              "8"
            ]
          },
          "metadata": {},
          "execution_count": 121
        }
      ]
    },
    {
      "cell_type": "code",
      "source": [
        "# Write your code below and press Shift+Enter to execute\n",
        "genres_tuple[3]"
      ],
      "metadata": {
        "id": "Xh8-GLm5y16q",
        "colab": {
          "base_uri": "https://localhost:8080/",
          "height": 36
        },
        "outputId": "cf01700c-80fc-485d-9a19-d0af9382b99b"
      },
      "execution_count": 122,
      "outputs": [
        {
          "output_type": "execute_result",
          "data": {
            "text/plain": [
              "'hard rock'"
            ],
            "application/vnd.google.colaboratory.intrinsic+json": {
              "type": "string"
            }
          },
          "metadata": {},
          "execution_count": 122
        }
      ]
    },
    {
      "cell_type": "code",
      "source": [
        "# Write your code below and press Shift+Enter to execute\n",
        "genres_tuple[3:6]"
      ],
      "metadata": {
        "id": "MCK5P4zNy2A_",
        "colab": {
          "base_uri": "https://localhost:8080/"
        },
        "outputId": "e098a3b4-fa25-4cb4-df91-2eeae79502bb"
      },
      "execution_count": 123,
      "outputs": [
        {
          "output_type": "execute_result",
          "data": {
            "text/plain": [
              "('hard rock', 'soft rock', 'R&B')"
            ]
          },
          "metadata": {},
          "execution_count": 123
        }
      ]
    },
    {
      "cell_type": "code",
      "source": [
        "# Write your code below and press Shift+Enter to execute\n",
        "genres_tuple[:2]"
      ],
      "metadata": {
        "id": "mGWrJPa0y2GQ",
        "colab": {
          "base_uri": "https://localhost:8080/"
        },
        "outputId": "7126a04c-b7d7-4afa-a308-edd832873845"
      },
      "execution_count": 124,
      "outputs": [
        {
          "output_type": "execute_result",
          "data": {
            "text/plain": [
              "('pop', 'rock')"
            ]
          },
          "metadata": {},
          "execution_count": 124
        }
      ]
    },
    {
      "cell_type": "code",
      "source": [
        " #Find the first index of \"disco\"\n",
        "genres_tuple.index(\"disco\")"
      ],
      "metadata": {
        "id": "AbSrUiCi1Lyx",
        "colab": {
          "base_uri": "https://localhost:8080/"
        },
        "outputId": "0be3adc9-8160-4fdb-a1c6-0da224fa0de4"
      },
      "execution_count": 125,
      "outputs": [
        {
          "output_type": "execute_result",
          "data": {
            "text/plain": [
              "7"
            ]
          },
          "metadata": {},
          "execution_count": 125
        }
      ]
    },
    {
      "cell_type": "code",
      "source": [
        "#Generate a sorted List from the Tuple C_tuple=(-5, 1, -3):\n",
        "C_tuple=(-5, 1, -3)\n",
        "C_tuple_sorted = sorted(C_tuple)\n",
        "C_tuple_sorted"
      ],
      "metadata": {
        "id": "Km8a0d_N1L4P",
        "colab": {
          "base_uri": "https://localhost:8080/"
        },
        "outputId": "27f30172-7e61-4bee-83ad-66c17cf2bc9e"
      },
      "execution_count": 126,
      "outputs": [
        {
          "output_type": "execute_result",
          "data": {
            "text/plain": [
              "[-5, -3, 1]"
            ]
          },
          "metadata": {},
          "execution_count": 126
        }
      ]
    },
    {
      "cell_type": "markdown",
      "source": [
        "LABORATORIO DE LISTAS"
      ],
      "metadata": {
        "id": "ogiKRC-28asg"
      }
    },
    {
      "cell_type": "code",
      "source": [
        "# Create a list\n",
        "\n",
        "L = [\"Michael Jackson\", 10.1, 1982]\n",
        "L"
      ],
      "metadata": {
        "id": "MC3SgxJY8abf",
        "colab": {
          "base_uri": "https://localhost:8080/"
        },
        "outputId": "88bb86cd-e197-4db3-b7da-a12856c9cbdd"
      },
      "execution_count": 127,
      "outputs": [
        {
          "output_type": "execute_result",
          "data": {
            "text/plain": [
              "['Michael Jackson', 10.1, 1982]"
            ]
          },
          "metadata": {},
          "execution_count": 127
        }
      ]
    },
    {
      "cell_type": "code",
      "source": [
        "# Imprime los elementos usando dos firmatos de indexado, el positivo y el negativo. \n",
        "print('the same element using negative and positive indexing:\\n Postive:',L[0],\n",
        "'\\n Negative:' , L[-3]  )\n",
        "print('the same element using negative and positive indexing:\\n Postive:',L[1],\n",
        "'\\n Negative:' , L[-2]  )\n",
        "print('the same element using negative and positive indexing:\\n Postive:',L[2],\n",
        "'\\n Negative:' , L[-1]  )"
      ],
      "metadata": {
        "id": "b1kMX-dr8Z1I",
        "colab": {
          "base_uri": "https://localhost:8080/"
        },
        "outputId": "95967f16-84b6-4dc9-81e8-900e14b526a3"
      },
      "execution_count": 128,
      "outputs": [
        {
          "output_type": "stream",
          "name": "stdout",
          "text": [
            "the same element using negative and positive indexing:\n",
            " Postive: Michael Jackson \n",
            " Negative: Michael Jackson\n",
            "the same element using negative and positive indexing:\n",
            " Postive: 10.1 \n",
            " Negative: 10.1\n",
            "the same element using negative and positive indexing:\n",
            " Postive: 1982 \n",
            " Negative: 1982\n"
          ]
        }
      ]
    },
    {
      "cell_type": "code",
      "source": [
        "# Las listas pueden contener otras listan indexadas, tuplasy tipos de datos basicos\n",
        "[\"Michael Jackson\", 10.1, 1982, [1, 2], (\"A\", 1)]"
      ],
      "metadata": {
        "id": "hjGCGoG61L-q",
        "colab": {
          "base_uri": "https://localhost:8080/"
        },
        "outputId": "76004c36-f763-4050-faa6-7fd239b1929a"
      },
      "execution_count": 129,
      "outputs": [
        {
          "output_type": "execute_result",
          "data": {
            "text/plain": [
              "['Michael Jackson', 10.1, 1982, [1, 2], ('A', 1)]"
            ]
          },
          "metadata": {},
          "execution_count": 129
        }
      ]
    },
    {
      "cell_type": "code",
      "source": [
        "#crear lista y guardarla\n",
        "L = [\"Michael Jackson\", 10.1,1982,\"MJ\",1]\n",
        "L"
      ],
      "metadata": {
        "id": "X054GGAL1MCu",
        "colab": {
          "base_uri": "https://localhost:8080/"
        },
        "outputId": "02ded3b8-549a-45f8-91e1-9f885a5f75ef"
      },
      "execution_count": 130,
      "outputs": [
        {
          "output_type": "execute_result",
          "data": {
            "text/plain": [
              "['Michael Jackson', 10.1, 1982, 'MJ', 1]"
            ]
          },
          "metadata": {},
          "execution_count": 130
        }
      ]
    },
    {
      "cell_type": "code",
      "source": [
        "# Hacer slice/recortar la lista desde el elemento 3 al  4\n",
        "L[3:5]"
      ],
      "metadata": {
        "id": "42Bx6Hfz1MGM",
        "colab": {
          "base_uri": "https://localhost:8080/"
        },
        "outputId": "c1e71aed-9596-41e8-848a-4b4c96d89108"
      },
      "execution_count": 131,
      "outputs": [
        {
          "output_type": "execute_result",
          "data": {
            "text/plain": [
              "['MJ', 1]"
            ]
          },
          "metadata": {},
          "execution_count": 131
        }
      ]
    },
    {
      "cell_type": "code",
      "source": [
        "L"
      ],
      "metadata": {
        "id": "aLPUnqmM_-ku",
        "colab": {
          "base_uri": "https://localhost:8080/"
        },
        "outputId": "3dfa30b6-3a3b-4bc8-f0ec-8abd0ea8da8c"
      },
      "execution_count": 132,
      "outputs": [
        {
          "output_type": "execute_result",
          "data": {
            "text/plain": [
              "['Michael Jackson', 10.1, 1982, 'MJ', 1]"
            ]
          },
          "metadata": {},
          "execution_count": 132
        }
      ]
    },
    {
      "cell_type": "code",
      "source": [
        "# Se usa el metodo 'extend' para agregar mas elemntos a la lista dentro den un espacio indexado a cada elemento nuevo\n",
        "L = [ \"Michael Jackson\",10.2] # Crear lista\n",
        "L.extend(['pop', 10]) #añadir nuevos elemento al final de la lista\n",
        "L"
      ],
      "metadata": {
        "id": "pdgL12L71MJi",
        "colab": {
          "base_uri": "https://localhost:8080/"
        },
        "outputId": "ecccd42c-b836-498b-b721-d83afc9b0636"
      },
      "execution_count": 133,
      "outputs": [
        {
          "output_type": "execute_result",
          "data": {
            "text/plain": [
              "['Michael Jackson', 10.2, 'pop', 10]"
            ]
          },
          "metadata": {},
          "execution_count": 133
        }
      ]
    },
    {
      "cell_type": "code",
      "source": [
        "len(L)"
      ],
      "metadata": {
        "id": "71_R_Uqb1MMe",
        "colab": {
          "base_uri": "https://localhost:8080/"
        },
        "outputId": "61101afd-f57f-487d-a37e-cacd999e37a8"
      },
      "execution_count": 134,
      "outputs": [
        {
          "output_type": "execute_result",
          "data": {
            "text/plain": [
              "4"
            ]
          },
          "metadata": {},
          "execution_count": 134
        }
      ]
    },
    {
      "cell_type": "code",
      "source": [
        "# El metodo 'append' agrega elementos a las lista en un solo espacio indexado\n",
        "L = [ \"Michael Jackson\", 10.2] # Crea lista\n",
        "L.append(['pop', 10]) # Agrega una lista en el ultimo espacio indexado\n",
        "L"
      ],
      "metadata": {
        "id": "bjHPvASfy2Kw",
        "colab": {
          "base_uri": "https://localhost:8080/"
        },
        "outputId": "0d968b67-3236-41c5-ef0f-e5279e12b9b2"
      },
      "execution_count": 135,
      "outputs": [
        {
          "output_type": "execute_result",
          "data": {
            "text/plain": [
              "['Michael Jackson', 10.2, ['pop', 10]]"
            ]
          },
          "metadata": {},
          "execution_count": 135
        }
      ]
    },
    {
      "cell_type": "code",
      "source": [
        "len(L)"
      ],
      "metadata": {
        "id": "hgBXVoUbA9aG",
        "colab": {
          "base_uri": "https://localhost:8080/"
        },
        "outputId": "df8a06d6-8669-405a-dfad-4a6919ef3bae"
      },
      "execution_count": 136,
      "outputs": [
        {
          "output_type": "execute_result",
          "data": {
            "text/plain": [
              "3"
            ]
          },
          "metadata": {},
          "execution_count": 136
        }
      ]
    },
    {
      "cell_type": "code",
      "source": [
        "L = [ \"Michael Jackson\", 10.2]\n",
        "L.extend(['pop', 10])\n",
        "L.append(['a','b'])\n",
        "L"
      ],
      "metadata": {
        "id": "u4ol3MSpA_Yf",
        "colab": {
          "base_uri": "https://localhost:8080/"
        },
        "outputId": "aa7f300b-3d6a-4d8f-87f7-fc8024983197"
      },
      "execution_count": 137,
      "outputs": [
        {
          "output_type": "execute_result",
          "data": {
            "text/plain": [
              "['Michael Jackson', 10.2, 'pop', 10, ['a', 'b']]"
            ]
          },
          "metadata": {},
          "execution_count": 137
        }
      ]
    },
    {
      "cell_type": "code",
      "source": [
        "# Las lista permiten hacer cambios en ellas\n",
        "A = [\"disco\", 10, 1.2] # Crear lista\n",
        "print('Before change:', A)\n",
        "A[0] = 'hard rock'    # Se cambia el primer elemento de la lista\n",
        "print('After change:', A)"
      ],
      "metadata": {
        "id": "NF5s_xCLBIV4",
        "colab": {
          "base_uri": "https://localhost:8080/"
        },
        "outputId": "4c1036c7-83f8-4095-e2df-6a289d7251ff"
      },
      "execution_count": 138,
      "outputs": [
        {
          "output_type": "stream",
          "name": "stdout",
          "text": [
            "Before change: ['disco', 10, 1.2]\n",
            "After change: ['hard rock', 10, 1.2]\n"
          ]
        }
      ]
    },
    {
      "cell_type": "code",
      "source": [
        "# se pueden eliminar elemtnsode la lista con el metodo 'del'\n",
        "print('Before change:', A)\n",
        "del(A[0])   # Elimina el primer elemento de la lista A\n",
        "print('After change:', A)"
      ],
      "metadata": {
        "id": "BJ0QlC-OBUkt",
        "colab": {
          "base_uri": "https://localhost:8080/"
        },
        "outputId": "021b0713-92d1-4b72-bea1-bb3efc123b5b"
      },
      "execution_count": 139,
      "outputs": [
        {
          "output_type": "stream",
          "name": "stdout",
          "text": [
            "Before change: ['hard rock', 10, 1.2]\n",
            "After change: [10, 1.2]\n"
          ]
        }
      ]
    },
    {
      "cell_type": "code",
      "source": [
        "# El metodo 'split' permite dividir una cadena de caracteres dentro de los elementos de una lista y crear nuevos elementos de acuerdo a las palabras contenidas\n",
        "'hard rock'.split()"
      ],
      "metadata": {
        "id": "3gyLNpigBlUp",
        "colab": {
          "base_uri": "https://localhost:8080/"
        },
        "outputId": "2f4766f0-2bd0-42dc-ee1f-ad07ab266cb4"
      },
      "execution_count": 140,
      "outputs": [
        {
          "output_type": "execute_result",
          "data": {
            "text/plain": [
              "['hard', 'rock']"
            ]
          },
          "metadata": {},
          "execution_count": 140
        }
      ]
    },
    {
      "cell_type": "code",
      "source": [
        "# se puede usar el metodo 'split' y agregar una condicion para que ese argumento divida los elemntos y creee una lista\n",
        "'A,B,C,D'.split(',')"
      ],
      "metadata": {
        "id": "00oysk_wBlhA",
        "colab": {
          "base_uri": "https://localhost:8080/"
        },
        "outputId": "13ff74c4-5763-4cbf-cd3f-f95f1e4c4ffd"
      },
      "execution_count": 141,
      "outputs": [
        {
          "output_type": "execute_result",
          "data": {
            "text/plain": [
              "['A', 'B', 'C', 'D']"
            ]
          },
          "metadata": {},
          "execution_count": 141
        }
      ]
    },
    {
      "cell_type": "code",
      "source": [
        "# COPIAR - En este caso se copia una lista, pero las dos apuntan a la misma direccion en memoria\n",
        "A = [\"hard rock\", 10, 1.2]\n",
        "B = A\n",
        "print('A:', A)\n",
        "print('B:', B)"
      ],
      "metadata": {
        "id": "_L96LqK2Bllc",
        "colab": {
          "base_uri": "https://localhost:8080/"
        },
        "outputId": "00fd84e2-5e9a-491a-80a4-12dcac62867a"
      },
      "execution_count": 142,
      "outputs": [
        {
          "output_type": "stream",
          "name": "stdout",
          "text": [
            "A: ['hard rock', 10, 1.2]\n",
            "B: ['hard rock', 10, 1.2]\n"
          ]
        }
      ]
    },
    {
      "cell_type": "code",
      "source": [
        "# Al cambiar un elemento en una de las dos lista, ambas listas vana tener una direccion propia en memoria y se vuelven independientes\n",
        "print('B[0]:', B[0])\n",
        "A[0] = \"banana\"\n",
        "print('B[0]:', B[0]) "
      ],
      "metadata": {
        "id": "0KByLzj4Blpc",
        "colab": {
          "base_uri": "https://localhost:8080/"
        },
        "outputId": "69ddfa85-b546-4370-8087-88eaf0e5a35f"
      },
      "execution_count": 143,
      "outputs": [
        {
          "output_type": "stream",
          "name": "stdout",
          "text": [
            "B[0]: hard rock\n",
            "B[0]: banana\n"
          ]
        }
      ]
    },
    {
      "cell_type": "code",
      "source": [
        "# Se pueden clonar los elementos de una lista y agregarlos a una nueva\n",
        "B = A[:]\n",
        "B"
      ],
      "metadata": {
        "id": "TZv304joBlti",
        "colab": {
          "base_uri": "https://localhost:8080/"
        },
        "outputId": "37e3c3c4-341b-45d5-9377-166e3d68c9b0"
      },
      "execution_count": 144,
      "outputs": [
        {
          "output_type": "execute_result",
          "data": {
            "text/plain": [
              "['banana', 10, 1.2]"
            ]
          },
          "metadata": {},
          "execution_count": 144
        }
      ]
    },
    {
      "cell_type": "code",
      "source": [
        "# al clonar una lista, si se cambia un elemento de una lista, no se afecta la otra\n",
        "print('B[0]:', B[0])\n",
        "A[0] = \"hard rock\" # Se cambia elemto en lista A\n",
        "print('B[0]:', B[0])\n"
      ],
      "metadata": {
        "id": "eOtR4nwyBlyY",
        "colab": {
          "base_uri": "https://localhost:8080/"
        },
        "outputId": "06e9062a-5008-4ea5-b178-c491e676e402"
      },
      "execution_count": 145,
      "outputs": [
        {
          "output_type": "stream",
          "name": "stdout",
          "text": [
            "B[0]: banana\n",
            "B[0]: banana\n"
          ]
        }
      ]
    },
    {
      "cell_type": "code",
      "source": [
        "#Create a list a_list, with the following elements 1, hello, [1,2,3] and True.\n",
        "\n",
        "A = [1, 'hello', [1,2,3], True]\n",
        "A"
      ],
      "metadata": {
        "id": "W_lPzRvRBl2t",
        "colab": {
          "base_uri": "https://localhost:8080/"
        },
        "outputId": "967c41bf-29fd-4049-e8ae-a03eb880867e"
      },
      "execution_count": 146,
      "outputs": [
        {
          "output_type": "execute_result",
          "data": {
            "text/plain": [
              "[1, 'hello', [1, 2, 3], True]"
            ]
          },
          "metadata": {},
          "execution_count": 146
        }
      ]
    },
    {
      "cell_type": "code",
      "source": [
        "# Find the value stored at index 1 of a_list. \n",
        "A[1]"
      ],
      "metadata": {
        "id": "Cc0GvqzpBl6n",
        "colab": {
          "base_uri": "https://localhost:8080/",
          "height": 36
        },
        "outputId": "c9a836de-af35-4e9a-dd75-61394f320539"
      },
      "execution_count": 147,
      "outputs": [
        {
          "output_type": "execute_result",
          "data": {
            "text/plain": [
              "'hello'"
            ],
            "application/vnd.google.colaboratory.intrinsic+json": {
              "type": "string"
            }
          },
          "metadata": {},
          "execution_count": 147
        }
      ]
    },
    {
      "cell_type": "code",
      "source": [
        "# Retrieve the elements stored at index 1, 2 and 3 of a_list.\n",
        "A[1:4]"
      ],
      "metadata": {
        "id": "oWjLYTLHBl9i",
        "colab": {
          "base_uri": "https://localhost:8080/"
        },
        "outputId": "fb167fdf-ccc5-4f6c-8fad-bef26d33da1c"
      },
      "execution_count": 148,
      "outputs": [
        {
          "output_type": "execute_result",
          "data": {
            "text/plain": [
              "['hello', [1, 2, 3], True]"
            ]
          },
          "metadata": {},
          "execution_count": 148
        }
      ]
    },
    {
      "cell_type": "code",
      "source": [
        "# Concatenate the following lists A = [1, 'a'] and B = [2, 1, 'd']:\n",
        "\n",
        "A = [1, 'a']\n",
        "B = [2, 1, 'd']\n",
        "C = A + B\n",
        "C"
      ],
      "metadata": {
        "id": "A5Q7A_j0BmBG",
        "colab": {
          "base_uri": "https://localhost:8080/"
        },
        "outputId": "f1170324-663f-45f8-c238-b9f36ebabd00"
      },
      "execution_count": 149,
      "outputs": [
        {
          "output_type": "execute_result",
          "data": {
            "text/plain": [
              "[1, 'a', 2, 1, 'd']"
            ]
          },
          "metadata": {},
          "execution_count": 149
        }
      ]
    },
    {
      "cell_type": "markdown",
      "source": [
        "## **SET**"
      ],
      "metadata": {
        "id": "QNsjC1XjPfsg"
      }
    },
    {
      "cell_type": "code",
      "source": [
        "# CAST Convertir la lista en un set.\n",
        "a = ['A','B','C','A','B','C'] \n",
        "set(a)"
      ],
      "metadata": {
        "id": "dRtj1x2rBmIf",
        "colab": {
          "base_uri": "https://localhost:8080/"
        },
        "outputId": "5cfdb9ab-d5cd-4a88-a28c-fe9b576f341e"
      },
      "execution_count": 150,
      "outputs": [
        {
          "output_type": "execute_result",
          "data": {
            "text/plain": [
              "{'A', 'B', 'C'}"
            ]
          },
          "metadata": {},
          "execution_count": 150
        }
      ]
    },
    {
      "cell_type": "code",
      "source": [
        "# Agredar un elemento nuevo al set con el metodo 'add'\n",
        "S={'A','B','C'}\n",
        "S.add('D')\n",
        "S"
      ],
      "metadata": {
        "id": "Eit7rywWBmN5",
        "colab": {
          "base_uri": "https://localhost:8080/"
        },
        "outputId": "54b46e86-30f7-4990-c238-683a2ded5256"
      },
      "execution_count": 151,
      "outputs": [
        {
          "output_type": "execute_result",
          "data": {
            "text/plain": [
              "{'A', 'B', 'C', 'D'}"
            ]
          },
          "metadata": {},
          "execution_count": 151
        }
      ]
    },
    {
      "cell_type": "code",
      "source": [
        "# INTERSECCION DE set: \n",
        "A={1,2,3,4,5}\n",
        "B={1,3,9, 12}\n",
        "A&B"
      ],
      "metadata": {
        "id": "eEJPSek4BmRA",
        "colab": {
          "base_uri": "https://localhost:8080/"
        },
        "outputId": "9e7ea99d-7bb6-4bb7-b042-326ed1a4f999"
      },
      "execution_count": 152,
      "outputs": [
        {
          "output_type": "execute_result",
          "data": {
            "text/plain": [
              "{1, 3}"
            ]
          },
          "metadata": {},
          "execution_count": 152
        }
      ]
    },
    {
      "cell_type": "code",
      "source": [
        "# INTERSECCION DE set: \n",
        "A={1,2,3,4,5}\n",
        "B={1,3,9, 12}\n",
        "A.intersection(B)"
      ],
      "metadata": {
        "id": "x1lbWSEHQghw",
        "colab": {
          "base_uri": "https://localhost:8080/"
        },
        "outputId": "47a61cd0-45eb-43e2-8d95-33f5d78fe789"
      },
      "execution_count": 153,
      "outputs": [
        {
          "output_type": "execute_result",
          "data": {
            "text/plain": [
              "{1, 3}"
            ]
          },
          "metadata": {},
          "execution_count": 153
        }
      ]
    },
    {
      "cell_type": "markdown",
      "source": [
        "# Dictionaries in Python"
      ],
      "metadata": {
        "id": "hsvd_lWETQUX"
      }
    },
    {
      "cell_type": "code",
      "source": [
        "\n",
        "# Create the dictionary\n",
        "\n",
        "Dict = {\"key1\": 1, \"key2\": \"2\", \"key3\": [3, 3, 3], \"key4\": (4, 4, 4), ('key5'): 5, (0, 1): 6}\n",
        "Dict"
      ],
      "metadata": {
        "colab": {
          "base_uri": "https://localhost:8080/"
        },
        "id": "DZuplvfQTTy3",
        "outputId": "579a290a-2301-4ca4-acb9-92019d690fde"
      },
      "execution_count": 154,
      "outputs": [
        {
          "output_type": "execute_result",
          "data": {
            "text/plain": [
              "{'key1': 1,\n",
              " 'key2': '2',\n",
              " 'key3': [3, 3, 3],\n",
              " 'key4': (4, 4, 4),\n",
              " 'key5': 5,\n",
              " (0, 1): 6}"
            ]
          },
          "metadata": {},
          "execution_count": 154
        }
      ]
    },
    {
      "cell_type": "code",
      "source": [
        "# Access to the value by the key\n",
        "\n",
        "Dict[\"key1\"]"
      ],
      "metadata": {
        "colab": {
          "base_uri": "https://localhost:8080/"
        },
        "id": "FX9D9V3WTTwb",
        "outputId": "006bba4a-c7ac-4802-aaf6-16b00458af7b"
      },
      "execution_count": 155,
      "outputs": [
        {
          "output_type": "execute_result",
          "data": {
            "text/plain": [
              "1"
            ]
          },
          "metadata": {},
          "execution_count": 155
        }
      ]
    },
    {
      "cell_type": "code",
      "source": [
        "# Access to the value by the key\n",
        "\n",
        "Dict[(0, 1)]"
      ],
      "metadata": {
        "colab": {
          "base_uri": "https://localhost:8080/"
        },
        "id": "97r0FJQQTTt3",
        "outputId": "003ec75a-a3f2-4b45-99b9-aadeba1cb07d"
      },
      "execution_count": 156,
      "outputs": [
        {
          "output_type": "execute_result",
          "data": {
            "text/plain": [
              "6"
            ]
          },
          "metadata": {},
          "execution_count": 156
        }
      ]
    },
    {
      "cell_type": "code",
      "source": [
        "# Create a sample dictionary\n",
        "\n",
        "release_year_dict = {\"Thriller\": \"1982\", \"Back in Black\": \"1980\", \\\n",
        "                    \"The Dark Side of the Moon\": \"1973\", \"The Bodyguard\": \"1992\", \\\n",
        "                    \"Bat Out of Hell\": \"1977\", \"Their Greatest Hits (1971-1975)\": \"1976\", \\\n",
        "                    \"Saturday Night Fever\": \"1977\", \"Rumours\": \"1977\"}\n",
        "release_year_dict"
      ],
      "metadata": {
        "colab": {
          "base_uri": "https://localhost:8080/"
        },
        "id": "94dg5FIITTra",
        "outputId": "161958fe-58d2-4df6-a082-504a3921872a"
      },
      "execution_count": 157,
      "outputs": [
        {
          "output_type": "execute_result",
          "data": {
            "text/plain": [
              "{'Thriller': '1982',\n",
              " 'Back in Black': '1980',\n",
              " 'The Dark Side of the Moon': '1973',\n",
              " 'The Bodyguard': '1992',\n",
              " 'Bat Out of Hell': '1977',\n",
              " 'Their Greatest Hits (1971-1975)': '1976',\n",
              " 'Saturday Night Fever': '1977',\n",
              " 'Rumours': '1977'}"
            ]
          },
          "metadata": {},
          "execution_count": 157
        }
      ]
    },
    {
      "cell_type": "code",
      "source": [
        "# Get value by keys\n",
        "\n",
        "release_year_dict['Thriller'] "
      ],
      "metadata": {
        "colab": {
          "base_uri": "https://localhost:8080/",
          "height": 0
        },
        "id": "5nTqkSrKTTo2",
        "outputId": "4e79325d-e76b-4c94-d334-711b497cf909"
      },
      "execution_count": 158,
      "outputs": [
        {
          "output_type": "execute_result",
          "data": {
            "text/plain": [
              "'1982'"
            ],
            "application/vnd.google.colaboratory.intrinsic+json": {
              "type": "string"
            }
          },
          "metadata": {},
          "execution_count": 158
        }
      ]
    },
    {
      "cell_type": "code",
      "source": [
        "# Get value by key\n",
        "\n",
        "release_year_dict['The Bodyguard'] "
      ],
      "metadata": {
        "colab": {
          "base_uri": "https://localhost:8080/",
          "height": 0
        },
        "id": "SEMVoo2fTTmT",
        "outputId": "353666d7-dd9b-4d2f-c8f7-e2eb091b5dc5"
      },
      "execution_count": 159,
      "outputs": [
        {
          "output_type": "execute_result",
          "data": {
            "text/plain": [
              "'1992'"
            ],
            "application/vnd.google.colaboratory.intrinsic+json": {
              "type": "string"
            }
          },
          "metadata": {},
          "execution_count": 159
        }
      ]
    },
    {
      "cell_type": "code",
      "source": [
        "# Get all the keys in dictionary\n",
        "\n",
        "release_year_dict.keys() "
      ],
      "metadata": {
        "colab": {
          "base_uri": "https://localhost:8080/"
        },
        "id": "Qz37hEfrTTkP",
        "outputId": "76a0b72e-1eae-45a2-9fed-48ee839bf8c2"
      },
      "execution_count": 160,
      "outputs": [
        {
          "output_type": "execute_result",
          "data": {
            "text/plain": [
              "dict_keys(['Thriller', 'Back in Black', 'The Dark Side of the Moon', 'The Bodyguard', 'Bat Out of Hell', 'Their Greatest Hits (1971-1975)', 'Saturday Night Fever', 'Rumours'])"
            ]
          },
          "metadata": {},
          "execution_count": 160
        }
      ]
    },
    {
      "cell_type": "code",
      "source": [
        "# Get all the values in dictionary\n",
        "\n",
        "release_year_dict.values() "
      ],
      "metadata": {
        "colab": {
          "base_uri": "https://localhost:8080/"
        },
        "id": "Y4pQ8Mu5TThz",
        "outputId": "4d502e47-ac8c-4ba8-d0e1-908a0184ddbe"
      },
      "execution_count": 161,
      "outputs": [
        {
          "output_type": "execute_result",
          "data": {
            "text/plain": [
              "dict_values(['1982', '1980', '1973', '1992', '1977', '1976', '1977', '1977'])"
            ]
          },
          "metadata": {},
          "execution_count": 161
        }
      ]
    },
    {
      "cell_type": "code",
      "source": [
        "# Question sample dictionary\n",
        "\n",
        "soundtrack_dic = {\"The Bodyguard\":\"1992\", \"Saturday Night Fever\":\"1977\"}\n",
        "soundtrack_dic "
      ],
      "metadata": {
        "colab": {
          "base_uri": "https://localhost:8080/"
        },
        "id": "YWXmgiKTTTfg",
        "outputId": "a74033e8-3504-4772-ee86-e61a593c7d5c"
      },
      "execution_count": 162,
      "outputs": [
        {
          "output_type": "execute_result",
          "data": {
            "text/plain": [
              "{'The Bodyguard': '1992', 'Saturday Night Fever': '1977'}"
            ]
          },
          "metadata": {},
          "execution_count": 162
        }
      ]
    },
    {
      "cell_type": "code",
      "source": [
        "soundtrack_dic.keys() "
      ],
      "metadata": {
        "colab": {
          "base_uri": "https://localhost:8080/"
        },
        "id": "bTT_EyGQTTc_",
        "outputId": "aac20dd6-a793-4e65-f12d-09ea714feec6"
      },
      "execution_count": 163,
      "outputs": [
        {
          "output_type": "execute_result",
          "data": {
            "text/plain": [
              "dict_keys(['The Bodyguard', 'Saturday Night Fever'])"
            ]
          },
          "metadata": {},
          "execution_count": 163
        }
      ]
    },
    {
      "cell_type": "code",
      "source": [
        "soundtrack_dic.values() "
      ],
      "metadata": {
        "colab": {
          "base_uri": "https://localhost:8080/"
        },
        "id": "Fe6jE7h8TTYa",
        "outputId": "51644355-3cea-41c0-ceb6-f409ad1c5cef"
      },
      "execution_count": 164,
      "outputs": [
        {
          "output_type": "execute_result",
          "data": {
            "text/plain": [
              "dict_values(['1992', '1977'])"
            ]
          },
          "metadata": {},
          "execution_count": 164
        }
      ]
    },
    {
      "cell_type": "code",
      "source": [
        "album_sales_dict = {\"The Bodyguard\":50, \"Back in Black\":50, \"Thriller\":65}"
      ],
      "metadata": {
        "id": "Ny7Jp65_TTS3"
      },
      "execution_count": 165,
      "outputs": []
    },
    {
      "cell_type": "code",
      "source": [
        "album_sales_dict[\"Thriller\"]"
      ],
      "metadata": {
        "colab": {
          "base_uri": "https://localhost:8080/"
        },
        "id": "IZmHHMr-TTKV",
        "outputId": "6ecf7d52-4f16-4071-df17-d4f23d893cb0"
      },
      "execution_count": 166,
      "outputs": [
        {
          "output_type": "execute_result",
          "data": {
            "text/plain": [
              "65"
            ]
          },
          "metadata": {},
          "execution_count": 166
        }
      ]
    },
    {
      "cell_type": "code",
      "source": [
        "album_sales_dict.keys()"
      ],
      "metadata": {
        "id": "8UiDnv-UQqSl",
        "colab": {
          "base_uri": "https://localhost:8080/"
        },
        "outputId": "a2bb6dbf-6e87-48e1-f6d0-c8243c322d6e"
      },
      "execution_count": 167,
      "outputs": [
        {
          "output_type": "execute_result",
          "data": {
            "text/plain": [
              "dict_keys(['The Bodyguard', 'Back in Black', 'Thriller'])"
            ]
          },
          "metadata": {},
          "execution_count": 167
        }
      ]
    },
    {
      "cell_type": "code",
      "source": [
        "album_sales_dict.values()"
      ],
      "metadata": {
        "colab": {
          "base_uri": "https://localhost:8080/"
        },
        "id": "J_OwX27PXjou",
        "outputId": "98d9a6a9-a438-45f0-e7c5-cf0982de04ce"
      },
      "execution_count": 168,
      "outputs": [
        {
          "output_type": "execute_result",
          "data": {
            "text/plain": [
              "dict_values([50, 50, 65])"
            ]
          },
          "metadata": {},
          "execution_count": 168
        }
      ]
    },
    {
      "cell_type": "code",
      "source": [
        "album_sales_dict.values()"
      ],
      "metadata": {
        "colab": {
          "base_uri": "https://localhost:8080/"
        },
        "id": "4G0Wfo4sXlz3",
        "outputId": "e4e50d34-1a6e-485d-fea9-219be5977c69"
      },
      "execution_count": 169,
      "outputs": [
        {
          "output_type": "execute_result",
          "data": {
            "text/plain": [
              "dict_values([50, 50, 65])"
            ]
          },
          "metadata": {},
          "execution_count": 169
        }
      ]
    },
    {
      "cell_type": "markdown",
      "source": [
        "## **Conditions and Branching**"
      ],
      "metadata": {
        "id": "tcHJmdeeVIlb"
      }
    },
    {
      "cell_type": "code",
      "source": [
        "# True\n",
        "i = 2\n",
        "i!=0\n"
      ],
      "metadata": {
        "id": "lJZD6keVXnWc",
        "outputId": "b4048acf-c2b9-4664-dc68-b6f0c8beaa02",
        "colab": {
          "base_uri": "https://localhost:8080/"
        }
      },
      "execution_count": 170,
      "outputs": [
        {
          "output_type": "execute_result",
          "data": {
            "text/plain": [
              "True"
            ]
          },
          "metadata": {},
          "execution_count": 170
        }
      ]
    },
    {
      "cell_type": "code",
      "source": [
        "# False\n",
        "i = 0\n",
        "i!=0"
      ],
      "metadata": {
        "id": "Gd0LHLvtXRTx",
        "outputId": "734d242c-12fa-4fa5-f6cc-541469c2b366",
        "colab": {
          "base_uri": "https://localhost:8080/"
        }
      },
      "execution_count": 171,
      "outputs": [
        {
          "output_type": "execute_result",
          "data": {
            "text/plain": [
              "False"
            ]
          },
          "metadata": {},
          "execution_count": 171
        }
      ]
    },
    {
      "cell_type": "code",
      "source": [
        "# True\n",
        "i = 0\n",
        "i == 0"
      ],
      "metadata": {
        "id": "uxr96S8iXVlx",
        "outputId": "48baff05-5650-4d3d-bf80-80b523d9e67c",
        "colab": {
          "base_uri": "https://localhost:8080/"
        }
      },
      "execution_count": 172,
      "outputs": [
        {
          "output_type": "execute_result",
          "data": {
            "text/plain": [
              "True"
            ]
          },
          "metadata": {},
          "execution_count": 172
        }
      ]
    },
    {
      "cell_type": "code",
      "source": [
        "# False\n",
        "i = 2\n",
        "i == 0"
      ],
      "metadata": {
        "id": "ZcYVU3c1XeGA",
        "outputId": "168cd8b6-d483-4586-bde1-5e3d9f11c2eb",
        "colab": {
          "base_uri": "https://localhost:8080/"
        }
      },
      "execution_count": 173,
      "outputs": [
        {
          "output_type": "execute_result",
          "data": {
            "text/plain": [
              "False"
            ]
          },
          "metadata": {},
          "execution_count": 173
        }
      ]
    },
    {
      "cell_type": "code",
      "source": [
        "x='a'\n",
        "\n",
        "if(x!='a'):\n",
        "\n",
        "  print(\"This is not a.\")\n",
        "\n",
        "else:\n",
        "\n",
        "  print(\"This is a.\") # se imprime esta opcion"
      ],
      "metadata": {
        "id": "ZFJ2rHYUXg9l",
        "outputId": "217e4419-096a-4469-a787-93e52c6a0829",
        "colab": {
          "base_uri": "https://localhost:8080/"
        }
      },
      "execution_count": 174,
      "outputs": [
        {
          "output_type": "stream",
          "name": "stdout",
          "text": [
            "This is a.\n"
          ]
        }
      ]
    },
    {
      "cell_type": "code",
      "source": [
        "# Condicional igual\n",
        "a = 5\n",
        "a == 6"
      ],
      "metadata": {
        "id": "8IHkHbuEXoJh",
        "outputId": "5027883b-a2f0-4362-c475-289db85079f2",
        "colab": {
          "base_uri": "https://localhost:8080/"
        }
      },
      "execution_count": 175,
      "outputs": [
        {
          "output_type": "execute_result",
          "data": {
            "text/plain": [
              "False"
            ]
          },
          "metadata": {},
          "execution_count": 175
        }
      ]
    },
    {
      "cell_type": "code",
      "source": [
        "# Comparacion\n",
        "i = 6\n",
        "i > 5 #pregunta si el valor de i es mayor a 5, es True"
      ],
      "metadata": {
        "id": "RSm4KRkUYJXv",
        "outputId": "277e8f5f-463e-4156-f51e-624ccce8153f",
        "colab": {
          "base_uri": "https://localhost:8080/"
        }
      },
      "execution_count": 176,
      "outputs": [
        {
          "output_type": "execute_result",
          "data": {
            "text/plain": [
              "True"
            ]
          },
          "metadata": {},
          "execution_count": 176
        }
      ]
    },
    {
      "cell_type": "code",
      "source": [
        "# Comparacion\n",
        "i = 2\n",
        "i > 5 #pregunta si el valor de i es mayor a 5, es false"
      ],
      "metadata": {
        "id": "FOb0_dOTYOoS",
        "outputId": "ce3847ee-314d-4ef4-868a-bf7fe99832db",
        "colab": {
          "base_uri": "https://localhost:8080/"
        }
      },
      "execution_count": 177,
      "outputs": [
        {
          "output_type": "execute_result",
          "data": {
            "text/plain": [
              "False"
            ]
          },
          "metadata": {},
          "execution_count": 177
        }
      ]
    },
    {
      "cell_type": "code",
      "source": [
        "# Diferente\n",
        "i = 2\n",
        "i != 6 #pregunta si el valor de i es diferente a 6, es True"
      ],
      "metadata": {
        "id": "wlblu6hLYZEE",
        "outputId": "91cf9d0f-8cb1-4088-b612-18c3617bab20",
        "colab": {
          "base_uri": "https://localhost:8080/"
        }
      },
      "execution_count": 178,
      "outputs": [
        {
          "output_type": "execute_result",
          "data": {
            "text/plain": [
              "True"
            ]
          },
          "metadata": {},
          "execution_count": 178
        }
      ]
    },
    {
      "cell_type": "code",
      "source": [
        "# Diferente\n",
        "i = 6\n",
        "i != 6  #pregunta si el valor de i es diferente a 6, es False"
      ],
      "metadata": {
        "id": "IGBilG7TYwRi",
        "outputId": "0c1fa108-ba4e-4777-ea6d-67b00a3a974e",
        "colab": {
          "base_uri": "https://localhost:8080/"
        }
      },
      "execution_count": 179,
      "outputs": [
        {
          "output_type": "execute_result",
          "data": {
            "text/plain": [
              "False"
            ]
          },
          "metadata": {},
          "execution_count": 179
        }
      ]
    },
    {
      "cell_type": "code",
      "source": [
        "# Igualdad\n",
        "\"ACDC\" == \"Michael Jackson\" #False"
      ],
      "metadata": {
        "id": "BT2Pw-DqY4wG",
        "outputId": "d64ad104-b692-4f45-a6f5-c62080aa13b5",
        "colab": {
          "base_uri": "https://localhost:8080/"
        }
      },
      "execution_count": 180,
      "outputs": [
        {
          "output_type": "execute_result",
          "data": {
            "text/plain": [
              "False"
            ]
          },
          "metadata": {},
          "execution_count": 180
        }
      ]
    },
    {
      "cell_type": "code",
      "source": [
        "# Diferencia\n",
        "\"ACDC\" != \"Michael Jackson\" #True"
      ],
      "metadata": {
        "id": "GaLP3gfqY_36",
        "outputId": "30121f16-9b4d-4c19-d9fe-a3c60bd0a146",
        "colab": {
          "base_uri": "https://localhost:8080/"
        }
      },
      "execution_count": 181,
      "outputs": [
        {
          "output_type": "execute_result",
          "data": {
            "text/plain": [
              "True"
            ]
          },
          "metadata": {},
          "execution_count": 181
        }
      ]
    },
    {
      "cell_type": "code",
      "source": [
        "#condicional if\n",
        "\n",
        "age = 19\n",
        "#age = 18\n",
        "\n",
        "#expression that can be true or false\n",
        "if age > 18:\n",
        "    \n",
        "    #within an indent, we have the expression that is run if the condition is true\n",
        "    print(\"you can enter\" )\n",
        "\n",
        "#The statements after the if statement will run regardless if the condition is true or false \n",
        "print(\"move on\")"
      ],
      "metadata": {
        "id": "N_wg5ndUZKoV",
        "outputId": "31afe2dc-8d08-48dc-b43c-96db15884438",
        "colab": {
          "base_uri": "https://localhost:8080/"
        }
      },
      "execution_count": 182,
      "outputs": [
        {
          "output_type": "stream",
          "name": "stdout",
          "text": [
            "you can enter\n",
            "move on\n"
          ]
        }
      ]
    },
    {
      "cell_type": "code",
      "source": [
        "# Condicional con else\n",
        "\n",
        "age = 18\n",
        "# age = 19\n",
        "\n",
        "if age > 18:\n",
        "    print(\"you can enter\" )\n",
        "else:\n",
        "    print(\"go see Meat Loaf\" )\n",
        "    \n",
        "print(\"move on\")"
      ],
      "metadata": {
        "id": "btP9cKNKZuFz",
        "outputId": "64828d65-5e9c-4a83-d0e9-8788d0a301c0",
        "colab": {
          "base_uri": "https://localhost:8080/"
        }
      },
      "execution_count": 183,
      "outputs": [
        {
          "output_type": "stream",
          "name": "stdout",
          "text": [
            "go see Meat Loaf\n",
            "move on\n"
          ]
        }
      ]
    },
    {
      "cell_type": "code",
      "source": [
        "# Condicional elif (else + if)\n",
        "\n",
        "age = 18\n",
        "\n",
        "if age > 18:\n",
        "    print(\"you can enter\" )\n",
        "elif age == 18:\n",
        "    print(\"go see Pink Floyd\")\n",
        "else:\n",
        "    print(\"go see Meat Loaf\" )\n",
        "    \n",
        "print(\"move on\")"
      ],
      "metadata": {
        "id": "DhVvYmwqZ2Gt",
        "outputId": "53562bda-95c5-4de4-e740-6fe1e6c4cb8c",
        "colab": {
          "base_uri": "https://localhost:8080/"
        }
      },
      "execution_count": 184,
      "outputs": [
        {
          "output_type": "stream",
          "name": "stdout",
          "text": [
            "go see Pink Floyd\n",
            "move on\n"
          ]
        }
      ]
    },
    {
      "cell_type": "code",
      "source": [
        "# Condicional AND\n",
        "\n",
        "album_year = 1980\n",
        "\n",
        "if(album_year > 1979) and (album_year < 1990):\n",
        "    print (\"Album year was in between 1980 and 1989\")\n",
        "    \n",
        "print(\"\")\n",
        "print(\"Do Stuff..\")"
      ],
      "metadata": {
        "id": "mWBRAsTtZ9PT",
        "outputId": "92cc37d7-e970-4666-ec2d-717676c0cae1",
        "colab": {
          "base_uri": "https://localhost:8080/"
        }
      },
      "execution_count": 185,
      "outputs": [
        {
          "output_type": "stream",
          "name": "stdout",
          "text": [
            "Album year was in between 1980 and 1989\n",
            "\n",
            "Do Stuff..\n"
          ]
        }
      ]
    },
    {
      "cell_type": "code",
      "source": [
        "# Condicional OR\n",
        "\n",
        "album_year = 1990\n",
        "\n",
        "if(album_year < 1980) or (album_year > 1989):\n",
        "    print (\"Album was not made in the 1980's\")\n",
        "else:\n",
        "    print(\"The Album was made in the 1980's \")"
      ],
      "metadata": {
        "id": "o4tEz4lDaI-r",
        "outputId": "8c19e9dd-46aa-4943-e398-3c6b9d4358c9",
        "colab": {
          "base_uri": "https://localhost:8080/"
        }
      },
      "execution_count": 186,
      "outputs": [
        {
          "output_type": "stream",
          "name": "stdout",
          "text": [
            "Album was not made in the 1980's\n"
          ]
        }
      ]
    },
    {
      "cell_type": "code",
      "source": [
        "# Condicional NOT\n",
        "\n",
        "album_year = 1983\n",
        "\n",
        "if not (album_year == 1984):\n",
        "    print (\"Album year is not 1984\")"
      ],
      "metadata": {
        "id": "9CkHx2K8aOye",
        "outputId": "caa07658-48df-4cf7-b7d1-42e92d289257",
        "colab": {
          "base_uri": "https://localhost:8080/"
        }
      },
      "execution_count": 187,
      "outputs": [
        {
          "output_type": "stream",
          "name": "stdout",
          "text": [
            "Album year is not 1984\n"
          ]
        }
      ]
    },
    {
      "cell_type": "markdown",
      "source": [
        "QUIZ ON CONDITIONS"
      ],
      "metadata": {
        "id": "souxbnVVbQlz"
      }
    },
    {
      "cell_type": "code",
      "source": [
        "Back_in_Black = 8.5\n",
        "\n",
        "if Back_in_Black >= 8.5:\n",
        "    print (\"This album is Amazing!\")\n",
        "else:\n",
        "    print(\"The Album isn't Amazing\")"
      ],
      "metadata": {
        "id": "9qEG4436aTNS",
        "outputId": "c6ee371d-ab95-493d-9417-d0f64e857eca",
        "colab": {
          "base_uri": "https://localhost:8080/"
        }
      },
      "execution_count": 188,
      "outputs": [
        {
          "output_type": "stream",
          "name": "stdout",
          "text": [
            "This album is Amazing!\n"
          ]
        }
      ]
    },
    {
      "cell_type": "code",
      "source": [
        "Back_in_Black = 8\n",
        "\n",
        "if Back_in_Black > 8:\n",
        "    print (\"This album is Amazing!\")\n",
        "else:\n",
        "    print(\"this album is ok\")"
      ],
      "metadata": {
        "id": "tYukBrXabV5I",
        "outputId": "b2ac467b-98ac-48f9-ff3d-ee00124545c9",
        "colab": {
          "base_uri": "https://localhost:8080/"
        }
      },
      "execution_count": 189,
      "outputs": [
        {
          "output_type": "stream",
          "name": "stdout",
          "text": [
            "this album is ok\n"
          ]
        }
      ]
    },
    {
      "cell_type": "code",
      "source": [
        "if(album_year < 1980):\n",
        "    print (\"Album was made before 1980\")\n",
        "elif(album_year == 1991):\n",
        "    print(\"The Album was made in 1991\")\n",
        "elif(album_year == 1993):\n",
        "    print(\"The Album was made in 1993\") \n",
        "else:\n",
        "    print(\"The Album wasn't made neither before 1980, nor 1991, nor 1993 \")  "
      ],
      "metadata": {
        "id": "o6H_ZXMGbXbn",
        "outputId": "043fac57-04f8-44aa-fd7d-1a6b66e36b13",
        "colab": {
          "base_uri": "https://localhost:8080/"
        }
      },
      "execution_count": 190,
      "outputs": [
        {
          "output_type": "stream",
          "name": "stdout",
          "text": [
            "The Album wasn't made neither before 1980, nor 1991, nor 1993 \n"
          ]
        }
      ]
    },
    {
      "cell_type": "markdown",
      "source": [
        "# Loops "
      ],
      "metadata": {
        "id": "qOoNIcZVf3j1"
      }
    },
    {
      "cell_type": "code",
      "source": [
        "# Imprimir los valores de la lista A uno por uno\n",
        "A=[3,4,5]\n",
        "i = 0\n",
        "for i in A:\n",
        "    print(i)"
      ],
      "metadata": {
        "id": "0m6q2Zijf3XX",
        "outputId": "a0d855cc-0852-4ec3-c7cd-1a9bac0fd45d",
        "colab": {
          "base_uri": "https://localhost:8080/"
        }
      },
      "execution_count": 191,
      "outputs": [
        {
          "output_type": "stream",
          "name": "stdout",
          "text": [
            "3\n",
            "4\n",
            "5\n"
          ]
        }
      ]
    },
    {
      "cell_type": "code",
      "source": [
        "# Valor para x \n",
        "x=11\n",
        "y=1\n",
        "while(y != x):\n",
        "    print(y)\n",
        "    y=y+1"
      ],
      "metadata": {
        "id": "8Om0B0gtczwT",
        "outputId": "004206a4-d419-4fa0-c0c2-19744345e573",
        "colab": {
          "base_uri": "https://localhost:8080/"
        }
      },
      "execution_count": 192,
      "outputs": [
        {
          "output_type": "stream",
          "name": "stdout",
          "text": [
            "1\n",
            "2\n",
            "3\n",
            "4\n",
            "5\n",
            "6\n",
            "7\n",
            "8\n",
            "9\n",
            "10\n"
          ]
        }
      ]
    },
    {
      "cell_type": "code",
      "source": [
        "# Imprimir fechas\n",
        "dates = [1982,1980,1973]\n",
        "N = len(dates)      # N se le asigna el valor del tama;o de la lista dates, N vale 3\n",
        "\n",
        "for i in range(N):  # i vale cero en un rango que vale N\n",
        "    print(dates[i])   # se imprime el contenido del indice que valga i"
      ],
      "metadata": {
        "id": "YQrX1I6Lgo-r",
        "colab": {
          "base_uri": "https://localhost:8080/"
        },
        "outputId": "08d341db-82af-44ac-fdc4-107439bdf602"
      },
      "execution_count": 193,
      "outputs": [
        {
          "output_type": "stream",
          "name": "stdout",
          "text": [
            "1982\n",
            "1980\n",
            "1973\n"
          ]
        }
      ]
    },
    {
      "cell_type": "code",
      "source": [
        "# Se imprimen numeros del cero al 7\n",
        "\n",
        "for i in range(0, 8): # i se evalua entre 0 y 8 elementos desde el indice cero, es decir del 0 al 7 \n",
        "    print(i)          # se imprime el valor de i"
      ],
      "metadata": {
        "colab": {
          "base_uri": "https://localhost:8080/"
        },
        "id": "Cto-W361CRb8",
        "outputId": "9f06b127-a481-48a8-e2dc-27ac9e474e0d"
      },
      "execution_count": 194,
      "outputs": [
        {
          "output_type": "stream",
          "name": "stdout",
          "text": [
            "0\n",
            "1\n",
            "2\n",
            "3\n",
            "4\n",
            "5\n",
            "6\n",
            "7\n"
          ]
        }
      ]
    },
    {
      "cell_type": "code",
      "source": [
        "# Impresion de a;os\n",
        "\n",
        "for year in dates:  # Similar al ejemplo anterior, pero la variable i se sustiye por 'years' y se ubica la lista 'dates' como rango\n",
        "    print(year)     # se imprime el a;o\n",
        "  "
      ],
      "metadata": {
        "colab": {
          "base_uri": "https://localhost:8080/"
        },
        "id": "OX9gFqwyCpVl",
        "outputId": "03dffb6b-63ad-49e6-a4f3-7f4f36570553"
      },
      "execution_count": 195,
      "outputs": [
        {
          "output_type": "stream",
          "name": "stdout",
          "text": [
            "1982\n",
            "1980\n",
            "1973\n"
          ]
        }
      ]
    },
    {
      "cell_type": "code",
      "source": [
        "# Cambio de listas\n",
        "\n",
        "squares = ['red', 'yellow', 'green', 'purple', 'blue']  # Lista de 5 elemntos, index desde 0 hasta 4\n",
        "\n",
        "for i in range(0, 5):     # variable i, rango: 0,1,2,3,4\n",
        "    print(\"Before square \", i, 'is',  squares[i]) # Imprime el valor que tiene el indice i y el valor de la lista en el indice i\n",
        "    squares[i] = 'white'                          # En la lista cmbia el valor que hay en el indice i por 'white'\n",
        "    print(\"After square \", i, 'is',  squares[i])  # Imprime el valor de i y el valor que ahora tiene el indice en la lista i"
      ],
      "metadata": {
        "colab": {
          "base_uri": "https://localhost:8080/"
        },
        "id": "_Wks-hsqDFBX",
        "outputId": "b6e5302b-e44c-442f-a2a5-3dffba91f7cd"
      },
      "execution_count": 196,
      "outputs": [
        {
          "output_type": "stream",
          "name": "stdout",
          "text": [
            "Before square  0 is red\n",
            "After square  0 is white\n",
            "Before square  1 is yellow\n",
            "After square  1 is white\n",
            "Before square  2 is green\n",
            "After square  2 is white\n",
            "Before square  3 is purple\n",
            "After square  3 is white\n",
            "Before square  4 is blue\n",
            "After square  4 is white\n"
          ]
        }
      ]
    },
    {
      "cell_type": "code",
      "source": [
        "# Imprimir index y contenido de la lista\n",
        "\n",
        "squares=['red', 'yellow', 'green', 'purple', 'blue']   # Lista de 5 elemntos, index desde 0 hasta 4\n",
        "\n",
        "for i, square in enumerate(squares):  # se inicializa la variable i y la variable 'square', se usa el metodo enumerare\n",
        "    print(i, square)    #imprime indice y contenido de la lista"
      ],
      "metadata": {
        "colab": {
          "base_uri": "https://localhost:8080/"
        },
        "id": "kP72mWY6DdpL",
        "outputId": "1fa9b17c-a020-46cf-d264-8c4cd1e9326b"
      },
      "execution_count": 197,
      "outputs": [
        {
          "output_type": "stream",
          "name": "stdout",
          "text": [
            "0 red\n",
            "1 yellow\n",
            "2 green\n",
            "3 purple\n",
            "4 blue\n"
          ]
        }
      ]
    },
    {
      "cell_type": "code",
      "source": [
        "# While Loop Example\n",
        "\n",
        "dates = [1982, 1980, 1973, 2000]\n",
        "\n",
        "i = 0\n",
        "year = dates[0]\n",
        "\n",
        "while(year != 1973):    \n",
        "    print(year)\n",
        "    i = i + 1\n",
        "    year = dates[i]\n",
        "    \n",
        "\n",
        "print(\"It took \", i ,\"repetitions to get out of loop.\")"
      ],
      "metadata": {
        "colab": {
          "base_uri": "https://localhost:8080/"
        },
        "id": "3JnqH9r-Ejwv",
        "outputId": "88ca1197-6156-4e77-82c8-7e2984af8ed3"
      },
      "execution_count": 198,
      "outputs": [
        {
          "output_type": "stream",
          "name": "stdout",
          "text": [
            "1982\n",
            "1980\n",
            "It took  2 repetitions to get out of loop.\n"
          ]
        }
      ]
    },
    {
      "cell_type": "code",
      "source": [
        "# Write a for loop the prints out all the element between -5 and 5 using the range function\n",
        "for i in range(-5, 6): \n",
        "    print(i) "
      ],
      "metadata": {
        "colab": {
          "base_uri": "https://localhost:8080/"
        },
        "id": "b5x-WSD0G-Ra",
        "outputId": "97985f25-d2e4-45b0-d46f-6e381b0735b4"
      },
      "execution_count": 199,
      "outputs": [
        {
          "output_type": "stream",
          "name": "stdout",
          "text": [
            "-5\n",
            "-4\n",
            "-3\n",
            "-2\n",
            "-1\n",
            "0\n",
            "1\n",
            "2\n",
            "3\n",
            "4\n",
            "5\n"
          ]
        }
      ]
    },
    {
      "cell_type": "code",
      "source": [
        "# Print the elements of the following list: Genres=[ 'rock', 'R&B', 'Soundtrack', 'R&B', 'soul', 'pop'] Make sure you follow Python conventions.\n",
        "Genres=[ 'rock', 'R&B', 'Soundtrack', 'R&B', 'soul', 'pop']\n",
        "\n",
        "for i in Genres: \n",
        "    print(i) "
      ],
      "metadata": {
        "colab": {
          "base_uri": "https://localhost:8080/"
        },
        "id": "ih_NWOK8HgQi",
        "outputId": "c71fb111-d075-4aa5-affc-c9e1ff7db944"
      },
      "execution_count": 200,
      "outputs": [
        {
          "output_type": "stream",
          "name": "stdout",
          "text": [
            "rock\n",
            "R&B\n",
            "Soundtrack\n",
            "R&B\n",
            "soul\n",
            "pop\n"
          ]
        }
      ]
    },
    {
      "cell_type": "code",
      "source": [
        "# Write a for loop that prints out the following list: squares=['red', 'yellow', 'green', 'purple', 'blue']\n",
        "squares=['red', 'yellow', 'green', 'purple', 'blue']\n",
        "\n",
        "for i in squares: \n",
        "    print(i)"
      ],
      "metadata": {
        "colab": {
          "base_uri": "https://localhost:8080/"
        },
        "id": "C4U7QTZcHxCn",
        "outputId": "3b0f5a7c-4bd6-434a-e360-7748041df897"
      },
      "execution_count": 201,
      "outputs": [
        {
          "output_type": "stream",
          "name": "stdout",
          "text": [
            "red\n",
            "yellow\n",
            "green\n",
            "purple\n",
            "blue\n"
          ]
        }
      ]
    },
    {
      "cell_type": "code",
      "source": [
        "# Write a while loop to display the values of the Rating of an album playlist stored in the list PlayListRatings. If the score is less than 6, exit the loop. The list PlayListRatings is given by:\n",
        "PlayListRatings = [10, 9.5, 10, 8, 7.5, 5, 10, 10]\n",
        "i = 0\n",
        "Rating = PlayListRatings[0]\n",
        "while(i < len(PlayListRatings) and Rating >= 6):\n",
        "    print(Rating)\n",
        "    i = i + 1 # This prints the value 10 only once \n",
        "    Rating = PlayListRatings[i]\n",
        "    i = i + 1 #Try uncommenting the line and comment the previous i = i + 1, and see the difference, 10 value will get printed twice because when the loop starts it will print Rating and then with PlayListRatings[0], it will again assign the value 10 to Ratings.\n"
      ],
      "metadata": {
        "colab": {
          "base_uri": "https://localhost:8080/"
        },
        "id": "BJG6ObbzINDd",
        "outputId": "8f32ead6-0e9a-4faf-cce6-db7a42b4ba65"
      },
      "execution_count": 202,
      "outputs": [
        {
          "output_type": "stream",
          "name": "stdout",
          "text": [
            "10\n",
            "9.5\n",
            "8\n"
          ]
        }
      ]
    },
    {
      "cell_type": "code",
      "source": [
        "# Write a while loop to copy the strings 'orange' of the list squares to the list new_squares. Stop and exit the loop if the value on the list is not 'orange'\n",
        "squares = ['orange', 'orange', 'purple', 'blue ', 'orange']\n",
        "new_squares = []\n",
        "i = 0\n",
        "while(i < len(squares) and squares[i] == 'orange'):\n",
        "    new_squares.append(squares[i])\n",
        "    i = i + 1\n",
        "print (new_squares)"
      ],
      "metadata": {
        "colab": {
          "base_uri": "https://localhost:8080/"
        },
        "id": "I5Bt0XEsLrly",
        "outputId": "e9763036-63aa-4f7a-dac9-115862dcac5e"
      },
      "execution_count": 203,
      "outputs": [
        {
          "output_type": "stream",
          "name": "stdout",
          "text": [
            "['orange', 'orange']\n"
          ]
        }
      ]
    },
    {
      "cell_type": "markdown",
      "source": [
        "## **Functions**"
      ],
      "metadata": {
        "id": "rJGXfA1FOm8s"
      }
    },
    {
      "cell_type": "code",
      "source": [
        "# funcion que multiplica\n",
        "def f(a,b):\n",
        "    \n",
        "    return a*b\n",
        "\n",
        "a=4\n",
        "b=2\n",
        "\n",
        "if a*b==f(a,b):   \n",
        "    print(\"Correct.\")   \n",
        "else:    \n",
        "    print(\"Incorrect.\")"
      ],
      "metadata": {
        "id": "2RlmjZWkLyYY",
        "outputId": "cf5773ec-f18c-4eb7-f346-e47feb120682",
        "colab": {
          "base_uri": "https://localhost:8080/"
        }
      },
      "execution_count": 204,
      "outputs": [
        {
          "output_type": "stream",
          "name": "stdout",
          "text": [
            "Correct.\n"
          ]
        }
      ]
    },
    {
      "cell_type": "code",
      "source": [
        "# Funsion que suma los elemntos de una lista\n",
        "def g(c):\n",
        "\n",
        "    return sum(c)\n",
        "\n",
        "c=[1,2,3,4,5]\n",
        "\n",
        "if sum(c)==g(c):   \n",
        "    print(\"Correct.\")   \n",
        "else:    \n",
        "    print(\"Incorrect.\")"
      ],
      "metadata": {
        "id": "jufZMvIFOlWa",
        "outputId": "77d2cae5-9d98-4a3f-bb27-9e43b0e542a4",
        "colab": {
          "base_uri": "https://localhost:8080/"
        }
      },
      "execution_count": 205,
      "outputs": [
        {
          "output_type": "stream",
          "name": "stdout",
          "text": [
            "Correct.\n"
          ]
        }
      ]
    },
    {
      "cell_type": "code",
      "source": [
        "def f(*x):\n",
        "\n",
        "  return sum(x) "
      ],
      "metadata": {
        "id": "BX0cLDzKPNjf"
      },
      "execution_count": 206,
      "outputs": []
    },
    {
      "cell_type": "code",
      "source": [
        "# Sumar 1 a b y retornar b\n",
        "\n",
        "def add(a): # Se define la funcion\n",
        "    \"\"\"\n",
        "    add 1 to a\n",
        "    \"\"\"\n",
        "    b = a + 1 # se hace la operacion de adicion a b\n",
        "    print(a, \"if you add one\", b)\n",
        "    return(b) # regresa a b"
      ],
      "metadata": {
        "id": "HF10zxj_PqK1"
      },
      "execution_count": 207,
      "outputs": []
    },
    {
      "cell_type": "code",
      "source": [
        "# Para obtener informcion de una funcion\n",
        "help(add)"
      ],
      "metadata": {
        "id": "e3AVhxNXHTSh",
        "outputId": "17e8512e-26bd-453f-e967-7591d6598f38",
        "colab": {
          "base_uri": "https://localhost:8080/"
        }
      },
      "execution_count": 208,
      "outputs": [
        {
          "output_type": "stream",
          "name": "stdout",
          "text": [
            "Help on function add in module __main__:\n",
            "\n",
            "add(a)\n",
            "    add 1 to a\n",
            "\n"
          ]
        }
      ]
    },
    {
      "cell_type": "code",
      "source": [
        "# Crear funcion con multiples parametros\n",
        "\n",
        "def Mult(a, b):\n",
        "    c = a * b\n",
        "    return(c)\n",
        "    print('This is not printed')\n",
        "    \n",
        "result = Mult(12,2)\n",
        "print(result)"
      ],
      "metadata": {
        "id": "saVhPj7NHgF5",
        "outputId": "a544c38f-43e2-43ac-fa8f-4bb46ac27928",
        "colab": {
          "base_uri": "https://localhost:8080/"
        }
      },
      "execution_count": 209,
      "outputs": [
        {
          "output_type": "stream",
          "name": "stdout",
          "text": [
            "24\n"
          ]
        }
      ]
    },
    {
      "cell_type": "code",
      "source": [
        "# Toda variable fuera de la funcion es variable global\n",
        "\n",
        "def square(a):\n",
        "    \n",
        "    # Variables locales b y c\n",
        "    b = 1\n",
        "    c = a * a + b\n",
        "    print(a, \"if you square + 1\", c) \n",
        "    return(c)"
      ],
      "metadata": {
        "id": "hN8YbadHIekH"
      },
      "execution_count": 210,
      "outputs": []
    },
    {
      "cell_type": "code",
      "source": [
        "# Funciones equivalentes, no retornan valor de la funcion.\n",
        "\n",
        "def MJ():\n",
        "    print('Michael Jackson 1')\n",
        "    \n",
        "def MJ1():\n",
        "    print('Michael Jackson 2 ')\n",
        "    return(None)\n",
        "\n",
        "MJ()\n",
        "MJ1()"
      ],
      "metadata": {
        "id": "3_HTeQl9IsLi",
        "outputId": "8ea13ded-d2a7-49fb-f6e8-9ecf426534d6",
        "colab": {
          "base_uri": "https://localhost:8080/"
        }
      },
      "execution_count": 211,
      "outputs": [
        {
          "output_type": "stream",
          "name": "stdout",
          "text": [
            "Michael Jackson 1\n",
            "Michael Jackson 2 \n"
          ]
        }
      ]
    },
    {
      "cell_type": "code",
      "source": [
        "# Printing the function after a call reveals a None is the default return statement:\n",
        "print(MJ())\n",
        "print(MJ1())"
      ],
      "metadata": {
        "id": "RDbR4OaQNES0",
        "outputId": "093d893b-0a78-4d84-b6fc-ec37171ddc69",
        "colab": {
          "base_uri": "https://localhost:8080/"
        }
      },
      "execution_count": 212,
      "outputs": [
        {
          "output_type": "stream",
          "name": "stdout",
          "text": [
            "Michael Jackson 1\n",
            "None\n",
            "Michael Jackson 2 \n",
            "None\n"
          ]
        }
      ]
    },
    {
      "cell_type": "code",
      "source": [
        "# Funcion para concatenar dos strings\n",
        "def con(a, b):\n",
        "    return(a + b)\n",
        "\n",
        "con(\"This \", \"is\")"
      ],
      "metadata": {
        "id": "vgX6mLYaNYet",
        "outputId": "9592fc79-1f83-4e9b-9863-31813216138e",
        "colab": {
          "base_uri": "https://localhost:8080/",
          "height": 36
        }
      },
      "execution_count": 213,
      "outputs": [
        {
          "output_type": "execute_result",
          "data": {
            "text/plain": [
              "'This is'"
            ],
            "application/vnd.google.colaboratory.intrinsic+json": {
              "type": "string"
            }
          },
          "metadata": {},
          "execution_count": 213
        }
      ]
    },
    {
      "cell_type": "code",
      "source": [
        "# Programa 1 calcular un valor\n",
        "\n",
        "a1 = 4\n",
        "b1 = 5\n",
        "c1 = a1 + b1 + 2 * a1 * b1 - 1\n",
        "if(c1 < 0):\n",
        "    c1 = 0 \n",
        "else:\n",
        "    c1 = 5\n",
        "c1  "
      ],
      "metadata": {
        "id": "3-u6sRK-Nl10",
        "outputId": "b06f69d6-f864-437c-d199-51f4bf3f78a4",
        "colab": {
          "base_uri": "https://localhost:8080/"
        }
      },
      "execution_count": 214,
      "outputs": [
        {
          "output_type": "execute_result",
          "data": {
            "text/plain": [
              "5"
            ]
          },
          "metadata": {},
          "execution_count": 214
        }
      ]
    },
    {
      "cell_type": "code",
      "source": [
        "# Segundo ejeprograma para calcular\n",
        "\n",
        "a2 = 0\n",
        "b2 = 0\n",
        "c2 = a2 + b2 + 2 * a2 * b2 - 1\n",
        "if(c2 < 0):\n",
        "    c2 = 0 \n",
        "else:\n",
        "    c2 = 5\n",
        "c2   "
      ],
      "metadata": {
        "id": "qjhuVZJMOACy",
        "outputId": "27d7cb9a-7b2c-4ab9-a94d-95de046cc047",
        "colab": {
          "base_uri": "https://localhost:8080/"
        }
      },
      "execution_count": 215,
      "outputs": [
        {
          "output_type": "execute_result",
          "data": {
            "text/plain": [
              "0"
            ]
          },
          "metadata": {},
          "execution_count": 215
        }
      ]
    },
    {
      "cell_type": "code",
      "source": [
        "#  funcion que realiza las operaciones de los dos bloques anteriores y puede ser reutilizada\n",
        "def Equation(a,b):\n",
        "    c = a + b + 2 * a * b - 1\n",
        "    if(c < 0):\n",
        "        c = 0 \n",
        "    else:\n",
        "        c = 5\n",
        "    return(c) "
      ],
      "metadata": {
        "id": "4Ap5Z8mROE0u"
      },
      "execution_count": 216,
      "outputs": []
    },
    {
      "cell_type": "code",
      "source": [
        "# Ejemplo de ejecucion de funcion del bloque anterior\n",
        "a1 = 4\n",
        "b1 = 5\n",
        "c1 = Equation(a1, b1)\n",
        "c1"
      ],
      "metadata": {
        "id": "wTb7WqM0Pp04",
        "outputId": "29fa6a8f-2785-4f54-aa70-b2320a7c1485",
        "colab": {
          "base_uri": "https://localhost:8080/"
        }
      },
      "execution_count": 217,
      "outputs": [
        {
          "output_type": "execute_result",
          "data": {
            "text/plain": [
              "5"
            ]
          },
          "metadata": {},
          "execution_count": 217
        }
      ]
    },
    {
      "cell_type": "code",
      "source": [
        "# Ejemplo de ejecucion de funcion del bloque anterior\n",
        "\n",
        "a2 = 0\n",
        "b2 = 0\n",
        "c2 = Equation(a2, b2)\n",
        "c2"
      ],
      "metadata": {
        "id": "YG2EJAiUP0TD",
        "outputId": "d2ebd3f8-223b-47b2-a2e9-ff90aa124e65",
        "colab": {
          "base_uri": "https://localhost:8080/"
        }
      },
      "execution_count": 218,
      "outputs": [
        {
          "output_type": "execute_result",
          "data": {
            "text/plain": [
              "0"
            ]
          },
          "metadata": {},
          "execution_count": 218
        }
      ]
    },
    {
      "cell_type": "code",
      "source": [
        "# Funciones predefinidas\n",
        "\n",
        "album_ratings = [10.0, 8.5, 9.5, 7.0, 7.0, 9.5, 9.0, 9.5] # Crear una lista\n",
        "print(album_ratings)"
      ],
      "metadata": {
        "id": "EU5QJLJ6P7G4",
        "outputId": "33cc3ff6-fd58-4730-d2e7-32a86d559959",
        "colab": {
          "base_uri": "https://localhost:8080/"
        }
      },
      "execution_count": 219,
      "outputs": [
        {
          "output_type": "stream",
          "name": "stdout",
          "text": [
            "[10.0, 8.5, 9.5, 7.0, 7.0, 9.5, 9.0, 9.5]\n"
          ]
        }
      ]
    },
    {
      "cell_type": "code",
      "source": [
        "sum(album_ratings)  # Funcion predefinida que suma los elementos numericos contenidos en la lista"
      ],
      "metadata": {
        "id": "Pfe6u-kLSNFW",
        "outputId": "72dec83c-ffae-4b54-b0ef-e7932742c851",
        "colab": {
          "base_uri": "https://localhost:8080/"
        }
      },
      "execution_count": 220,
      "outputs": [
        {
          "output_type": "execute_result",
          "data": {
            "text/plain": [
              "70.0"
            ]
          },
          "metadata": {},
          "execution_count": 220
        }
      ]
    },
    {
      "cell_type": "code",
      "source": [
        "len(album_ratings)  # funcion que muestra el tama;o de la lista (Muestra el tama;o en cantidad de indices)"
      ],
      "metadata": {
        "id": "C7OSSZwvSTo7",
        "outputId": "73eb0836-a1fa-4b89-9a71-744d433d9bec",
        "colab": {
          "base_uri": "https://localhost:8080/"
        }
      },
      "execution_count": 221,
      "outputs": [
        {
          "output_type": "execute_result",
          "data": {
            "text/plain": [
              "8"
            ]
          },
          "metadata": {},
          "execution_count": 221
        }
      ]
    },
    {
      "cell_type": "code",
      "source": [
        "# Funcion de comparacion\n",
        "\n",
        "def type_of_album(artist, album, year_released):\n",
        "    \n",
        "    print(artist, album, year_released)\n",
        "    if year_released > 1980:\n",
        "        return \"Modern\"\n",
        "    else:\n",
        "        return \"Oldie\"\n",
        "    \n",
        "x = type_of_album(\"Michael Jackson\", \"Thriller\", 1980)\n",
        "print(x)"
      ],
      "metadata": {
        "id": "BLjLQ-z2SeZ8",
        "outputId": "1b5de59f-ff07-449f-d0ef-62362c893e7a",
        "colab": {
          "base_uri": "https://localhost:8080/"
        }
      },
      "execution_count": 222,
      "outputs": [
        {
          "output_type": "stream",
          "name": "stdout",
          "text": [
            "Michael Jackson Thriller 1980\n",
            "Oldie\n"
          ]
        }
      ]
    },
    {
      "cell_type": "code",
      "source": [
        "# Imprime las lista haciendo uso de ciclo for\n",
        "\n",
        "def PrintList(the_list):    # Se deficne la funcion que toma como parametro las lista\n",
        "    for element in the_list:\n",
        "        print(element)\n",
        "\n",
        "PrintList(['1', 1, 'the man', \"abc\"]) # Se llama a la funcion y se definen los parametros que se van ingresar"
      ],
      "metadata": {
        "id": "6AWQ-ILPSpsk",
        "outputId": "58c96dc6-c81d-4433-c62f-efd47726d6b8",
        "colab": {
          "base_uri": "https://localhost:8080/"
        }
      },
      "execution_count": 223,
      "outputs": [
        {
          "output_type": "stream",
          "name": "stdout",
          "text": [
            "1\n",
            "1\n",
            "the man\n",
            "abc\n"
          ]
        }
      ]
    },
    {
      "cell_type": "code",
      "source": [
        "# Example for setting param with default value\n",
        "\n",
        "def isGoodRating(rating=4): # Evalua el parametro ingresado\n",
        "    if(rating < 7):\n",
        "        print(\"this album sucks it's rating is\",rating)\n",
        "        \n",
        "    else:\n",
        "        print(\"this album is good its rating is\",rating)\n",
        "\n",
        "isGoodRating()    # Llamado a funcion sin parametro\n",
        "isGoodRating(10)  # llamado a funcion con parametro"
      ],
      "metadata": {
        "id": "RtijFXG8Sy8i",
        "outputId": "f49b256f-283d-4155-97eb-656414499ef3",
        "colab": {
          "base_uri": "https://localhost:8080/"
        }
      },
      "execution_count": 224,
      "outputs": [
        {
          "output_type": "stream",
          "name": "stdout",
          "text": [
            "this album sucks it's rating is 4\n",
            "this album is good its rating is 10\n"
          ]
        }
      ]
    },
    {
      "cell_type": "code",
      "source": [
        "# Variables globales\n",
        "\n",
        "artist = \"Michael Jackson\"  #  'artist' es una variable que esta por fuera de la funcion, por lo tanto es una variable global\n",
        "def printer1(artist):\n",
        "    internal_var1 = artist\n",
        "    print(artist, \"is an artist\")\n",
        "\n",
        "printer1(artist)"
      ],
      "metadata": {
        "id": "BpKXAn8tVla5",
        "outputId": "4d3a394a-3cba-4889-e8b6-b2b3a665de7f",
        "colab": {
          "base_uri": "https://localhost:8080/"
        }
      },
      "execution_count": 225,
      "outputs": [
        {
          "output_type": "stream",
          "name": "stdout",
          "text": [
            "Michael Jackson is an artist\n"
          ]
        }
      ]
    },
    {
      "cell_type": "code",
      "source": [
        "artist = \"Michael Jackson\"    #Variable GLOBAL\n",
        "\n",
        "def printer(artist):\n",
        "    global internal_var \n",
        "    internal_var= \"Whitney Houston\"   # Variable LOCAL\n",
        "    print(artist,\"is an artist\")\n",
        "\n",
        "printer(artist) \n",
        "printer(internal_var)"
      ],
      "metadata": {
        "id": "56OKOmt3WL7Y",
        "outputId": "347eacf0-8a0a-4c50-cb15-28c647cccce5",
        "colab": {
          "base_uri": "https://localhost:8080/"
        }
      },
      "execution_count": 226,
      "outputs": [
        {
          "output_type": "stream",
          "name": "stdout",
          "text": [
            "Michael Jackson is an artist\n",
            "Whitney Houston is an artist\n"
          ]
        }
      ]
    },
    {
      "cell_type": "code",
      "source": [
        "# Variable local y global con el mismo nombre\n",
        "\n",
        "myFavouriteBand = \"AC/DC\"   # Variable global\n",
        "\n",
        "def getBandRating(bandname):\n",
        "    myFavouriteBand = \"Deep Purple\" # Variable local\n",
        "    if bandname == myFavouriteBand:\n",
        "        return 10.0\n",
        "    else:\n",
        "        return 0.0\n",
        "\n",
        "print(\"AC/DC's rating is:\",getBandRating(\"AC/DC\"))              \n",
        "print(\"Deep Purple's rating is: \",getBandRating(\"Deep Purple\")) \n",
        "print(\"My favourite band is:\",myFavouriteBand)                  # Variable global  "
      ],
      "metadata": {
        "id": "8N88mj9ngvmU",
        "outputId": "8de0b0bb-aad7-4138-afd7-8fde6308f7b5",
        "colab": {
          "base_uri": "https://localhost:8080/"
        }
      },
      "execution_count": 228,
      "outputs": [
        {
          "output_type": "stream",
          "name": "stdout",
          "text": [
            "AC/DC's rating is: 0.0\n",
            "Deep Purple's rating is:  10.0\n",
            "My favourite band is: AC/DC\n"
          ]
        }
      ]
    },
    {
      "cell_type": "code",
      "source": [
        "# When the number of arguments are unknown for a function, They can all be packed into a tuple as shown:\n",
        "\n",
        "def printAll(*args): # All the arguments are 'packed' into args which can be treated like a tuple\n",
        "    print(\"No of arguments:\", len(args)) \n",
        "    for argument in args:\n",
        "        print(argument)\n",
        "#printAll with 3 arguments\n",
        "printAll('Horsefeather','Adonis','Bone')\n",
        "#printAll with 4 arguments\n",
        "printAll('Sidecar','Long Island','Mudslide','Carriage')"
      ],
      "metadata": {
        "id": "l4B9IUCLIR0q",
        "outputId": "859b6289-8249-4a48-f0eb-56242df05add",
        "colab": {
          "base_uri": "https://localhost:8080/"
        }
      },
      "execution_count": 229,
      "outputs": [
        {
          "output_type": "stream",
          "name": "stdout",
          "text": [
            "No of arguments: 3\n",
            "Horsefeather\n",
            "Adonis\n",
            "Bone\n",
            "No of arguments: 4\n",
            "Sidecar\n",
            "Long Island\n",
            "Mudslide\n",
            "Carriage\n"
          ]
        }
      ]
    },
    {
      "cell_type": "code",
      "source": [
        "# Similarly, The arguments can also be packed into a dictionary as shown:\n",
        "\n",
        "def printDictionary(**args):\n",
        "    for key in args:\n",
        "        print(key + \" : \" + args[key])\n",
        "\n",
        "printDictionary(Country='Canada',Province='Ontario',City='Toronto')"
      ],
      "metadata": {
        "id": "xJlA5PggImRQ",
        "outputId": "3eb3cf61-6316-4c2b-9241-9355d5a6b6df",
        "colab": {
          "base_uri": "https://localhost:8080/"
        }
      },
      "execution_count": 230,
      "outputs": [
        {
          "output_type": "stream",
          "name": "stdout",
          "text": [
            "Country : Canada\n",
            "Province : Ontario\n",
            "City : Toronto\n"
          ]
        }
      ]
    },
    {
      "cell_type": "code",
      "source": [
        "# Functions can be incredibly powerful and versatile. They can accept (and return) data types, objects and even other functions as arguements. Consider the example below:\n",
        "\n",
        "def addItems(list):\n",
        "    list.append(\"Three\")\n",
        "    list.append(\"Four\")\n",
        "\n",
        "myList = [\"One\",\"Two\"]\n",
        "\n",
        "addItems(myList)\n",
        "\n",
        "myList\n"
      ],
      "metadata": {
        "id": "6ZtTZVL7JPQ9",
        "outputId": "d0f9d08d-aaa4-4588-bf8e-d28ea90d71fc",
        "colab": {
          "base_uri": "https://localhost:8080/"
        }
      },
      "execution_count": 231,
      "outputs": [
        {
          "output_type": "execute_result",
          "data": {
            "text/plain": [
              "['One', 'Two', 'Three', 'Four']"
            ]
          },
          "metadata": {},
          "execution_count": 231
        }
      ]
    },
    {
      "cell_type": "code",
      "source": [
        "# Funcion que divide\n",
        "\n",
        "def div(a, b):\n",
        "    return(a/b)"
      ],
      "metadata": {
        "id": "BvH7OQ0eJZdP"
      },
      "execution_count": 232,
      "outputs": []
    },
    {
      "cell_type": "code",
      "source": [
        "# Funcion que suma \n",
        "\n",
        "def con(a, b):\n",
        "    return(a + b)\n",
        "con(2, 2)     # Enteros ingresados para sumar"
      ],
      "metadata": {
        "id": "dNWpCNC6JhY1",
        "outputId": "a32805b0-327b-423a-fbf1-743dd6a645f5",
        "colab": {
          "base_uri": "https://localhost:8080/"
        }
      },
      "execution_count": 235,
      "outputs": [
        {
          "output_type": "execute_result",
          "data": {
            "text/plain": [
              "4"
            ]
          },
          "metadata": {},
          "execution_count": 235
        }
      ]
    },
    {
      "cell_type": "code",
      "source": [
        " # Listas ingresadas para ser sumar\n",
        "\n",
        "con(['a', 1], ['b', 1])"
      ],
      "metadata": {
        "id": "NBM5kXy7JyqD",
        "outputId": "2b3c75ad-0ac6-4633-880a-48f634d54bca",
        "colab": {
          "base_uri": "https://localhost:8080/"
        }
      },
      "execution_count": 237,
      "outputs": [
        {
          "output_type": "execute_result",
          "data": {
            "text/plain": [
              "['a', 1, 'b', 1]"
            ]
          },
          "metadata": {},
          "execution_count": 237
        }
      ]
    },
    {
      "cell_type": "markdown",
      "source": [
        "# Objects and Classes"
      ],
      "metadata": {
        "id": "VZPNNc1MKymt"
      }
    },
    {
      "cell_type": "code",
      "source": [],
      "metadata": {
        "id": "xDQSH9eLKC7w"
      },
      "execution_count": null,
      "outputs": []
    }
  ]
}