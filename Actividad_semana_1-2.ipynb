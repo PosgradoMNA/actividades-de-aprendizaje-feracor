{
  "nbformat": 4,
  "nbformat_minor": 0,
  "metadata": {
    "colab": {
      "provenance": [],
      "authorship_tag": "ABX9TyNbfmQf0R/o9uhbqB0g8FSp",
      "include_colab_link": true
    },
    "kernelspec": {
      "name": "python3",
      "display_name": "Python 3"
    },
    "language_info": {
      "name": "python"
    }
  },
  "cells": [
    {
      "cell_type": "markdown",
      "metadata": {
        "id": "view-in-github",
        "colab_type": "text"
      },
      "source": [
        "<a href=\"https://colab.research.google.com/github/PosgradoMNA/actividades-de-aprendizaje-feracor/blob/main/Actividad_semana_1-2.ipynb\" target=\"_parent\"><img src=\"https://colab.research.google.com/assets/colab-badge.svg\" alt=\"Open In Colab\"/></a>"
      ]
    },
    {
      "cell_type": "markdown",
      "source": [
        "**Fernando Acevedo Ortegate - Tecnologico de Monterrey - A01794022**"
      ],
      "metadata": {
        "id": "YoWedGi68p3_"
      }
    },
    {
      "cell_type": "markdown",
      "source": [
        "Your First Program"
      ],
      "metadata": {
        "id": "HiFncSho-OVz"
      }
    },
    {
      "cell_type": "code",
      "execution_count": null,
      "metadata": {
        "id": "ZvaWqoH068wQ",
        "colab": {
          "base_uri": "https://localhost:8080/"
        },
        "outputId": "892a801e-16d9-45e0-a1a5-87899636782b"
      },
      "outputs": [
        {
          "output_type": "stream",
          "name": "stdout",
          "text": [
            "Hello \n",
            "world!\n"
          ]
        }
      ],
      "source": [
        "print ('Hello \\nworld!')"
      ]
    },
    {
      "cell_type": "code",
      "source": [
        "# print('Hello World!')"
      ],
      "metadata": {
        "id": "pDit0VQS8pJ0"
      },
      "execution_count": null,
      "outputs": []
    },
    {
      "cell_type": "markdown",
      "source": [
        "Types"
      ],
      "metadata": {
        "id": "YLnwl0t2-hRq"
      }
    },
    {
      "cell_type": "code",
      "source": [
        " type(int(1.0))"
      ],
      "metadata": {
        "colab": {
          "base_uri": "https://localhost:8080/"
        },
        "id": "TcP3WQj6-pe1",
        "outputId": "b0f4d19a-96a6-4c25-97cb-9706dbefc205"
      },
      "execution_count": null,
      "outputs": [
        {
          "output_type": "execute_result",
          "data": {
            "text/plain": [
              "int"
            ]
          },
          "metadata": {},
          "execution_count": 3
        }
      ]
    },
    {
      "cell_type": "code",
      "source": [
        "bool(1)"
      ],
      "metadata": {
        "colab": {
          "base_uri": "https://localhost:8080/"
        },
        "id": "mU0zLaiH-p7C",
        "outputId": "5f4eccfb-0653-45b7-d728-c81b651f4e56"
      },
      "execution_count": null,
      "outputs": [
        {
          "output_type": "execute_result",
          "data": {
            "text/plain": [
              "True"
            ]
          },
          "metadata": {},
          "execution_count": 4
        }
      ]
    },
    {
      "cell_type": "markdown",
      "source": [
        "**Expressions and Variables**"
      ],
      "metadata": {
        "id": "7_kFTXlsBgQw"
      }
    },
    {
      "cell_type": "code",
      "source": [
        "43+60+16+41"
      ],
      "metadata": {
        "colab": {
          "base_uri": "https://localhost:8080/"
        },
        "id": "mUGbrHvXBfdg",
        "outputId": "c3dc72cd-75f6-44cf-a165-1f7467258aff"
      },
      "execution_count": null,
      "outputs": [
        {
          "output_type": "execute_result",
          "data": {
            "text/plain": [
              "160"
            ]
          },
          "metadata": {},
          "execution_count": 5
        }
      ]
    },
    {
      "cell_type": "code",
      "source": [
        "25/5"
      ],
      "metadata": {
        "colab": {
          "base_uri": "https://localhost:8080/"
        },
        "id": "NCxgY3RABvdj",
        "outputId": "6b0999d3-78ee-4db3-adba-378e372de35e"
      },
      "execution_count": null,
      "outputs": [
        {
          "output_type": "execute_result",
          "data": {
            "text/plain": [
              "5.0"
            ]
          },
          "metadata": {},
          "execution_count": 6
        }
      ]
    },
    {
      "cell_type": "code",
      "source": [
        "2*60+30"
      ],
      "metadata": {
        "colab": {
          "base_uri": "https://localhost:8080/"
        },
        "id": "c0nfB9QdB3yS",
        "outputId": "cd655ade-e4a6-4b14-eb3d-c0d4189be81c"
      },
      "execution_count": null,
      "outputs": [
        {
          "output_type": "execute_result",
          "data": {
            "text/plain": [
              "150"
            ]
          },
          "metadata": {},
          "execution_count": 7
        }
      ]
    },
    {
      "cell_type": "code",
      "source": [
        "(30+2)*60"
      ],
      "metadata": {
        "colab": {
          "base_uri": "https://localhost:8080/"
        },
        "id": "tsIOx81PB8OW",
        "outputId": "189104b1-b9ff-4fc6-e680-203997133210"
      },
      "execution_count": null,
      "outputs": [
        {
          "output_type": "execute_result",
          "data": {
            "text/plain": [
              "1920"
            ]
          },
          "metadata": {},
          "execution_count": 8
        }
      ]
    },
    {
      "cell_type": "code",
      "source": [
        "my_var = 5\n",
        "print (my_var)"
      ],
      "metadata": {
        "colab": {
          "base_uri": "https://localhost:8080/"
        },
        "id": "1LbA6dkbCEjO",
        "outputId": "ac20aa99-e13f-407d-83e3-4fd0a01f272f"
      },
      "execution_count": null,
      "outputs": [
        {
          "output_type": "stream",
          "name": "stdout",
          "text": [
            "5\n"
          ]
        }
      ]
    },
    {
      "cell_type": "code",
      "source": [
        "x = 43+60+16+41\n",
        "print (x)"
      ],
      "metadata": {
        "colab": {
          "base_uri": "https://localhost:8080/"
        },
        "id": "QhVf4hGaC-bM",
        "outputId": "93bb02c5-d9eb-4b65-a71e-addce6fc15c0"
      },
      "execution_count": null,
      "outputs": [
        {
          "output_type": "stream",
          "name": "stdout",
          "text": [
            "160\n"
          ]
        }
      ]
    },
    {
      "cell_type": "code",
      "source": [
        "  y = x/60\n",
        "  print (y)"
      ],
      "metadata": {
        "colab": {
          "base_uri": "https://localhost:8080/"
        },
        "id": "gRvJzjI-C-0R",
        "outputId": "731efd88-6efd-45a0-d561-2e45805b770c"
      },
      "execution_count": null,
      "outputs": [
        {
          "output_type": "stream",
          "name": "stdout",
          "text": [
            "2.6666666666666665\n"
          ]
        }
      ]
    },
    {
      "cell_type": "code",
      "source": [
        "total_min = 43+42\n",
        "total_hr = total_min/60\n",
        "print (total_hr)"
      ],
      "metadata": {
        "colab": {
          "base_uri": "https://localhost:8080/"
        },
        "id": "p_a5C2ChC-7p",
        "outputId": "c3437bc3-412b-4191-ef2f-350b66d64796"
      },
      "execution_count": null,
      "outputs": [
        {
          "output_type": "stream",
          "name": "stdout",
          "text": [
            "1.4166666666666667\n"
          ]
        }
      ]
    },
    {
      "cell_type": "markdown",
      "source": [
        "Lab - Write Your First Python Code!"
      ],
      "metadata": {
        "id": "OdGBEm8WC_KE"
      }
    },
    {
      "cell_type": "code",
      "source": [
        "import sys\n",
        "print(sys.version)"
      ],
      "metadata": {
        "colab": {
          "base_uri": "https://localhost:8080/"
        },
        "id": "8SZFsPwdC_Ac",
        "outputId": "e0fedd31-4dfc-46d5-aca7-5e8e3077654b"
      },
      "execution_count": null,
      "outputs": [
        {
          "output_type": "stream",
          "name": "stdout",
          "text": [
            "3.7.14 (default, Sep  8 2022, 00:06:44) \n",
            "[GCC 7.5.0]\n"
          ]
        }
      ]
    },
    {
      "cell_type": "code",
      "source": [
        "# Practice on writing comments\n",
        "\n",
        "print('Hi Fernando!') # This line prints a string\n",
        "# print('Hi')"
      ],
      "metadata": {
        "colab": {
          "base_uri": "https://localhost:8080/"
        },
        "id": "FaXyickoC_EH",
        "outputId": "f3cc5177-1374-4cd6-eb80-979aaf3e585e"
      },
      "execution_count": null,
      "outputs": [
        {
          "output_type": "stream",
          "name": "stdout",
          "text": [
            "Hi Fernando!\n"
          ]
        }
      ]
    },
    {
      "cell_type": "code",
      "source": [
        "# Practice on writing comments\n",
        "\n",
        "print('Hi!') # This line prints a string\n",
        "# print('Hi')"
      ],
      "metadata": {
        "colab": {
          "base_uri": "https://localhost:8080/"
        },
        "id": "0LflkznvC_HC",
        "outputId": "81a38231-6e54-4c34-9cfb-4b89d4612bf3"
      },
      "execution_count": null,
      "outputs": [
        {
          "output_type": "stream",
          "name": "stdout",
          "text": [
            "Hi!\n"
          ]
        }
      ]
    },
    {
      "cell_type": "code",
      "source": [
        "type(12.0)"
      ],
      "metadata": {
        "colab": {
          "base_uri": "https://localhost:8080/"
        },
        "id": "4GsmicU9DEBM",
        "outputId": "89dc4a96-e519-44b1-cea8-c2592343d14b"
      },
      "execution_count": null,
      "outputs": [
        {
          "output_type": "execute_result",
          "data": {
            "text/plain": [
              "float"
            ]
          },
          "metadata": {},
          "execution_count": 16
        }
      ]
    },
    {
      "cell_type": "code",
      "source": [
        "sys.float_info"
      ],
      "metadata": {
        "colab": {
          "base_uri": "https://localhost:8080/"
        },
        "id": "XFz8IpJfDEs0",
        "outputId": "da512197-8bf8-4324-aa41-2c8412cd4371"
      },
      "execution_count": null,
      "outputs": [
        {
          "output_type": "execute_result",
          "data": {
            "text/plain": [
              "sys.float_info(max=1.7976931348623157e+308, max_exp=1024, max_10_exp=308, min=2.2250738585072014e-308, min_exp=-1021, min_10_exp=-307, dig=15, mant_dig=53, epsilon=2.220446049250313e-16, radix=2, rounds=1)"
            ]
          },
          "metadata": {},
          "execution_count": 17
        }
      ]
    },
    {
      "cell_type": "code",
      "source": [
        "float(True)"
      ],
      "metadata": {
        "colab": {
          "base_uri": "https://localhost:8080/"
        },
        "id": "qZFoPhk5DE7B",
        "outputId": "714ff690-fce7-4679-f035-b2bfcc628cd8"
      },
      "execution_count": null,
      "outputs": [
        {
          "output_type": "execute_result",
          "data": {
            "text/plain": [
              "1.0"
            ]
          },
          "metadata": {},
          "execution_count": 18
        }
      ]
    },
    {
      "cell_type": "code",
      "source": [
        "bool(2)"
      ],
      "metadata": {
        "colab": {
          "base_uri": "https://localhost:8080/"
        },
        "id": "xc-BhhAxDFgO",
        "outputId": "6c87ad3c-9ecc-4bb0-9497-62f6006facd9"
      },
      "execution_count": null,
      "outputs": [
        {
          "output_type": "execute_result",
          "data": {
            "text/plain": [
              "True"
            ]
          },
          "metadata": {},
          "execution_count": 19
        }
      ]
    },
    {
      "cell_type": "code",
      "source": [
        "type(6/2)"
      ],
      "metadata": {
        "colab": {
          "base_uri": "https://localhost:8080/"
        },
        "id": "jSHC1UHlDGT6",
        "outputId": "cae67b17-3c9f-401f-9dba-904d8fdef80e"
      },
      "execution_count": null,
      "outputs": [
        {
          "output_type": "execute_result",
          "data": {
            "text/plain": [
              "float"
            ]
          },
          "metadata": {},
          "execution_count": 20
        }
      ]
    },
    {
      "cell_type": "markdown",
      "source": [],
      "metadata": {
        "id": "Cy22da0qC_25"
      }
    },
    {
      "cell_type": "code",
      "source": [
        "type(6//2)"
      ],
      "metadata": {
        "id": "odFyg95bPtXL",
        "outputId": "f23501bd-e2a4-4358-8c95-5e614f1e5230",
        "colab": {
          "base_uri": "https://localhost:8080/"
        }
      },
      "execution_count": null,
      "outputs": [
        {
          "output_type": "execute_result",
          "data": {
            "text/plain": [
              "int"
            ]
          },
          "metadata": {},
          "execution_count": 21
        }
      ]
    },
    {
      "cell_type": "markdown",
      "source": [
        "**String Operations**"
      ],
      "metadata": {
        "id": "3t3g8VPAPtsq"
      }
    },
    {
      "cell_type": "code",
      "source": [
        "name = \"Michael Jackson\"\n",
        "name"
      ],
      "metadata": {
        "colab": {
          "base_uri": "https://localhost:8080/",
          "height": 36
        },
        "id": "88xubZcJpp4v",
        "outputId": "4850fb9b-9f5c-4600-9c20-7b32c89e642e"
      },
      "execution_count": null,
      "outputs": [
        {
          "output_type": "execute_result",
          "data": {
            "text/plain": [
              "'Michael Jackson'"
            ],
            "application/vnd.google.colaboratory.intrinsic+json": {
              "type": "string"
            }
          },
          "metadata": {},
          "execution_count": 22
        }
      ]
    },
    {
      "cell_type": "code",
      "source": [
        "name[-1]"
      ],
      "metadata": {
        "colab": {
          "base_uri": "https://localhost:8080/",
          "height": 36
        },
        "id": "WOanEG7RpqEF",
        "outputId": "ce778a4d-a160-4c46-c4ea-30c931689979"
      },
      "execution_count": null,
      "outputs": [
        {
          "output_type": "execute_result",
          "data": {
            "text/plain": [
              "'n'"
            ],
            "application/vnd.google.colaboratory.intrinsic+json": {
              "type": "string"
            }
          },
          "metadata": {},
          "execution_count": 23
        }
      ]
    },
    {
      "cell_type": "code",
      "source": [
        "name[0]"
      ],
      "metadata": {
        "colab": {
          "base_uri": "https://localhost:8080/",
          "height": 36
        },
        "id": "K3wYIZ6tpqKk",
        "outputId": "c72264eb-1e66-49ee-fff0-5b3bf2cbfd8f"
      },
      "execution_count": null,
      "outputs": [
        {
          "output_type": "execute_result",
          "data": {
            "text/plain": [
              "'M'"
            ],
            "application/vnd.google.colaboratory.intrinsic+json": {
              "type": "string"
            }
          },
          "metadata": {},
          "execution_count": 24
        }
      ]
    },
    {
      "cell_type": "code",
      "source": [
        "name[0:4]"
      ],
      "metadata": {
        "colab": {
          "base_uri": "https://localhost:8080/",
          "height": 36
        },
        "id": "Ioa9MH9_pqQc",
        "outputId": "2e7dc4bc-edcf-4d80-be58-ccbc2859ea2b"
      },
      "execution_count": null,
      "outputs": [
        {
          "output_type": "execute_result",
          "data": {
            "text/plain": [
              "'Mich'"
            ],
            "application/vnd.google.colaboratory.intrinsic+json": {
              "type": "string"
            }
          },
          "metadata": {},
          "execution_count": 25
        }
      ]
    },
    {
      "cell_type": "code",
      "source": [
        "name[8:12]"
      ],
      "metadata": {
        "colab": {
          "base_uri": "https://localhost:8080/",
          "height": 36
        },
        "id": "g8_S-A1-pqVe",
        "outputId": "d40b6210-f91e-4981-ab8a-e3f47472451b"
      },
      "execution_count": null,
      "outputs": [
        {
          "output_type": "execute_result",
          "data": {
            "text/plain": [
              "'Jack'"
            ],
            "application/vnd.google.colaboratory.intrinsic+json": {
              "type": "string"
            }
          },
          "metadata": {},
          "execution_count": 26
        }
      ]
    },
    {
      "cell_type": "code",
      "source": [
        "name[::2]"
      ],
      "metadata": {
        "colab": {
          "base_uri": "https://localhost:8080/",
          "height": 36
        },
        "id": "orNyM7HhpqaL",
        "outputId": "41a07546-c00f-444a-faee-8857a9876af3"
      },
      "execution_count": null,
      "outputs": [
        {
          "output_type": "execute_result",
          "data": {
            "text/plain": [
              "'McalJcsn'"
            ],
            "application/vnd.google.colaboratory.intrinsic+json": {
              "type": "string"
            }
          },
          "metadata": {},
          "execution_count": 27
        }
      ]
    },
    {
      "cell_type": "code",
      "source": [
        "name[::3]"
      ],
      "metadata": {
        "colab": {
          "base_uri": "https://localhost:8080/",
          "height": 36
        },
        "id": "IAZWIqNApqfX",
        "outputId": "ca526a09-b8b8-4065-891c-d357c5f85b0c"
      },
      "execution_count": null,
      "outputs": [
        {
          "output_type": "execute_result",
          "data": {
            "text/plain": [
              "'Mhlas'"
            ],
            "application/vnd.google.colaboratory.intrinsic+json": {
              "type": "string"
            }
          },
          "metadata": {},
          "execution_count": 28
        }
      ]
    },
    {
      "cell_type": "code",
      "source": [
        "name[0:5:2]"
      ],
      "metadata": {
        "id": "alOG8ZiiPtx0",
        "colab": {
          "base_uri": "https://localhost:8080/",
          "height": 36
        },
        "outputId": "08e39f05-563d-4e55-aea4-04a834eef649"
      },
      "execution_count": null,
      "outputs": [
        {
          "output_type": "execute_result",
          "data": {
            "text/plain": [
              "'Mca'"
            ],
            "application/vnd.google.colaboratory.intrinsic+json": {
              "type": "string"
            }
          },
          "metadata": {},
          "execution_count": 29
        }
      ]
    },
    {
      "cell_type": "code",
      "source": [
        "len(name)"
      ],
      "metadata": {
        "id": "6gfVp43hPt3h",
        "colab": {
          "base_uri": "https://localhost:8080/"
        },
        "outputId": "ef660947-2627-4030-f0df-c8d4880c1ab6"
      },
      "execution_count": null,
      "outputs": [
        {
          "output_type": "execute_result",
          "data": {
            "text/plain": [
              "15"
            ]
          },
          "metadata": {},
          "execution_count": 30
        }
      ]
    },
    {
      "cell_type": "code",
      "source": [
        "statet = name + \" is the best\"\n",
        "statet"
      ],
      "metadata": {
        "colab": {
          "base_uri": "https://localhost:8080/",
          "height": 36
        },
        "id": "46FTTNcbrUpr",
        "outputId": "31a2a1e9-e59d-4c4f-c988-08f2819181e7"
      },
      "execution_count": null,
      "outputs": [
        {
          "output_type": "execute_result",
          "data": {
            "text/plain": [
              "'Michael Jackson is the best'"
            ],
            "application/vnd.google.colaboratory.intrinsic+json": {
              "type": "string"
            }
          },
          "metadata": {},
          "execution_count": 31
        }
      ]
    },
    {
      "cell_type": "code",
      "source": [
        "3* \"Michael Jackson \""
      ],
      "metadata": {
        "colab": {
          "base_uri": "https://localhost:8080/",
          "height": 36
        },
        "id": "FktfclBkrU4f",
        "outputId": "786596bb-e5ef-40a0-90dd-c921cc11f5dc"
      },
      "execution_count": null,
      "outputs": [
        {
          "output_type": "execute_result",
          "data": {
            "text/plain": [
              "'Michael Jackson Michael Jackson Michael Jackson '"
            ],
            "application/vnd.google.colaboratory.intrinsic+json": {
              "type": "string"
            }
          },
          "metadata": {},
          "execution_count": 32
        }
      ]
    },
    {
      "cell_type": "code",
      "source": [
        "name =  name + \" is the best\"\n",
        "name"
      ],
      "metadata": {
        "colab": {
          "base_uri": "https://localhost:8080/",
          "height": 36
        },
        "id": "Bv1Nxxx9rVAN",
        "outputId": "81172914-bdc7-43c6-b06e-4ea8c36b2d77"
      },
      "execution_count": null,
      "outputs": [
        {
          "output_type": "execute_result",
          "data": {
            "text/plain": [
              "'Michael Jackson is the best'"
            ],
            "application/vnd.google.colaboratory.intrinsic+json": {
              "type": "string"
            }
          },
          "metadata": {},
          "execution_count": 33
        }
      ]
    },
    {
      "cell_type": "code",
      "source": [
        "print(\"Michael Jackson \\n is the best\")"
      ],
      "metadata": {
        "colab": {
          "base_uri": "https://localhost:8080/"
        },
        "id": "5fS-29IjrVGM",
        "outputId": "6380dc41-21e5-437f-f89d-0068bbb35a94"
      },
      "execution_count": null,
      "outputs": [
        {
          "output_type": "stream",
          "name": "stdout",
          "text": [
            "Michael Jackson \n",
            " is the best\n"
          ]
        }
      ]
    },
    {
      "cell_type": "code",
      "source": [
        "print(\"Michael Jackson \\t is the best\")"
      ],
      "metadata": {
        "colab": {
          "base_uri": "https://localhost:8080/"
        },
        "id": "0cbUp-KgrVLw",
        "outputId": "675258cb-3734-406e-abcd-9b9fedc011e0"
      },
      "execution_count": null,
      "outputs": [
        {
          "output_type": "stream",
          "name": "stdout",
          "text": [
            "Michael Jackson \t is the best\n"
          ]
        }
      ]
    },
    {
      "cell_type": "code",
      "source": [
        "print(\"Michael Jackson \\\\ is the best\")"
      ],
      "metadata": {
        "colab": {
          "base_uri": "https://localhost:8080/"
        },
        "id": "uXdYo4c5rVQy",
        "outputId": "513ffab2-b162-4f1a-a51a-3810fed88947"
      },
      "execution_count": null,
      "outputs": [
        {
          "output_type": "stream",
          "name": "stdout",
          "text": [
            "Michael Jackson \\ is the best\n"
          ]
        }
      ]
    },
    {
      "cell_type": "code",
      "source": [
        "print(r\"Michael Jackson \\ is the best\")"
      ],
      "metadata": {
        "colab": {
          "base_uri": "https://localhost:8080/"
        },
        "id": "pRIWTtPTrVV5",
        "outputId": "125cd4f9-1bdb-4a7d-fd62-c3c368b778e3"
      },
      "execution_count": null,
      "outputs": [
        {
          "output_type": "stream",
          "name": "stdout",
          "text": [
            "Michael Jackson \\ is the best\n"
          ]
        }
      ]
    },
    {
      "cell_type": "code",
      "source": [
        "print(\"Michael Jackson \\ is the best\")"
      ],
      "metadata": {
        "colab": {
          "base_uri": "https://localhost:8080/"
        },
        "id": "6YxW6b9yrVaO",
        "outputId": "a7df7be7-8899-4a50-f131-dbe783c2d85e"
      },
      "execution_count": null,
      "outputs": [
        {
          "output_type": "stream",
          "name": "stdout",
          "text": [
            "Michael Jackson \\ is the best\n"
          ]
        }
      ]
    },
    {
      "cell_type": "code",
      "source": [
        "#Methods\n",
        "A = \"Thriller is the sixth studio album\"\n",
        "B = A.upper()\n",
        "B"
      ],
      "metadata": {
        "colab": {
          "base_uri": "https://localhost:8080/",
          "height": 36
        },
        "id": "DO6JCe6OrVeh",
        "outputId": "1fae91cf-e04e-49dd-fff1-59c7e184d6c9"
      },
      "execution_count": null,
      "outputs": [
        {
          "output_type": "execute_result",
          "data": {
            "text/plain": [
              "'THRILLER IS THE SIXTH STUDIO ALBUM'"
            ],
            "application/vnd.google.colaboratory.intrinsic+json": {
              "type": "string"
            }
          },
          "metadata": {},
          "execution_count": 39
        }
      ]
    },
    {
      "cell_type": "code",
      "source": [
        "B = name.replace(\"Michael\",\"Janet\")\n",
        "B"
      ],
      "metadata": {
        "colab": {
          "base_uri": "https://localhost:8080/",
          "height": 36
        },
        "id": "rNbmBt8qrViO",
        "outputId": "4220d9be-35f1-48a6-98cc-133d22ecf66c"
      },
      "execution_count": null,
      "outputs": [
        {
          "output_type": "execute_result",
          "data": {
            "text/plain": [
              "'Janet Jackson is the best'"
            ],
            "application/vnd.google.colaboratory.intrinsic+json": {
              "type": "string"
            }
          },
          "metadata": {},
          "execution_count": 40
        }
      ]
    },
    {
      "cell_type": "code",
      "source": [
        "name"
      ],
      "metadata": {
        "colab": {
          "base_uri": "https://localhost:8080/",
          "height": 36
        },
        "id": "gLyMukj0rVmD",
        "outputId": "efda29d2-c6be-42af-9046-98540595d952"
      },
      "execution_count": null,
      "outputs": [
        {
          "output_type": "execute_result",
          "data": {
            "text/plain": [
              "'Michael Jackson is the best'"
            ],
            "application/vnd.google.colaboratory.intrinsic+json": {
              "type": "string"
            }
          },
          "metadata": {},
          "execution_count": 41
        }
      ]
    },
    {
      "cell_type": "code",
      "source": [
        "name.find(\"el\")"
      ],
      "metadata": {
        "colab": {
          "base_uri": "https://localhost:8080/"
        },
        "id": "WWt0kOiRrVpd",
        "outputId": "ffcffe92-1a7c-4cac-ad12-dccb9d5e029a"
      },
      "execution_count": null,
      "outputs": [
        {
          "output_type": "execute_result",
          "data": {
            "text/plain": [
              "5"
            ]
          },
          "metadata": {},
          "execution_count": 42
        }
      ]
    },
    {
      "cell_type": "code",
      "source": [
        " name.find(\"Jack\")"
      ],
      "metadata": {
        "colab": {
          "base_uri": "https://localhost:8080/"
        },
        "id": "TfB88thxrVs0",
        "outputId": "69280340-92c4-41d5-9ccc-fc1d422f287a"
      },
      "execution_count": null,
      "outputs": [
        {
          "output_type": "execute_result",
          "data": {
            "text/plain": [
              "8"
            ]
          },
          "metadata": {},
          "execution_count": 43
        }
      ]
    },
    {
      "cell_type": "code",
      "source": [
        "name.find(\"%3\")"
      ],
      "metadata": {
        "colab": {
          "base_uri": "https://localhost:8080/"
        },
        "id": "CXKixPderVwg",
        "outputId": "5696f5e0-787f-4baa-95e0-73c8cca6a025"
      },
      "execution_count": null,
      "outputs": [
        {
          "output_type": "execute_result",
          "data": {
            "text/plain": [
              "-1"
            ]
          },
          "metadata": {},
          "execution_count": 44
        }
      ]
    },
    {
      "cell_type": "code",
      "source": [
        "Numbers = \"0123456\"\n",
        "Numbers[::2]"
      ],
      "metadata": {
        "colab": {
          "base_uri": "https://localhost:8080/",
          "height": 36
        },
        "id": "u87bHWIbrV0U",
        "outputId": "50c6bd3e-cfbe-4b32-9d24-b48d5195ff33"
      },
      "execution_count": null,
      "outputs": [
        {
          "output_type": "execute_result",
          "data": {
            "text/plain": [
              "'0246'"
            ],
            "application/vnd.google.colaboratory.intrinsic+json": {
              "type": "string"
            }
          },
          "metadata": {},
          "execution_count": 45
        }
      ]
    },
    {
      "cell_type": "code",
      "source": [
        "\"0123456\".find('1')"
      ],
      "metadata": {
        "colab": {
          "base_uri": "https://localhost:8080/"
        },
        "id": "8rZa4F73rV4X",
        "outputId": "6b178466-ba2f-45a0-ba68-a70227419aa3"
      },
      "execution_count": null,
      "outputs": [
        {
          "output_type": "execute_result",
          "data": {
            "text/plain": [
              "1"
            ]
          },
          "metadata": {},
          "execution_count": 46
        }
      ]
    },
    {
      "cell_type": "code",
      "source": [
        "name = 'abcdef'\n",
        "print(name[0:2])"
      ],
      "metadata": {
        "colab": {
          "base_uri": "https://localhost:8080/"
        },
        "id": "66JQRvO3rV9y",
        "outputId": "421f749e-06af-486c-a891-0c85e0fb0049"
      },
      "execution_count": null,
      "outputs": [
        {
          "output_type": "stream",
          "name": "stdout",
          "text": [
            "ab\n"
          ]
        }
      ]
    },
    {
      "cell_type": "code",
      "source": [
        "var = '01234567'\n",
        "print(var[::2])"
      ],
      "metadata": {
        "colab": {
          "base_uri": "https://localhost:8080/"
        },
        "id": "ei7X5LDVrWD9",
        "outputId": "5bf24230-b82b-4739-d4b0-605578df738c"
      },
      "execution_count": null,
      "outputs": [
        {
          "output_type": "stream",
          "name": "stdout",
          "text": [
            "0246\n"
          ]
        }
      ]
    },
    {
      "cell_type": "code",
      "source": [
        "d = \"ABCDEFG\"\n",
        "d[0:3]"
      ],
      "metadata": {
        "colab": {
          "base_uri": "https://localhost:8080/",
          "height": 36
        },
        "id": "GORNfjOmrWIp",
        "outputId": "c15a2371-d005-48bd-c44a-3d1a0f44a04e"
      },
      "execution_count": null,
      "outputs": [
        {
          "output_type": "execute_result",
          "data": {
            "text/plain": [
              "'ABC'"
            ],
            "application/vnd.google.colaboratory.intrinsic+json": {
              "type": "string"
            }
          },
          "metadata": {},
          "execution_count": 49
        }
      ]
    },
    {
      "cell_type": "code",
      "source": [
        "e = 'clocrkr1e1c1t'\n",
        "e[::2]"
      ],
      "metadata": {
        "colab": {
          "base_uri": "https://localhost:8080/",
          "height": 36
        },
        "id": "p0odE1eD7lAs",
        "outputId": "7f8222c9-6684-41c7-b5b2-755a85c2f3f0"
      },
      "execution_count": null,
      "outputs": [
        {
          "output_type": "execute_result",
          "data": {
            "text/plain": [
              "'correct'"
            ],
            "application/vnd.google.colaboratory.intrinsic+json": {
              "type": "string"
            }
          },
          "metadata": {},
          "execution_count": 50
        }
      ]
    },
    {
      "cell_type": "code",
      "source": [
        "g = \"Mary had a little lamb Little lamb, little lamb Mary had a little lamb \\\n",
        "Its fleece was white as snow And everywhere that Mary went Mary went, Mary went \\\n",
        "Everywhere that Mary went The lamb was sure to go\"\n",
        "g.find('snow')"
      ],
      "metadata": {
        "colab": {
          "base_uri": "https://localhost:8080/"
        },
        "id": "QjG7NQ417nWZ",
        "outputId": "81e6ea6f-a306-43a4-8178-f07ed1140c2c"
      },
      "execution_count": null,
      "outputs": [
        {
          "output_type": "execute_result",
          "data": {
            "text/plain": [
              "95"
            ]
          },
          "metadata": {},
          "execution_count": 51
        }
      ]
    },
    {
      "cell_type": "code",
      "source": [
        "g.replace(\"Mary\", \"Bob\")"
      ],
      "metadata": {
        "colab": {
          "base_uri": "https://localhost:8080/",
          "height": 53
        },
        "id": "-b0w4jiR-ac1",
        "outputId": "4bf9ab0b-7858-42fe-c488-210d25a917c1"
      },
      "execution_count": null,
      "outputs": [
        {
          "output_type": "execute_result",
          "data": {
            "text/plain": [
              "'Bob had a little lamb Little lamb, little lamb Bob had a little lamb Its fleece was white as snow And everywhere that Bob went Bob went, Bob went Everywhere that Bob went The lamb was sure to go'"
            ],
            "application/vnd.google.colaboratory.intrinsic+json": {
              "type": "string"
            }
          },
          "metadata": {},
          "execution_count": 52
        }
      ]
    },
    {
      "cell_type": "markdown",
      "source": [
        "**Lists and Tuples**"
      ],
      "metadata": {
        "id": "pQ1Cu5Kx-fL0"
      }
    },
    {
      "cell_type": "code",
      "source": [
        "A=(0,1,2,3)\n",
        "A[-1]"
      ],
      "metadata": {
        "id": "oUVr0OjMd5d2",
        "outputId": "fc15990d-f033-4e31-874d-690e33e8b4e2",
        "colab": {
          "base_uri": "https://localhost:8080/"
        }
      },
      "execution_count": null,
      "outputs": [
        {
          "output_type": "execute_result",
          "data": {
            "text/plain": [
              "3"
            ]
          },
          "metadata": {},
          "execution_count": 53
        }
      ]
    },
    {
      "cell_type": "code",
      "source": [
        "B=[\"a\",\"b\",\"c\"]\n",
        "B[1:]\n"
      ],
      "metadata": {
        "id": "4j4FKig7d8EI",
        "outputId": "28083127-1687-4851-b43a-77ac9b1b8df5",
        "colab": {
          "base_uri": "https://localhost:8080/"
        }
      },
      "execution_count": null,
      "outputs": [
        {
          "output_type": "execute_result",
          "data": {
            "text/plain": [
              "['b', 'c']"
            ]
          },
          "metadata": {},
          "execution_count": 54
        }
      ]
    },
    {
      "cell_type": "code",
      "source": [
        "A = (0,1,2,3) #crear tupla\n",
        "A"
      ],
      "metadata": {
        "id": "RdKpm6Bjd8Ja",
        "outputId": "d52de46f-9996-41c5-914c-4128d67d4436",
        "colab": {
          "base_uri": "https://localhost:8080/"
        }
      },
      "execution_count": null,
      "outputs": [
        {
          "output_type": "execute_result",
          "data": {
            "text/plain": [
              "(0, 1, 2, 3)"
            ]
          },
          "metadata": {},
          "execution_count": 55
        }
      ]
    },
    {
      "cell_type": "code",
      "source": [
        "A[0:2] #ver primeros dos elementos de tupla"
      ],
      "metadata": {
        "id": "nak2ekggd8NO",
        "outputId": "5a242e3c-839c-4f6a-fa9b-d62c0904401f",
        "colab": {
          "base_uri": "https://localhost:8080/"
        }
      },
      "execution_count": null,
      "outputs": [
        {
          "output_type": "execute_result",
          "data": {
            "text/plain": [
              "(0, 1)"
            ]
          },
          "metadata": {},
          "execution_count": 56
        }
      ]
    },
    {
      "cell_type": "code",
      "source": [
        "B=[\"a\",\"b\",\"c\"] #Crear LISTA"
      ],
      "metadata": {
        "id": "ob4rIlhad8Qc"
      },
      "execution_count": null,
      "outputs": []
    },
    {
      "cell_type": "code",
      "source": [
        "B[0:2] #Ver primeros dos elementos de la LISTA"
      ],
      "metadata": {
        "id": "WwCLZQ9Od8Tz",
        "outputId": "f2fdcb8a-9987-4886-c555-131073d64aac",
        "colab": {
          "base_uri": "https://localhost:8080/"
        }
      },
      "execution_count": null,
      "outputs": [
        {
          "output_type": "execute_result",
          "data": {
            "text/plain": [
              "['a', 'b']"
            ]
          },
          "metadata": {},
          "execution_count": 58
        }
      ]
    },
    {
      "cell_type": "code",
      "source": [
        "B[0]= 'A' #Cambiar primer elemnto de la lista por una 'A'\n",
        "B"
      ],
      "metadata": {
        "id": "d8rXAdH4d8Ws",
        "outputId": "a7d33ba4-aa63-4d60-c1ea-73e9f057f47a",
        "colab": {
          "base_uri": "https://localhost:8080/"
        }
      },
      "execution_count": null,
      "outputs": [
        {
          "output_type": "execute_result",
          "data": {
            "text/plain": [
              "['A', 'b', 'c']"
            ]
          },
          "metadata": {},
          "execution_count": 59
        }
      ]
    },
    {
      "cell_type": "markdown",
      "source": [
        "**Lab - Lists and Tuples**"
      ],
      "metadata": {
        "id": "huMhXJ-Rj4yd"
      }
    },
    {
      "cell_type": "code",
      "source": [
        "tuple1 = (\"disco\",10,1.2 ) # crear tupla\n",
        "tuple1"
      ],
      "metadata": {
        "cellView": "code",
        "id": "8KCKztBjd8aT",
        "colab": {
          "base_uri": "https://localhost:8080/"
        },
        "outputId": "5b9395f8-ba13-4ba6-9aca-cf25a1238d4b"
      },
      "execution_count": null,
      "outputs": [
        {
          "output_type": "execute_result",
          "data": {
            "text/plain": [
              "('disco', 10, 1.2)"
            ]
          },
          "metadata": {},
          "execution_count": 60
        }
      ]
    },
    {
      "cell_type": "code",
      "source": [
        "print(tuple1[0]) #imprimir elemetod de la tupla de acuerdo al indexado en memoria\n",
        "print(tuple1[1])\n",
        "print(tuple1[2])"
      ],
      "metadata": {
        "id": "3eMuAtSPd8df",
        "colab": {
          "base_uri": "https://localhost:8080/"
        },
        "outputId": "fffdab93-bfa5-4962-f8ea-c2b8325a030f"
      },
      "execution_count": null,
      "outputs": [
        {
          "output_type": "stream",
          "name": "stdout",
          "text": [
            "disco\n",
            "10\n",
            "1.2\n"
          ]
        }
      ]
    },
    {
      "cell_type": "code",
      "source": [
        "print(type(tuple1[0])) #Imprimir el tipo de dato del elemento listado en la tupla\n",
        "print(type(tuple1[1]))\n",
        "print(type(tuple1[2]))"
      ],
      "metadata": {
        "id": "SgrJNUvJd8gi",
        "colab": {
          "base_uri": "https://localhost:8080/"
        },
        "outputId": "39a0abfc-8af0-4843-9de1-fca45d00877c"
      },
      "execution_count": null,
      "outputs": [
        {
          "output_type": "stream",
          "name": "stdout",
          "text": [
            "<class 'str'>\n",
            "<class 'int'>\n",
            "<class 'float'>\n"
          ]
        }
      ]
    },
    {
      "cell_type": "code",
      "source": [
        "tuple1[-1] #imprimir elemento de tupla en negativo toma desde el ultimo elemento al primero, empieza desde -1 y depende de la longitud de la tupla\n"
      ],
      "metadata": {
        "id": "_43lDF27d8lp",
        "colab": {
          "base_uri": "https://localhost:8080/"
        },
        "outputId": "5b9e6628-a557-402d-b8c0-b30791a1a756"
      },
      "execution_count": null,
      "outputs": [
        {
          "output_type": "execute_result",
          "data": {
            "text/plain": [
              "1.2"
            ]
          },
          "metadata": {},
          "execution_count": 63
        }
      ]
    },
    {
      "cell_type": "code",
      "source": [
        "tuple1[-2] #imprimir elemento de tupla en negativo toma desde el ultimo elemento al primero, empieza desde -1 y depende de la longitud de la tupla\n"
      ],
      "metadata": {
        "id": "BIx8BzuZd8sj",
        "colab": {
          "base_uri": "https://localhost:8080/"
        },
        "outputId": "9267cde5-d2cd-48c7-ce73-d150034f030e"
      },
      "execution_count": null,
      "outputs": [
        {
          "output_type": "execute_result",
          "data": {
            "text/plain": [
              "10"
            ]
          },
          "metadata": {},
          "execution_count": 64
        }
      ]
    },
    {
      "cell_type": "code",
      "source": [
        "tuple1[-3] #imprimir elemento de tupla en negativo toma desde el ultimo elemento al primero, empieza desde -1 y depende de la longitud de la tupla\n"
      ],
      "metadata": {
        "id": "wEQhtAzyd8zU",
        "colab": {
          "base_uri": "https://localhost:8080/",
          "height": 36
        },
        "outputId": "80c3a068-89a5-478e-8af6-b8ae71b308a7"
      },
      "execution_count": null,
      "outputs": [
        {
          "output_type": "execute_result",
          "data": {
            "text/plain": [
              "'disco'"
            ],
            "application/vnd.google.colaboratory.intrinsic+json": {
              "type": "string"
            }
          },
          "metadata": {},
          "execution_count": 65
        }
      ]
    },
    {
      "cell_type": "code",
      "source": [
        "tuple2 = tuple1 + (\"hard rock\", 10) #concatenar tuplas hace que los elemtos de la tupla anterior se anadan a nuevos elementos de una nueva tupla\n",
        "tuple2"
      ],
      "metadata": {
        "id": "S8jrSI66d86n",
        "colab": {
          "base_uri": "https://localhost:8080/"
        },
        "outputId": "01bd8c8a-e472-4050-c467-10a75b928b8a"
      },
      "execution_count": null,
      "outputs": [
        {
          "output_type": "execute_result",
          "data": {
            "text/plain": [
              "('disco', 10, 1.2, 'hard rock', 10)"
            ]
          },
          "metadata": {},
          "execution_count": 66
        }
      ]
    },
    {
      "cell_type": "code",
      "source": [
        "tuple2[0:4] # 'Slice' recorta la tupla y tra los elemtos mencionados segun el indexado. La limite maximo toma encuenta el ultimo digito menos uno\n",
        "            # si es 3, entonces el limite maximo es 4-1= 3"
      ],
      "metadata": {
        "id": "ldYSvW_Wd8_J",
        "colab": {
          "base_uri": "https://localhost:8080/"
        },
        "outputId": "bdf79330-0b67-4028-dc44-c190974df903"
      },
      "execution_count": null,
      "outputs": [
        {
          "output_type": "execute_result",
          "data": {
            "text/plain": [
              "('disco', 10, 1.2, 'hard rock')"
            ]
          },
          "metadata": {},
          "execution_count": 67
        }
      ]
    },
    {
      "cell_type": "code",
      "source": [
        "tuple2[3:5] #se hace slide desde el tercer elemento indexado hasta el cuarto"
      ],
      "metadata": {
        "id": "DNsoYn5dd9EI",
        "colab": {
          "base_uri": "https://localhost:8080/"
        },
        "outputId": "de186342-e744-40e3-c44e-825a7c766831"
      },
      "execution_count": null,
      "outputs": [
        {
          "output_type": "execute_result",
          "data": {
            "text/plain": [
              "('hard rock', 10)"
            ]
          },
          "metadata": {},
          "execution_count": 68
        }
      ]
    },
    {
      "cell_type": "code",
      "source": [
        "len(tuple2) #verifica el tama;o de la tupla contando los elementos indexados que contiene"
      ],
      "metadata": {
        "id": "IWEs4YA6d9Ib",
        "colab": {
          "base_uri": "https://localhost:8080/"
        },
        "outputId": "7bb762a1-00cd-4182-a016-98990de0cd40"
      },
      "execution_count": null,
      "outputs": [
        {
          "output_type": "execute_result",
          "data": {
            "text/plain": [
              "5"
            ]
          },
          "metadata": {},
          "execution_count": 69
        }
      ]
    },
    {
      "cell_type": "code",
      "source": [
        "Ratings = (0, 9, 6, 5, 10, 8, 9, 6, 2.2) # sorting, se crea una tupla nueva"
      ],
      "metadata": {
        "id": "GtDlvzVyd9Mv"
      },
      "execution_count": null,
      "outputs": []
    },
    {
      "cell_type": "code",
      "source": [
        "RatingsSorted = sorted(Ratings) #organiza los elemtos de menor a mayor cuando todos los elementos son de tipo numerico y los guarda en una nueva tupla.\n",
        "RatingsSorted"
      ],
      "metadata": {
        "id": "KEHN6lf-d9SC",
        "colab": {
          "base_uri": "https://localhost:8080/"
        },
        "outputId": "00315024-6f2c-4623-e696-4e2c7e4229a4"
      },
      "execution_count": null,
      "outputs": [
        {
          "output_type": "execute_result",
          "data": {
            "text/plain": [
              "[0, 2.2, 5, 6, 6, 8, 9, 9, 10]"
            ]
          },
          "metadata": {},
          "execution_count": 71
        }
      ]
    },
    {
      "cell_type": "code",
      "source": [
        "NestedT =(1, 2, (\"pop\", \"rock\") ,(3,4),(\"disco\",(1,2))) # Nested tuple: una tupla puede contener otra tupla contenida"
      ],
      "metadata": {
        "id": "P6Huy32Od9Wq"
      },
      "execution_count": null,
      "outputs": []
    },
    {
      "cell_type": "code",
      "source": [
        "print(\"Element 0 of Tuple: \", NestedT[0]) #Imprmir elemtos de la tupla\n",
        "print(\"Element 1 of Tuple: \", NestedT[1])\n",
        "print(\"Element 2 of Tuple: \", NestedT[2])\n",
        "print(\"Element 3 of Tuple: \", NestedT[3])\n",
        "print(\"Element 4 of Tuple: \", NestedT[4])"
      ],
      "metadata": {
        "id": "h9Jsmep0d9bd",
        "colab": {
          "base_uri": "https://localhost:8080/"
        },
        "outputId": "a313696b-857e-4755-e101-8948a0defedb"
      },
      "execution_count": null,
      "outputs": [
        {
          "output_type": "stream",
          "name": "stdout",
          "text": [
            "Element 0 of Tuple:  1\n",
            "Element 1 of Tuple:  2\n",
            "Element 2 of Tuple:  ('pop', 'rock')\n",
            "Element 3 of Tuple:  (3, 4)\n",
            "Element 4 of Tuple:  ('disco', (1, 2))\n"
          ]
        }
      ]
    },
    {
      "cell_type": "code",
      "source": [
        "print(\"Element 2, 0 of Tuple: \",   NestedT[2][0]) # Se puede acceder a los elementos de una tupla anidada en otra, se debe referenciar el index de la primer tupla\n",
        "print(\"Element 2, 1 of Tuple: \",   NestedT[2][1]) # Posteriormente se referencia el indexado internod e la tupla\n",
        "print(\"Element 3, 0 of Tuple: \",   NestedT[3][0])\n",
        "print(\"Element 3, 1 of Tuple: \",   NestedT[3][1])\n",
        "print(\"Element 4, 0 of Tuple: \",   NestedT[4][0])\n",
        "print(\"Element 4, 1 of Tuple: \",   NestedT[4][1])"
      ],
      "metadata": {
        "id": "Ni1Yssh4d9gK",
        "colab": {
          "base_uri": "https://localhost:8080/"
        },
        "outputId": "4c9f259d-1ddc-4f42-afb2-2d37c387c7d9"
      },
      "execution_count": null,
      "outputs": [
        {
          "output_type": "stream",
          "name": "stdout",
          "text": [
            "Element 2, 0 of Tuple:  pop\n",
            "Element 2, 1 of Tuple:  rock\n",
            "Element 3, 0 of Tuple:  3\n",
            "Element 3, 1 of Tuple:  4\n",
            "Element 4, 0 of Tuple:  disco\n",
            "Element 4, 1 of Tuple:  (1, 2)\n"
          ]
        }
      ]
    },
    {
      "cell_type": "code",
      "source": [
        "NestedT[2][1][0] # se ririge al tercer elemento indexado (\"pop\", \"rock\"), \n",
        "                 # luego se dirige el segundo elemento indexado dentro de la tupla anidada (rock), imprime el primer caracter 'r'"
      ],
      "metadata": {
        "id": "T-acaQbZyzfK",
        "colab": {
          "base_uri": "https://localhost:8080/",
          "height": 36
        },
        "outputId": "e76c5ab0-cc33-43da-a51c-9055728590e8"
      },
      "execution_count": null,
      "outputs": [
        {
          "output_type": "execute_result",
          "data": {
            "text/plain": [
              "'r'"
            ],
            "application/vnd.google.colaboratory.intrinsic+json": {
              "type": "string"
            }
          },
          "metadata": {},
          "execution_count": 75
        }
      ]
    },
    {
      "cell_type": "code",
      "source": [
        "NestedT[2][1][1] # tercer elemento, segundo elemento, segundo caracter: \"o\""
      ],
      "metadata": {
        "id": "D2kWkMD0y0cK",
        "colab": {
          "base_uri": "https://localhost:8080/",
          "height": 36
        },
        "outputId": "5437b5cd-a4da-47c7-9a78-3393530a7cbb"
      },
      "execution_count": null,
      "outputs": [
        {
          "output_type": "execute_result",
          "data": {
            "text/plain": [
              "'o'"
            ],
            "application/vnd.google.colaboratory.intrinsic+json": {
              "type": "string"
            }
          },
          "metadata": {},
          "execution_count": 76
        }
      ]
    },
    {
      "cell_type": "code",
      "source": [
        "NestedT[4][1][0] #quinto elemento indexado, segundo elemento indexado, primer caracter : 1"
      ],
      "metadata": {
        "id": "7H3_k8m5y0s8",
        "colab": {
          "base_uri": "https://localhost:8080/"
        },
        "outputId": "0ea62bce-36fb-4cd2-dca2-fa4bdbb1b0d1"
      },
      "execution_count": null,
      "outputs": [
        {
          "output_type": "execute_result",
          "data": {
            "text/plain": [
              "1"
            ]
          },
          "metadata": {},
          "execution_count": 77
        }
      ]
    },
    {
      "cell_type": "code",
      "source": [
        "NestedT[4][1][1] #quinto elemento indexado, segundo elemento indexado, segundo caracter : 2"
      ],
      "metadata": {
        "id": "3ZZjU8RDy1GC",
        "colab": {
          "base_uri": "https://localhost:8080/"
        },
        "outputId": "479bbe3b-7046-4548-d592-2e319f35bdfc"
      },
      "execution_count": null,
      "outputs": [
        {
          "output_type": "execute_result",
          "data": {
            "text/plain": [
              "2"
            ]
          },
          "metadata": {},
          "execution_count": 78
        }
      ]
    },
    {
      "cell_type": "code",
      "source": [
        "# sample tuple\n",
        "\n",
        "genres_tuple = (\"pop\", \"rock\", \"soul\", \"hard rock\", \"soft rock\", \\\n",
        "                \"R&B\", \"progressive rock\", \"disco\") \n",
        "genres_tuple"
      ],
      "metadata": {
        "id": "ZGRGhIPvy1cv",
        "colab": {
          "base_uri": "https://localhost:8080/"
        },
        "outputId": "9646fd40-7917-479b-a25d-8247b485d766"
      },
      "execution_count": null,
      "outputs": [
        {
          "output_type": "execute_result",
          "data": {
            "text/plain": [
              "('pop',\n",
              " 'rock',\n",
              " 'soul',\n",
              " 'hard rock',\n",
              " 'soft rock',\n",
              " 'R&B',\n",
              " 'progressive rock',\n",
              " 'disco')"
            ]
          },
          "metadata": {},
          "execution_count": 79
        }
      ]
    },
    {
      "cell_type": "code",
      "source": [
        "# Write your code below and press Shift+Enter to execute\n",
        "len(genres_tuple)"
      ],
      "metadata": {
        "id": "ZpO-F2qAy1yC",
        "colab": {
          "base_uri": "https://localhost:8080/"
        },
        "outputId": "cf203d2f-b7ca-4390-aef9-e281d902e683"
      },
      "execution_count": null,
      "outputs": [
        {
          "output_type": "execute_result",
          "data": {
            "text/plain": [
              "8"
            ]
          },
          "metadata": {},
          "execution_count": 80
        }
      ]
    },
    {
      "cell_type": "code",
      "source": [
        "# Write your code below and press Shift+Enter to execute\n",
        "genres_tuple[3]"
      ],
      "metadata": {
        "id": "Xh8-GLm5y16q",
        "colab": {
          "base_uri": "https://localhost:8080/",
          "height": 36
        },
        "outputId": "abadb587-aa53-4ed4-8092-78dcf07f1a8e"
      },
      "execution_count": null,
      "outputs": [
        {
          "output_type": "execute_result",
          "data": {
            "text/plain": [
              "'hard rock'"
            ],
            "application/vnd.google.colaboratory.intrinsic+json": {
              "type": "string"
            }
          },
          "metadata": {},
          "execution_count": 81
        }
      ]
    },
    {
      "cell_type": "code",
      "source": [
        "# Write your code below and press Shift+Enter to execute\n",
        "genres_tuple[3:6]"
      ],
      "metadata": {
        "id": "MCK5P4zNy2A_",
        "colab": {
          "base_uri": "https://localhost:8080/"
        },
        "outputId": "ba20e580-219b-4463-8172-8ada34d17d6f"
      },
      "execution_count": null,
      "outputs": [
        {
          "output_type": "execute_result",
          "data": {
            "text/plain": [
              "('hard rock', 'soft rock', 'R&B')"
            ]
          },
          "metadata": {},
          "execution_count": 82
        }
      ]
    },
    {
      "cell_type": "code",
      "source": [
        "# Write your code below and press Shift+Enter to execute\n",
        "genres_tuple[:2]"
      ],
      "metadata": {
        "id": "mGWrJPa0y2GQ",
        "colab": {
          "base_uri": "https://localhost:8080/"
        },
        "outputId": "5f4971e2-cbfc-4664-d734-41b1e48db062"
      },
      "execution_count": null,
      "outputs": [
        {
          "output_type": "execute_result",
          "data": {
            "text/plain": [
              "('pop', 'rock')"
            ]
          },
          "metadata": {},
          "execution_count": 83
        }
      ]
    },
    {
      "cell_type": "code",
      "source": [
        " #Find the first index of \"disco\"\n",
        "genres_tuple.index(\"disco\")"
      ],
      "metadata": {
        "id": "AbSrUiCi1Lyx",
        "colab": {
          "base_uri": "https://localhost:8080/"
        },
        "outputId": "7e8650ce-289c-4d9b-987a-4e492723332f"
      },
      "execution_count": null,
      "outputs": [
        {
          "output_type": "execute_result",
          "data": {
            "text/plain": [
              "7"
            ]
          },
          "metadata": {},
          "execution_count": 84
        }
      ]
    },
    {
      "cell_type": "code",
      "source": [
        "#Generate a sorted List from the Tuple C_tuple=(-5, 1, -3):\n",
        "C_tuple=(-5, 1, -3)\n",
        "C_tuple_sorted = sorted(C_tuple)\n",
        "C_tuple_sorted"
      ],
      "metadata": {
        "id": "Km8a0d_N1L4P",
        "colab": {
          "base_uri": "https://localhost:8080/"
        },
        "outputId": "71d03e2d-0144-42f1-f682-051f6d8ad328"
      },
      "execution_count": null,
      "outputs": [
        {
          "output_type": "execute_result",
          "data": {
            "text/plain": [
              "[-5, -3, 1]"
            ]
          },
          "metadata": {},
          "execution_count": 85
        }
      ]
    },
    {
      "cell_type": "markdown",
      "source": [
        "LABORATORIO DE LISTAS"
      ],
      "metadata": {
        "id": "ogiKRC-28asg"
      }
    },
    {
      "cell_type": "code",
      "source": [
        "# Create a list\n",
        "\n",
        "L = [\"Michael Jackson\", 10.1, 1982]\n",
        "L"
      ],
      "metadata": {
        "id": "MC3SgxJY8abf",
        "colab": {
          "base_uri": "https://localhost:8080/"
        },
        "outputId": "a6b01d8c-cd25-4d31-e44a-c565041c4918"
      },
      "execution_count": null,
      "outputs": [
        {
          "output_type": "execute_result",
          "data": {
            "text/plain": [
              "['Michael Jackson', 10.1, 1982]"
            ]
          },
          "metadata": {},
          "execution_count": 86
        }
      ]
    },
    {
      "cell_type": "code",
      "source": [
        "# Imprime los elementos usando dos firmatos de indexado, el positivo y el negativo. \n",
        "print('the same element using negative and positive indexing:\\n Postive:',L[0],\n",
        "'\\n Negative:' , L[-3]  )\n",
        "print('the same element using negative and positive indexing:\\n Postive:',L[1],\n",
        "'\\n Negative:' , L[-2]  )\n",
        "print('the same element using negative and positive indexing:\\n Postive:',L[2],\n",
        "'\\n Negative:' , L[-1]  )"
      ],
      "metadata": {
        "id": "b1kMX-dr8Z1I",
        "colab": {
          "base_uri": "https://localhost:8080/"
        },
        "outputId": "4281de65-40fd-4e93-85b3-3e9d3187bb0d"
      },
      "execution_count": null,
      "outputs": [
        {
          "output_type": "stream",
          "name": "stdout",
          "text": [
            "the same element using negative and positive indexing:\n",
            " Postive: Michael Jackson \n",
            " Negative: Michael Jackson\n",
            "the same element using negative and positive indexing:\n",
            " Postive: 10.1 \n",
            " Negative: 10.1\n",
            "the same element using negative and positive indexing:\n",
            " Postive: 1982 \n",
            " Negative: 1982\n"
          ]
        }
      ]
    },
    {
      "cell_type": "code",
      "source": [
        "# Las listas pueden contener otras listan indexadas, tuplasy tipos de datos basicos\n",
        "[\"Michael Jackson\", 10.1, 1982, [1, 2], (\"A\", 1)]"
      ],
      "metadata": {
        "id": "hjGCGoG61L-q",
        "colab": {
          "base_uri": "https://localhost:8080/"
        },
        "outputId": "a3925a13-f374-4b50-adcc-fc2509d0fcab"
      },
      "execution_count": null,
      "outputs": [
        {
          "output_type": "execute_result",
          "data": {
            "text/plain": [
              "['Michael Jackson', 10.1, 1982, [1, 2], ('A', 1)]"
            ]
          },
          "metadata": {},
          "execution_count": 88
        }
      ]
    },
    {
      "cell_type": "code",
      "source": [
        "#crear lista y guardarla\n",
        "L = [\"Michael Jackson\", 10.1,1982,\"MJ\",1]\n",
        "L"
      ],
      "metadata": {
        "id": "X054GGAL1MCu",
        "colab": {
          "base_uri": "https://localhost:8080/"
        },
        "outputId": "b7e3f4e7-692d-4214-aae4-77554f4ee979"
      },
      "execution_count": null,
      "outputs": [
        {
          "output_type": "execute_result",
          "data": {
            "text/plain": [
              "['Michael Jackson', 10.1, 1982, 'MJ', 1]"
            ]
          },
          "metadata": {},
          "execution_count": 89
        }
      ]
    },
    {
      "cell_type": "code",
      "source": [
        "# Hacer slice/recortar la lista desde el elemento 3 al  4\n",
        "L[3:5]"
      ],
      "metadata": {
        "id": "42Bx6Hfz1MGM",
        "colab": {
          "base_uri": "https://localhost:8080/"
        },
        "outputId": "96faa54c-a265-4213-f386-a56a1074d0e2"
      },
      "execution_count": null,
      "outputs": [
        {
          "output_type": "execute_result",
          "data": {
            "text/plain": [
              "['MJ', 1]"
            ]
          },
          "metadata": {},
          "execution_count": 90
        }
      ]
    },
    {
      "cell_type": "code",
      "source": [
        "L"
      ],
      "metadata": {
        "id": "aLPUnqmM_-ku",
        "colab": {
          "base_uri": "https://localhost:8080/"
        },
        "outputId": "feeb0e9e-9cdb-453c-e86f-8fe7f748a239"
      },
      "execution_count": null,
      "outputs": [
        {
          "output_type": "execute_result",
          "data": {
            "text/plain": [
              "['Michael Jackson', 10.1, 1982, 'MJ', 1]"
            ]
          },
          "metadata": {},
          "execution_count": 91
        }
      ]
    },
    {
      "cell_type": "code",
      "source": [
        "# Se usa el metodo 'extend' para agregar mas elemntos a la lista dentro den un espacio indexado a cada elemento nuevo\n",
        "L = [ \"Michael Jackson\",10.2] # Crear lista\n",
        "L.extend(['pop', 10]) #añadir nuevos elemento al final de la lista\n",
        "L"
      ],
      "metadata": {
        "id": "pdgL12L71MJi",
        "colab": {
          "base_uri": "https://localhost:8080/"
        },
        "outputId": "0fc89bde-7f86-49fa-b0fb-e32e7c1af4d4"
      },
      "execution_count": null,
      "outputs": [
        {
          "output_type": "execute_result",
          "data": {
            "text/plain": [
              "['Michael Jackson', 10.2, 'pop', 10]"
            ]
          },
          "metadata": {},
          "execution_count": 92
        }
      ]
    },
    {
      "cell_type": "code",
      "source": [
        "len(L)"
      ],
      "metadata": {
        "id": "71_R_Uqb1MMe",
        "colab": {
          "base_uri": "https://localhost:8080/"
        },
        "outputId": "e531c3d0-1397-4b0f-ebff-6613392f755b"
      },
      "execution_count": null,
      "outputs": [
        {
          "output_type": "execute_result",
          "data": {
            "text/plain": [
              "4"
            ]
          },
          "metadata": {},
          "execution_count": 93
        }
      ]
    },
    {
      "cell_type": "code",
      "source": [
        "# El metodo 'append' agrega elementos a las lista en un solo espacio indexado\n",
        "L = [ \"Michael Jackson\", 10.2] # Crea lista\n",
        "L.append(['pop', 10]) # Agrega una lista en el ultimo espacio indexado\n",
        "L"
      ],
      "metadata": {
        "id": "bjHPvASfy2Kw",
        "colab": {
          "base_uri": "https://localhost:8080/"
        },
        "outputId": "79dc11ab-1380-4d42-e06a-05302e6de1c9"
      },
      "execution_count": null,
      "outputs": [
        {
          "output_type": "execute_result",
          "data": {
            "text/plain": [
              "['Michael Jackson', 10.2, ['pop', 10]]"
            ]
          },
          "metadata": {},
          "execution_count": 94
        }
      ]
    },
    {
      "cell_type": "code",
      "source": [
        "len(L)"
      ],
      "metadata": {
        "id": "hgBXVoUbA9aG",
        "colab": {
          "base_uri": "https://localhost:8080/"
        },
        "outputId": "988f4053-49ed-439f-c983-118e1060fc95"
      },
      "execution_count": null,
      "outputs": [
        {
          "output_type": "execute_result",
          "data": {
            "text/plain": [
              "3"
            ]
          },
          "metadata": {},
          "execution_count": 95
        }
      ]
    },
    {
      "cell_type": "code",
      "source": [
        "L = [ \"Michael Jackson\", 10.2]\n",
        "L.extend(['pop', 10])\n",
        "L.append(['a','b'])\n",
        "L"
      ],
      "metadata": {
        "id": "u4ol3MSpA_Yf",
        "colab": {
          "base_uri": "https://localhost:8080/"
        },
        "outputId": "2c58bc3c-c4a9-44ec-9e9d-00c3b574a7de"
      },
      "execution_count": null,
      "outputs": [
        {
          "output_type": "execute_result",
          "data": {
            "text/plain": [
              "['Michael Jackson', 10.2, 'pop', 10, ['a', 'b']]"
            ]
          },
          "metadata": {},
          "execution_count": 96
        }
      ]
    },
    {
      "cell_type": "code",
      "source": [
        "# Las lista permiten hacer cambios en ellas\n",
        "A = [\"disco\", 10, 1.2] # Crear lista\n",
        "print('Before change:', A)\n",
        "A[0] = 'hard rock'    # Se cambia el primer elemento de la lista\n",
        "print('After change:', A)"
      ],
      "metadata": {
        "id": "NF5s_xCLBIV4",
        "colab": {
          "base_uri": "https://localhost:8080/"
        },
        "outputId": "b04a7181-289e-4465-a412-32cfec39a84c"
      },
      "execution_count": null,
      "outputs": [
        {
          "output_type": "stream",
          "name": "stdout",
          "text": [
            "Before change: ['disco', 10, 1.2]\n",
            "After change: ['hard rock', 10, 1.2]\n"
          ]
        }
      ]
    },
    {
      "cell_type": "code",
      "source": [
        "# se pueden eliminar elemtnsode la lista con el metodo 'del'\n",
        "print('Before change:', A)\n",
        "del(A[0])   # Elimina el primer elemento de la lista A\n",
        "print('After change:', A)"
      ],
      "metadata": {
        "id": "BJ0QlC-OBUkt",
        "colab": {
          "base_uri": "https://localhost:8080/"
        },
        "outputId": "d0a92650-b852-481c-8e1a-2afbd31bb13d"
      },
      "execution_count": null,
      "outputs": [
        {
          "output_type": "stream",
          "name": "stdout",
          "text": [
            "Before change: ['hard rock', 10, 1.2]\n",
            "After change: [10, 1.2]\n"
          ]
        }
      ]
    },
    {
      "cell_type": "code",
      "source": [
        "# El metodo 'split' permite dividir una cadena de caracteres dentro de los elementos de una lista y crear nuevos elementos de acuerdo a las palabras contenidas\n",
        "'hard rock'.split()"
      ],
      "metadata": {
        "id": "3gyLNpigBlUp",
        "colab": {
          "base_uri": "https://localhost:8080/"
        },
        "outputId": "cd431afe-1b0d-49be-89d3-c0f0185c3227"
      },
      "execution_count": null,
      "outputs": [
        {
          "output_type": "execute_result",
          "data": {
            "text/plain": [
              "['hard', 'rock']"
            ]
          },
          "metadata": {},
          "execution_count": 99
        }
      ]
    },
    {
      "cell_type": "code",
      "source": [
        "# se puede usar el metodo 'split' y agregar una condicion para que ese argumento divida los elemntos y creee una lista\n",
        "'A,B,C,D'.split(',')"
      ],
      "metadata": {
        "id": "00oysk_wBlhA",
        "colab": {
          "base_uri": "https://localhost:8080/"
        },
        "outputId": "b300db2d-980b-462c-8748-a1d059020c8a"
      },
      "execution_count": null,
      "outputs": [
        {
          "output_type": "execute_result",
          "data": {
            "text/plain": [
              "['A', 'B', 'C', 'D']"
            ]
          },
          "metadata": {},
          "execution_count": 100
        }
      ]
    },
    {
      "cell_type": "code",
      "source": [
        "# COPIAR - En este caso se copia una lista, pero las dos apuntan a la misma direccion en memoria\n",
        "A = [\"hard rock\", 10, 1.2]\n",
        "B = A\n",
        "print('A:', A)\n",
        "print('B:', B)"
      ],
      "metadata": {
        "id": "_L96LqK2Bllc",
        "colab": {
          "base_uri": "https://localhost:8080/"
        },
        "outputId": "d3bacf93-f488-4f32-820e-f8bceb47e28c"
      },
      "execution_count": null,
      "outputs": [
        {
          "output_type": "stream",
          "name": "stdout",
          "text": [
            "A: ['hard rock', 10, 1.2]\n",
            "B: ['hard rock', 10, 1.2]\n"
          ]
        }
      ]
    },
    {
      "cell_type": "code",
      "source": [
        "# Al cambiar un elemento en una de las dos lista, ambas listas vana tener una direccion propia en memoria y se vuelven independientes\n",
        "print('B[0]:', B[0])\n",
        "A[0] = \"banana\"\n",
        "print('B[0]:', B[0]) "
      ],
      "metadata": {
        "id": "0KByLzj4Blpc",
        "colab": {
          "base_uri": "https://localhost:8080/"
        },
        "outputId": "b7632511-2bfd-4851-9250-ea293a41f9aa"
      },
      "execution_count": null,
      "outputs": [
        {
          "output_type": "stream",
          "name": "stdout",
          "text": [
            "B[0]: hard rock\n",
            "B[0]: banana\n"
          ]
        }
      ]
    },
    {
      "cell_type": "code",
      "source": [
        "# Se pueden clonar los elementos de una lista y agregarlos a una nueva\n",
        "B = A[:]\n",
        "B"
      ],
      "metadata": {
        "id": "TZv304joBlti",
        "colab": {
          "base_uri": "https://localhost:8080/"
        },
        "outputId": "0633fb3a-fdd2-4f54-b868-b0df15c97c91"
      },
      "execution_count": null,
      "outputs": [
        {
          "output_type": "execute_result",
          "data": {
            "text/plain": [
              "['banana', 10, 1.2]"
            ]
          },
          "metadata": {},
          "execution_count": 103
        }
      ]
    },
    {
      "cell_type": "code",
      "source": [
        "# al clonar una lista, si se cambia un elemento de una lista, no se afecta la otra\n",
        "print('B[0]:', B[0])\n",
        "A[0] = \"hard rock\" # Se cambia elemto en lista A\n",
        "print('B[0]:', B[0])\n"
      ],
      "metadata": {
        "id": "eOtR4nwyBlyY",
        "colab": {
          "base_uri": "https://localhost:8080/"
        },
        "outputId": "f630ea25-89e9-44ec-d75a-be4f453f4abe"
      },
      "execution_count": null,
      "outputs": [
        {
          "output_type": "stream",
          "name": "stdout",
          "text": [
            "B[0]: banana\n",
            "B[0]: banana\n"
          ]
        }
      ]
    },
    {
      "cell_type": "code",
      "source": [
        "#Create a list a_list, with the following elements 1, hello, [1,2,3] and True.\n",
        "\n",
        "A = [1, 'hello', [1,2,3], True]\n",
        "A"
      ],
      "metadata": {
        "id": "W_lPzRvRBl2t",
        "colab": {
          "base_uri": "https://localhost:8080/"
        },
        "outputId": "1eb7c9e7-65a0-4f5b-f935-edbacaaeecf2"
      },
      "execution_count": null,
      "outputs": [
        {
          "output_type": "execute_result",
          "data": {
            "text/plain": [
              "[1, 'hello', [1, 2, 3], True]"
            ]
          },
          "metadata": {},
          "execution_count": 105
        }
      ]
    },
    {
      "cell_type": "code",
      "source": [
        "# Find the value stored at index 1 of a_list. \n",
        "A[1]"
      ],
      "metadata": {
        "id": "Cc0GvqzpBl6n",
        "colab": {
          "base_uri": "https://localhost:8080/",
          "height": 36
        },
        "outputId": "198ae541-bcb9-4923-9e90-fe8664e3f131"
      },
      "execution_count": null,
      "outputs": [
        {
          "output_type": "execute_result",
          "data": {
            "text/plain": [
              "'hello'"
            ],
            "application/vnd.google.colaboratory.intrinsic+json": {
              "type": "string"
            }
          },
          "metadata": {},
          "execution_count": 106
        }
      ]
    },
    {
      "cell_type": "code",
      "source": [
        "# Retrieve the elements stored at index 1, 2 and 3 of a_list.\n",
        "A[1:4]"
      ],
      "metadata": {
        "id": "oWjLYTLHBl9i",
        "colab": {
          "base_uri": "https://localhost:8080/"
        },
        "outputId": "74865282-75b8-4c16-e5cf-57a90dfdfea2"
      },
      "execution_count": null,
      "outputs": [
        {
          "output_type": "execute_result",
          "data": {
            "text/plain": [
              "['hello', [1, 2, 3], True]"
            ]
          },
          "metadata": {},
          "execution_count": 107
        }
      ]
    },
    {
      "cell_type": "code",
      "source": [
        "# Concatenate the following lists A = [1, 'a'] and B = [2, 1, 'd']:\n",
        "\n",
        "A = [1, 'a']\n",
        "B = [2, 1, 'd']\n",
        "C = A + B\n",
        "C"
      ],
      "metadata": {
        "id": "A5Q7A_j0BmBG",
        "colab": {
          "base_uri": "https://localhost:8080/"
        },
        "outputId": "db7c6e55-aae1-4e8d-fde9-5f4814da70b4"
      },
      "execution_count": null,
      "outputs": [
        {
          "output_type": "execute_result",
          "data": {
            "text/plain": [
              "[1, 'a', 2, 1, 'd']"
            ]
          },
          "metadata": {},
          "execution_count": 108
        }
      ]
    },
    {
      "cell_type": "markdown",
      "source": [
        "## **SET**"
      ],
      "metadata": {
        "id": "QNsjC1XjPfsg"
      }
    },
    {
      "cell_type": "code",
      "source": [
        "# CAST Convertir la lista en un set.\n",
        "a = ['A','B','C','A','B','C'] \n",
        "set(a)"
      ],
      "metadata": {
        "id": "dRtj1x2rBmIf",
        "colab": {
          "base_uri": "https://localhost:8080/"
        },
        "outputId": "effa30a8-d68f-4273-9043-980c4fd9864c"
      },
      "execution_count": null,
      "outputs": [
        {
          "output_type": "execute_result",
          "data": {
            "text/plain": [
              "{'A', 'B', 'C'}"
            ]
          },
          "metadata": {},
          "execution_count": 109
        }
      ]
    },
    {
      "cell_type": "code",
      "source": [
        "# Agredar un elemento nuevo al set con el metodo 'add'\n",
        "S={'A','B','C'}\n",
        "S.add('D')\n",
        "S"
      ],
      "metadata": {
        "id": "Eit7rywWBmN5",
        "colab": {
          "base_uri": "https://localhost:8080/"
        },
        "outputId": "84742c8f-7156-47cf-f743-d0a5deeaa75c"
      },
      "execution_count": null,
      "outputs": [
        {
          "output_type": "execute_result",
          "data": {
            "text/plain": [
              "{'A', 'B', 'C', 'D'}"
            ]
          },
          "metadata": {},
          "execution_count": 110
        }
      ]
    },
    {
      "cell_type": "code",
      "source": [
        "# INTERSECCION DE set: \n",
        "A={1,2,3,4,5}\n",
        "B={1,3,9, 12}\n",
        "A&B"
      ],
      "metadata": {
        "id": "eEJPSek4BmRA",
        "colab": {
          "base_uri": "https://localhost:8080/"
        },
        "outputId": "e6a93fdc-4b11-40ce-cbbc-c67f8bc51d1e"
      },
      "execution_count": null,
      "outputs": [
        {
          "output_type": "execute_result",
          "data": {
            "text/plain": [
              "{1, 3}"
            ]
          },
          "metadata": {},
          "execution_count": 111
        }
      ]
    },
    {
      "cell_type": "code",
      "source": [
        "# INTERSECCION DE set: \n",
        "A={1,2,3,4,5}\n",
        "B={1,3,9, 12}\n",
        "A.intersection(B)"
      ],
      "metadata": {
        "id": "x1lbWSEHQghw",
        "colab": {
          "base_uri": "https://localhost:8080/"
        },
        "outputId": "6f240371-2166-4efc-bc58-585675020162"
      },
      "execution_count": null,
      "outputs": [
        {
          "output_type": "execute_result",
          "data": {
            "text/plain": [
              "{1, 3}"
            ]
          },
          "metadata": {},
          "execution_count": 112
        }
      ]
    },
    {
      "cell_type": "markdown",
      "source": [
        "# Dictionaries in Python"
      ],
      "metadata": {
        "id": "hsvd_lWETQUX"
      }
    },
    {
      "cell_type": "code",
      "source": [
        "\n",
        "# Create the dictionary\n",
        "\n",
        "Dict = {\"key1\": 1, \"key2\": \"2\", \"key3\": [3, 3, 3], \"key4\": (4, 4, 4), ('key5'): 5, (0, 1): 6}\n",
        "Dict"
      ],
      "metadata": {
        "colab": {
          "base_uri": "https://localhost:8080/"
        },
        "id": "DZuplvfQTTy3",
        "outputId": "21bcc0bb-03fc-4943-b55d-4186a57cb762"
      },
      "execution_count": null,
      "outputs": [
        {
          "output_type": "execute_result",
          "data": {
            "text/plain": [
              "{'key1': 1,\n",
              " 'key2': '2',\n",
              " 'key3': [3, 3, 3],\n",
              " 'key4': (4, 4, 4),\n",
              " 'key5': 5,\n",
              " (0, 1): 6}"
            ]
          },
          "metadata": {},
          "execution_count": 113
        }
      ]
    },
    {
      "cell_type": "code",
      "source": [
        "# Access to the value by the key\n",
        "\n",
        "Dict[\"key1\"]"
      ],
      "metadata": {
        "colab": {
          "base_uri": "https://localhost:8080/"
        },
        "id": "FX9D9V3WTTwb",
        "outputId": "f7d82086-3444-4b89-9ce6-c6c69ad2fd48"
      },
      "execution_count": null,
      "outputs": [
        {
          "output_type": "execute_result",
          "data": {
            "text/plain": [
              "1"
            ]
          },
          "metadata": {},
          "execution_count": 114
        }
      ]
    },
    {
      "cell_type": "code",
      "source": [
        "# Access to the value by the key\n",
        "\n",
        "Dict[(0, 1)]"
      ],
      "metadata": {
        "colab": {
          "base_uri": "https://localhost:8080/"
        },
        "id": "97r0FJQQTTt3",
        "outputId": "7204901f-9859-4d42-ed91-aa95a6e272c2"
      },
      "execution_count": null,
      "outputs": [
        {
          "output_type": "execute_result",
          "data": {
            "text/plain": [
              "6"
            ]
          },
          "metadata": {},
          "execution_count": 115
        }
      ]
    },
    {
      "cell_type": "code",
      "source": [
        "# Create a sample dictionary\n",
        "\n",
        "release_year_dict = {\"Thriller\": \"1982\", \"Back in Black\": \"1980\", \\\n",
        "                    \"The Dark Side of the Moon\": \"1973\", \"The Bodyguard\": \"1992\", \\\n",
        "                    \"Bat Out of Hell\": \"1977\", \"Their Greatest Hits (1971-1975)\": \"1976\", \\\n",
        "                    \"Saturday Night Fever\": \"1977\", \"Rumours\": \"1977\"}\n",
        "release_year_dict"
      ],
      "metadata": {
        "colab": {
          "base_uri": "https://localhost:8080/"
        },
        "id": "94dg5FIITTra",
        "outputId": "415df92e-dce5-42d4-c42f-207efe12f0fa"
      },
      "execution_count": null,
      "outputs": [
        {
          "output_type": "execute_result",
          "data": {
            "text/plain": [
              "{'Thriller': '1982',\n",
              " 'Back in Black': '1980',\n",
              " 'The Dark Side of the Moon': '1973',\n",
              " 'The Bodyguard': '1992',\n",
              " 'Bat Out of Hell': '1977',\n",
              " 'Their Greatest Hits (1971-1975)': '1976',\n",
              " 'Saturday Night Fever': '1977',\n",
              " 'Rumours': '1977'}"
            ]
          },
          "metadata": {},
          "execution_count": 116
        }
      ]
    },
    {
      "cell_type": "code",
      "source": [
        "# Get value by keys\n",
        "\n",
        "release_year_dict['Thriller'] "
      ],
      "metadata": {
        "colab": {
          "base_uri": "https://localhost:8080/"
        },
        "id": "5nTqkSrKTTo2",
        "outputId": "d58cd79d-4cd0-4f63-9221-0e32ae1efa15"
      },
      "execution_count": null,
      "outputs": [
        {
          "output_type": "execute_result",
          "data": {
            "text/plain": [
              "'1982'"
            ],
            "application/vnd.google.colaboratory.intrinsic+json": {
              "type": "string"
            }
          },
          "metadata": {},
          "execution_count": 117
        }
      ]
    },
    {
      "cell_type": "code",
      "source": [
        "# Get value by key\n",
        "\n",
        "release_year_dict['The Bodyguard'] "
      ],
      "metadata": {
        "colab": {
          "base_uri": "https://localhost:8080/"
        },
        "id": "SEMVoo2fTTmT",
        "outputId": "93fb51e9-5dd7-4ff9-a6e3-fb78997f11f6"
      },
      "execution_count": null,
      "outputs": [
        {
          "output_type": "execute_result",
          "data": {
            "text/plain": [
              "'1992'"
            ],
            "application/vnd.google.colaboratory.intrinsic+json": {
              "type": "string"
            }
          },
          "metadata": {},
          "execution_count": 118
        }
      ]
    },
    {
      "cell_type": "code",
      "source": [
        "# Get all the keys in dictionary\n",
        "\n",
        "release_year_dict.keys() "
      ],
      "metadata": {
        "colab": {
          "base_uri": "https://localhost:8080/"
        },
        "id": "Qz37hEfrTTkP",
        "outputId": "335c76d4-5070-4409-b867-4c935ec41f82"
      },
      "execution_count": null,
      "outputs": [
        {
          "output_type": "execute_result",
          "data": {
            "text/plain": [
              "dict_keys(['Thriller', 'Back in Black', 'The Dark Side of the Moon', 'The Bodyguard', 'Bat Out of Hell', 'Their Greatest Hits (1971-1975)', 'Saturday Night Fever', 'Rumours'])"
            ]
          },
          "metadata": {},
          "execution_count": 119
        }
      ]
    },
    {
      "cell_type": "code",
      "source": [
        "# Get all the values in dictionary\n",
        "\n",
        "release_year_dict.values() "
      ],
      "metadata": {
        "colab": {
          "base_uri": "https://localhost:8080/"
        },
        "id": "Y4pQ8Mu5TThz",
        "outputId": "da6d83dd-dec2-4f53-9bbc-3f2c9b2cbc39"
      },
      "execution_count": null,
      "outputs": [
        {
          "output_type": "execute_result",
          "data": {
            "text/plain": [
              "dict_values(['1982', '1980', '1973', '1992', '1977', '1976', '1977', '1977'])"
            ]
          },
          "metadata": {},
          "execution_count": 120
        }
      ]
    },
    {
      "cell_type": "code",
      "source": [
        "# Question sample dictionary\n",
        "\n",
        "soundtrack_dic = {\"The Bodyguard\":\"1992\", \"Saturday Night Fever\":\"1977\"}\n",
        "soundtrack_dic "
      ],
      "metadata": {
        "colab": {
          "base_uri": "https://localhost:8080/"
        },
        "id": "YWXmgiKTTTfg",
        "outputId": "a03183a1-5923-40d4-a35c-c3538dca6c0b"
      },
      "execution_count": null,
      "outputs": [
        {
          "output_type": "execute_result",
          "data": {
            "text/plain": [
              "{'The Bodyguard': '1992', 'Saturday Night Fever': '1977'}"
            ]
          },
          "metadata": {},
          "execution_count": 121
        }
      ]
    },
    {
      "cell_type": "code",
      "source": [
        "soundtrack_dic.keys() "
      ],
      "metadata": {
        "colab": {
          "base_uri": "https://localhost:8080/"
        },
        "id": "bTT_EyGQTTc_",
        "outputId": "96f2e1c6-c159-488c-bcb3-9f7a54f3f172"
      },
      "execution_count": null,
      "outputs": [
        {
          "output_type": "execute_result",
          "data": {
            "text/plain": [
              "dict_keys(['The Bodyguard', 'Saturday Night Fever'])"
            ]
          },
          "metadata": {},
          "execution_count": 122
        }
      ]
    },
    {
      "cell_type": "code",
      "source": [
        "soundtrack_dic.values() "
      ],
      "metadata": {
        "colab": {
          "base_uri": "https://localhost:8080/"
        },
        "id": "Fe6jE7h8TTYa",
        "outputId": "8d6e70ff-bef0-408c-c767-af3a971def57"
      },
      "execution_count": null,
      "outputs": [
        {
          "output_type": "execute_result",
          "data": {
            "text/plain": [
              "dict_values(['1992', '1977'])"
            ]
          },
          "metadata": {},
          "execution_count": 123
        }
      ]
    },
    {
      "cell_type": "code",
      "source": [
        "album_sales_dict = {\"The Bodyguard\":50, \"Back in Black\":50, \"Thriller\":65}"
      ],
      "metadata": {
        "id": "Ny7Jp65_TTS3"
      },
      "execution_count": null,
      "outputs": []
    },
    {
      "cell_type": "code",
      "source": [
        "album_sales_dict[\"Thriller\"]"
      ],
      "metadata": {
        "colab": {
          "base_uri": "https://localhost:8080/"
        },
        "id": "IZmHHMr-TTKV",
        "outputId": "ab8267f5-03c2-4a75-f8fe-0589a95931f4"
      },
      "execution_count": null,
      "outputs": [
        {
          "output_type": "execute_result",
          "data": {
            "text/plain": [
              "65"
            ]
          },
          "metadata": {},
          "execution_count": 125
        }
      ]
    },
    {
      "cell_type": "code",
      "source": [
        "album_sales_dict.keys()"
      ],
      "metadata": {
        "id": "8UiDnv-UQqSl",
        "colab": {
          "base_uri": "https://localhost:8080/"
        },
        "outputId": "e98b6fd7-f924-4fde-debb-7fd44d92431d"
      },
      "execution_count": null,
      "outputs": [
        {
          "output_type": "execute_result",
          "data": {
            "text/plain": [
              "dict_keys(['The Bodyguard', 'Back in Black', 'Thriller'])"
            ]
          },
          "metadata": {},
          "execution_count": 126
        }
      ]
    },
    {
      "cell_type": "code",
      "source": [
        "album_sales_dict.values()"
      ],
      "metadata": {
        "colab": {
          "base_uri": "https://localhost:8080/"
        },
        "id": "J_OwX27PXjou",
        "outputId": "e64637a5-2e12-41ac-a3d6-fa4881fa49b4"
      },
      "execution_count": null,
      "outputs": [
        {
          "output_type": "execute_result",
          "data": {
            "text/plain": [
              "dict_values([50, 50, 65])"
            ]
          },
          "metadata": {},
          "execution_count": 127
        }
      ]
    },
    {
      "cell_type": "code",
      "source": [
        "album_sales_dict.values()"
      ],
      "metadata": {
        "colab": {
          "base_uri": "https://localhost:8080/"
        },
        "id": "4G0Wfo4sXlz3",
        "outputId": "7bd10f22-2918-48dd-ecd0-3f5b69188894"
      },
      "execution_count": null,
      "outputs": [
        {
          "output_type": "execute_result",
          "data": {
            "text/plain": [
              "dict_values([50, 50, 65])"
            ]
          },
          "metadata": {},
          "execution_count": 128
        }
      ]
    },
    {
      "cell_type": "markdown",
      "source": [
        "## **Conditions and Branching**"
      ],
      "metadata": {
        "id": "tcHJmdeeVIlb"
      }
    },
    {
      "cell_type": "code",
      "source": [
        "# True\n",
        "i = 2\n",
        "i!=0\n"
      ],
      "metadata": {
        "id": "lJZD6keVXnWc",
        "outputId": "12a8246d-8800-4856-cbf5-35fe8b5b5fa1",
        "colab": {
          "base_uri": "https://localhost:8080/"
        }
      },
      "execution_count": null,
      "outputs": [
        {
          "output_type": "execute_result",
          "data": {
            "text/plain": [
              "True"
            ]
          },
          "metadata": {},
          "execution_count": 129
        }
      ]
    },
    {
      "cell_type": "code",
      "source": [
        "# False\n",
        "i = 0\n",
        "i!=0"
      ],
      "metadata": {
        "id": "Gd0LHLvtXRTx",
        "outputId": "e0257022-d781-4f67-8c01-b0002d7f763c",
        "colab": {
          "base_uri": "https://localhost:8080/"
        }
      },
      "execution_count": null,
      "outputs": [
        {
          "output_type": "execute_result",
          "data": {
            "text/plain": [
              "False"
            ]
          },
          "metadata": {},
          "execution_count": 130
        }
      ]
    },
    {
      "cell_type": "code",
      "source": [
        "# True\n",
        "i = 0\n",
        "i == 0"
      ],
      "metadata": {
        "id": "uxr96S8iXVlx",
        "outputId": "19c9b259-3d8f-4ad2-a816-88be765a815e",
        "colab": {
          "base_uri": "https://localhost:8080/"
        }
      },
      "execution_count": null,
      "outputs": [
        {
          "output_type": "execute_result",
          "data": {
            "text/plain": [
              "True"
            ]
          },
          "metadata": {},
          "execution_count": 131
        }
      ]
    },
    {
      "cell_type": "code",
      "source": [
        "# False\n",
        "i = 2\n",
        "i == 0"
      ],
      "metadata": {
        "id": "ZcYVU3c1XeGA",
        "outputId": "ec11ba0e-4387-405b-a596-3296f1a4a761",
        "colab": {
          "base_uri": "https://localhost:8080/"
        }
      },
      "execution_count": null,
      "outputs": [
        {
          "output_type": "execute_result",
          "data": {
            "text/plain": [
              "False"
            ]
          },
          "metadata": {},
          "execution_count": 132
        }
      ]
    },
    {
      "cell_type": "code",
      "source": [
        "x='a'\n",
        "\n",
        "if(x!='a'):\n",
        "\n",
        "  print(\"This is not a.\")\n",
        "\n",
        "else:\n",
        "\n",
        "  print(\"This is a.\") # se imprime esta opcion"
      ],
      "metadata": {
        "id": "ZFJ2rHYUXg9l",
        "outputId": "7038f026-da6d-4f14-d255-a2c751edc5ec",
        "colab": {
          "base_uri": "https://localhost:8080/"
        }
      },
      "execution_count": null,
      "outputs": [
        {
          "output_type": "stream",
          "name": "stdout",
          "text": [
            "This is a.\n"
          ]
        }
      ]
    },
    {
      "cell_type": "code",
      "source": [
        "# Condicional igual\n",
        "a = 5\n",
        "a == 6"
      ],
      "metadata": {
        "id": "8IHkHbuEXoJh",
        "outputId": "53e9d377-6428-48fb-82ff-f6edca0c4f21",
        "colab": {
          "base_uri": "https://localhost:8080/"
        }
      },
      "execution_count": null,
      "outputs": [
        {
          "output_type": "execute_result",
          "data": {
            "text/plain": [
              "False"
            ]
          },
          "metadata": {},
          "execution_count": 134
        }
      ]
    },
    {
      "cell_type": "code",
      "source": [
        "# Comparacion\n",
        "i = 6\n",
        "i > 5 #pregunta si el valor de i es mayor a 5, es True"
      ],
      "metadata": {
        "id": "RSm4KRkUYJXv",
        "outputId": "978b7850-25e2-46a1-a874-ebebb86bf27d",
        "colab": {
          "base_uri": "https://localhost:8080/"
        }
      },
      "execution_count": null,
      "outputs": [
        {
          "output_type": "execute_result",
          "data": {
            "text/plain": [
              "True"
            ]
          },
          "metadata": {},
          "execution_count": 135
        }
      ]
    },
    {
      "cell_type": "code",
      "source": [
        "# Comparacion\n",
        "i = 2\n",
        "i > 5 #pregunta si el valor de i es mayor a 5, es false"
      ],
      "metadata": {
        "id": "FOb0_dOTYOoS",
        "outputId": "603a52a9-06d3-4f3d-eb8e-8424170f45b0",
        "colab": {
          "base_uri": "https://localhost:8080/"
        }
      },
      "execution_count": null,
      "outputs": [
        {
          "output_type": "execute_result",
          "data": {
            "text/plain": [
              "False"
            ]
          },
          "metadata": {},
          "execution_count": 136
        }
      ]
    },
    {
      "cell_type": "code",
      "source": [
        "# Diferente\n",
        "i = 2\n",
        "i != 6 #pregunta si el valor de i es diferente a 6, es True"
      ],
      "metadata": {
        "id": "wlblu6hLYZEE",
        "outputId": "d7a3b461-16ef-459d-cbc6-3bb66080c18a",
        "colab": {
          "base_uri": "https://localhost:8080/"
        }
      },
      "execution_count": null,
      "outputs": [
        {
          "output_type": "execute_result",
          "data": {
            "text/plain": [
              "True"
            ]
          },
          "metadata": {},
          "execution_count": 137
        }
      ]
    },
    {
      "cell_type": "code",
      "source": [
        "# Diferente\n",
        "i = 6\n",
        "i != 6  #pregunta si el valor de i es diferente a 6, es False"
      ],
      "metadata": {
        "id": "IGBilG7TYwRi",
        "outputId": "24f41775-69ed-4433-f2b7-8689232a61e7",
        "colab": {
          "base_uri": "https://localhost:8080/"
        }
      },
      "execution_count": null,
      "outputs": [
        {
          "output_type": "execute_result",
          "data": {
            "text/plain": [
              "False"
            ]
          },
          "metadata": {},
          "execution_count": 138
        }
      ]
    },
    {
      "cell_type": "code",
      "source": [
        "# Igualdad\n",
        "\"ACDC\" == \"Michael Jackson\" #False"
      ],
      "metadata": {
        "id": "BT2Pw-DqY4wG",
        "outputId": "bc48a93e-8762-45a0-e284-2162970f0bec",
        "colab": {
          "base_uri": "https://localhost:8080/"
        }
      },
      "execution_count": null,
      "outputs": [
        {
          "output_type": "execute_result",
          "data": {
            "text/plain": [
              "False"
            ]
          },
          "metadata": {},
          "execution_count": 139
        }
      ]
    },
    {
      "cell_type": "code",
      "source": [
        "# Diferencia\n",
        "\"ACDC\" != \"Michael Jackson\" #True"
      ],
      "metadata": {
        "id": "GaLP3gfqY_36",
        "outputId": "09d20a09-18b5-4230-9472-ab056900dc01",
        "colab": {
          "base_uri": "https://localhost:8080/"
        }
      },
      "execution_count": null,
      "outputs": [
        {
          "output_type": "execute_result",
          "data": {
            "text/plain": [
              "True"
            ]
          },
          "metadata": {},
          "execution_count": 140
        }
      ]
    },
    {
      "cell_type": "code",
      "source": [
        "#condicional if\n",
        "\n",
        "age = 19\n",
        "#age = 18\n",
        "\n",
        "#expression that can be true or false\n",
        "if age > 18:\n",
        "    \n",
        "    #within an indent, we have the expression that is run if the condition is true\n",
        "    print(\"you can enter\" )\n",
        "\n",
        "#The statements after the if statement will run regardless if the condition is true or false \n",
        "print(\"move on\")"
      ],
      "metadata": {
        "id": "N_wg5ndUZKoV",
        "outputId": "5aff8595-3073-4e3c-84eb-604594a94c25",
        "colab": {
          "base_uri": "https://localhost:8080/"
        }
      },
      "execution_count": null,
      "outputs": [
        {
          "output_type": "stream",
          "name": "stdout",
          "text": [
            "you can enter\n",
            "move on\n"
          ]
        }
      ]
    },
    {
      "cell_type": "code",
      "source": [
        "# Condicional con else\n",
        "\n",
        "age = 18\n",
        "# age = 19\n",
        "\n",
        "if age > 18:\n",
        "    print(\"you can enter\" )\n",
        "else:\n",
        "    print(\"go see Meat Loaf\" )\n",
        "    \n",
        "print(\"move on\")"
      ],
      "metadata": {
        "id": "btP9cKNKZuFz",
        "outputId": "bd088e97-7167-453f-c9b4-1b7258b17689",
        "colab": {
          "base_uri": "https://localhost:8080/"
        }
      },
      "execution_count": null,
      "outputs": [
        {
          "output_type": "stream",
          "name": "stdout",
          "text": [
            "go see Meat Loaf\n",
            "move on\n"
          ]
        }
      ]
    },
    {
      "cell_type": "code",
      "source": [
        "# Condicional elif (else + if)\n",
        "\n",
        "age = 18\n",
        "\n",
        "if age > 18:\n",
        "    print(\"you can enter\" )\n",
        "elif age == 18:\n",
        "    print(\"go see Pink Floyd\")\n",
        "else:\n",
        "    print(\"go see Meat Loaf\" )\n",
        "    \n",
        "print(\"move on\")"
      ],
      "metadata": {
        "id": "DhVvYmwqZ2Gt",
        "outputId": "a92484bc-aae1-4bd3-9a8b-ea39d9c83733",
        "colab": {
          "base_uri": "https://localhost:8080/"
        }
      },
      "execution_count": null,
      "outputs": [
        {
          "output_type": "stream",
          "name": "stdout",
          "text": [
            "go see Pink Floyd\n",
            "move on\n"
          ]
        }
      ]
    },
    {
      "cell_type": "code",
      "source": [
        "# Condicional AND\n",
        "\n",
        "album_year = 1980\n",
        "\n",
        "if(album_year > 1979) and (album_year < 1990):\n",
        "    print (\"Album year was in between 1980 and 1989\")\n",
        "    \n",
        "print(\"\")\n",
        "print(\"Do Stuff..\")"
      ],
      "metadata": {
        "id": "mWBRAsTtZ9PT",
        "outputId": "f6d3e55f-1cbe-4c8c-f9fa-f78dff9048b8",
        "colab": {
          "base_uri": "https://localhost:8080/"
        }
      },
      "execution_count": null,
      "outputs": [
        {
          "output_type": "stream",
          "name": "stdout",
          "text": [
            "Album year was in between 1980 and 1989\n",
            "\n",
            "Do Stuff..\n"
          ]
        }
      ]
    },
    {
      "cell_type": "code",
      "source": [
        "# Condicional OR\n",
        "\n",
        "album_year = 1990\n",
        "\n",
        "if(album_year < 1980) or (album_year > 1989):\n",
        "    print (\"Album was not made in the 1980's\")\n",
        "else:\n",
        "    print(\"The Album was made in the 1980's \")"
      ],
      "metadata": {
        "id": "o4tEz4lDaI-r",
        "outputId": "b3495ee1-bf13-4565-9811-4349b6435b59",
        "colab": {
          "base_uri": "https://localhost:8080/"
        }
      },
      "execution_count": null,
      "outputs": [
        {
          "output_type": "stream",
          "name": "stdout",
          "text": [
            "Album was not made in the 1980's\n"
          ]
        }
      ]
    },
    {
      "cell_type": "code",
      "source": [
        "# Condicional NOT\n",
        "\n",
        "album_year = 1983\n",
        "\n",
        "if not (album_year == 1984):\n",
        "    print (\"Album year is not 1984\")"
      ],
      "metadata": {
        "id": "9CkHx2K8aOye",
        "outputId": "e9e831ed-ba34-432a-9afc-b19f9d94a07d",
        "colab": {
          "base_uri": "https://localhost:8080/"
        }
      },
      "execution_count": null,
      "outputs": [
        {
          "output_type": "stream",
          "name": "stdout",
          "text": [
            "Album year is not 1984\n"
          ]
        }
      ]
    },
    {
      "cell_type": "markdown",
      "source": [
        "QUIZ ON CONDITIONS"
      ],
      "metadata": {
        "id": "souxbnVVbQlz"
      }
    },
    {
      "cell_type": "code",
      "source": [
        "Back_in_Black = 8.5\n",
        "\n",
        "if Back_in_Black >= 8.5:\n",
        "    print (\"This album is Amazing!\")\n",
        "else:\n",
        "    print(\"The Album isn't Amazing\")"
      ],
      "metadata": {
        "id": "9qEG4436aTNS",
        "outputId": "1e37a007-a300-430b-d53c-689072a936e9",
        "colab": {
          "base_uri": "https://localhost:8080/"
        }
      },
      "execution_count": null,
      "outputs": [
        {
          "output_type": "stream",
          "name": "stdout",
          "text": [
            "This album is Amazing!\n"
          ]
        }
      ]
    },
    {
      "cell_type": "code",
      "source": [
        "Back_in_Black = 8\n",
        "\n",
        "if Back_in_Black > 8:\n",
        "    print (\"This album is Amazing!\")\n",
        "else:\n",
        "    print(\"this album is ok\")"
      ],
      "metadata": {
        "id": "tYukBrXabV5I",
        "outputId": "3040fefb-52df-4531-b6d5-855c1639f82c",
        "colab": {
          "base_uri": "https://localhost:8080/"
        }
      },
      "execution_count": null,
      "outputs": [
        {
          "output_type": "stream",
          "name": "stdout",
          "text": [
            "this album is ok\n"
          ]
        }
      ]
    },
    {
      "cell_type": "code",
      "source": [
        "if(album_year < 1980):\n",
        "    print (\"Album was made before 1980\")\n",
        "elif(album_year == 1991):\n",
        "    print(\"The Album was made in 1991\")\n",
        "elif(album_year == 1993):\n",
        "    print(\"The Album was made in 1993\") \n",
        "else:\n",
        "    print(\"The Album wasn't made neither before 1980, nor 1991, nor 1993 \")  "
      ],
      "metadata": {
        "id": "o6H_ZXMGbXbn",
        "outputId": "8bef949b-93cf-4275-ff31-dd4d374204a6",
        "colab": {
          "base_uri": "https://localhost:8080/"
        }
      },
      "execution_count": null,
      "outputs": [
        {
          "output_type": "stream",
          "name": "stdout",
          "text": [
            "The Album wasn't made neither before 1980, nor 1991, nor 1993 \n"
          ]
        }
      ]
    },
    {
      "cell_type": "markdown",
      "source": [
        "# Loops "
      ],
      "metadata": {
        "id": "qOoNIcZVf3j1"
      }
    },
    {
      "cell_type": "code",
      "source": [
        "# Imprimir los valores de la lista A uno por uno\n",
        "A=[3,4,5]\n",
        "i = 0\n",
        "for i in A:\n",
        "    print(i)"
      ],
      "metadata": {
        "id": "0m6q2Zijf3XX",
        "outputId": "867edeee-a420-48fb-ca50-05f951d7fe56",
        "colab": {
          "base_uri": "https://localhost:8080/"
        }
      },
      "execution_count": null,
      "outputs": [
        {
          "output_type": "stream",
          "name": "stdout",
          "text": [
            "3\n",
            "4\n",
            "5\n"
          ]
        }
      ]
    },
    {
      "cell_type": "code",
      "source": [
        "# Valor para x \n",
        "x=11\n",
        "y=1\n",
        "while(y != x):\n",
        "    print(y)\n",
        "    y=y+1"
      ],
      "metadata": {
        "id": "8Om0B0gtczwT",
        "outputId": "9ff719a4-c654-4b2a-a1f2-07b7f57f3db2",
        "colab": {
          "base_uri": "https://localhost:8080/"
        }
      },
      "execution_count": null,
      "outputs": [
        {
          "output_type": "stream",
          "name": "stdout",
          "text": [
            "1\n",
            "2\n",
            "3\n",
            "4\n",
            "5\n",
            "6\n",
            "7\n",
            "8\n",
            "9\n",
            "10\n"
          ]
        }
      ]
    },
    {
      "cell_type": "code",
      "source": [
        "# Imprimir fechas\n",
        "dates = [1982,1980,1973]\n",
        "N = len(dates)      # N se le asigna el valor del tama;o de la lista dates, N vale 3\n",
        "\n",
        "for i in range(N):  # i vale cero en un rango que vale N\n",
        "    print(dates[i])   # se imprime el contenido del indice que valga i"
      ],
      "metadata": {
        "id": "YQrX1I6Lgo-r",
        "colab": {
          "base_uri": "https://localhost:8080/"
        },
        "outputId": "6fc0a5d1-6614-4a99-e543-8321e982fa7d"
      },
      "execution_count": null,
      "outputs": [
        {
          "output_type": "stream",
          "name": "stdout",
          "text": [
            "1982\n",
            "1980\n",
            "1973\n"
          ]
        }
      ]
    },
    {
      "cell_type": "code",
      "source": [
        "# Se imprimen numeros del cero al 7\n",
        "\n",
        "for i in range(0, 8): # i se evalua entre 0 y 8 elementos desde el indice cero, es decir del 0 al 7 \n",
        "    print(i)          # se imprime el valor de i"
      ],
      "metadata": {
        "colab": {
          "base_uri": "https://localhost:8080/"
        },
        "id": "Cto-W361CRb8",
        "outputId": "9cb85e98-4e8b-4a34-bb6b-d1056a60334c"
      },
      "execution_count": null,
      "outputs": [
        {
          "output_type": "stream",
          "name": "stdout",
          "text": [
            "0\n",
            "1\n",
            "2\n",
            "3\n",
            "4\n",
            "5\n",
            "6\n",
            "7\n"
          ]
        }
      ]
    },
    {
      "cell_type": "code",
      "source": [
        "# Impresion de a;os\n",
        "\n",
        "for year in dates:  # Similar al ejemplo anterior, pero la variable i se sustiye por 'years' y se ubica la lista 'dates' como rango\n",
        "    print(year)     # se imprime el a;o\n",
        "  "
      ],
      "metadata": {
        "colab": {
          "base_uri": "https://localhost:8080/"
        },
        "id": "OX9gFqwyCpVl",
        "outputId": "15678fa5-9f3a-4636-9f0f-be536b073fce"
      },
      "execution_count": null,
      "outputs": [
        {
          "output_type": "stream",
          "name": "stdout",
          "text": [
            "1982\n",
            "1980\n",
            "1973\n"
          ]
        }
      ]
    },
    {
      "cell_type": "code",
      "source": [
        "# Cambio de listas\n",
        "\n",
        "squares = ['red', 'yellow', 'green', 'purple', 'blue']  # Lista de 5 elemntos, index desde 0 hasta 4\n",
        "\n",
        "for i in range(0, 5):     # variable i, rango: 0,1,2,3,4\n",
        "    print(\"Before square \", i, 'is',  squares[i]) # Imprime el valor que tiene el indice i y el valor de la lista en el indice i\n",
        "    squares[i] = 'white'                          # En la lista cmbia el valor que hay en el indice i por 'white'\n",
        "    print(\"After square \", i, 'is',  squares[i])  # Imprime el valor de i y el valor que ahora tiene el indice en la lista i"
      ],
      "metadata": {
        "colab": {
          "base_uri": "https://localhost:8080/"
        },
        "id": "_Wks-hsqDFBX",
        "outputId": "fd7ac8c6-ee14-4376-a822-8f4827527032"
      },
      "execution_count": null,
      "outputs": [
        {
          "output_type": "stream",
          "name": "stdout",
          "text": [
            "Before square  0 is red\n",
            "After square  0 is white\n",
            "Before square  1 is yellow\n",
            "After square  1 is white\n",
            "Before square  2 is green\n",
            "After square  2 is white\n",
            "Before square  3 is purple\n",
            "After square  3 is white\n",
            "Before square  4 is blue\n",
            "After square  4 is white\n"
          ]
        }
      ]
    },
    {
      "cell_type": "code",
      "source": [
        "# Imprimir index y contenido de la lista\n",
        "\n",
        "squares=['red', 'yellow', 'green', 'purple', 'blue']   # Lista de 5 elemntos, index desde 0 hasta 4\n",
        "\n",
        "for i, square in enumerate(squares):  # se inicializa la variable i y la variable 'square', se usa el metodo enumerare\n",
        "    print(i, square)    #imprime indice y contenido de la lista"
      ],
      "metadata": {
        "colab": {
          "base_uri": "https://localhost:8080/"
        },
        "id": "kP72mWY6DdpL",
        "outputId": "614ddcc8-6c14-4914-dad3-c2b41cc2ac28"
      },
      "execution_count": null,
      "outputs": [
        {
          "output_type": "stream",
          "name": "stdout",
          "text": [
            "0 red\n",
            "1 yellow\n",
            "2 green\n",
            "3 purple\n",
            "4 blue\n"
          ]
        }
      ]
    },
    {
      "cell_type": "code",
      "source": [
        "# While Loop Example\n",
        "\n",
        "dates = [1982, 1980, 1973, 2000]\n",
        "\n",
        "i = 0\n",
        "year = dates[0]\n",
        "\n",
        "while(year != 1973):    \n",
        "    print(year)\n",
        "    i = i + 1\n",
        "    year = dates[i]\n",
        "    \n",
        "\n",
        "print(\"It took \", i ,\"repetitions to get out of loop.\")"
      ],
      "metadata": {
        "colab": {
          "base_uri": "https://localhost:8080/"
        },
        "id": "3JnqH9r-Ejwv",
        "outputId": "b8a6c282-6ede-4a59-f5ee-b013335c6f91"
      },
      "execution_count": null,
      "outputs": [
        {
          "output_type": "stream",
          "name": "stdout",
          "text": [
            "1982\n",
            "1980\n",
            "It took  2 repetitions to get out of loop.\n"
          ]
        }
      ]
    },
    {
      "cell_type": "code",
      "source": [
        "# Write a for loop the prints out all the element between -5 and 5 using the range function\n",
        "for i in range(-5, 6): \n",
        "    print(i) "
      ],
      "metadata": {
        "colab": {
          "base_uri": "https://localhost:8080/"
        },
        "id": "b5x-WSD0G-Ra",
        "outputId": "df541d38-3bff-4663-ab3b-8c53bc3c1329"
      },
      "execution_count": null,
      "outputs": [
        {
          "output_type": "stream",
          "name": "stdout",
          "text": [
            "-5\n",
            "-4\n",
            "-3\n",
            "-2\n",
            "-1\n",
            "0\n",
            "1\n",
            "2\n",
            "3\n",
            "4\n",
            "5\n"
          ]
        }
      ]
    },
    {
      "cell_type": "code",
      "source": [
        "# Print the elements of the following list: Genres=[ 'rock', 'R&B', 'Soundtrack', 'R&B', 'soul', 'pop'] Make sure you follow Python conventions.\n",
        "Genres=[ 'rock', 'R&B', 'Soundtrack', 'R&B', 'soul', 'pop']\n",
        "\n",
        "for i in Genres: \n",
        "    print(i) "
      ],
      "metadata": {
        "colab": {
          "base_uri": "https://localhost:8080/"
        },
        "id": "ih_NWOK8HgQi",
        "outputId": "0f16641e-90b4-4af2-e296-02e266deff3a"
      },
      "execution_count": null,
      "outputs": [
        {
          "output_type": "stream",
          "name": "stdout",
          "text": [
            "rock\n",
            "R&B\n",
            "Soundtrack\n",
            "R&B\n",
            "soul\n",
            "pop\n"
          ]
        }
      ]
    },
    {
      "cell_type": "code",
      "source": [
        "# Write a for loop that prints out the following list: squares=['red', 'yellow', 'green', 'purple', 'blue']\n",
        "squares=['red', 'yellow', 'green', 'purple', 'blue']\n",
        "\n",
        "for i in squares: \n",
        "    print(i)"
      ],
      "metadata": {
        "colab": {
          "base_uri": "https://localhost:8080/"
        },
        "id": "C4U7QTZcHxCn",
        "outputId": "9e21701a-d36d-4fc2-f168-b38d8da40dd5"
      },
      "execution_count": null,
      "outputs": [
        {
          "output_type": "stream",
          "name": "stdout",
          "text": [
            "red\n",
            "yellow\n",
            "green\n",
            "purple\n",
            "blue\n"
          ]
        }
      ]
    },
    {
      "cell_type": "code",
      "source": [
        "# Write a while loop to display the values of the Rating of an album playlist stored in the list PlayListRatings. If the score is less than 6, exit the loop. The list PlayListRatings is given by:\n",
        "PlayListRatings = [10, 9.5, 10, 8, 7.5, 5, 10, 10]\n",
        "i = 0\n",
        "Rating = PlayListRatings[0]\n",
        "while(i < len(PlayListRatings) and Rating >= 6):\n",
        "    print(Rating)\n",
        "    i = i + 1 # This prints the value 10 only once \n",
        "    Rating = PlayListRatings[i]\n",
        "    i = i + 1 #Try uncommenting the line and comment the previous i = i + 1, and see the difference, 10 value will get printed twice because when the loop starts it will print Rating and then with PlayListRatings[0], it will again assign the value 10 to Ratings.\n"
      ],
      "metadata": {
        "colab": {
          "base_uri": "https://localhost:8080/"
        },
        "id": "BJG6ObbzINDd",
        "outputId": "37f75b5f-37b5-4036-da66-0b73b264f041"
      },
      "execution_count": null,
      "outputs": [
        {
          "output_type": "stream",
          "name": "stdout",
          "text": [
            "10\n",
            "9.5\n",
            "8\n"
          ]
        }
      ]
    },
    {
      "cell_type": "code",
      "source": [
        "# Write a while loop to copy the strings 'orange' of the list squares to the list new_squares. Stop and exit the loop if the value on the list is not 'orange'\n",
        "squares = ['orange', 'orange', 'purple', 'blue ', 'orange']\n",
        "new_squares = []\n",
        "i = 0\n",
        "while(i < len(squares) and squares[i] == 'orange'):\n",
        "    new_squares.append(squares[i])\n",
        "    i = i + 1\n",
        "print (new_squares)"
      ],
      "metadata": {
        "colab": {
          "base_uri": "https://localhost:8080/"
        },
        "id": "I5Bt0XEsLrly",
        "outputId": "ed0af98e-ff03-4bf5-d58f-ccceeed47406"
      },
      "execution_count": null,
      "outputs": [
        {
          "output_type": "stream",
          "name": "stdout",
          "text": [
            "['orange', 'orange']\n"
          ]
        }
      ]
    },
    {
      "cell_type": "markdown",
      "source": [
        "## **Functions**"
      ],
      "metadata": {
        "id": "rJGXfA1FOm8s"
      }
    },
    {
      "cell_type": "code",
      "source": [
        "# funcion que multiplica\n",
        "def f(a,b):\n",
        "    \n",
        "    return a*b\n",
        "\n",
        "a=4\n",
        "b=2\n",
        "\n",
        "if a*b==f(a,b):   \n",
        "    print(\"Correct.\")   \n",
        "else:    \n",
        "    print(\"Incorrect.\")"
      ],
      "metadata": {
        "id": "2RlmjZWkLyYY",
        "outputId": "0a33feeb-b9c4-4e98-fe14-d9693de1ee4a",
        "colab": {
          "base_uri": "https://localhost:8080/"
        }
      },
      "execution_count": null,
      "outputs": [
        {
          "output_type": "stream",
          "name": "stdout",
          "text": [
            "Correct.\n"
          ]
        }
      ]
    },
    {
      "cell_type": "code",
      "source": [
        "# Funsion que suma los elemntos de una lista\n",
        "def g(c):\n",
        "\n",
        "    return sum(c)\n",
        "\n",
        "c=[1,2,3,4,5]\n",
        "\n",
        "if sum(c)==g(c):   \n",
        "    print(\"Correct.\")   \n",
        "else:    \n",
        "    print(\"Incorrect.\")"
      ],
      "metadata": {
        "id": "jufZMvIFOlWa",
        "outputId": "229e2fa4-8dcd-4495-cf4e-06c35f031ddd",
        "colab": {
          "base_uri": "https://localhost:8080/"
        }
      },
      "execution_count": null,
      "outputs": [
        {
          "output_type": "stream",
          "name": "stdout",
          "text": [
            "Correct.\n"
          ]
        }
      ]
    },
    {
      "cell_type": "code",
      "source": [
        "def f(*x):\n",
        "\n",
        "  return sum(x) "
      ],
      "metadata": {
        "id": "BX0cLDzKPNjf"
      },
      "execution_count": null,
      "outputs": []
    },
    {
      "cell_type": "code",
      "source": [
        "# Sumar 1 a b y retornar b\n",
        "\n",
        "def add(a): # Se define la funcion\n",
        "    \"\"\"\n",
        "    add 1 to a\n",
        "    \"\"\"\n",
        "    b = a + 1 # se hace la operacion de adicion a b\n",
        "    print(a, \"if you add one\", b)\n",
        "    return(b) # regresa a b"
      ],
      "metadata": {
        "id": "HF10zxj_PqK1"
      },
      "execution_count": 1,
      "outputs": []
    },
    {
      "cell_type": "code",
      "source": [
        "# Para obtener informcion de una funcion\n",
        "help(add)"
      ],
      "metadata": {
        "id": "e3AVhxNXHTSh",
        "outputId": "d8815bc0-1987-460c-99b7-212dc9fc63d4",
        "colab": {
          "base_uri": "https://localhost:8080/"
        }
      },
      "execution_count": 2,
      "outputs": [
        {
          "output_type": "stream",
          "name": "stdout",
          "text": [
            "Help on function add in module __main__:\n",
            "\n",
            "add(a)\n",
            "    add 1 to a\n",
            "\n"
          ]
        }
      ]
    },
    {
      "cell_type": "code",
      "source": [
        "# Crear funcion con multiples parametros\n",
        "\n",
        "def Mult(a, b):\n",
        "    c = a * b\n",
        "    return(c)\n",
        "    print('This is not printed')\n",
        "    \n",
        "result = Mult(12,2)\n",
        "print(result)"
      ],
      "metadata": {
        "id": "saVhPj7NHgF5",
        "outputId": "f14b6d84-5199-4c2f-e645-4d21e2c4dbbc",
        "colab": {
          "base_uri": "https://localhost:8080/"
        }
      },
      "execution_count": 3,
      "outputs": [
        {
          "output_type": "stream",
          "name": "stdout",
          "text": [
            "24\n"
          ]
        }
      ]
    },
    {
      "cell_type": "code",
      "source": [
        "# Toda variable fuera de la funcion es variable global\n",
        "\n",
        "def square(a):\n",
        "    \n",
        "    # Variables locales b y c\n",
        "    b = 1\n",
        "    c = a * a + b\n",
        "    print(a, \"if you square + 1\", c) \n",
        "    return(c)"
      ],
      "metadata": {
        "id": "hN8YbadHIekH"
      },
      "execution_count": 4,
      "outputs": []
    },
    {
      "cell_type": "code",
      "source": [
        "# Funciones equivalentes, no retornan valor de la funcion.\n",
        "\n",
        "def MJ():\n",
        "    print('Michael Jackson 1')\n",
        "    \n",
        "def MJ1():\n",
        "    print('Michael Jackson 2 ')\n",
        "    return(None)\n",
        "\n",
        "MJ()\n",
        "MJ1()"
      ],
      "metadata": {
        "id": "3_HTeQl9IsLi",
        "outputId": "4a48ef52-e202-4527-c962-35310b89c7cf",
        "colab": {
          "base_uri": "https://localhost:8080/"
        }
      },
      "execution_count": 8,
      "outputs": [
        {
          "output_type": "stream",
          "name": "stdout",
          "text": [
            "Michael Jackson 1\n",
            "Michael Jackson 2 \n"
          ]
        }
      ]
    },
    {
      "cell_type": "code",
      "source": [
        "# Printing the function after a call reveals a None is the default return statement:\n",
        "print(MJ())\n",
        "print(MJ1())"
      ],
      "metadata": {
        "id": "RDbR4OaQNES0",
        "outputId": "7fa90ae3-335e-4f23-fe25-a3f7b210042e",
        "colab": {
          "base_uri": "https://localhost:8080/"
        }
      },
      "execution_count": 9,
      "outputs": [
        {
          "output_type": "stream",
          "name": "stdout",
          "text": [
            "Michael Jackson 1\n",
            "None\n",
            "Michael Jackson 2 \n",
            "None\n"
          ]
        }
      ]
    },
    {
      "cell_type": "code",
      "source": [
        "# Funcion para concatenar dos strings\n",
        "def con(a, b):\n",
        "    return(a + b)\n",
        "\n",
        "con(\"This \", \"is\")"
      ],
      "metadata": {
        "id": "vgX6mLYaNYet",
        "outputId": "b516ee7b-d4b2-44b7-ba05-ecd562281078",
        "colab": {
          "base_uri": "https://localhost:8080/",
          "height": 36
        }
      },
      "execution_count": 12,
      "outputs": [
        {
          "output_type": "execute_result",
          "data": {
            "text/plain": [
              "'This is'"
            ],
            "application/vnd.google.colaboratory.intrinsic+json": {
              "type": "string"
            }
          },
          "metadata": {},
          "execution_count": 12
        }
      ]
    },
    {
      "cell_type": "code",
      "source": [
        "# Programa 1 calcular un valor\n",
        "\n",
        "a1 = 4\n",
        "b1 = 5\n",
        "c1 = a1 + b1 + 2 * a1 * b1 - 1\n",
        "if(c1 < 0):\n",
        "    c1 = 0 \n",
        "else:\n",
        "    c1 = 5\n",
        "c1  "
      ],
      "metadata": {
        "id": "3-u6sRK-Nl10",
        "outputId": "3cc0aba4-9b71-4f4d-8a42-0257ce480e6f",
        "colab": {
          "base_uri": "https://localhost:8080/"
        }
      },
      "execution_count": 13,
      "outputs": [
        {
          "output_type": "execute_result",
          "data": {
            "text/plain": [
              "5"
            ]
          },
          "metadata": {},
          "execution_count": 13
        }
      ]
    },
    {
      "cell_type": "code",
      "source": [
        "# Segundo ejeprograma para calcular\n",
        "\n",
        "a2 = 0\n",
        "b2 = 0\n",
        "c2 = a2 + b2 + 2 * a2 * b2 - 1\n",
        "if(c2 < 0):\n",
        "    c2 = 0 \n",
        "else:\n",
        "    c2 = 5\n",
        "c2   "
      ],
      "metadata": {
        "id": "qjhuVZJMOACy",
        "outputId": "bc0a4cfc-6d8e-46de-ed08-8bea5da3297f",
        "colab": {
          "base_uri": "https://localhost:8080/"
        }
      },
      "execution_count": 15,
      "outputs": [
        {
          "output_type": "execute_result",
          "data": {
            "text/plain": [
              "0"
            ]
          },
          "metadata": {},
          "execution_count": 15
        }
      ]
    },
    {
      "cell_type": "code",
      "source": [
        "#  funcion que realiza las operaciones de los dos bloques anteriores y puede ser reutilizada\n",
        "def Equation(a,b):\n",
        "    c = a + b + 2 * a * b - 1\n",
        "    if(c < 0):\n",
        "        c = 0 \n",
        "    else:\n",
        "        c = 5\n",
        "    return(c) "
      ],
      "metadata": {
        "id": "4Ap5Z8mROE0u"
      },
      "execution_count": 16,
      "outputs": []
    },
    {
      "cell_type": "code",
      "source": [
        "# Ejemplo de ejecucion de funcion del bloque anterior\n",
        "a1 = 4\n",
        "b1 = 5\n",
        "c1 = Equation(a1, b1)\n",
        "c1"
      ],
      "metadata": {
        "id": "wTb7WqM0Pp04",
        "outputId": "76b3b7bd-8c8a-439a-db8a-5f06419e94a8",
        "colab": {
          "base_uri": "https://localhost:8080/"
        }
      },
      "execution_count": 20,
      "outputs": [
        {
          "output_type": "execute_result",
          "data": {
            "text/plain": [
              "5"
            ]
          },
          "metadata": {},
          "execution_count": 20
        }
      ]
    },
    {
      "cell_type": "code",
      "source": [
        "# Ejemplo de ejecucion de funcion del bloque anterior\n",
        "\n",
        "a2 = 0\n",
        "b2 = 0\n",
        "c2 = Equation(a2, b2)\n",
        "c2"
      ],
      "metadata": {
        "id": "YG2EJAiUP0TD",
        "outputId": "f3d8ee45-3396-44a8-d82d-92a327fa76e2",
        "colab": {
          "base_uri": "https://localhost:8080/"
        }
      },
      "execution_count": 21,
      "outputs": [
        {
          "output_type": "execute_result",
          "data": {
            "text/plain": [
              "0"
            ]
          },
          "metadata": {},
          "execution_count": 21
        }
      ]
    },
    {
      "cell_type": "code",
      "source": [
        "# Funciones predefinidas\n",
        "\n",
        "album_ratings = [10.0, 8.5, 9.5, 7.0, 7.0, 9.5, 9.0, 9.5] # Crear una lista\n",
        "print(album_ratings)"
      ],
      "metadata": {
        "id": "EU5QJLJ6P7G4",
        "outputId": "fa77ccda-9ac0-42e0-820d-09dd3ae44b19",
        "colab": {
          "base_uri": "https://localhost:8080/"
        }
      },
      "execution_count": 22,
      "outputs": [
        {
          "output_type": "stream",
          "name": "stdout",
          "text": [
            "[10.0, 8.5, 9.5, 7.0, 7.0, 9.5, 9.0, 9.5]\n"
          ]
        }
      ]
    },
    {
      "cell_type": "code",
      "source": [
        "sum(album_ratings)  # Funcion predefinida que suma los elementos numericos contenidos en la lista"
      ],
      "metadata": {
        "id": "Pfe6u-kLSNFW",
        "outputId": "c5bbbdc6-4ccd-49a6-9c7b-d67f5d425c59",
        "colab": {
          "base_uri": "https://localhost:8080/"
        }
      },
      "execution_count": 25,
      "outputs": [
        {
          "output_type": "execute_result",
          "data": {
            "text/plain": [
              "70.0"
            ]
          },
          "metadata": {},
          "execution_count": 25
        }
      ]
    },
    {
      "cell_type": "code",
      "source": [
        "len(album_ratings)  # funcion que muestra el tama;o de la lista (Muestra el tama;o en cantidad de indices)"
      ],
      "metadata": {
        "id": "C7OSSZwvSTo7",
        "outputId": "e3d8e337-204c-4e44-9d53-688eb3707099",
        "colab": {
          "base_uri": "https://localhost:8080/"
        }
      },
      "execution_count": 27,
      "outputs": [
        {
          "output_type": "execute_result",
          "data": {
            "text/plain": [
              "8"
            ]
          },
          "metadata": {},
          "execution_count": 27
        }
      ]
    },
    {
      "cell_type": "code",
      "source": [
        "# Funcion de comparacion\n",
        "\n",
        "def type_of_album(artist, album, year_released):\n",
        "    \n",
        "    print(artist, album, year_released)\n",
        "    if year_released > 1980:\n",
        "        return \"Modern\"\n",
        "    else:\n",
        "        return \"Oldie\"\n",
        "    \n",
        "x = type_of_album(\"Michael Jackson\", \"Thriller\", 1980)\n",
        "print(x)"
      ],
      "metadata": {
        "id": "BLjLQ-z2SeZ8",
        "outputId": "a4bc4e22-eda3-44b9-d2ea-d2a65bb8d97e",
        "colab": {
          "base_uri": "https://localhost:8080/"
        }
      },
      "execution_count": 30,
      "outputs": [
        {
          "output_type": "stream",
          "name": "stdout",
          "text": [
            "Michael Jackson Thriller 1980\n",
            "Oldie\n"
          ]
        }
      ]
    },
    {
      "cell_type": "code",
      "source": [
        "# Imprime las lista haciendo uso de ciclo for\n",
        "\n",
        "def PrintList(the_list):    # Se deficne la funcion que toma como parametro las lista\n",
        "    for element in the_list:\n",
        "        print(element)\n",
        "\n",
        "PrintList(['1', 1, 'the man', \"abc\"]) # Se llama a la funcion y se definen los parametros que se van ingresar"
      ],
      "metadata": {
        "id": "6AWQ-ILPSpsk",
        "outputId": "6d78b1c9-ac4a-4380-f238-afd9db457812",
        "colab": {
          "base_uri": "https://localhost:8080/"
        }
      },
      "execution_count": 33,
      "outputs": [
        {
          "output_type": "stream",
          "name": "stdout",
          "text": [
            "1\n",
            "1\n",
            "the man\n",
            "abc\n"
          ]
        }
      ]
    },
    {
      "cell_type": "code",
      "source": [
        "# Example for setting param with default value\n",
        "\n",
        "def isGoodRating(rating=4): # Evalua el parametro ingresado\n",
        "    if(rating < 7):\n",
        "        print(\"this album sucks it's rating is\",rating)\n",
        "        \n",
        "    else:\n",
        "        print(\"this album is good its rating is\",rating)\n",
        "\n",
        "isGoodRating()    # Llamado a funcion sin parametro\n",
        "isGoodRating(10)  # llamado a funcion con parametro"
      ],
      "metadata": {
        "id": "RtijFXG8Sy8i",
        "outputId": "0f59b001-b908-4ba4-a80e-f3dac423ff3c",
        "colab": {
          "base_uri": "https://localhost:8080/"
        }
      },
      "execution_count": 37,
      "outputs": [
        {
          "output_type": "stream",
          "name": "stdout",
          "text": [
            "this album sucks it's rating is 4\n",
            "this album is good its rating is 10\n"
          ]
        }
      ]
    },
    {
      "cell_type": "code",
      "source": [
        "# Variables globales\n",
        "\n",
        "artist = \"Michael Jackson\"  #  'artist' es una variable que esta por fuera de la funcion, por lo tanto es una variable global\n",
        "def printer1(artist):\n",
        "    internal_var1 = artist\n",
        "    print(artist, \"is an artist\")\n",
        "\n",
        "printer1(artist)"
      ],
      "metadata": {
        "id": "BpKXAn8tVla5",
        "outputId": "6579953c-d263-4a9a-9451-631c6c13982b",
        "colab": {
          "base_uri": "https://localhost:8080/"
        }
      },
      "execution_count": 39,
      "outputs": [
        {
          "output_type": "stream",
          "name": "stdout",
          "text": [
            "Michael Jackson is an artist\n"
          ]
        }
      ]
    },
    {
      "cell_type": "code",
      "source": [
        "artist = \"Michael Jackson\"    #Variable GLOBAL\n",
        "\n",
        "def printer(artist):\n",
        "    global internal_var \n",
        "    internal_var= \"Whitney Houston\"   # Variable LOCAL\n",
        "    print(artist,\"is an artist\")\n",
        "\n",
        "printer(artist) \n",
        "printer(internal_var)"
      ],
      "metadata": {
        "id": "56OKOmt3WL7Y",
        "outputId": "910f4964-7754-4ba1-ed68-523f5de7889a",
        "colab": {
          "base_uri": "https://localhost:8080/"
        }
      },
      "execution_count": 41,
      "outputs": [
        {
          "output_type": "stream",
          "name": "stdout",
          "text": [
            "Michael Jackson is an artist\n",
            "Whitney Houston is an artist\n"
          ]
        }
      ]
    },
    {
      "cell_type": "code",
      "source": [
        "Scope of a Variable"
      ],
      "metadata": {
        "id": "8N88mj9ngvmU"
      },
      "execution_count": null,
      "outputs": []
    }
  ]
}