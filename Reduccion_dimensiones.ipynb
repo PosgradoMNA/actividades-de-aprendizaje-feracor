{
  "nbformat": 4,
  "nbformat_minor": 0,
  "metadata": {
    "kernelspec": {
      "display_name": "Python 3",
      "language": "python",
      "name": "python3"
    },
    "language_info": {
      "codemirror_mode": {
        "name": "ipython",
        "version": 3
      },
      "file_extension": ".py",
      "mimetype": "text/x-python",
      "name": "python",
      "nbconvert_exporter": "python",
      "pygments_lexer": "ipython3",
      "version": "3.7.7"
    },
    "colab": {
      "provenance": [],
      "collapsed_sections": [],
      "include_colab_link": true
    }
  },
  "cells": [
    {
      "cell_type": "markdown",
      "metadata": {
        "id": "view-in-github",
        "colab_type": "text"
      },
      "source": [
        "<a href=\"https://colab.research.google.com/github/PosgradoMNA/actividades-de-aprendizaje-feracor/blob/main/Reduccion_dimensiones.ipynb\" target=\"_parent\"><img src=\"https://colab.research.google.com/assets/colab-badge.svg\" alt=\"Open In Colab\"/></a>"
      ]
    },
    {
      "cell_type": "markdown",
      "source": [],
      "metadata": {
        "id": "uG4n4eWqJtEv"
      }
    },
    {
      "cell_type": "markdown",
      "metadata": {
        "id": "NVteg6r6O-JV"
      },
      "source": [
        "# Bienvenido al notebook\n",
        "#Repaso de Reducción de dimensiones\n",
        "El objetivo es que entendamos de una manera visual, que es lo que pasa cuando nosotros seleccionamos cierto número de componentes principales o % de variabilidad  de una base de datos.\n",
        "\n",
        "Primero entenderemos, que pasa adentro de PCA que se basa en lo siguiente a grandes razgos:\n",
        "\n",
        "**Análisis de Componentes Principales**\n",
        "\n",
        "El análisis de datos multivariados involucra determinar transformaciones lineales que ayuden\n",
        "a entender las relaciones entre las características importantes de los datos. La idea central del Análisis de Componentes Principales (PCA) es reducir las dimensiones de un conjunto de datos que presenta variaciones correlacionadas, reteniendo una buena proporción de la variación presente en dicho conjunto. Esto se logra obteniendo la transformación a un nuevo conjunto de variables: los componentes principales (PC). Cada PC es una combinación lineal con máxima varianza en dirección ortogonal a los demás PC.\n",
        "\n",
        "\n",
        "![title](https://miro.medium.com/max/720/1*XGaA7KWUlhWZLIezYEBIHA.gif)\n",
        "\n",
        "\n",
        "Para entender un poco más de PCA y SVD, visita el siguiente link:\n",
        "*Truco: Prueba entrar con tu cuenta del tec :)*\n",
        "\n",
        "https://towardsdatascience.com/pca-and-svd-explained-with-numpy-5d13b0d2a4d8\n",
        "\n",
        "\n",
        "Basicamente, vamos a seguir los siguientes pasos:\n",
        "\n",
        "1. Obtener la covarianza. OJO: X tiene sus datos centrados :)\n",
        "\n",
        "![title](https://miro.medium.com/max/194/1*92t9OuqxIG0YpJXsNNgI4A.png)\n",
        "\n",
        "2. Los componentes principales se van a obtener de la eigen descomposicion de la matriz de covarianza.\n",
        "\n",
        "![title](https://miro.medium.com/max/260/1*c1S0_26A8RxEQQUVyMp5Vw.png)\n",
        "\n",
        "3. Para la reducción de dimensiones vamos a seleccionar k vectores de W y proyectaremos nuestros datos.\n",
        "\n",
        "![title](https://miro.medium.com/max/214/1*jnj2YMpWIApnCzxRU_zjfg.png)\n",
        "\n",
        "![title](https://miro.medium.com/max/720/1*ba0XpZtJrgh7UpzWcIgZ1Q.jpeg)\n",
        "\n",
        "\n",
        "\n"
      ]
    },
    {
      "cell_type": "markdown",
      "metadata": {
        "id": "GMx-pOXIO-JW"
      },
      "source": [
        "\n",
        "# Ejercicio 1, Descomposición y composición\n",
        "***Descomposición***\n",
        "\n",
        "Encuentra los eigenvalores y eigenvectores de las siguientes matrices\n",
        "\n",
        "$A = \\begin{pmatrix} 3,0,2 \\\\ 3,0,-2 \\\\ 0,1,1 \\end{pmatrix}$\n",
        "$A2 = \\begin{pmatrix} 1,3,8 \\\\ 2,0,0 \\\\ 0,0,1 \\end{pmatrix}$\n",
        "$A3 = \\begin{pmatrix} 5,4,0 \\\\ 1,0,1 \\\\ 10,7,1 \\end{pmatrix}$\n",
        "\n",
        "y reconstruye la matriz original a traves de las matrices \n",
        "$WDW^{-1}$ (OJO. Esto es lo mismo de la ecuación del paso 2 solo le cambiamos la variable a la matriz diagonal)\n",
        "\n",
        "\n"
      ]
    },
    {
      "cell_type": "markdown",
      "metadata": {
        "id": "hVaaWX1YO-Ja"
      },
      "source": [
        "# Eigenvalores y eigenvectores"
      ]
    },
    {
      "cell_type": "code",
      "metadata": {
        "id": "315jkeDeO-Ja",
        "colab": {
          "base_uri": "https://localhost:8080/",
          "height": 391
        },
        "outputId": "53c6e910-7181-4055-afce-a7fb2d19630f"
      },
      "source": [
        "###-----------------EJEMPLO DE EIGENVALORES\n",
        "import numpy as np\n",
        "from numpy import array\n",
        "from numpy.linalg import eig\n",
        "# define la matriz\n",
        "A = array([[1, 2, 3], [4, 5, 6], [7, 8, 9]])\n",
        "print(\"-------Matriz original-------\")\n",
        "print(A)\n",
        "print(\"-----------------------------\")\n",
        "# calcula la eigendescomposición\n",
        "values, vectors = eig(A)\n",
        "print(values) #D\n",
        "print(vectors) #W\n",
        "\n",
        "#Ejemplo de reconstrucción\n",
        "\n",
        "\n",
        "values, vectors = np.linalg.eig(A)\n",
        "\n",
        "W = vectors\n",
        "Winv = np.linalg.inv(W)\n",
        "D = np.diag(values)\n",
        "#la matriz B tiene que dar igual a A\n",
        "#reconstruye la matriz \n",
        "print(\"-------Matriz reconstruida-------\")\n",
        "# Realiza la reconstruccion de B=W*D*Winv, te da lo mismo de A?\n",
        "#ojo, estas multiplicando matrices, no escalares ;)\n",
        "#TU CODIGO AQUI-------------------------------------\n",
        "#B= \n",
        "print(B)\n",
        "print(\"-----------------------------\")"
      ],
      "execution_count": 1,
      "outputs": [
        {
          "output_type": "stream",
          "name": "stdout",
          "text": [
            "-------Matriz original-------\n",
            "[[1 2 3]\n",
            " [4 5 6]\n",
            " [7 8 9]]\n",
            "-----------------------------\n",
            "[ 1.61168440e+01 -1.11684397e+00 -1.30367773e-15]\n",
            "[[-0.23197069 -0.78583024  0.40824829]\n",
            " [-0.52532209 -0.08675134 -0.81649658]\n",
            " [-0.8186735   0.61232756  0.40824829]]\n",
            "-------Matriz reconstruida-------\n"
          ]
        },
        {
          "output_type": "error",
          "ename": "NameError",
          "evalue": "ignored",
          "traceback": [
            "\u001b[0;31m---------------------------------------------------------------------------\u001b[0m",
            "\u001b[0;31mNameError\u001b[0m                                 Traceback (most recent call last)",
            "\u001b[0;32m<ipython-input-1-3e30c4a9ba2a>\u001b[0m in \u001b[0;36m<module>\u001b[0;34m\u001b[0m\n\u001b[1;32m     28\u001b[0m \u001b[0;31m#TU CODIGO AQUI-------------------------------------\u001b[0m\u001b[0;34m\u001b[0m\u001b[0;34m\u001b[0m\u001b[0;34m\u001b[0m\u001b[0m\n\u001b[1;32m     29\u001b[0m \u001b[0;31m#B=\u001b[0m\u001b[0;34m\u001b[0m\u001b[0;34m\u001b[0m\u001b[0;34m\u001b[0m\u001b[0m\n\u001b[0;32m---> 30\u001b[0;31m \u001b[0mprint\u001b[0m\u001b[0;34m(\u001b[0m\u001b[0mB\u001b[0m\u001b[0;34m)\u001b[0m\u001b[0;34m\u001b[0m\u001b[0;34m\u001b[0m\u001b[0m\n\u001b[0m\u001b[1;32m     31\u001b[0m \u001b[0mprint\u001b[0m\u001b[0;34m(\u001b[0m\u001b[0;34m\"-----------------------------\"\u001b[0m\u001b[0;34m)\u001b[0m\u001b[0;34m\u001b[0m\u001b[0;34m\u001b[0m\u001b[0m\n",
            "\u001b[0;31mNameError\u001b[0m: name 'B' is not defined"
          ]
        }
      ]
    },
    {
      "cell_type": "code",
      "source": [
        "A = array([[3, 0, 2], [3, 0, -2], [0, 1, 1]])\n",
        "values, vectors = eig(A)\n",
        "print(values) #D\n",
        "print(vectors) #W"
      ],
      "metadata": {
        "id": "DcbNbKeoMsTy"
      },
      "execution_count": null,
      "outputs": []
    },
    {
      "cell_type": "code",
      "source": [
        "#Matriz 1"
      ],
      "metadata": {
        "id": "DIdD-bJUkn92"
      },
      "execution_count": null,
      "outputs": []
    },
    {
      "cell_type": "code",
      "source": [
        "#Matriz 2"
      ],
      "metadata": {
        "id": "NFyrc8F1kqcS"
      },
      "execution_count": null,
      "outputs": []
    },
    {
      "cell_type": "code",
      "source": [
        "#Matriz 3"
      ],
      "metadata": {
        "id": "YvF-C4Gfkr9i"
      },
      "execution_count": null,
      "outputs": []
    },
    {
      "cell_type": "markdown",
      "metadata": {
        "id": "4THqH6HnO-Jc"
      },
      "source": [
        "**¿Qué significa  reducir dimensiones?**\n",
        "\n",
        "Esto será cuando proyectemos a ese espacio de los componentes principales pero no los seleccionemos todos, solo los más importantes y viajemos de regreso a nuestras unidades a través de una proyección.\n",
        "\n",
        "Es decir:\n",
        "Unidades-PC\n",
        "PC-Unidades\n",
        "\n",
        "Veamoslo gráficamente, ¿qué pasa con esa selección de los PCs y su efecto?.\n",
        "\n",
        "\n",
        "Para ello usaremos Singular Value Descomposition (SVD).\n",
        "\n",
        "\n",
        "\n",
        "# Singular Value Descomposition(SVD)\n",
        "\n",
        "Es otra descomposición que tambien nos ayudara a reducir dimensiones.\n",
        "\n",
        "<img src=\"https://miro.medium.com/max/720/1*6wkgGgBy2NLVmRVOw8K86w.png\" width=\"300\">\n",
        "\n"
      ]
    },
    {
      "cell_type": "markdown",
      "source": [
        "#Ejercicio 2\n",
        "Juega con Lucy, una cisne, ayudala a encontrar cuantos valores singulares necesita para no perder calidad a través de SVD. Posteriormente usa 3 imágenes de tu preferencia y realiza la misma acción :D\n",
        "\n",
        "A esto se le llama **compresión de imagenes** :o"
      ],
      "metadata": {
        "id": "Gek5R_puvb1E"
      }
    },
    {
      "cell_type": "markdown",
      "source": [],
      "metadata": {
        "id": "rk33GNEnIaPH"
      }
    },
    {
      "cell_type": "code",
      "metadata": {
        "id": "uymwljNHO-Jd"
      },
      "source": [
        "from six.moves import urllib\n",
        "from PIL import Image\n",
        "import matplotlib.pyplot as plt\n",
        "import numpy as np\n",
        "\n",
        "plt.style.use('classic')\n",
        "img = Image.open(urllib.request.urlopen('https://biblioteca.acropolis.org/wp-content/uploads/2015/03/Cisne.jpg')).convert('LA')\n",
        "#img = Image.open('lucy.jpg')\n",
        "imggray = img.convert('LA')\n",
        "imgmat = np.array(list(imggray.getdata(band=0)),float)\n",
        "\n",
        "print(imgmat)\n",
        "\n",
        "imgmat.shape = (imggray.size[1],imggray.size[0])\n",
        "\n",
        "plt.figure(figsize=(9,6))\n",
        "plt.imshow(imgmat,cmap='gray')\n",
        "plt.show()\n",
        "print(img)"
      ],
      "execution_count": null,
      "outputs": []
    },
    {
      "cell_type": "code",
      "metadata": {
        "id": "X7nw8DA0O-Jf"
      },
      "source": [
        "U,D,V = np.linalg.svd(imgmat)\n",
        "imgmat.shape\n"
      ],
      "execution_count": null,
      "outputs": []
    },
    {
      "cell_type": "code",
      "metadata": {
        "id": "J9KiL_2sOj5i"
      },
      "source": [
        "U.shape"
      ],
      "execution_count": null,
      "outputs": []
    },
    {
      "cell_type": "code",
      "metadata": {
        "id": "4Aj6xAMrhIdz"
      },
      "source": [
        "V.shape"
      ],
      "execution_count": null,
      "outputs": []
    },
    {
      "cell_type": "code",
      "metadata": {
        "id": "9R-ozS6dO-Jh"
      },
      "source": [
        "#Cuantos valores crees que son necesarios?\n",
        "#A=U*D*V\n",
        "#aqui los elegiremos---------------------------\n",
        "# por las dimensiones de este caso en particular \n",
        "#iremos de 0-660, siendo 660 como normalmente están los datos\n",
        "#con 50 podemos observar que Lucy se ve casi igual, es decir conservamos aquello que en \n",
        "# realidad estaba aportando a la imagen en este caso :D por medio de la variabilidad \n",
        "#juega con el valor nvalue y ve que pasa con otros valores\n",
        "nvalue = 50\n",
        "#------------------------------\n",
        "reconstimg = np.matrix(U[:,:nvalue])*np.diag(D[:nvalue])*np.matrix(V[:nvalue,:])\n",
        "#ve las dimensiones de la imagen y su descomposicion\n",
        "#660x1024= U(660X660)D(660X1024)V(1024x1024)\n",
        "        #=U(660Xnvalues)D(nvaluesXnvalue)V(nvaluesx1024)\n",
        "\n",
        "        #=U(660X50)(50X50)(50X1024)\n",
        "plt.imshow(reconstimg,cmap='gray')\n",
        "plt.show()\n",
        "print(\"Felicidades la imagen está comprimida\")"
      ],
      "execution_count": null,
      "outputs": []
    },
    {
      "cell_type": "markdown",
      "source": [
        "¡Ahora es tu turno!, comprime 3 imagenes"
      ],
      "metadata": {
        "id": "nQfmf2J5jUF9"
      }
    },
    {
      "cell_type": "code",
      "metadata": {
        "id": "uJaTaa3DO-Jm"
      },
      "source": [
        "#imagen 1\n"
      ],
      "execution_count": null,
      "outputs": []
    },
    {
      "cell_type": "code",
      "source": [
        "#imagen 2"
      ],
      "metadata": {
        "id": "MH-NL7xsjnPR"
      },
      "execution_count": null,
      "outputs": []
    },
    {
      "cell_type": "code",
      "source": [
        "#imagen 3"
      ],
      "metadata": {
        "id": "LElF-UBMjo3y"
      },
      "execution_count": null,
      "outputs": []
    },
    {
      "cell_type": "markdown",
      "source": [
        "# Ejercicio 3\n",
        "\n",
        "**Feature importances**\n",
        "\n",
        "Para este ejercicio, te pediremos que sigas el tutorial de la siguiente pagina:\n",
        "\n",
        "https://towardsdatascience.com/pca-clearly-explained-how-when-why-to-use-it-and-feature-importance-a-guide-in-python-7c274582c37e\n",
        "\n",
        "\n"
      ],
      "metadata": {
        "id": "cNukXVD9jtCk"
      }
    },
    {
      "cell_type": "code",
      "source": [
        "import numpy as np\n",
        "import matplotlib.pyplot as plt\n",
        "from sklearn import datasets\n",
        "from sklearn.decomposition import PCA\n",
        "import pandas as pd\n",
        "from sklearn.preprocessing import StandardScaler\n",
        "plt.style.use('ggplot')\n",
        "# Load the data\n",
        "iris = datasets.load_iris()\n",
        "X = iris.data\n",
        "y = iris.target\n",
        "# Z-score the features\n",
        "scaler = StandardScaler()\n",
        "scaler.fit(X)\n",
        "X = scaler.transform(X)\n",
        "# The PCA model\n",
        "pca = PCA(n_components=2) # estimate only 2 PCs\n",
        "X_new = pca.fit_transform(X) # project the original data into the PCA space"
      ],
      "metadata": {
        "id": "WGp5_a8EJIyD"
      },
      "execution_count": 2,
      "outputs": []
    },
    {
      "cell_type": "code",
      "source": [
        "fig, axes = plt.subplots(1,2)\n",
        "axes[0].scatter(X[:,0], X[:,1], c=y)\n",
        "axes[0].set_xlabel('x1')\n",
        "axes[0].set_ylabel('x2')\n",
        "axes[0].set_title('Before PCA')\n",
        "axes[1].scatter(X_new[:,0], X_new[:,1], c=y)\n",
        "axes[1].set_xlabel('PC1')\n",
        "axes[1].set_ylabel('PC2')\n",
        "axes[1].set_title('After PCA')\n",
        "plt.show()"
      ],
      "metadata": {
        "id": "Z9I0eIXMKPSx",
        "outputId": "0e38989c-1db4-4bbb-a685-81b115cc26d6",
        "colab": {
          "base_uri": "https://localhost:8080/",
          "height": 299
        }
      },
      "execution_count": 3,
      "outputs": [
        {
          "output_type": "display_data",
          "data": {
            "text/plain": [
              "<Figure size 432x288 with 2 Axes>"
            ],
            "image/png": "[encoded data removed]"
          },
          "metadata": {}
        }
      ]
    },
    {
      "cell_type": "code",
      "source": [
        "print(pca.explained_variance_ratio_)\n",
        "# array([0.72962445, 0.22850762])"
      ],
      "metadata": {
        "id": "cihMAJ-8KPQa",
        "outputId": "34412600-eba9-4c45-c798-ac0edcbcc977",
        "colab": {
          "base_uri": "https://localhost:8080/"
        }
      },
      "execution_count": 4,
      "outputs": [
        {
          "output_type": "stream",
          "name": "stdout",
          "text": [
            "[0.72962445 0.22850762]\n"
          ]
        }
      ]
    },
    {
      "cell_type": "code",
      "source": [
        "np.cov(X_new.T)\n",
        "array([[2.93808505e+00, 4.83198016e-16],\n",
        "       [4.83198016e-16, 9.20164904e-01]])"
      ],
      "metadata": {
        "id": "nRLEApTjKPN2",
        "outputId": "d22be2bc-628c-4d03-ec0c-f4a0c1abf113",
        "colab": {
          "base_uri": "https://localhost:8080/"
        }
      },
      "execution_count": 5,
      "outputs": [
        {
          "output_type": "execute_result",
          "data": {
            "text/plain": [
              "array([[2.93808505e+00, 4.83198016e-16],\n",
              "       [4.83198016e-16, 9.20164904e-01]])"
            ]
          },
          "metadata": {},
          "execution_count": 5
        }
      ]
    },
    {
      "cell_type": "code",
      "source": [
        "pca.explained_variance_\n",
        "array([2.93808505, 0.9201649 ])"
      ],
      "metadata": {
        "id": "k5VTqfBfKPLP",
        "outputId": "2455eaac-6c39-43a7-de00-993b11f34bf7",
        "colab": {
          "base_uri": "https://localhost:8080/"
        }
      },
      "execution_count": 6,
      "outputs": [
        {
          "output_type": "execute_result",
          "data": {
            "text/plain": [
              "array([2.93808505, 0.9201649 ])"
            ]
          },
          "metadata": {},
          "execution_count": 6
        }
      ]
    },
    {
      "cell_type": "code",
      "source": [
        "print(abs( pca.components_ ))\n"
      ],
      "metadata": {
        "id": "AMCObHe1KPGv",
        "outputId": "a19c18a0-ad88-4c91-f50d-27945fb6ecdb",
        "colab": {
          "base_uri": "https://localhost:8080/"
        }
      },
      "execution_count": 8,
      "outputs": [
        {
          "output_type": "stream",
          "name": "stdout",
          "text": [
            "[[0.52106591 0.26934744 0.5804131  0.56485654]\n",
            " [0.37741762 0.92329566 0.02449161 0.06694199]]\n"
          ]
        }
      ]
    },
    {
      "cell_type": "code",
      "source": [
        "def biplot(score, coeff , y):\n",
        "    '''\n",
        "    Author: Serafeim Loukas, serafeim.loukas@epfl.ch\n",
        "    Inputs:\n",
        "       score: the projected data\n",
        "       coeff: the eigenvectors (PCs)\n",
        "       y: the class labels\n",
        "   '''\n",
        "    xs = score[:,0] # projection on PC1\n",
        "    ys = score[:,1] # projection on PC2\n",
        "    n = coeff.shape[0] # number of variables\n",
        "    plt.figure(figsize=(8,6), dpi=100)\n",
        "    classes = np.unique(y)\n",
        "    colors = ['g','r','y']\n",
        "    markers=['o','^','x']\n",
        "    for s,l in enumerate(classes):\n",
        "        plt.scatter(xs[y==l],ys[y==l], c = colors[s], marker=markers[s]) # color based on group\n",
        "    for i in range(n):\n",
        "        #plot as arrows the variable scores (each variable has a score for PC1 and one for PC2)\n",
        "        plt.arrow(0, 0, coeff[i,0], coeff[i,1], color = 'k', alpha = 0.9,linestyle = '-',linewidth = 1.5, overhang=0.2)\n",
        "        plt.text(coeff[i,0]* 1.15, coeff[i,1] * 1.15, \"Var\"+str(i+1), color = 'k', ha = 'center', va = 'center',fontsize=10)\n",
        "\n",
        "    plt.xlabel(\"PC{}\".format(1), size=14)\n",
        "    plt.ylabel(\"PC{}\".format(2), size=14)\n",
        "    limx= int(xs.max()) + 1\n",
        "    limy= int(ys.max()) + 1\n",
        "    plt.xlim([-limx,limx])\n",
        "    plt.ylim([-limy,limy])\n",
        "    plt.grid()\n",
        "    plt.tick_params(axis='both', which='both', labelsize=14)"
      ],
      "metadata": {
        "id": "rCStmGjOKPEP"
      },
      "execution_count": 15,
      "outputs": []
    },
    {
      "cell_type": "code",
      "source": [
        "import matplotlib as mpl\n",
        "mpl.rcParams.update(mpl.rcParamsDefault) # reset ggplot style\n",
        "# Call the biplot function for only the first 2 PCs\n",
        "biplot(X_new[:,0:2], np.transpose(pca.components_[0:2, :]), y)\n",
        "plt.show()"
      ],
      "metadata": {
        "id": "uYbk1X25K4PP",
        "outputId": "af13b8e4-8c66-4bbd-80ee-6abe5e125354",
        "colab": {
          "base_uri": "https://localhost:8080/",
          "height": 559
        }
      },
      "execution_count": 16,
      "outputs": [
        {
          "output_type": "display_data",
          "data": {
            "text/plain": [
              "<Figure size 800x600 with 1 Axes>"
            ],
            "image/png": "[encoded data removed]"
          },
          "metadata": {}
        }
      ]
    },
    {
      "cell_type": "code",
      "source": [],
      "metadata": {
        "id": "AaRa1w79K4Mt"
      },
      "execution_count": null,
      "outputs": []
    },
    {
      "cell_type": "code",
      "source": [],
      "metadata": {
        "id": "ro9T3iAoK4KW"
      },
      "execution_count": null,
      "outputs": []
    },
    {
      "cell_type": "code",
      "source": [],
      "metadata": {
        "id": "x06G-siFVRGR"
      },
      "execution_count": null,
      "outputs": []
    }
  ]
}